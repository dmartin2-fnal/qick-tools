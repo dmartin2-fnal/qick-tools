{
 "cells": [
  {
   "cell_type": "markdown",
   "id": "cc7160fd-1024-46d9-9945-a3b13029a2d3",
   "metadata": {},
   "source": [
    "Demonstrate frequency scanning using a simulated resonator.  \n",
    "\n",
    "* kids.sweep() uses a single tone\n",
    "* kids.set_tones() and kids.sweep_tones() first sets tones at nominal values, and the sweeps them all, using two tones:  one centered on the resonator and a second tone, off resonance.\n",
    "\n",
    "These connections use \"Dual 1\" and \"Sim 1\" through 1-4 GHz Baluns\n",
    "\n",
    "* DAC 2_230 --> 1-4 GHz Baluns --> ADC 2_227\n",
    "* DAC 2_231 --> 1-4 GHz Baluns --> ADC 2_226"
   ]
  },
  {
   "cell_type": "code",
   "execution_count": null,
   "id": "5656d574-3bfd-4acf-9f00-812fe6ce17e3",
   "metadata": {},
   "outputs": [],
   "source": [
    "import sys\n",
    "sys.path.append('../../../qick/qick_lib/')\n",
    "sys.path.append('../soft/')\n",
    "import Scan\n",
    "from mkids import *\n",
    "import matplotlib.pyplot as plt\n"
   ]
  },
  {
   "cell_type": "code",
   "execution_count": null,
   "id": "79112c1f-06c9-434b-91f2-f06b85183636",
   "metadata": {},
   "outputs": [],
   "source": [
    "board = Scan.getBoard()\n",
    "if board == 'zcu111':\n",
    "    bitfile = 'mkids_2x2_kidsim_v1'    \n",
    "elif board == 'zcu216':\n",
    "    bitfile = 'mkids_2x2_kidsim_v2'\n",
    "else:\n",
    "    raise Exception(\"Do not know what to do with %s\"%board)\n",
    "scan = Scan.Scan(bitfile, iKids=1, iSimu=1)"
   ]
  },
  {
   "cell_type": "code",
   "execution_count": null,
   "id": "78f3b647-1e6f-4ebd-a8f6-212b27290a79",
   "metadata": {},
   "outputs": [],
   "source": [
    "fMixerSimu = 3512\n",
    "fMixerKids = 3700\n",
    "fResonance = 3789.0123\n",
    "fOffset = 12.3456\n",
    "fc = 3790\n",
    "df = 5 # Sweep Width\n",
    "N = 250 # Number of points in a sweep"
   ]
  },
  {
   "cell_type": "code",
   "execution_count": null,
   "id": "de69ccd0-9962-4046-8b57-0a1c792b5ac7",
   "metadata": {},
   "outputs": [],
   "source": [
    "# Initialize simulation chain with one resonance\n",
    "simu = scan.simuChain\n",
    "simu.analysis.qout(3)\n",
    "simu.synthesis.qout(3)\n",
    "simu.alloff()\n",
    "\n",
    "# Set mixer.\n",
    "simu.set_mixer_frequency(fMixerSimu)\n",
    "\n",
    "# Put one resonator \n",
    "print(\"fResonance = {} MHz\".format(fResonance))\n",
    "simu.enable(fResonance)"
   ]
  },
  {
   "cell_type": "code",
   "execution_count": null,
   "id": "aaaa60be-aa9e-4128-801e-fdb93f14e445",
   "metadata": {},
   "outputs": [],
   "source": [
    "# Get the kids chain\n",
    "kids = scan.kidsChain\n",
    "qoutAnalysis = 1\n",
    "qoutSynthesis = 1\n",
    "kids.analysis.qout(qoutAnalysis)\n",
    "kids.synthesis.qout(qoutSynthesis)\n"
   ]
  },
  {
   "cell_type": "code",
   "execution_count": null,
   "id": "626d42b9-14e1-47f4-8857-d3e8ad096eaf",
   "metadata": {},
   "outputs": [],
   "source": [
    "\n",
    "f,a,phi=kids.sweep(fc-df/2,fc+df/2,N=N,g=0.9, showProgress=False, doProgress=True)"
   ]
  },
  {
   "cell_type": "code",
   "execution_count": null,
   "id": "047149c5-2d7d-4816-ad00-c238734a8b3a",
   "metadata": {},
   "outputs": [],
   "source": [
    "#plt.plot(f,20*np.log10(a/max(a)))\n",
    "plt.plot(f,a)\n",
    "plt.xlabel(\"Frequency [MHz]\");\n",
    "plt.ylabel(\"Amplitude ADUs\");\n",
    "plt.axvline(fResonance, c='r')"
   ]
  },
  {
   "cell_type": "code",
   "execution_count": null,
   "id": "e953f0c6-d1ab-4e76-baf9-04d4baa964e2",
   "metadata": {},
   "outputs": [],
   "source": [
    "#raise Exception()"
   ]
  },
  {
   "cell_type": "code",
   "execution_count": null,
   "id": "cf5d37f5-d59c-47f8-a81a-8f7c8e63dfbc",
   "metadata": {},
   "outputs": [],
   "source": [
    "plt.plot(f,phi, '.-')\n",
    "plt.xlabel(\"frequency (MHz)\")\n",
    "plt.ylabel(\"phase (Rad)\")"
   ]
  },
  {
   "cell_type": "code",
   "execution_count": null,
   "id": "64f4d6b6-b1af-4de6-8899-75a84a2276bb",
   "metadata": {},
   "outputs": [],
   "source": [
    "kids.set_mixer_frequency(fMixerKids)\n",
    "\n",
    "freqs = np.array([fResonance, fResonance+fOffset])\n",
    "fis = np.array([0.1, 0.2])\n",
    "gs = np.array([0.4, 0.6])\n",
    "kids.set_tones(freqs, fis, gs)\n",
    "xs = kids.sweep_tones(df, N, mean=True, doProgress=True)\n",
    "\n"
   ]
  },
  {
   "cell_type": "code",
   "execution_count": null,
   "id": "c5b374e3-f1c5-4c85-ae54-31254646f1aa",
   "metadata": {},
   "outputs": [],
   "source": [
    "offsets = kids.get_sweep_offsets(df, N)\n",
    "\n",
    "for iTone,qFreq in enumerate(kids.qFreqs):\n",
    "    plt.plot(offsets, np.abs(xs[:,iTone]), label=\"%d %f\"%(iTone,qFreq))\n",
    "plt.xlabel(\"Frequency offset (MHz)\")\n",
    "plt.ylabel(\"Amplitude (ADUs)\")\n",
    "plt.title(\"Resonance at %f\"%fResonance)\n",
    "plt.legend()\n"
   ]
  },
  {
   "cell_type": "code",
   "execution_count": null,
   "id": "c34e2e8b-682a-45c2-b69d-233e15683f83",
   "metadata": {},
   "outputs": [],
   "source": [
    "# Repeat the scan\n",
    "kids.set_tones(freqs, fis, gs)\n",
    "xs2 = kids.sweep_tones(df, N, mean=True, doProgress=True)\n",
    "for iTone,qFreq in enumerate(kids.qFreqs):\n",
    "    plt.plot(offsets, np.abs(xs2[:,iTone]), label=\"%d %f\"%(iTone,qFreq))\n",
    "plt.xlabel(\"Frequency offset (MHz)\")\n",
    "plt.ylabel(\"Amplitude (ADUs)\")\n",
    "plt.title(\"Resonance at %f\"%fResonance)\n",
    "plt.legend()\n"
   ]
  },
  {
   "cell_type": "code",
   "execution_count": null,
   "id": "84cea1fa-7052-44f0-bcc2-83ad12cfaf34",
   "metadata": {},
   "outputs": [],
   "source": [
    "# Plot difference of first and second scan\n",
    "for iTone,qFreq in enumerate(kids.qFreqs):\n",
    "    plt.plot(offsets, np.abs(xs2[:,iTone])-np.abs(xs[:,iTone]), label=\"%d %f\"%(iTone,qFreq))\n",
    "plt.xlabel(\"Frequency offset (MHz)\")\n",
    "plt.ylabel(\"Delta Amplitude (ADUs)\")\n",
    "plt.legend()\n"
   ]
  },
  {
   "cell_type": "code",
   "execution_count": null,
   "id": "8cb65868-f3f8-48b2-aef3-ddccc956d7d0",
   "metadata": {},
   "outputs": [],
   "source": [
    "# Now turn off simulated resonance and scan again\n",
    "simu.alloff()\n",
    "kids.set_tones(freqs, fis, gs)\n",
    "xs3 = kids.sweep_tones(df, N, mean=True, doProgress=True)\n"
   ]
  },
  {
   "cell_type": "code",
   "execution_count": null,
   "id": "02cb74e4-e92e-4ac1-84b7-ef6c8c8ddc05",
   "metadata": {},
   "outputs": [],
   "source": [
    "for iTone,qFreq in enumerate(kids.qFreqs):\n",
    "    plt.plot(offsets, np.abs(xs3[:,iTone]), label=\"%d %f\"%(iTone,qFreq))\n",
    "plt.xlabel(\"Frequency offset (MHz)\")\n",
    "plt.ylabel(\"Amplitude (ADUs)\")\n",
    "plt.legend()\n",
    "_ = plt.title(\"No resonance\")\n"
   ]
  },
  {
   "cell_type": "code",
   "execution_count": null,
   "id": "20f2053f-9147-4412-9915-2dd4c8212502",
   "metadata": {},
   "outputs": [],
   "source": [
    "for iTone,qFreq in enumerate(kids.qFreqs):\n",
    "    plt.plot(offsets, np.angle(xs3[:,iTone]), label=\"%d %f\"%(iTone,qFreq))\n",
    "plt.xlabel(\"Frequency offset (MHz)\")\n",
    "plt.ylabel(\"Phase (Rad)\")\n",
    "plt.legend()\n",
    "_ = plt.title(\"No resonance\")\n"
   ]
  },
  {
   "cell_type": "code",
   "execution_count": null,
   "id": "48ee99f7-f3bf-4d18-9ed9-71e08446ae0e",
   "metadata": {},
   "outputs": [],
   "source": [
    "delayFreqs = scan.inCh2Freq([9,10])\n",
    "kids.set_tones(delayFreqs, fis, gs)\n",
    "delayDf = .2\n",
    "delayN = 20\n",
    "delayOffsets = kids.get_sweep_offsets(delayDf, delayN)\n",
    "\n",
    "xs4 = kids.sweep_tones(delayDf, delayN, mean=True, doProgress=True)\n"
   ]
  },
  {
   "cell_type": "code",
   "execution_count": null,
   "id": "3970c54e-a851-46d0-9651-3229a0eb7aac",
   "metadata": {},
   "outputs": [],
   "source": [
    "for iTone,qFreq in enumerate(kids.qFreqs):\n",
    "    plt.plot(delayOffsets, np.angle(xs4[:,iTone]), \"-o\", label=\"%d %f\"%(iTone,qFreq))\n",
    "plt.xlabel(\"Frequency offset (MHz)\")\n",
    "plt.ylabel(\"Phase (Rad)\")\n",
    "plt.legend()\n",
    "_ = plt.title(\"No resonance\")\n"
   ]
  },
  {
   "cell_type": "code",
   "execution_count": null,
   "id": "01066408-5a6a-49a4-8f00-9a90fe1bf9c0",
   "metadata": {},
   "outputs": [],
   "source": [
    "scan.inFreq2ch(freqs)"
   ]
  },
  {
   "cell_type": "code",
   "execution_count": null,
   "id": "41a32a10-fd27-4967-b61a-f1e886d7c57d",
   "metadata": {},
   "outputs": [],
   "source": [
    "delay = measureDelay(delayOffsets, xs4[:,0], plotFit=True)"
   ]
  },
  {
   "cell_type": "code",
   "execution_count": null,
   "id": "caaac5a7-3fcd-4ff0-a369-b6a89a04e0f2",
   "metadata": {},
   "outputs": [],
   "source": [
    "print(delay)"
   ]
  },
  {
   "cell_type": "code",
   "execution_count": null,
   "id": "c5c3cc7c-6b4d-43f3-afad-e85ac024be88",
   "metadata": {},
   "outputs": [],
   "source": [
    "# Turn the resonator back on\n",
    "simu.enable(fResonance)"
   ]
  },
  {
   "cell_type": "code",
   "execution_count": null,
   "id": "01baf830-37a4-4a63-b556-b10ebd7cb63f",
   "metadata": {},
   "outputs": [],
   "source": [
    "# Scan with resonator on\n",
    "freqs = np.array([fResonance, fResonance+fOffset])\n",
    "fis = np.array([0.1, 0.2])\n",
    "gs = np.array([0.4, 0.6])\n",
    "kids.set_tones(freqs, fis, gs)\n",
    "xs5 = kids.sweep_tones(df, N, mean=True, doProgress=True)\n",
    "\n"
   ]
  },
  {
   "cell_type": "code",
   "execution_count": null,
   "id": "b4c3825c-b027-41d6-9056-2d61378f27ac",
   "metadata": {},
   "outputs": [],
   "source": [
    "for iTone,qFreq in enumerate(kids.qFreqs):\n",
    "    plt.plot(offsets, np.abs(xs5[:,iTone]), label=\"%d %f\"%(iTone,qFreq))\n",
    "plt.xlabel(\"Frequency offset (MHz)\")\n",
    "plt.ylabel(\"Amplitude (ADUs)\")\n",
    "plt.legend()\n",
    "_ = plt.title(\"Resonance at %f\"%fResonance)"
   ]
  },
  {
   "cell_type": "code",
   "execution_count": null,
   "id": "49251384-7cf0-47d4-a9a1-ee649a661f48",
   "metadata": {},
   "outputs": [],
   "source": []
  }
 ],
 "metadata": {
  "kernelspec": {
   "display_name": "Python 3 (ipykernel)",
   "language": "python",
   "name": "python3"
  },
  "language_info": {
   "codemirror_mode": {
    "name": "ipython",
    "version": 3
   },
   "file_extension": ".py",
   "mimetype": "text/x-python",
   "name": "python",
   "nbconvert_exporter": "python",
   "pygments_lexer": "ipython3",
   "version": "3.10.4"
  }
 },
 "nbformat": 4,
 "nbformat_minor": 5
}
