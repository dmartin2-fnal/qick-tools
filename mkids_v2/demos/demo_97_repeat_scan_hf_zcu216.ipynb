{
 "cells": [
  {
   "cell_type": "markdown",
   "id": "cc7160fd-1024-46d9-9945-a3b13029a2d3",
   "metadata": {},
   "source": [
    "Demonstrate frequency scanning using a simulated resonator.  \n",
    "\n",
    "* kids.sweep() uses a single tone\n",
    "* kids.set_tones() and kids.sweep_tones() first sets tones at nominal values, and the sweeps them all, using two tones:  one centered on the resonator and a second tone, off resonance.\n",
    "\n",
    "These connections use \"Dual 1\" and \"Sim 1\" through 1-4 GHz Baluns\n",
    "\n",
    "* DAC 2_230 --> 1-4 GHz Baluns --> ADC 2_227\n",
    "* DAC 2_231 --> 1-4 GHz Baluns --> ADC 2_226"
   ]
  },
  {
   "cell_type": "code",
   "execution_count": null,
   "id": "5656d574-3bfd-4acf-9f00-812fe6ce17e3",
   "metadata": {},
   "outputs": [],
   "source": [
    "import sys\n",
    "sys.path.append('../../../qick/qick_lib/')\n",
    "sys.path.append('../soft/')\n",
    "from pathlib import Path\n",
    "import mkids\n",
    "from mkids import *\n",
    "import matplotlib.pyplot as plt\n",
    "\n",
    "fc = 3789\n"
   ]
  },
  {
   "cell_type": "code",
   "execution_count": null,
   "id": "ba267cc5-f938-4d81-8d17-c6ed154c7185",
   "metadata": {},
   "outputs": [],
   "source": [
    "bitfile = 'mkids_2x2_kidsim_v2'\n",
    "board = os.environ[\"BOARD\"].lower().replace(\"208\",\"216\")\n",
    "full_path = os.path.realpath(mkids.__file__)\n",
    "path, filename = os.path.split(full_path)\n",
    "bitpath = str(Path(path).parent.joinpath(Path(board), bitfile+'.bit'))\n",
    "soc = MkidsSoc(bitpath)"
   ]
  },
  {
   "cell_type": "code",
   "execution_count": null,
   "id": "79169066-d4be-4446-81dc-aee52bf18062",
   "metadata": {},
   "outputs": [],
   "source": [
    "def single(soc = None):\n",
    "    if soc is None:\n",
    "        bitfile = 'mkids_2x2_kidsim_v2'\n",
    "        bitpath = str(Path(path).parent.joinpath(Path(board), bitfile+'.bit'))\n",
    "\n",
    "        soc = MkidsSoc(bitpath)\n",
    "        #scan = Scan.Scan(bitfile, iKids=1, iSimu=1)\n",
    "    kids = KidsChain(soc, dual=soc['dual'][1])\n",
    "    simu = SimuChain(soc, simu=soc['simu'][1])\n",
    "    fMixerSimu = 3700\n",
    "    fResonance = 3789.0123\n",
    "    df = 2 # Sweep Width\n",
    "    N = 20 # Number of points in a sweep\n",
    "    # Initialize simulation chain with one resonance\n",
    "    simu.analysis.qout(3)\n",
    "    simu.synthesis.qout(3)\n",
    "    simu.alloff()\n",
    "    # Set mixer.\n",
    "    simu.set_mixer_frequency(fMixerSimu)\n",
    "    simu.enable(fResonance)\n",
    "    qoutAnalysis = 1\n",
    "    qoutSynthesis = 1\n",
    "    kids.analysis.qout(qoutAnalysis)\n",
    "    kids.synthesis.qout(qoutSynthesis)\n",
    "    f,a,phi=kids.sweep(fc-df/2,fc+df/2,N=N,g=0.9, showProgress=False, doProgress=False)\n",
    "    # Unwrap the phases with a nominal delay\n",
    "    delay =  -8.503146830801892\n",
    "    phid = np.angle(np.exp(1j*(phi - 2*np.pi*f*delay)))\n",
    "\n",
    "    return(f,a,phid)\n"
   ]
  },
  {
   "cell_type": "code",
   "execution_count": null,
   "id": "93b9c512-a5d7-4eba-80b5-4193502af3ae",
   "metadata": {},
   "outputs": [],
   "source": [
    "f,a,phi = single(soc)"
   ]
  },
  {
   "cell_type": "code",
   "execution_count": null,
   "id": "96cc9fac-c3df-4d4e-9590-52e9d0976fe6",
   "metadata": {},
   "outputs": [],
   "source": [
    "fig,ax = plt.subplots(2,1,sharex=True)\n",
    "ax[0].plot(f,a,\".-\")\n",
    "ax[1].plot(f,phi,\".-\")\n",
    "ax[0].set_ylabel(\"amplitude [ADUs]\")\n",
    "ax[1].set_ylabel(\"phase [Rad]\")\n",
    "ax[1].set_xlabel(\"frequency - %f MHz\"%fc)"
   ]
  },
  {
   "cell_type": "code",
   "execution_count": null,
   "id": "3af6accd-01c8-4eb4-b3b0-11b3a8e59b28",
   "metadata": {},
   "outputs": [],
   "source": [
    "fig,ax = plt.subplots(2,1,sharex=True)\n",
    "for i in range(5):\n",
    "    print(i,end=\" \")\n",
    "    f,a,phi = single(soc)\n",
    "    ax[0].plot(f-fc,a,label=i)\n",
    "    ax[1].plot(f-fc,phi,label=i)\n",
    "plt.legend()\n",
    "ax[0].set_ylabel(\"amplitude [ADUs]\")\n",
    "ax[1].set_ylabel(\"phase [Rad]\")\n",
    "ax[1].set_xlabel(\"frequency - %f MHz\"%fc)"
   ]
  },
  {
   "cell_type": "code",
   "execution_count": null,
   "id": "57895403-675e-4be1-8684-5700ce330929",
   "metadata": {},
   "outputs": [],
   "source": [
    "fig,ax = plt.subplots(2,1,sharex=True)\n",
    "for i in range(5):\n",
    "    print(i,end=\" \")\n",
    "    f,a,phi = single(soc)\n",
    "    ax[0].plot(f-fc,a,label=i)\n",
    "    ax[1].plot(f-fc,phi,label=i)\n",
    "plt.legend()\n",
    "ax[0].set_ylabel(\"amplitude [ADUs]\")\n",
    "ax[1].set_ylabel(\"phase [Rad]\")\n",
    "ax[1].set_xlabel(\"frequency - %f MHz\"%fc)"
   ]
  },
  {
   "cell_type": "code",
   "execution_count": null,
   "id": "6fd44b56-640a-4ddf-917b-b145860eb20a",
   "metadata": {},
   "outputs": [],
   "source": [
    "bitfile = 'mkids_2x2_kidsim_v2'\n",
    "board = os.environ[\"BOARD\"].lower().replace(\"208\",\"216\")\n",
    "full_path = os.path.realpath(mkids.__file__)\n",
    "path, filename = os.path.split(full_path)\n",
    "bitpath = str(Path(path).parent.joinpath(Path(board), bitfile+'.bit'))\n",
    "soc = MkidsSoc(bitpath)"
   ]
  },
  {
   "cell_type": "code",
   "execution_count": null,
   "id": "8880001a-6995-4974-9998-e44cd23f7fbe",
   "metadata": {},
   "outputs": [],
   "source": [
    "fig,ax = plt.subplots(2,1,sharex=True)\n",
    "for i in range(5):\n",
    "    print(i,end=\" \")\n",
    "    f,a,phi = single(soc)\n",
    "    ax[0].plot(f-fc,a,label=i)\n",
    "    ax[1].plot(f-fc,phi,label=i)\n",
    "plt.legend()\n",
    "ax[0].set_ylabel(\"amplitude [ADUs]\")\n",
    "ax[1].set_ylabel(\"phase [Rad]\")\n",
    "ax[1].set_xlabel(\"frequency - %f MHz\"%fc)"
   ]
  },
  {
   "cell_type": "code",
   "execution_count": null,
   "id": "e953f0c6-d1ab-4e76-baf9-04d4baa964e2",
   "metadata": {},
   "outputs": [],
   "source": [
    "fig,ax = plt.subplots(2,1,sharex=True)\n",
    "for i in range(5):\n",
    "    print(i,end=\" \")\n",
    "    f,a,phi = single(soc=None)\n",
    "    ax[0].plot(f-fc,a,label=i)\n",
    "    ax[1].plot(f-fc,phi,label=i)\n",
    "plt.legend()\n",
    "ax[0].set_ylabel(\"amplitude [ADUs]\")\n",
    "ax[1].set_ylabel(\"phase [Rad]\")\n",
    "ax[1].set_xlabel(\"frequency - %f MHz\"%fc)"
   ]
  },
  {
   "cell_type": "code",
   "execution_count": null,
   "id": "029e79ec-217b-4053-a554-ba206a9b486e",
   "metadata": {},
   "outputs": [],
   "source": []
  }
 ],
 "metadata": {
  "kernelspec": {
   "display_name": "Python 3 (ipykernel)",
   "language": "python",
   "name": "python3"
  },
  "language_info": {
   "codemirror_mode": {
    "name": "ipython",
    "version": 3
   },
   "file_extension": ".py",
   "mimetype": "text/x-python",
   "name": "python",
   "nbconvert_exporter": "python",
   "pygments_lexer": "ipython3",
   "version": "3.10.4"
  }
 },
 "nbformat": 4,
 "nbformat_minor": 5
}
