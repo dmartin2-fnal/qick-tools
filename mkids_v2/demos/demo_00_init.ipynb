{
 "cells": [
  {
   "cell_type": "markdown",
   "id": "f91c55fb-2860-45f8-a6e5-c5859f6b83a6",
   "metadata": {},
   "source": [
    "Get a list of bitfiles that are available for this platform.  \n",
    "\n",
    "Load each one and print the resulting soc to see a summary of their properties."
   ]
  },
  {
   "cell_type": "code",
   "execution_count": null,
   "id": "6a295226-98d3-48d3-ad9d-cfb1d4e1bde6",
   "metadata": {},
   "outputs": [],
   "source": [
    "import sys\n",
    "sys.path.append('../../qick/qick_lib/')\n",
    "sys.path.append('../soft/')\n",
    "import Scan"
   ]
  },
  {
   "cell_type": "code",
   "execution_count": null,
   "id": "d322acc3-031d-42f6-8865-a68ce30214f7",
   "metadata": {},
   "outputs": [],
   "source": [
    "ab = Scan.availableBitfiles()\n",
    "print(ab)"
   ]
  },
  {
   "cell_type": "code",
   "execution_count": null,
   "id": "1e93f91b-9ac5-4205-ab86-bb3550f6ff12",
   "metadata": {},
   "outputs": [],
   "source": [
    "for bitfile in ab:\n",
    "    print(\"=============  bitfileName=%s\"%bitfile)\n",
    "    scan = Scan.Scan(bitfile)\n",
    "    print(scan.soc)"
   ]
  },
  {
   "cell_type": "code",
   "execution_count": null,
   "id": "58dad7ef-3e48-4e39-81a0-f49c193591cb",
   "metadata": {},
   "outputs": [],
   "source": []
  }
 ],
 "metadata": {
  "kernelspec": {
   "display_name": "Python 3 (ipykernel)",
   "language": "python",
   "name": "python3"
  },
  "language_info": {
   "codemirror_mode": {
    "name": "ipython",
    "version": 3
   },
   "file_extension": ".py",
   "mimetype": "text/x-python",
   "name": "python",
   "nbconvert_exporter": "python",
   "pygments_lexer": "ipython3",
   "version": "3.10.4"
  }
 },
 "nbformat": 4,
 "nbformat_minor": 5
}
