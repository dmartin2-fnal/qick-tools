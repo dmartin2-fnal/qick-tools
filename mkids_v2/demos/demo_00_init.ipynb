{
 "cells": [
  {
   "cell_type": "markdown",
   "id": "f91c55fb-2860-45f8-a6e5-c5859f6b83a6",
   "metadata": {},
   "source": [
    "Get a list of bitfiles that are available for this platform.  \n",
    "\n",
    "Load each one and print the resulting soc to see a summary of their properties."
   ]
  },
  {
   "cell_type": "code",
   "execution_count": 1,
   "id": "6a295226-98d3-48d3-ad9d-cfb1d4e1bde6",
   "metadata": {},
   "outputs": [],
   "source": [
    "import sys\n",
    "sys.path.append('../soft/')\n",
    "import Scan"
   ]
  },
  {
   "cell_type": "code",
   "execution_count": 2,
   "id": "d322acc3-031d-42f6-8865-a68ce30214f7",
   "metadata": {},
   "outputs": [
    {
     "name": "stdout",
     "output_type": "stream",
     "text": [
      "['mkids_2x2_kidsim_v1', 'mkids_2x2_kidsim_v2']\n"
     ]
    }
   ],
   "source": [
    "ab = Scan.availableBitfiles()\n",
    "print(ab)"
   ]
  },
  {
   "cell_type": "code",
   "execution_count": 3,
   "id": "1e93f91b-9ac5-4205-ab86-bb3550f6ff12",
   "metadata": {},
   "outputs": [
    {
     "name": "stdout",
     "output_type": "stream",
     "text": [
      "=============  bitfileName=mkids_2x2_kidsim_v1\n"
     ]
    },
    {
     "data": {
      "application/javascript": [
       "\n",
       "try {\n",
       "require(['notebook/js/codecell'], function(codecell) {\n",
       "  codecell.CodeCell.options_default.highlight_modes[\n",
       "      'magic_text/x-csrc'] = {'reg':[/^%%microblaze/]};\n",
       "  Jupyter.notebook.events.one('kernel_ready.Kernel', function(){\n",
       "      Jupyter.notebook.get_cells().map(function(cell){\n",
       "          if (cell.cell_type == 'code'){ cell.auto_highlight(); } }) ;\n",
       "  });\n",
       "});\n",
       "} catch (e) {};\n"
      ]
     },
     "metadata": {},
     "output_type": "display_data"
    },
    {
     "data": {
      "application/javascript": [
       "\n",
       "try {\n",
       "require(['notebook/js/codecell'], function(codecell) {\n",
       "  codecell.CodeCell.options_default.highlight_modes[\n",
       "      'magic_text/x-csrc'] = {'reg':[/^%%pybind11/]};\n",
       "  Jupyter.notebook.events.one('kernel_ready.Kernel', function(){\n",
       "      Jupyter.notebook.get_cells().map(function(cell){\n",
       "          if (cell.cell_type == 'code'){ cell.auto_highlight(); } }) ;\n",
       "  });\n",
       "});\n",
       "} catch (e) {};\n"
      ]
     },
     "metadata": {},
     "output_type": "display_data"
    },
    {
     "name": "stdout",
     "output_type": "stream",
     "text": [
      "\n",
      "QICK configuration:\n",
      "\n",
      "\tBoard: ZCU216\n",
      "\n",
      "\tAnalysis Chains\n",
      "\t0:\t Analysis Chain: ADC Tile = 3, ADC Ch = 0, fs = 614.400 MHz, Number of Channels = 256 \n",
      "\t1:\t Analysis Chain: ADC Tile = 3, ADC Ch = 2, fs = 614.400 MHz, Number of Channels = 256 \n",
      "\t2:\t Analysis Chain: ADC Tile = 2, ADC Ch = 0, fs = 614.400 MHz, Number of Channels = 1024 \n",
      "\t3:\t Analysis Chain: ADC Tile = 2, ADC Ch = 2, fs = 614.400 MHz, Number of Channels = 1024 \n",
      "\n",
      "\tSynthesis Chains\n",
      "\t0:\t Synthesis Chain: DAC Tile = 2, DAC Ch = 0, fs = 614.400 MHz, Number of Channels = 1024 \n",
      "\t1:\t Synthesis Chain: DAC Tile = 2, DAC Ch = 2, fs = 614.400 MHz, Number of Channels = 1024 \n",
      "\t2:\t Synthesis Chain: DAC Tile = 3, DAC Ch = 0, fs = 614.400 MHz, Number of Channels = 256 \n",
      "\t3:\t Synthesis Chain: DAC Tile = 3, DAC Ch = 2, fs = 614.400 MHz, Number of Channels = 256 \n",
      "\n",
      "\tDual Chains\n",
      "\tDual 0: \n",
      "\t\tAnalysis : ADC Tile = 2, ADC Ch = 0, fs = 614.400 MHz, Number of Channels = 1024\n",
      "\t\tSynthesis: DAC Tile = 2, DAC Ch = 0, fs = 614.400 MHz, Number of Channels = 1024\n",
      "\n",
      "\tDual 1: \n",
      "\t\tAnalysis : ADC Tile = 2, ADC Ch = 2, fs = 614.400 MHz, Number of Channels = 1024\n",
      "\t\tSynthesis: DAC Tile = 2, DAC Ch = 2, fs = 614.400 MHz, Number of Channels = 1024\n",
      "\n",
      "\n",
      "\tSim Chains\n",
      "\tSim 0: \n",
      "\t\tAnalysis : ADC Tile = 3, ADC Ch = 0, fs = 614.400 MHz, Number of Channels = 256\n",
      "\t\tSynthesis: DAC Tile = 3, DAC Ch = 0, fs = 614.400 MHz, Number of Channels = 256\n",
      "\n",
      "\tSim 1: \n",
      "\t\tAnalysis : ADC Tile = 3, ADC Ch = 2, fs = 614.400 MHz, Number of Channels = 256\n",
      "\t\tSynthesis: DAC Tile = 3, DAC Ch = 2, fs = 614.400 MHz, Number of Channels = 256\n",
      "\n",
      "\n",
      "\t4 ADCs:\n",
      "\t\tADC tile 2, ch 0, fs = 2457.600 MHz, decimation = 4, 0_226, on JHC7\n",
      "\t\tADC tile 2, ch 2, fs = 2457.600 MHz, decimation = 4, 2_226, on JHC7\n",
      "\t\tADC tile 3, ch 0, fs = 2457.600 MHz, decimation = 4, 0_227, on JHC7\n",
      "\t\tADC tile 3, ch 2, fs = 2457.600 MHz, decimation = 4, 2_227, on JHC7\n",
      "\n",
      "\t4 DACs:\n",
      "\t\tDAC tile 2, ch 0, fs = 2457.600 MHz, interpolation = 4, 0_230, on JHC3\n",
      "\t\tDAC tile 2, ch 2, fs = 2457.600 MHz, interpolation = 4, 2_230, on JHC3\n",
      "\t\tDAC tile 3, ch 0, fs = 2457.600 MHz, interpolation = 4, 0_231, on JHC3\n",
      "\t\tDAC tile 3, ch 2, fs = 2457.600 MHz, interpolation = 4, 2_231, on JHC3\n",
      "=============  bitfileName=mkids_2x2_kidsim_v2\n",
      "\n",
      "QICK configuration:\n",
      "\n",
      "\tBoard: ZCU216\n",
      "\n",
      "\tAnalysis Chains\n",
      "\t0:\t Analysis Chain: ADC Tile = 3, ADC Ch = 0, fs = 614.400 MHz, Number of Channels = 256 \n",
      "\t1:\t Analysis Chain: ADC Tile = 3, ADC Ch = 2, fs = 614.400 MHz, Number of Channels = 256 \n",
      "\t2:\t Analysis Chain: ADC Tile = 2, ADC Ch = 0, fs = 614.400 MHz, Number of Channels = 64 \n",
      "\t3:\t Analysis Chain: ADC Tile = 2, ADC Ch = 2, fs = 614.400 MHz, Number of Channels = 64 \n",
      "\n",
      "\tSynthesis Chains\n",
      "\t0:\t Synthesis Chain: DAC Tile = 3, DAC Ch = 0, fs = 614.400 MHz, Number of Channels = 256 \n",
      "\t1:\t Synthesis Chain: DAC Tile = 3, DAC Ch = 2, fs = 614.400 MHz, Number of Channels = 256 \n",
      "\t2:\t Synthesis Chain: DAC Tile = 2, DAC Ch = 0, fs = 614.400 MHz, Number of Channels = 64 \n",
      "\t3:\t Synthesis Chain: DAC Tile = 2, DAC Ch = 2, fs = 614.400 MHz, Number of Channels = 64 \n",
      "\n",
      "\tDual Chains\n",
      "\tDual 0: \n",
      "\t\tAnalysis : ADC Tile = 2, ADC Ch = 0, fs = 614.400 MHz, Number of Channels = 64\n",
      "\t\tSynthesis: DAC Tile = 2, DAC Ch = 0, fs = 614.400 MHz, Number of Channels = 64\n",
      "\n",
      "\tDual 1: \n",
      "\t\tAnalysis : ADC Tile = 2, ADC Ch = 2, fs = 614.400 MHz, Number of Channels = 64\n",
      "\t\tSynthesis: DAC Tile = 2, DAC Ch = 2, fs = 614.400 MHz, Number of Channels = 64\n",
      "\n",
      "\n",
      "\tSim Chains\n",
      "\tSim 0: \n",
      "\t\tAnalysis : ADC Tile = 3, ADC Ch = 0, fs = 614.400 MHz, Number of Channels = 256\n",
      "\t\tSynthesis: DAC Tile = 3, DAC Ch = 0, fs = 614.400 MHz, Number of Channels = 256\n",
      "\n",
      "\tSim 1: \n",
      "\t\tAnalysis : ADC Tile = 3, ADC Ch = 2, fs = 614.400 MHz, Number of Channels = 256\n",
      "\t\tSynthesis: DAC Tile = 3, DAC Ch = 2, fs = 614.400 MHz, Number of Channels = 256\n",
      "\n",
      "\n",
      "\t4 ADCs:\n",
      "\t\tADC tile 2, ch 0, fs = 2457.600 MHz, decimation = 4, 0_226, on JHC7\n",
      "\t\tADC tile 2, ch 2, fs = 2457.600 MHz, decimation = 4, 2_226, on JHC7\n",
      "\t\tADC tile 3, ch 0, fs = 2457.600 MHz, decimation = 4, 0_227, on JHC7\n",
      "\t\tADC tile 3, ch 2, fs = 2457.600 MHz, decimation = 4, 2_227, on JHC7\n",
      "\n",
      "\t4 DACs:\n",
      "\t\tDAC tile 2, ch 0, fs = 2457.600 MHz, interpolation = 4, 0_230, on JHC3\n",
      "\t\tDAC tile 2, ch 2, fs = 2457.600 MHz, interpolation = 4, 2_230, on JHC3\n",
      "\t\tDAC tile 3, ch 0, fs = 2457.600 MHz, interpolation = 4, 0_231, on JHC3\n",
      "\t\tDAC tile 3, ch 2, fs = 2457.600 MHz, interpolation = 4, 2_231, on JHC3\n"
     ]
    }
   ],
   "source": [
    "for bitfile in ab:\n",
    "    print(\"=============  bitfileName=%s\"%bitfile)\n",
    "    scan = Scan.Scan(bitfile)\n",
    "    print(scan.soc)"
   ]
  },
  {
   "cell_type": "code",
   "execution_count": null,
   "id": "58dad7ef-3e48-4e39-81a0-f49c193591cb",
   "metadata": {},
   "outputs": [],
   "source": []
  }
 ],
 "metadata": {
  "kernelspec": {
   "display_name": "Python 3 (ipykernel)",
   "language": "python",
   "name": "python3"
  },
  "language_info": {
   "codemirror_mode": {
    "name": "ipython",
    "version": 3
   },
   "file_extension": ".py",
   "mimetype": "text/x-python",
   "name": "python",
   "nbconvert_exporter": "python",
   "pygments_lexer": "ipython3",
   "version": "3.10.4"
  }
 },
 "nbformat": 4,
 "nbformat_minor": 5
}
