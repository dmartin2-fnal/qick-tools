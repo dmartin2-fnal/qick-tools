{
 "cells": [
  {
   "cell_type": "markdown",
   "id": "cc7160fd-1024-46d9-9945-a3b13029a2d3",
   "metadata": {},
   "source": [
    "Demonstrate scan of multiple tones.  Use a simulated resonator.  Use sweep() with a single tone centered on the resonator.\n",
    "\n",
    "Then exercise Use two tones:  one centered on the resonator and a second tone, off resonance."
   ]
  },
  {
   "cell_type": "code",
   "execution_count": null,
   "id": "5656d574-3bfd-4acf-9f00-812fe6ce17e3",
   "metadata": {},
   "outputs": [],
   "source": [
    "import sys\n",
    "sys.path.append('../../qick/qick_lib/')\n",
    "sys.path.append('../soft/')\n",
    "import Scan\n",
    "from mkids import *\n",
    "import matplotlib.pyplot as plt\n"
   ]
  },
  {
   "cell_type": "code",
   "execution_count": null,
   "id": "79112c1f-06c9-434b-91f2-f06b85183636",
   "metadata": {},
   "outputs": [],
   "source": [
    "# After running demo_00_init.ipynb we decide which bitfile we'd like to use\n",
    "bitfile = \"mkids_2x2_kidsim_v2\"\n",
    "scan = Scan.Scan(bitfile)"
   ]
  },
  {
   "cell_type": "code",
   "execution_count": null,
   "id": "de69ccd0-9962-4046-8b57-0a1c792b5ac7",
   "metadata": {},
   "outputs": [],
   "source": [
    "# Initialize simulation chain with one resonance\n",
    "simu = scan.simuChain\n",
    "simu.analysis.qout(3)\n",
    "simu.synthesis.qout(3)\n",
    "simu.alloff()\n",
    "\n",
    "# Set mixer.\n",
    "fMixerSimu = 300\n",
    "simu.set_mixer_frequency(fMixerSimu)\n",
    "\n",
    "# Channel separation.\n",
    "fc = simu.analysis.fc_ch\n",
    "\n",
    "# Put one resonator \n",
    "fResonance = fMixerSimu + 10*fc + 0.1\n",
    "print(\"fResonance = {} MHz\".format(fResonance))\n",
    "simu.enable(fResonance)"
   ]
  },
  {
   "cell_type": "code",
   "execution_count": null,
   "id": "aaaa60be-aa9e-4128-801e-fdb93f14e445",
   "metadata": {},
   "outputs": [],
   "source": [
    "# Get the kids chain\n",
    "chain = scan.kidsChain\n",
    "\n",
    "# Set the mixer of the analysis and synthesis chains to be the same\n",
    "#fMixer = 0\n",
    "#fMixerQ = chain.fq(fMixer)\n",
    "#_ = scan.set_mixer(fMixerQ)"
   ]
  },
  {
   "cell_type": "code",
   "execution_count": null,
   "id": "17292786-5d99-4d4d-9337-5212b7c3a77c",
   "metadata": {},
   "outputs": [],
   "source": [
    "chain.sweep?"
   ]
  },
  {
   "cell_type": "code",
   "execution_count": null,
   "id": "626d42b9-14e1-47f4-8857-d3e8ad096eaf",
   "metadata": {},
   "outputs": [],
   "source": [
    "chain.analysis.qout(2)\n",
    "chain.synthesis.qout(2)\n",
    "fc = 324\n",
    "df = 20\n",
    "f,a,phi=chain.sweep(fc-df/2,fc+df/2,N=500,g=0.1, showProgress=False, doProgress=True)"
   ]
  },
  {
   "cell_type": "code",
   "execution_count": null,
   "id": "047149c5-2d7d-4816-ad00-c238734a8b3a",
   "metadata": {},
   "outputs": [],
   "source": [
    "plt.plot(f,20*np.log10(a/max(a)))\n",
    "plt.xlabel(\"Frequency [MHz]\");\n",
    "plt.ylabel(\"Amplitude [dB]\");\n"
   ]
  },
  {
   "cell_type": "code",
   "execution_count": null,
   "id": "64f4d6b6-b1af-4de6-8899-75a84a2276bb",
   "metadata": {},
   "outputs": [],
   "source": [
    "freqs = np.array([fResonance, fResonance+123.456])\n",
    "fis = np.array([0.1, 0.2])\n",
    "gs = np.array([0.4, 0.6])\n",
    "\n",
    "bandwidth = 20\n",
    "nf = 500\n",
    "offsets = get_sweep_offsets(bandwidth, nf)\n",
    "\n"
   ]
  },
  {
   "cell_type": "code",
   "execution_count": null,
   "id": "c5b374e3-f1c5-4c85-ae54-31254646f1aa",
   "metadata": {},
   "outputs": [],
   "source": [
    "chain.set_tones(freqs, fis, gs)\n",
    "xs = chain.sweep_tones(bandwidth, nf, mean=True, doProgress=True)\n",
    "for iTone,qFreq in enumerate(chain.qFreqs):\n",
    "    plt.plot(offsets, np.abs(xs[:,iTone]), label=\"%d %f\"%(iTone,qFreq))\n",
    "plt.xlabel(\"Frequency offset (MHz)\")\n",
    "plt.ylabel(\"Amplitude (ADUs)\")\n",
    "plt.legend()\n"
   ]
  },
  {
   "cell_type": "code",
   "execution_count": null,
   "id": "c34e2e8b-682a-45c2-b69d-233e15683f83",
   "metadata": {},
   "outputs": [],
   "source": [
    "chain.set_tones(freqs, fis, gs)\n",
    "xs2 = chain.sweep_tones(bandwidth, nf, mean=True, doProgress=True)\n",
    "for iTone,qFreq in enumerate(chain.qFreqs):\n",
    "    plt.plot(offsets, np.abs(xs2[:,iTone]), label=\"%d %f\"%(iTone,qFreq))\n",
    "plt.xlabel(\"Frequency offset (MHz)\")\n",
    "plt.ylabel(\"Amplitude (ADUs)\")\n",
    "plt.legend()\n"
   ]
  },
  {
   "cell_type": "code",
   "execution_count": null,
   "id": "84cea1fa-7052-44f0-bcc2-83ad12cfaf34",
   "metadata": {},
   "outputs": [],
   "source": [
    "for iTone,qFreq in enumerate(chain.qFreqs):\n",
    "    plt.plot(offsets, np.abs(xs2[:,iTone])-np.abs(xs[:,iTone]), label=\"%d %f\"%(iTone,qFreq))\n",
    "plt.xlabel(\"Frequency offset (MHz)\")\n",
    "plt.ylabel(\"Delta Amplitude (ADUs)\")\n",
    "plt.legend()\n"
   ]
  },
  {
   "cell_type": "code",
   "execution_count": null,
   "id": "8cb65868-f3f8-48b2-aef3-ddccc956d7d0",
   "metadata": {},
   "outputs": [],
   "source": []
  }
 ],
 "metadata": {
  "kernelspec": {
   "display_name": "Python 3 (ipykernel)",
   "language": "python",
   "name": "python3"
  },
  "language_info": {
   "codemirror_mode": {
    "name": "ipython",
    "version": 3
   },
   "file_extension": ".py",
   "mimetype": "text/x-python",
   "name": "python",
   "nbconvert_exporter": "python",
   "pygments_lexer": "ipython3",
   "version": "3.10.4"
  }
 },
 "nbformat": 4,
 "nbformat_minor": 5
}
