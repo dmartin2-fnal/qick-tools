{
 "cells": [
  {
   "cell_type": "markdown",
   "id": "cc7160fd-1024-46d9-9945-a3b13029a2d3",
   "metadata": {},
   "source": [
    "Demonstrate frequency scanning using a simulated resonator.  \n",
    "\n",
    "* kids.sweep() uses a single tone\n",
    "* kids.set_tones() and kids.sweep_tones() first sets tones at nominal values, and the sweeps them all, using two tones:  one centered on the resonator and a second tone, off resonance."
   ]
  },
  {
   "cell_type": "code",
   "execution_count": null,
   "id": "5656d574-3bfd-4acf-9f00-812fe6ce17e3",
   "metadata": {},
   "outputs": [],
   "source": [
    "import sys\n",
    "sys.path.append('../../../qick/qick_lib/')\n",
    "sys.path.append('../soft/')\n",
    "import Scan\n",
    "from mkids import *\n",
    "import matplotlib.pyplot as plt\n"
   ]
  },
  {
   "cell_type": "code",
   "execution_count": null,
   "id": "79112c1f-06c9-434b-91f2-f06b85183636",
   "metadata": {},
   "outputs": [],
   "source": [
    "board = Scan.getBoard()\n",
    "if board == 'zcu111':\n",
    "    bitfile = 'mkids_2x2_kidsim_v1'    \n",
    "elif board == 'zcu216':\n",
    "    bitfile = 'mkids_2x2_kidsim_v2'\n",
    "elif board == 'rfsoc4x2':\n",
    "    bitfile = 'mkids_v3'\n",
    "else:\n",
    "    raise Exception(\"Do not know what to do with %s\"%board)\n",
    "scan = Scan.Scan(bitfile, iKids=0, iSimu=0)"
   ]
  },
  {
   "cell_type": "code",
   "execution_count": null,
   "id": "78f3b647-1e6f-4ebd-a8f6-212b27290a79",
   "metadata": {},
   "outputs": [],
   "source": [
    "fMixerSimu = 512\n",
    "fMixerKids = 700\n",
    "fResonance = 789.0123\n",
    "fOffset = 21.3456\n",
    "fc = 790\n",
    "df = 10 # Sweep Width\n",
    "N = 250 # Number of points in a sweep"
   ]
  },
  {
   "cell_type": "code",
   "execution_count": null,
   "id": "de69ccd0-9962-4046-8b57-0a1c792b5ac7",
   "metadata": {},
   "outputs": [],
   "source": [
    "# Initialize simulation chain with one resonance\n",
    "simu = scan.simuChain\n",
    "simu.analysis.qout(3)\n",
    "simu.synthesis.qout(3)\n",
    "simu.alloff()\n",
    "\n",
    "# Set mixer.\n",
    "simu.set_mixer_frequency(fMixerSimu)\n",
    "\n",
    "# Put one resonator \n",
    "print(\"fResonance = {} MHz\".format(fResonance))\n",
    "simu.enable(fResonance)"
   ]
  },
  {
   "cell_type": "code",
   "execution_count": null,
   "id": "aaaa60be-aa9e-4128-801e-fdb93f14e445",
   "metadata": {},
   "outputs": [],
   "source": [
    "# Get the kids chain\n",
    "kids = scan.kidsChain\n",
    "kids.analysis.qout(2)\n",
    "kids.synthesis.qout(2)\n"
   ]
  },
  {
   "cell_type": "code",
   "execution_count": null,
   "id": "17292786-5d99-4d4d-9337-5212b7c3a77c",
   "metadata": {},
   "outputs": [],
   "source": [
    "help(kids.sweep)"
   ]
  },
  {
   "cell_type": "code",
   "execution_count": null,
   "id": "626d42b9-14e1-47f4-8857-d3e8ad096eaf",
   "metadata": {},
   "outputs": [],
   "source": [
    "\n",
    "f,a,phi=kids.sweep(fc-df/2,fc+df/2,N=N,g=0.1, showProgress=False, doProgress=True)"
   ]
  },
  {
   "cell_type": "code",
   "execution_count": null,
   "id": "047149c5-2d7d-4816-ad00-c238734a8b3a",
   "metadata": {},
   "outputs": [],
   "source": [
    "plt.plot(f,20*np.log10(a/max(a)))\n",
    "plt.xlabel(\"Frequency [MHz]\");\n",
    "plt.ylabel(\"Amplitude [dB] max(a)=%f\"%max(a));\n"
   ]
  },
  {
   "cell_type": "code",
   "execution_count": null,
   "id": "64f4d6b6-b1af-4de6-8899-75a84a2276bb",
   "metadata": {},
   "outputs": [],
   "source": [
    "kids.set_mixer_frequency(fMixerKids)\n",
    "\n",
    "freqs = np.array([fResonance, fResonance+fOffset])\n",
    "fis = np.array([0.1, 0.2])\n",
    "gs = np.array([0.4, 0.6])\n",
    "kids.set_tones(freqs, fis, gs)\n",
    "xs = kids.sweep_tones(df, N, mean=True, doProgress=True)\n",
    "\n"
   ]
  },
  {
   "cell_type": "code",
   "execution_count": null,
   "id": "c5b374e3-f1c5-4c85-ae54-31254646f1aa",
   "metadata": {},
   "outputs": [],
   "source": [
    "offsets = kids.get_sweep_offsets(df, N)\n",
    "\n",
    "for iTone,qFreq in enumerate(kids.qFreqs):\n",
    "    plt.plot(offsets, np.abs(xs[:,iTone]), label=\"%d %f\"%(iTone,qFreq))\n",
    "plt.xlabel(\"Frequency offset (MHz)\")\n",
    "plt.ylabel(\"Amplitude (ADUs)\")\n",
    "plt.legend()\n"
   ]
  },
  {
   "cell_type": "code",
   "execution_count": null,
   "id": "c34e2e8b-682a-45c2-b69d-233e15683f83",
   "metadata": {},
   "outputs": [],
   "source": [
    "# Repeat the scan\n",
    "kids.set_tones(freqs, fis, gs)\n",
    "xs2 = kids.sweep_tones(df, N, mean=True, doProgress=True)\n",
    "for iTone,qFreq in enumerate(kids.qFreqs):\n",
    "    plt.plot(offsets, np.abs(xs2[:,iTone]), label=\"%d %f\"%(iTone,qFreq))\n",
    "plt.xlabel(\"Frequency offset (MHz)\")\n",
    "plt.ylabel(\"Amplitude (ADUs)\")\n",
    "plt.legend()\n"
   ]
  },
  {
   "cell_type": "code",
   "execution_count": null,
   "id": "84cea1fa-7052-44f0-bcc2-83ad12cfaf34",
   "metadata": {},
   "outputs": [],
   "source": [
    "# Plot difference of first and second scan\n",
    "for iTone,qFreq in enumerate(kids.qFreqs):\n",
    "    plt.plot(offsets, np.abs(xs2[:,iTone])-np.abs(xs[:,iTone]), label=\"%d %f\"%(iTone,qFreq))\n",
    "plt.xlabel(\"Frequency offset (MHz)\")\n",
    "plt.ylabel(\"Delta Amplitude (ADUs)\")\n",
    "plt.legend()\n"
   ]
  },
  {
   "cell_type": "code",
   "execution_count": null,
   "id": "8cb65868-f3f8-48b2-aef3-ddccc956d7d0",
   "metadata": {},
   "outputs": [],
   "source": [
    "# Now turn off sumulated resonance and scan again\n",
    "simu.alloff()\n",
    "kids.set_tones(freqs, fis, gs)\n",
    "xs3 = kids.sweep_tones(df, N, mean=True, doProgress=True)\n"
   ]
  },
  {
   "cell_type": "code",
   "execution_count": null,
   "id": "02cb74e4-e92e-4ac1-84b7-ef6c8c8ddc05",
   "metadata": {},
   "outputs": [],
   "source": [
    "for iTone,qFreq in enumerate(kids.qFreqs):\n",
    "    plt.plot(offsets, np.abs(xs3[:,iTone]), label=\"%d %f\"%(iTone,qFreq))\n",
    "plt.xlabel(\"Frequency offset (MHz)\")\n",
    "plt.ylabel(\"Amplitude (ADUs)\")\n",
    "plt.legend()\n",
    "_ = plt.title(\"No resonance\")\n"
   ]
  },
  {
   "cell_type": "code",
   "execution_count": null,
   "id": "20f2053f-9147-4412-9915-2dd4c8212502",
   "metadata": {},
   "outputs": [],
   "source": [
    "for iTone,qFreq in enumerate(kids.qFreqs):\n",
    "    plt.plot(offsets, np.angle(xs3[:,iTone]), label=\"%d %f\"%(iTone,qFreq))\n",
    "plt.xlabel(\"Frequency offset (MHz)\")\n",
    "plt.ylabel(\"Phase (Rad)\")\n",
    "plt.legend()\n",
    "_ = plt.title(\"No resonance\")\n"
   ]
  },
  {
   "cell_type": "code",
   "execution_count": null,
   "id": "48ee99f7-f3bf-4d18-9ed9-71e08446ae0e",
   "metadata": {},
   "outputs": [],
   "source": [
    "delayFreqs = scan.inCh2Freq([9,10])\n",
    "kids.set_tones(delayFreqs, fis, gs)\n",
    "delayDf = .3\n",
    "delayN = 100\n",
    "delayOffsets = kids.get_sweep_offsets(delayDf, delayN)\n",
    "\n",
    "xs4 = kids.sweep_tones(delayDf, delayN, mean=True, doProgress=True)\n"
   ]
  },
  {
   "cell_type": "code",
   "execution_count": null,
   "id": "3970c54e-a851-46d0-9651-3229a0eb7aac",
   "metadata": {},
   "outputs": [],
   "source": [
    "for iTone,qFreq in enumerate(kids.qFreqs):\n",
    "    plt.plot(delayOffsets, np.angle(xs4[:,iTone]), \"-o\", label=\"%d %f\"%(iTone,qFreq))\n",
    "plt.xlabel(\"Frequency offset (MHz)\")\n",
    "plt.ylabel(\"Phase (Rad)\")\n",
    "plt.legend()\n",
    "_ = plt.title(\"No resonance\")\n"
   ]
  },
  {
   "cell_type": "code",
   "execution_count": null,
   "id": "2b046f5f",
   "metadata": {},
   "outputs": [],
   "source": [
    "delay = -20\n",
    "bw = 0.1\n",
    "n = 100\n",
    "fOffsets = (np.arange(n)-n/2)*(bw/n)\n",
    "amp = 1000\n",
    "phase = np.pi/2\n",
    "x = amp*np.exp(1j*(2*np.pi*(fOffsets*delay)+phase))\n",
    "delay = measureDelay(fOffsets, x, plotFit=True)\n"
   ]
  },
  {
   "cell_type": "code",
   "execution_count": null,
   "id": "709d5663",
   "metadata": {},
   "outputs": [],
   "source": []
  },
  {
   "cell_type": "code",
   "execution_count": null,
   "id": "778fe68a",
   "metadata": {},
   "outputs": [],
   "source": [
    "delay =  measureDelay(delayOffsets, xs4[:,0], plotFit=True)"
   ]
  },
  {
   "cell_type": "code",
   "execution_count": null,
   "id": "7832bafd",
   "metadata": {},
   "outputs": [],
   "source": [
    "print(delay)"
   ]
  },
  {
   "cell_type": "code",
   "execution_count": null,
   "id": "1bf255e3-6619-4b16-9c11-813b981f3e68",
   "metadata": {},
   "outputs": [],
   "source": [
    "type(kids)"
   ]
  },
  {
   "cell_type": "code",
   "execution_count": null,
   "id": "d8d83b99",
   "metadata": {},
   "outputs": [],
   "source": [
    "help(kids.set_nyquist)"
   ]
  },
  {
   "cell_type": "code",
   "execution_count": null,
   "id": "e98299ee-4f2e-4c17-9a95-1f9bc484bd33",
   "metadata": {},
   "outputs": [],
   "source": []
  }
 ],
 "metadata": {
  "kernelspec": {
   "display_name": "Python 3 (ipykernel)",
   "language": "python",
   "name": "python3"
  },
  "language_info": {
   "codemirror_mode": {
    "name": "ipython",
    "version": 3
   },
   "file_extension": ".py",
   "mimetype": "text/x-python",
   "name": "python",
   "nbconvert_exporter": "python",
   "pygments_lexer": "ipython3",
   "version": "3.10.4"
  }
 },
 "nbformat": 4,
 "nbformat_minor": 5
}
