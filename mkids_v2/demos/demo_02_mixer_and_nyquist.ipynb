{
 "cells": [
  {
   "cell_type": "code",
   "execution_count": null,
   "id": "83c2de13-4c17-4c3a-96d2-8f894ec6bcd9",
   "metadata": {},
   "outputs": [],
   "source": [
    "import sys\n",
    "sys.path.append('../qick/qick_lib/')\n",
    "sys.path.append('../soft/')\n",
    "import Scan\n",
    "from mkids import *\n",
    "import matplotlib.pyplot as plt\n",
    "import numpy as np"
   ]
  },
  {
   "cell_type": "code",
   "execution_count": null,
   "id": "6673486a-84d0-4792-8337-82700e9cef1e",
   "metadata": {},
   "outputs": [],
   "source": [
    "bitfile = \"mkids_2x2_kidsim_v2\"\n",
    "scan = Scan.Scan(bitfile, iKids=0, iSimu=0)\n"
   ]
  },
  {
   "cell_type": "code",
   "execution_count": null,
   "id": "bd23a879-4287-406f-a84f-0197c09990e7",
   "metadata": {},
   "outputs": [],
   "source": [
    "\n",
    "line = \"%9s %15s %15s %9s %9s\"%(\"zone\",\"fMixerRequested\",\"fMixerActual\", \"fTone\",\"fAliased\")\n",
    "print(line)\n",
    "fNyquist = scan.fs/2\n",
    "fMixer0 = fNyquist/np.sqrt(2)\n",
    "fTone0 = fNyquist/np.pi\n",
    "for nZone in [1,2,3,4]:\n",
    "    fMixer = fMixer0 + (nZone-1)*fNyquist\n",
    "    fMixerSet = scan.set_mixer(fMixer)\n",
    "    assert fMixer == fMixerSet, \"mixer trouble:  fMixer=%f fMixerSet=%f\"%(fMixer, fMixerSet)\n",
    "    fTone = fMixer - fTone0 + 12.3*nZone # set a tone somewhere in the Nyquist zone\n",
    "    fTones = np.array([fTone])\n",
    "    fAliased = scan.fAliasedFromFTone(fTones)[0]\n",
    "    nZoneTest = scan.nZoneFromFTone(fTones)[0]\n",
    "    # confirm that we stayed inside the Nyquist zone\n",
    "    assert nZone == nZoneTest, \"Nyquist zone trouble  nZone=%d  nZoneTest=%d\"%(nZone, nZoneTest) \n",
    "    line = \"%9d %15.6f %15.6f %9.3f %9.3f\"%(nZone, fMixer, fMixerSet, fTone, fAliased)\n",
    "    print(line)    "
   ]
  },
  {
   "cell_type": "code",
   "execution_count": null,
   "id": "bf54d156-f880-44a5-b9aa-1092437a9e7a",
   "metadata": {},
   "outputs": [],
   "source": [
    "scan.simuChain.synthesis.get_mixer_frequency()\n"
   ]
  }
 ],
 "metadata": {
  "kernelspec": {
   "display_name": "Python 3 (ipykernel)",
   "language": "python",
   "name": "python3"
  },
  "language_info": {
   "codemirror_mode": {
    "name": "ipython",
    "version": 3
   },
   "file_extension": ".py",
   "mimetype": "text/x-python",
   "name": "python",
   "nbconvert_exporter": "python",
   "pygments_lexer": "ipython3",
   "version": "3.10.4"
  }
 },
 "nbformat": 4,
 "nbformat_minor": 5
}
