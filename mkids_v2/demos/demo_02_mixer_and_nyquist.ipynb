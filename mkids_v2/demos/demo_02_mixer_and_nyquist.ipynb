{
 "cells": [
  {
   "cell_type": "markdown",
   "id": "f27fbe3d-baf2-44a9-9244-cedc5d638b8a",
   "metadata": {},
   "source": [
    "Demonstrate how the Scan functions \"fAliasedFromFTone\" and \"nZoneFromFTone\" work to put tones in higher Nyquist zones.\n",
    "\n",
    "No actual tones are generated or read, so the connections do not matter for this demonstration."
   ]
  },
  {
   "cell_type": "code",
   "execution_count": 1,
   "id": "83c2de13-4c17-4c3a-96d2-8f894ec6bcd9",
   "metadata": {},
   "outputs": [],
   "source": [
    "import sys\n",
    "sys.path.append('../../../qick/qick_lib/')\n",
    "sys.path.append('../soft/')\n",
    "import Scan\n",
    "from mkids import *\n",
    "import matplotlib.pyplot as plt\n",
    "import numpy as np"
   ]
  },
  {
   "cell_type": "code",
   "execution_count": 2,
   "id": "6673486a-84d0-4792-8337-82700e9cef1e",
   "metadata": {},
   "outputs": [
    {
     "data": {
      "application/javascript": [
       "\n",
       "try {\n",
       "require(['notebook/js/codecell'], function(codecell) {\n",
       "  codecell.CodeCell.options_default.highlight_modes[\n",
       "      'magic_text/x-csrc'] = {'reg':[/^%%microblaze/]};\n",
       "  Jupyter.notebook.events.one('kernel_ready.Kernel', function(){\n",
       "      Jupyter.notebook.get_cells().map(function(cell){\n",
       "          if (cell.cell_type == 'code'){ cell.auto_highlight(); } }) ;\n",
       "  });\n",
       "});\n",
       "} catch (e) {};\n"
      ]
     },
     "metadata": {},
     "output_type": "display_data"
    },
    {
     "data": {
      "application/javascript": [
       "\n",
       "try {\n",
       "require(['notebook/js/codecell'], function(codecell) {\n",
       "  codecell.CodeCell.options_default.highlight_modes[\n",
       "      'magic_text/x-csrc'] = {'reg':[/^%%pybind11/]};\n",
       "  Jupyter.notebook.events.one('kernel_ready.Kernel', function(){\n",
       "      Jupyter.notebook.get_cells().map(function(cell){\n",
       "          if (cell.cell_type == 'code'){ cell.auto_highlight(); } }) ;\n",
       "  });\n",
       "});\n",
       "} catch (e) {};\n"
      ]
     },
     "metadata": {},
     "output_type": "display_data"
    }
   ],
   "source": [
    "board = Scan.getBoard()\n",
    "if board == 'zcu111':\n",
    "    bitfile = 'mkids_2x2_kidsim_v1'\n",
    "elif board == 'zcu216':\n",
    "    bitfile = 'mkids_2x2_kidsim_v2'\n",
    "else:\n",
    "    raise Exception(\"Do not know what to do with %s\"%board)\n",
    "iKids = 0\n",
    "iSimu = 0\n",
    "scan = Scan.Scan(bitfile, iKids, iSimu)\n"
   ]
  },
  {
   "cell_type": "code",
   "execution_count": 3,
   "id": "4e8d380e-3f00-4d68-bd56-a83429fe446a",
   "metadata": {},
   "outputs": [
    {
     "name": "stdout",
     "output_type": "stream",
     "text": [
      "Nyquist Frequency is 1228.800000 MHz\n"
     ]
    }
   ],
   "source": [
    "print(\"Nyquist Frequency is %f MHz\"%scan.fNyquist)"
   ]
  },
  {
   "cell_type": "code",
   "execution_count": 4,
   "id": "204194be-b39b-4d2b-8e0f-0acdac2a7c46",
   "metadata": {},
   "outputs": [
    {
     "name": "stdout",
     "output_type": "stream",
     "text": [
      "Help on method fAliasedFromFTone in module Scan:\n",
      "\n",
      "fAliasedFromFTone(fTone) method of Scan.Scan instance\n",
      "    Return the aliased frequency for the frequency fTone\n",
      "    \n",
      "    Parameters:  \n",
      "    -----------            \n",
      "    fTone: double or nparray of doubles\n",
      "        tone frequency in MHz\n",
      "        \n",
      "    Returns:\n",
      "    --------\n",
      "    fAliased: double or nparray of doubles\n",
      "        The aliased frequency to generate for the fTone\n",
      "\n",
      "Help on method nZoneFromFTone in module Scan:\n",
      "\n",
      "nZoneFromFTone(fTone) method of Scan.Scan instance\n",
      "    Return the Nyquist zone for the frequency fTone\n",
      "    \n",
      "    Parameters:  \n",
      "    -----------           \n",
      "    fTone: double or nparray of doubles\n",
      "        tone frequncy in MHz\n",
      "        \n",
      "    Returns:\n",
      "    --------\n",
      "    fAliased: int or nparray of ints\n",
      "        The Nyquist zone for the fTone\n",
      "\n"
     ]
    }
   ],
   "source": [
    "help(scan.fAliasedFromFTone)\n",
    "help(scan.nZoneFromFTone)"
   ]
  },
  {
   "cell_type": "code",
   "execution_count": 9,
   "id": "bd23a879-4287-406f-a84f-0197c09990e7",
   "metadata": {},
   "outputs": [
    {
     "name": "stdout",
     "output_type": "stream",
     "text": [
      "     zone          fMixer     fTone  fAliased\n",
      "        1      868.892813   490.054   490.054\n",
      "        2     2097.692813  1731.154   726.446\n",
      "        3     3326.492813  2972.254   514.654\n",
      "        4     4555.292813  4213.354   701.846\n"
     ]
    }
   ],
   "source": [
    "\n",
    "line = \"%9s %15s %9s %9s\"%(\"zone\",\"fMixer\", \"fTone\",\"fAliased\")\n",
    "print(line)\n",
    "fNyquist = scan.fNyquist\n",
    "fMixer0 = fNyquist/np.sqrt(2)\n",
    "fTone0 = fNyquist/np.pi\n",
    "for nZone in [1,2,3,4]:\n",
    "    fMixer = fMixer0 + (nZone-1)*fNyquist\n",
    "    fMixerSet = scan.set_mixer(fMixer)\n",
    "    assert fMixer == fMixerSet, \"mixer trouble:  fMixer=%f fMixerSet=%f\"%(fMixer, fMixerSet)\n",
    "    fTone = fMixer - fTone0 + 12.3*nZone # set a tone somewhere in the Nyquist zone\n",
    "    fTones = np.array([fTone])\n",
    "    fAliased = scan.fAliasedFromFTone(fTones)[0]\n",
    "    nZoneTest = scan.nZoneFromFTone(fTones)[0]\n",
    "    # confirm that we stayed inside the Nyquist zone\n",
    "    assert nZone == nZoneTest, \"Nyquist zone trouble  nZone=%d  nZoneTest=%d\"%(nZone, nZoneTest) \n",
    "    line = \"%9d %15.6f %9.3f %9.3f\"%(nZone, fMixerSet, fTone, fAliased)\n",
    "    print(line)    "
   ]
  },
  {
   "cell_type": "code",
   "execution_count": 13,
   "id": "94d0d74e-86d1-496f-9437-a82ccfefecd0",
   "metadata": {},
   "outputs": [
    {
     "name": "stdout",
     "output_type": "stream",
     "text": [
      "     zone          fMixer     fTone  fAliased\n",
      "        1      614.400000  1464.361   993.239\n",
      "        2      614.400000  2693.161   235.561\n",
      "        3      614.400000  3921.961   993.239\n",
      "        4      614.400000  5150.761   235.561\n"
     ]
    }
   ],
   "source": [
    "\n",
    "line = \"%9s %15s %9s %9s\"%(\"zone\",\"fMixer\", \"fTone\",\"fAliased\")\n",
    "print(line)\n",
    "fNyquist = scan.fNyquist\n",
    "fMixer0 = fNyquist/np.sqrt(2)\n",
    "fTone0 = fNyquist/np.pi\n",
    "for nZone in [1,2,3,4]:\n",
    "    fMixer = fNyquist/2\n",
    "    fMixerSet = scan.set_mixer(fMixer)\n",
    "    assert fMixer == fMixerSet, \"mixer trouble:  fMixer=%f fMixerSet=%f\"%(fMixer, fMixerSet)\n",
    "    fTone = nZone*fNyquist + fMixer - fTone0 + 12.3 # set a tone somewhere in the Nyquist zone\n",
    "    fTones = np.array([fTone])\n",
    "    fAliased = scan.fAliasedFromFTone(fTones)[0]\n",
    "    nZoneTest = scan.nZoneFromFTone(fTones)[0]\n",
    "    # confirm that we stayed inside the Nyquist zone\n",
    "    #assert nZone == nZoneTest, \"Nyquist zone trouble  nZone=%d  nZoneTest=%d\"%(nZone, nZoneTest) \n",
    "    line = \"%9d %15.6f %9.3f %9.3f\"%(nZone, fMixerSet, fTone, fAliased)\n",
    "    print(line)    "
   ]
  },
  {
   "cell_type": "code",
   "execution_count": 14,
   "id": "d64e5676-b1cc-433f-877c-6c39a6776876",
   "metadata": {},
   "outputs": [
    {
     "name": "stdout",
     "output_type": "stream",
     "text": [
      "     zone          fMixer     fTone  fAliased\n",
      "        1        0.000000   849.961   849.961\n",
      "        2        0.000000  2078.761   378.839\n",
      "        3        0.000000  3307.561   849.961\n",
      "        4        0.000000  4536.361   378.839\n"
     ]
    }
   ],
   "source": [
    "\n",
    "line = \"%9s %15s %9s %9s\"%(\"zone\",\"fMixer\", \"fTone\",\"fAliased\")\n",
    "print(line)\n",
    "fNyquist = scan.fNyquist\n",
    "fMixer0 = fNyquist/np.sqrt(2)\n",
    "fTone0 = fNyquist/np.pi\n",
    "for nZone in [1,2,3,4]:\n",
    "    fMixer = 0\n",
    "    fMixerSet = scan.set_mixer(fMixer)\n",
    "    assert fMixer == fMixerSet, \"mixer trouble:  fMixer=%f fMixerSet=%f\"%(fMixer, fMixerSet)\n",
    "    fTone = nZone*fNyquist + fMixer - fTone0 + 12.3 # set a tone somewhere in the Nyquist zone\n",
    "    fTones = np.array([fTone])\n",
    "    fAliased = scan.fAliasedFromFTone(fTones)[0]\n",
    "    nZoneTest = scan.nZoneFromFTone(fTones)[0]\n",
    "    # confirm that we stayed inside the Nyquist zone\n",
    "    #assert nZone == nZoneTest, \"Nyquist zone trouble  nZone=%d  nZoneTest=%d\"%(nZone, nZoneTest) \n",
    "    line = \"%9d %15.6f %9.3f %9.3f\"%(nZone, fMixerSet, fTone, fAliased)\n",
    "    print(line)    "
   ]
  },
  {
   "cell_type": "code",
   "execution_count": null,
   "id": "a47fbfc2-417e-454a-8ed0-9e3a921ca9ff",
   "metadata": {},
   "outputs": [],
   "source": []
  }
 ],
 "metadata": {
  "kernelspec": {
   "display_name": "Python 3 (ipykernel)",
   "language": "python",
   "name": "python3"
  },
  "language_info": {
   "codemirror_mode": {
    "name": "ipython",
    "version": 3
   },
   "file_extension": ".py",
   "mimetype": "text/x-python",
   "name": "python",
   "nbconvert_exporter": "python",
   "pygments_lexer": "ipython3",
   "version": "3.10.4"
  }
 },
 "nbformat": 4,
 "nbformat_minor": 5
}
