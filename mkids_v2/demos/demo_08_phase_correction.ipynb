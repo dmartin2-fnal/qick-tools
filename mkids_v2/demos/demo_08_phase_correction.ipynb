{
 "cells": [
  {
   "cell_type": "markdown",
   "id": "451f2d24-9953-463c-bb21-8c6470fc35aa",
   "metadata": {},
   "source": [
    "Demonstrate delay correction in Scan\n",
    "\n",
    "For this notebook, we use the \"Dual 0\" chain for mkids software.  I\n",
    "\n",
    "On the ZCU216 the bitfile mkids_2x2_kidsim_v2 uses these connections:\n",
    "* DAC output on DAC Tile = 2, DAC Ch = 0, which is the connector 0_230, on JHC3\n",
    "* ADC input on ADC Tile = 2, ADC Ch = 0, which is the connector 0_226, on JHC7\n",
    "\n",
    "We use the \"Sim 0\" chain to simulate the resonance.  It uses these connections:\n",
    "* DAC output on DAC Tile = 3, DAC Ch = 0, which is the connector 0_231, on JHC3\n",
    "* ADC input on ADC Tile = 3, ADC Ch = 0, which is the connector 0_227, on JHC7\n",
    "\n",
    "These are connected through the low-frequency Baluns.\n",
    "\n",
    "connector 0_230, on JHC3 <--> connector 0_227, on JHC7\n",
    "\n",
    "connector 0_226, on JHC7 <-->  connector 0_231, on JHC3"
   ]
  },
  {
   "cell_type": "code",
   "execution_count": null,
   "id": "de1966b9-9656-4e82-927b-51a0fba2537f",
   "metadata": {},
   "outputs": [],
   "source": [
    "import sys\n",
    "sys.path.append('../../qick/qick_lib/')\n",
    "sys.path.append('../soft/')\n",
    "import Scan\n",
    "from mkids import *\n",
    "import matplotlib.pyplot as plt\n"
   ]
  },
  {
   "cell_type": "code",
   "execution_count": null,
   "id": "46f2dd20-2f25-4efd-aa47-8b2232b47946",
   "metadata": {},
   "outputs": [],
   "source": [
    "# Use this bitfile.  \n",
    "bitfile = \"mkids_2x2_kidsim_v2\"\n",
    "\n",
    "# Set up the firmware to use the kids and simu chains described above\n",
    "iKids = 0\n",
    "iSimu = 0\n",
    "scan = Scan.Scan(bitfile, iKids=iKids, iSimu=iSimu)"
   ]
  },
  {
   "cell_type": "code",
   "execution_count": null,
   "id": "c0eb87d9-e458-4641-a3e1-f5d3f858abc2",
   "metadata": {},
   "outputs": [],
   "source": [
    "# Here is the function we are demonstrating\n",
    "scan.sweep_tones?"
   ]
  },
  {
   "cell_type": "code",
   "execution_count": null,
   "id": "373d8c8c-8e61-478e-ab3a-f309afa54cf3",
   "metadata": {},
   "outputs": [],
   "source": [
    "# Note that the Scan object include a \"nominalDelay\" which was determined by running other demo notebooks.  For other combinations of board, firmware, and channels, the Scan class needs to be updated.\n",
    "print(scan.nominalDelay)"
   ]
  },
  {
   "cell_type": "code",
   "execution_count": null,
   "id": "dbbe8e62-18a0-43e5-80a1-dc9cc1d40c51",
   "metadata": {},
   "outputs": [],
   "source": [
    "# Set the mixers so the channel is in the middle of the first nyquist zone.\n",
    "# Note that the Scan object has the field \"fNyquist\" which will be set correctly for each board and firmware.\n",
    "fMixerSimu = 512\n",
    "fMixerKids = scan.fNyquist/2\n",
    "print(\"fNyquist = \",scan.fNyquist)"
   ]
  },
  {
   "cell_type": "code",
   "execution_count": null,
   "id": "51919cfc-2fcb-45a7-a0df-6830a02c8fa9",
   "metadata": {},
   "outputs": [],
   "source": [
    "# Initialize simulation chain with no resonance\n",
    "simu = scan.simuChain\n",
    "simu.analysis.qout(3)\n",
    "simu.synthesis.qout(3)\n",
    "simu.alloff()\n",
    "simu.set_mixer_frequency(fMixerSimu)\n"
   ]
  },
  {
   "cell_type": "code",
   "execution_count": null,
   "id": "5f02c6c7-28ed-4e89-a977-3689889c6801",
   "metadata": {},
   "outputs": [],
   "source": [
    "# Initialize the kids chain\n",
    "kids = scan.kidsChain\n",
    "# These values for qout work reasonably for loopback.  \n",
    "kids.analysis.qout(2)\n",
    "kids.synthesis.qout(2)\n",
    "kids.set_mixer_frequency(fMixerKids)"
   ]
  },
  {
   "cell_type": "code",
   "execution_count": null,
   "id": "ff5e9fc1-7eff-4331-b356-a6d3d8d84dab",
   "metadata": {},
   "outputs": [],
   "source": [
    "# This function scans over one channel.  Note that its width is gaken from the firmware using the sampling frequency of the pfbs.\n",
    "def scanOneOutCh(outCh, df=None, N=50, doProgress=False, fMixer=700, doApplyDelay=True, additionalDelay=0):\n",
    "    scan.set_mixer(fMixer)\n",
    "    kids = scan.kidsChain\n",
    "    qFMixer = scan.get_mixer()\n",
    "    pfbFs = kids.synthesis.dict['chain']['fs']\n",
    "    fMinimum = qFMixer-pfbFs/2\n",
    "    fMaximum = qFMixer+pfbFs/2\n",
    "\n",
    "    fTone = scan.outCh2Freq(outCh)\n",
    "    if df is None:\n",
    "        df = kids.synthesis.fc_ch\n",
    "    fMin = np.maximum(fMinimum, fTone-df/2)\n",
    "    fMax = np.minimum(fMaximum, fTone+df/2)\n",
    "    df = fMax-fMin\n",
    "    fc = (fMin+fMax)/2\n",
    "    freqs = np.array([fc])\n",
    "    fis = np.zeros(1)\n",
    "    gs = 0.9*np.ones(1)\n",
    "    kids.set_tones(freqs, fis, gs)\n",
    "    fOffsets = kids.get_sweep_offsets(df, N)\n",
    "    xs = scan.sweep_tones(freqs, fis, gs, None, df, N, mean=True, doProgress=doProgress, doApplyDelay=doApplyDelay, additionalDelay=additionalDelay)\n",
    "    return xs, freqs, fOffsets\n",
    "\n",
    "# Call the function withou applying the delay correction to the phase.\n",
    "xs, freqs, fOffsets = scanOneOutCh(30, df=0.3, N=50, doProgress=True, fMixer=fMixerKids, doApplyDelay=False)\n",
    "plt.plot(fOffsets, np.angle(xs), '-o')\n",
    "plt.xlabel(\"Frequency = %.1f [MHz]\"%freqs[0])\n",
    "_ = plt.ylabel(\"Phase [Rad]\")"
   ]
  },
  {
   "cell_type": "code",
   "execution_count": null,
   "id": "173ac6c7-3d3d-4ad0-9a3d-0fd4a645736a",
   "metadata": {},
   "outputs": [],
   "source": [
    "# Call the function and apply the phase.  This is done in the Scan object function \"sweep_tones\" which will also do multi-tones and correct for the delays returning calibrated data.\n",
    "\n",
    "# Residuls from a linear evolution of phase vs. frequency are ~ 1 milli Radians.\n",
    "\n",
    "xs, freqs, fOffsets = scanOneOutCh(30, df=0.3, N=50, doProgress=True, fMixer=fMixerKids, doApplyDelay=True)\n",
    "plt.plot(fOffsets, np.angle(xs), '-o')\n",
    "plt.xlabel(\"Frequency = %.1f [MHz]\"%freqs[0])\n",
    "_ = plt.ylabel(\"Phase [Rad]\")"
   ]
  },
  {
   "cell_type": "code",
   "execution_count": null,
   "id": "d103c300-bd95-4423-be49-d0f0ad7a66a1",
   "metadata": {},
   "outputs": [],
   "source": [
    "# Call the function and apply the phase specifying an \"additionalDelay\" to flatten the phase vs. frequency plot a bit more.\n",
    "\n",
    "xs, freqs, fOffsets = scanOneOutCh(30, df=0.3, N=50, doProgress=True, fMixer=fMixerKids, doApplyDelay=True, additionalDelay=-0.026)\n",
    "plt.plot(fOffsets, np.angle(xs), '-o')\n",
    "plt.xlabel(\"Frequency = %.1f [MHz]\"%freqs[0])\n",
    "_ = plt.ylabel(\"Phase [Rad]\")"
   ]
  },
  {
   "cell_type": "code",
   "execution_count": null,
   "id": "c0763074-72ff-4e09-848f-a75bb62f0d1c",
   "metadata": {},
   "outputs": [],
   "source": []
  }
 ],
 "metadata": {
  "kernelspec": {
   "display_name": "Python 3 (ipykernel)",
   "language": "python",
   "name": "python3"
  },
  "language_info": {
   "codemirror_mode": {
    "name": "ipython",
    "version": 3
   },
   "file_extension": ".py",
   "mimetype": "text/x-python",
   "name": "python",
   "nbconvert_exporter": "python",
   "pygments_lexer": "ipython3",
   "version": "3.10.4"
  }
 },
 "nbformat": 4,
 "nbformat_minor": 5
}
