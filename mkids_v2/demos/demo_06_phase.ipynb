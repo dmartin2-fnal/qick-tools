{
 "cells": [
  {
   "cell_type": "markdown",
   "id": "451f2d24-9953-463c-bb21-8c6470fc35aa",
   "metadata": {},
   "source": [
    "Measure delay for phase vs. frequency calibration."
   ]
  },
  {
   "cell_type": "code",
   "execution_count": 1,
   "id": "de1966b9-9656-4e82-927b-51a0fba2537f",
   "metadata": {},
   "outputs": [],
   "source": [
    "import sys\n",
    "sys.path.append('../../qick/qick_lib/')\n",
    "sys.path.append('../soft/')\n",
    "import Scan\n",
    "from mkids import *\n",
    "import matplotlib.pyplot as plt\n"
   ]
  },
  {
   "cell_type": "code",
   "execution_count": 2,
   "id": "46f2dd20-2f25-4efd-aa47-8b2232b47946",
   "metadata": {},
   "outputs": [
    {
     "data": {
      "application/javascript": [
       "\n",
       "try {\n",
       "require(['notebook/js/codecell'], function(codecell) {\n",
       "  codecell.CodeCell.options_default.highlight_modes[\n",
       "      'magic_text/x-csrc'] = {'reg':[/^%%microblaze/]};\n",
       "  Jupyter.notebook.events.one('kernel_ready.Kernel', function(){\n",
       "      Jupyter.notebook.get_cells().map(function(cell){\n",
       "          if (cell.cell_type == 'code'){ cell.auto_highlight(); } }) ;\n",
       "  });\n",
       "});\n",
       "} catch (e) {};\n"
      ]
     },
     "metadata": {},
     "output_type": "display_data"
    },
    {
     "data": {
      "application/javascript": [
       "\n",
       "try {\n",
       "require(['notebook/js/codecell'], function(codecell) {\n",
       "  codecell.CodeCell.options_default.highlight_modes[\n",
       "      'magic_text/x-csrc'] = {'reg':[/^%%pybind11/]};\n",
       "  Jupyter.notebook.events.one('kernel_ready.Kernel', function(){\n",
       "      Jupyter.notebook.get_cells().map(function(cell){\n",
       "          if (cell.cell_type == 'code'){ cell.auto_highlight(); } }) ;\n",
       "  });\n",
       "});\n",
       "} catch (e) {};\n"
      ]
     },
     "metadata": {},
     "output_type": "display_data"
    }
   ],
   "source": [
    "# After running demo_00_init.ipynb we decide which bitfile we'd like to use\n",
    "bitfile = \"mkids_2x2_kidsim_v2\"\n",
    "scan = Scan.Scan(bitfile)"
   ]
  },
  {
   "cell_type": "code",
   "execution_count": 3,
   "id": "2fd8c0e5-73ad-4d43-ac5e-ec3651fe505e",
   "metadata": {},
   "outputs": [
    {
     "name": "stdout",
     "output_type": "stream",
     "text": [
      "fResonance = 324.1 MHz\n"
     ]
    }
   ],
   "source": [
    "# Initialize simulation chain with no resonance\n",
    "simu = scan.simuChain\n",
    "simu.analysis.qout(3)\n",
    "simu.synthesis.qout(3)\n",
    "simu.alloff()\n",
    "\n",
    "# Set mixer.\n",
    "fMixerSimu = 300\n",
    "simu.set_mixer_frequency(fMixerSimu)\n",
    "\n",
    "# Channel separation.\n",
    "fc = simu.analysis.fc_ch\n"
   ]
  },
  {
   "cell_type": "code",
   "execution_count": 4,
   "id": "db94bc2f-e830-4884-8352-9bbbedf66209",
   "metadata": {},
   "outputs": [],
   "source": [
    "# Get the kids chain\n",
    "chain = scan.kidsChain\n"
   ]
  },
  {
   "cell_type": "code",
   "execution_count": 5,
   "id": "b86a50bf-d3d2-48d7-82d2-8bfe6a58f48d",
   "metadata": {},
   "outputs": [],
   "source": [
    "# Pick a channel\n",
    "outCh = 42\n",
    "f0 = scan.outCh2Freq(outCh)\n",
    "freqs = np.array([f0])\n",
    "fis = np.zeros(1)\n",
    "gs = 0.9*np.ones(1)"
   ]
  },
  {
   "cell_type": "code",
   "execution_count": 6,
   "id": "36d21df0-c730-4d5f-9de6-3ca301cf3ef5",
   "metadata": {},
   "outputs": [],
   "source": [
    "bw = 100*1e-6 \n"
   ]
  }
 ],
 "metadata": {
  "kernelspec": {
   "display_name": "Python 3 (ipykernel)",
   "language": "python",
   "name": "python3"
  },
  "language_info": {
   "codemirror_mode": {
    "name": "ipython",
    "version": 3
   },
   "file_extension": ".py",
   "mimetype": "text/x-python",
   "name": "python",
   "nbconvert_exporter": "python",
   "pygments_lexer": "ipython3",
   "version": "3.10.4"
  }
 },
 "nbformat": 4,
 "nbformat_minor": 5
}
