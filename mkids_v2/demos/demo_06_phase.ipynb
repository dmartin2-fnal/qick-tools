{
 "cells": [
  {
   "cell_type": "markdown",
   "id": "451f2d24-9953-463c-bb21-8c6470fc35aa",
   "metadata": {},
   "source": [
    "Measure delay for phase vs. frequency calibration."
   ]
  },
  {
   "cell_type": "code",
   "execution_count": null,
   "id": "de1966b9-9656-4e82-927b-51a0fba2537f",
   "metadata": {},
   "outputs": [],
   "source": [
    "import sys\n",
    "sys.path.append('../../qick/qick_lib/')\n",
    "sys.path.append('../soft/')\n",
    "import Scan\n",
    "from mkids import *\n",
    "import matplotlib.pyplot as plt\n"
   ]
  },
  {
   "cell_type": "code",
   "execution_count": null,
   "id": "46f2dd20-2f25-4efd-aa47-8b2232b47946",
   "metadata": {},
   "outputs": [],
   "source": [
    "# After running demo_00_init.ipynb we decide which bitfile we'd like to use\n",
    "bitfile = \"mkids_2x2_kidsim_v2\"\n",
    "scan = Scan.Scan(bitfile)"
   ]
  },
  {
   "cell_type": "code",
   "execution_count": null,
   "id": "2fd8c0e5-73ad-4d43-ac5e-ec3651fe505e",
   "metadata": {},
   "outputs": [],
   "source": [
    "# Initialize simulation chain with one resonance\n",
    "simu = scan.simuChain\n",
    "simu.analysis.qout(3)\n",
    "simu.synthesis.qout(3)\n",
    "simu.alloff()\n",
    "\n",
    "# Set mixer.\n",
    "fMixerSimu = 300\n",
    "simu.set_mixer_frequency(fMixerSimu)\n",
    "\n",
    "# Channel separation.\n",
    "fc = simu.analysis.fc_ch\n",
    "\n",
    "# Put one resonator \n",
    "fResonance = fMixerSimu + 10*fc + 0.1\n",
    "print(\"fResonance = {} MHz\".format(fResonance))\n",
    "simu.enable(fResonance)"
   ]
  },
  {
   "cell_type": "code",
   "execution_count": null,
   "id": "db94bc2f-e830-4884-8352-9bbbedf66209",
   "metadata": {},
   "outputs": [],
   "source": [
    "# Get the kids chain\n",
    "chain = scan.kidsChain\n"
   ]
  },
  {
   "cell_type": "code",
   "execution_count": null,
   "id": "b86a50bf-d3d2-48d7-82d2-8bfe6a58f48d",
   "metadata": {},
   "outputs": [],
   "source": [
    "# Pick a channel\n",
    "outCh = 42\n",
    "f0 = scan.outCh2Freq(outCh)\n",
    "freqs = np.array([f0])\n",
    "fis = np.zeros(1)\n",
    "gs = 0.9*np.ones(1)"
   ]
  },
  {
   "cell_type": "code",
   "execution_count": null,
   "id": "36d21df0-c730-4d5f-9de6-3ca301cf3ef5",
   "metadata": {},
   "outputs": [],
   "source": [
    "bw = 100*1e-6 \n"
   ]
  }
 ],
 "metadata": {
  "kernelspec": {
   "display_name": "Python 3 (ipykernel)",
   "language": "python",
   "name": "python3"
  },
  "language_info": {
   "codemirror_mode": {
    "name": "ipython",
    "version": 3
   },
   "file_extension": ".py",
   "mimetype": "text/x-python",
   "name": "python",
   "nbconvert_exporter": "python",
   "pygments_lexer": "ipython3",
   "version": "3.10.4"
  }
 },
 "nbformat": 4,
 "nbformat_minor": 5
}
