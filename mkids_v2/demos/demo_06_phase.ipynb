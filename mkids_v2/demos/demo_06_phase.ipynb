{
 "cells": [
  {
   "cell_type": "markdown",
   "id": "451f2d24-9953-463c-bb21-8c6470fc35aa",
   "metadata": {},
   "source": [
    "Measure delay for phase vs. frequency calibration."
   ]
  },
  {
   "cell_type": "code",
   "execution_count": null,
   "id": "de1966b9-9656-4e82-927b-51a0fba2537f",
   "metadata": {},
   "outputs": [],
   "source": [
    "import sys\n",
    "sys.path.append('../../qick/qick_lib/')\n",
    "sys.path.append('../soft/')\n",
    "import Scan\n",
    "from mkids import *\n",
    "import matplotlib.pyplot as plt\n"
   ]
  },
  {
   "cell_type": "code",
   "execution_count": null,
   "id": "46f2dd20-2f25-4efd-aa47-8b2232b47946",
   "metadata": {},
   "outputs": [],
   "source": [
    "# After running demo_00_init.ipynb we decide which bitfile we'd like to use\n",
    "bitfile = \"mkids_2x2_kidsim_v2\"\n",
    "scan = Scan.Scan(bitfile)"
   ]
  },
  {
   "cell_type": "code",
   "execution_count": null,
   "id": "dbbe8e62-18a0-43e5-80a1-dc9cc1d40c51",
   "metadata": {},
   "outputs": [],
   "source": [
    "fMixerSimu = 512\n",
    "fMixerKids = scan.fNyquist/2"
   ]
  },
  {
   "cell_type": "code",
   "execution_count": null,
   "id": "51919cfc-2fcb-45a7-a0df-6830a02c8fa9",
   "metadata": {},
   "outputs": [],
   "source": [
    "# Initialize simulation chain with no resonance\n",
    "simu = scan.simuChain\n",
    "simu.analysis.qout(3)\n",
    "simu.synthesis.qout(3)\n",
    "simu.alloff()\n",
    "simu.set_mixer_frequency(fMixerSimu)\n"
   ]
  },
  {
   "cell_type": "code",
   "execution_count": null,
   "id": "5f02c6c7-28ed-4e89-a977-3689889c6801",
   "metadata": {},
   "outputs": [],
   "source": [
    "# Initialize the kids chain\n",
    "kids = scan.kidsChain\n",
    "kids.analysis.qout(2)\n",
    "kids.synthesis.qout(2)\n",
    "kids.set_mixer_frequency(fMixerKids)"
   ]
  },
  {
   "cell_type": "code",
   "execution_count": null,
   "id": "ff5e9fc1-7eff-4331-b356-a6d3d8d84dab",
   "metadata": {},
   "outputs": [],
   "source": [
    "def getDelayForOutCh(outCh, df=None, N=50, doProgress=False, plotFit=False, fMixer=700):\n",
    "    scan.set_mixer(fMixer)\n",
    "    kids = scan.kidsChain\n",
    "    qFMixer = scan.get_mixer()\n",
    "    pfbFs = kids.synthesis.dict['chain']['fs']\n",
    "    fMinimum = qFMixer-pfbFs/2\n",
    "    fMaximum = qFMixer+pfbFs/2\n",
    "\n",
    "    fTone = scan.outCh2Freq(outCh)\n",
    "    if df is None:\n",
    "        df = kids.synthesis.fc_ch\n",
    "    fMin = np.maximum(fMinimum, fTone-df/2)\n",
    "    fMax = np.minimum(fMaximum, fTone+df/2)\n",
    "    df = fMax-fMin\n",
    "    fc = (fMin+fMax)/2\n",
    "    freqs = np.array([fc])\n",
    "    fis = np.zeros(1)\n",
    "    gs = 0.9*np.ones(1)\n",
    "    kids.set_tones(freqs, fis, gs)\n",
    "    fOffsets = kids.get_sweep_offsets(df, N)\n",
    "    xs = kids.sweep_tones(df, N, mean=True, doProgress=doProgress)\n",
    "    delay,phi0 = measureDelay(fOffsets, xs[:,0], plotFit=plotFit) \n",
    "    return delay,xs,fOffsets,fTone,phi0\n",
    "delay,xs,fOffsets,fTone,phi0 = getDelayForOutCh(30, df=0.3, N=50, doProgress=True, plotFit=True, fMixer=fMixerKids)\n",
    "print(\"fTone =\",fTone)"
   ]
  },
  {
   "cell_type": "code",
   "execution_count": null,
   "id": "a753d5ee-ba7a-4c02-9ecb-abeb17c8cfca",
   "metadata": {},
   "outputs": [],
   "source": [
    "delays = np.zeros(scan.nOutCh)\n",
    "phi0s = np.zeros(scan.nOutCh)\n",
    "amps = np.zeros(scan.nOutCh)\n",
    "freqs = np.zeros(scan.nOutCh)\n",
    "allXs = []\n",
    "df = kids.synthesis.fc_ch\n",
    "N = 500\n",
    "for i in range(scan.nOutCh):\n",
    "    delay,xs,fOffsets,f0,phi0 = getDelayForOutCh(i, df, N, fMixer=fMixerKids)\n",
    "    delays[i] = delay\n",
    "    phi0s[i] = phi0\n",
    "    amps[i] = np.mean(np.abs(xs))\n",
    "    freqs[i] = f0\n",
    "    allXs.append(xs)\n",
    "    print(i,f0,delay,amps[i])"
   ]
  },
  {
   "cell_type": "code",
   "execution_count": null,
   "id": "c72b1b7e-056f-41b6-a952-a5f7aeb84b34",
   "metadata": {},
   "outputs": [],
   "source": []
  },
  {
   "cell_type": "code",
   "execution_count": null,
   "id": "379f3ff6-864b-419a-aab1-f582aa2bccff",
   "metadata": {},
   "outputs": [],
   "source": [
    "plt.plot(freqs, amps, '.')\n",
    "plt.xlabel(\"Frequency [MHz]\")\n",
    "plt.ylabel(\"Amplitude [ADUs]\")\n",
    "__ = plt.title(\"fMixer = %f MHz\"%fMixerKids)"
   ]
  },
  {
   "cell_type": "code",
   "execution_count": null,
   "id": "4e2a366a-8264-4191-8e71-ee5943e7cc8b",
   "metadata": {},
   "outputs": [],
   "source": [
    "plt.plot(freqs, delays, '.')\n",
    "plt.xlabel(\"Frequency [MHz]\")\n",
    "plt.ylabel(\"Delay [$\\mu$sec]\")\n",
    "__ = plt.title(\"fMixer = %f MHz\"%fMixerKids)"
   ]
  },
  {
   "cell_type": "code",
   "execution_count": null,
   "id": "0b4ea46a-e105-4f11-9959-4c207cbcbe46",
   "metadata": {},
   "outputs": [],
   "source": [
    "outCh = 10\n",
    "fCenter = scan.outCh2Freq(outCh)\n",
    "print(fCenter)\n",
    "\n",
    "fResonance = fCenter + 0.123\n",
    "simu.alloff()\n",
    "simu.enable(fResonance)\n",
    "freqs = np.array([fCenter])\n",
    "fis = np.zeros(1)\n",
    "gs = 0.9*np.ones(1)\n",
    "kids.set_tones(freqs, fis, gs)\n",
    "df=1.7\n",
    "N=200\n",
    "fOffsets = kids.get_sweep_offsets(df, N)\n",
    "doProgress = True\n",
    "xs = kids.sweep_tones(df, N, mean=True, doProgress=doProgress)"
   ]
  },
  {
   "cell_type": "code",
   "execution_count": null,
   "id": "6b3f0861-2ff9-4276-9ff6-d99a1e082648",
   "metadata": {},
   "outputs": [],
   "source": [
    "delayMean = delays.mean()\n",
    "print(delayMean)\n",
    "xsd = applyDelay(freqs, fOffsets, xs, delayMean)"
   ]
  },
  {
   "cell_type": "code",
   "execution_count": null,
   "id": "05f7046d-a376-43bc-adaa-ff5ab99a7a85",
   "metadata": {},
   "outputs": [],
   "source": [
    "plt.plot(fOffsets, np.abs(xsd), '.')\n",
    "plt.xlabel(\"Frequency - %f [MHz]\"%freqs[0])\n",
    "plt.ylabel(\"Amplitude [ADUs]\")\n",
    "plt.axvline(fResonance-freqs[0], c='r')"
   ]
  },
  {
   "cell_type": "code",
   "execution_count": null,
   "id": "7d78d62a-6492-47b4-b997-2158f812ac6f",
   "metadata": {},
   "outputs": [],
   "source": [
    "plt.plot(fOffsets, np.angle(xsd), '.')\n",
    "plt.xlabel(\"Frequency - %f [MHz]\"%freqs[0])\n",
    "plt.ylabel(\"Phase [Rad]\")\n",
    "plt.axvline(fResonance-freqs[0], c='r')"
   ]
  },
  {
   "cell_type": "code",
   "execution_count": null,
   "id": "9d42b049-508b-456e-8f23-9ff1c0b740ba",
   "metadata": {},
   "outputs": [],
   "source": [
    "plt.plot(np.real(xsd),np.imag(xsd),'.')\n",
    "ind = np.searchsorted(fOffsets,fResonance-freqs[0])\n",
    "plt.plot(np.real(xsd[ind]), np.imag(xsd[ind]), 'ro')\n",
    "plt.gca().set_aspect('equal')\n",
    "plt.xlabel(\"I [ADUs]\")\n",
    "plt.ylabel(\"Q [ADUs]\")"
   ]
  },
  {
   "cell_type": "code",
   "execution_count": null,
   "id": "534d0e5d-aaaf-49b2-9e21-6db692159580",
   "metadata": {},
   "outputs": [],
   "source": [
    "simu.alloff()\n",
    "f0 = scan.outCh2Freq(outCh)\n",
    "fc = kids.synthesis.fc_ch\n",
    "print(\"fc =\",fc)\n",
    "fCenter = f0\n",
    "freqs = np.array([fCenter])\n",
    "fis = np.zeros(1)\n",
    "gs = 0.9*np.ones(1)\n",
    "kids.set_tones(freqs, fis, gs)\n",
    "df=fc\n",
    "N=200\n",
    "fOffsets = kids.get_sweep_offsets(df, N)\n",
    "doProgress = True\n",
    "xs = kids.sweep_tones(df, N, mean=True, doProgress=doProgress)\n",
    "xsd = applyDelay(freqs, fOffsets, xs, delayMean)\n",
    "plt.plot(fOffsets, np.angle(xsd))\n",
    "plt.title(\"outCh = %d\"%outCh)"
   ]
  },
  {
   "cell_type": "code",
   "execution_count": null,
   "id": "034e51ee-64b6-459d-ab83-f34dd6bd084b",
   "metadata": {},
   "outputs": [],
   "source": [
    "simu.alloff()\n",
    "f0 = scan.outCh2Freq(outCh+1)\n",
    "fc = kids.synthesis.fc_ch\n",
    "print(\"fc =\",fc)\n",
    "fCenter = f0\n",
    "freqs = np.array([fCenter])\n",
    "fis = np.zeros(1)\n",
    "gs = 0.9*np.ones(1)\n",
    "kids.set_tones(freqs, fis, gs)\n",
    "df=fc\n",
    "N=200\n",
    "fOffsets = kids.get_sweep_offsets(df, N)\n",
    "doProgress = True\n",
    "xs = kids.sweep_tones(df, N, mean=True, doProgress=doProgress)\n",
    "xsd = applyDelay(freqs, fOffsets, xs, delayMean)\n",
    "plt.plot(fOffsets, np.angle(xsd))\n",
    "plt.title(\"outCh = %d\"%(outCh+1))"
   ]
  },
  {
   "cell_type": "code",
   "execution_count": null,
   "id": "f187478d-4cd5-47e0-acba-5f6764a9cecc",
   "metadata": {},
   "outputs": [],
   "source": [
    "simu.alloff()\n",
    "f0 = scan.outCh2Freq(outCh)\n",
    "fc = kids.synthesis.fc_ch\n",
    "fCenter = f0 + fc/2\n",
    "freqs = np.array([fCenter])\n",
    "fis = np.zeros(1)\n",
    "gs = 0.9*np.ones(1)\n",
    "kids.set_tones(freqs, fis, gs)\n",
    "df=1.9*fc\n",
    "N=200\n",
    "fOffsets = kids.get_sweep_offsets(df, N)\n",
    "doProgress = True\n",
    "xs = kids.sweep_tones(df, N, mean=True, doProgress=doProgress)"
   ]
  },
  {
   "cell_type": "code",
   "execution_count": null,
   "id": "a65c5a65-242d-43bc-833f-95357fbff481",
   "metadata": {},
   "outputs": [],
   "source": [
    "outChs = np.unique(scan.outFreq2ch(freqs+fOffsets))"
   ]
  },
  {
   "cell_type": "code",
   "execution_count": null,
   "id": "72ed2f44-08d0-48df-a7ad-76c2575de924",
   "metadata": {},
   "outputs": [],
   "source": [
    "xsd = applyDelay(freqs, fOffsets, xs, delayMean)"
   ]
  },
  {
   "cell_type": "code",
   "execution_count": null,
   "id": "efa4e162-98ba-4ce4-b2a6-f5cf46af008a",
   "metadata": {},
   "outputs": [],
   "source": [
    "plt.plot(fOffsets, np.angle(xsd))\n",
    "phi = np.angle(xsd)\n",
    "phi0 = np.mean(phi[fOffsets<0])\n",
    "phi1 = np.mean(phi[fOffsets>0])\n",
    "plt.axhline(phi0, c='r', alpha=0.3)\n",
    "plt.axhline(phi1, c='r', alpha=0.3)\n",
    "deltaPhi = phi1-phi0\n",
    "plt.xlabel(\"Frequency-%.3f MHz\"%freqs[0])\n",
    "plt.ylabel(\"Phase [Rad]\")\n",
    "plt.title(\"delta phase = %.3f between outCh=%d,%d\"%(deltaPhi,outChs[0],outChs[1]))"
   ]
  },
  {
   "cell_type": "code",
   "execution_count": null,
   "id": "549b758f-3790-43e5-a64a-813f70ef1937",
   "metadata": {},
   "outputs": [],
   "source": []
  }
 ],
 "metadata": {
  "kernelspec": {
   "display_name": "Python 3 (ipykernel)",
   "language": "python",
   "name": "python3"
  },
  "language_info": {
   "codemirror_mode": {
    "name": "ipython",
    "version": 3
   },
   "file_extension": ".py",
   "mimetype": "text/x-python",
   "name": "python",
   "nbconvert_exporter": "python",
   "pygments_lexer": "ipython3",
   "version": "3.10.4"
  }
 },
 "nbformat": 4,
 "nbformat_minor": 5
}
