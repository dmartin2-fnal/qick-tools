{
 "cells": [
  {
   "cell_type": "markdown",
   "id": "5f31664f-9e8a-45a9-8ec7-80441c48cfc9",
   "metadata": {},
   "source": [
    "Demonstrate a frequency scan of a simulated resonance.\n",
    "\n",
    "This follows the steps in ../zcu216/mkids_2x2_kidsim_v2.ipynb, but should work in general on all platforms.\n",
    "The parameter \"bitfile\" is set to select the firmware used, and it should work with all available firmwares.\n",
    "Note that the previous demo_00_init.ipynb show how to find available firmwares on the platform.\n",
    "\n",
    "\n",
    "For this notebook, we use the \"Dual 0\" chain for mkids software.  I\n",
    "\n",
    "On the ZCu216 it uses these connections:\n",
    "* DAC output on DAC Tile = 2, DAC Ch = 0, which is the connector 0_230, on JHC3\n",
    "* ADC input on ADC Tile = 2, ADC Ch = 0, which is the connector 0_226, on JHC7\n",
    "\n",
    "We use the \"Sim 0\" chain to simulate the resonance.  It uses these connections:\n",
    "* DAC output on DAC Tile = 3, DAC Ch = 0, which is the connector 0_231, on JHC3\n",
    "* ADC input on ADC Tile = 3, ADC Ch = 0, which is the connector 0_227, on JHC7\n",
    "\n",
    "These are connected through the low-frequency Baluns.\n",
    "\n",
    "On the ZCU11 it uses these connections:\n",
    "\n",
    "Well you have a few options because there are 2 kid chains and 2 emulation chains. I was using this:\n",
    "\n",
    " \n",
    "\n",
    "DAC 229_CH0 -> ADC 224_CH1\n",
    "\n",
    "DAC 229_CH1 -> ADC 224_CH0\n",
    "\n",
    " "
   ]
  },
  {
   "cell_type": "code",
   "execution_count": null,
   "id": "9a280114-aff8-46b8-a3a0-5d701ddcc987",
   "metadata": {},
   "outputs": [],
   "source": [
    "import sys\n",
    "sys.path.append('../../../qick/qick_lib/')\n",
    "sys.path.append('../soft/')\n",
    "import Scan\n",
    "from mkids import *\n",
    "import matplotlib.pyplot as plt\n"
   ]
  },
  {
   "cell_type": "code",
   "execution_count": null,
   "id": "24fff2c0",
   "metadata": {},
   "outputs": [],
   "source": [
    "board = Scan.getBoard()\n",
    "if board == 'zcu111':\n",
    "    bitfile = 'mkids_2x2_kidsim_v1'\n",
    "    fMixerSimu = 1024\n",
    "    fResonance = 805\n",
    "    fMixerKids = 1024\n",
    "    fc = 800\n",
    "    df = 20\n",
    "\n",
    "else:\n",
    "    raise Exception(\"Do not know what to do with %s\"%board)\n",
    "    "
   ]
  },
  {
   "cell_type": "code",
   "execution_count": null,
   "id": "b88ee30d-9373-4937-8700-c2fdc06c623c",
   "metadata": {},
   "outputs": [],
   "source": [
    "scan = Scan.Scan(bitfile)"
   ]
  },
  {
   "cell_type": "code",
   "execution_count": null,
   "id": "f35eccf0-4b76-4fb6-a26c-3c629ea89fce",
   "metadata": {},
   "outputs": [],
   "source": [
    "# Confirm what we have available\n",
    "print(\"bitfile =\",bitfile)\n",
    "print(scan.soc)\n"
   ]
  },
  {
   "cell_type": "code",
   "execution_count": null,
   "id": "8f0d1b9c-26c9-4995-9697-29cf5348b932",
   "metadata": {},
   "outputs": [],
   "source": [
    "# Get the simulation chain.\n",
    "#simu = SimuChain(scan.soc, simu=scan.soc['simu'][0])\n",
    "simu = scan.simuChain\n",
    "\n",
    "# Set quantization.\n",
    "simu.analysis.qout(3)\n",
    "simu.synthesis.qout(3)\n",
    "\n",
    "# Set mixer.\n",
    "\n",
    "simu.set_mixer_frequency(fMixerSimu)\n",
    "\n",
    "# Disable all resonators.\n",
    "simu.alloff()\n",
    "\n",
    "\n",
    "# Enable one resonator \n",
    "print(\"fResonance = {} MHz\".format(fResonance))\n",
    "simu.enable(fResonance)\n"
   ]
  },
  {
   "cell_type": "code",
   "execution_count": null,
   "id": "4c21e6dd-5a29-4d08-8e00-acd0ed687484",
   "metadata": {},
   "outputs": [],
   "source": [
    "# Get the KIDS chain\n",
    "kids = scan.kidsChain\n",
    "kids.set_mixer_frequency(fMixerKids)\n"
   ]
  },
  {
   "cell_type": "code",
   "execution_count": null,
   "id": "6ec876ba-7385-4c41-a622-8e16ae52f9ad",
   "metadata": {},
   "outputs": [],
   "source": [
    "#######################\n",
    "### Frequency Sweep ###\n",
    "#######################\n",
    "kids.analysis.qout(2)\n",
    "kids.synthesis.qout(2)\n",
    "f,a,phi=kids.sweep(fc-df/2,fc+df/2,N=500,g=0.1)"
   ]
  },
  {
   "cell_type": "code",
   "execution_count": null,
   "id": "a74b7706-6b35-4106-b174-9aa6bec4c163",
   "metadata": {},
   "outputs": [],
   "source": [
    "plt.figure(dpi=150)\n",
    "plt.plot(f,20*np.log10(a/max(a)))\n",
    "plt.xlabel(\"Frequency [MHz]\");\n",
    "plt.ylabel(\"Amplitude [dB]\");\n",
    "\n",
    "plt.figure(dpi=150)\n",
    "plt.plot(f,phi)\n",
    "plt.xlabel(\"Frequency [MHz]\");\n",
    "plt.ylabel(\"Phase [rad]\");"
   ]
  },
  {
   "cell_type": "code",
   "execution_count": null,
   "id": "ff4becbd",
   "metadata": {},
   "outputs": [],
   "source": []
  }
 ],
 "metadata": {
  "kernelspec": {
   "display_name": "Python 3 (ipykernel)",
   "language": "python",
   "name": "python3"
  },
  "language_info": {
   "codemirror_mode": {
    "name": "ipython",
    "version": 3
   },
   "file_extension": ".py",
   "mimetype": "text/x-python",
   "name": "python",
   "nbconvert_exporter": "python",
   "pygments_lexer": "ipython3",
   "version": "3.10.4"
  }
 },
 "nbformat": 4,
 "nbformat_minor": 5
}
