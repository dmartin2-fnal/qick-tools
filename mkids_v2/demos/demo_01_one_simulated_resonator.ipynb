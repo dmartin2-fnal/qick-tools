{
 "cells": [
  {
   "cell_type": "markdown",
   "id": "5f31664f-9e8a-45a9-8ec7-80441c48cfc9",
   "metadata": {},
   "source": [
    "Demonstrate a frequency scan of a simulated resonance.\n",
    "\n",
    "This follows the steps in ../zcu216/mkids_2x2_kidsim_v2.ipynb, but should work in general on all platforms.\n",
    "The parameter \"bitfile\" is set to select the firmware used, and it should work with all available firmwares.\n",
    "Note that the previous demo_00_init.ipynb show how to find available firmwares on the platform.\n",
    "\n",
    "\n",
    "For this notebook, we use the \"Dual 0\" chain for mkids software.  It uses these connections:\n",
    "* DAC output on DAC Tile = 2, DAC Ch = 0, which is the connector 0_230, on JHC3\n",
    "* ADC input on ADC Tile = 2, ADC Ch = 0, which is the connector 0_226, on JHC7\n",
    "\n",
    "We use the \"Sim 0\" chain to simulate the resonance.  It uses these connections:\n",
    "* DAC output on DAC Tile = 3, DAC Ch = 0, which is the connector 0_231, on JHC3\n",
    "* ADC input on ADC Tile = 3, ADC Ch = 0, which is the connector 0_227, on JHC7\n",
    "\n",
    "These are connected through the low-frequency Baluns.\n"
   ]
  },
  {
   "cell_type": "code",
   "execution_count": null,
   "id": "9a280114-aff8-46b8-a3a0-5d701ddcc987",
   "metadata": {},
   "outputs": [],
   "source": [
    "import sys\n",
    "sys.path.append('../qick/qick_lib/')\n",
    "sys.path.append('../soft/')\n",
    "import Scan\n",
    "from mkids import *\n",
    "import matplotlib.pyplot as plt\n"
   ]
  },
  {
   "cell_type": "code",
   "execution_count": null,
   "id": "b88ee30d-9373-4937-8700-c2fdc06c623c",
   "metadata": {},
   "outputs": [],
   "source": [
    "# After running demo_00_init.ipynb we decide which bitfile we'd like to use\n",
    "bitfile = \"mkids_2x2_kidsim_v2\"\n",
    "scan = Scan.Scan(bitfile)"
   ]
  },
  {
   "cell_type": "code",
   "execution_count": null,
   "id": "f35eccf0-4b76-4fb6-a26c-3c629ea89fce",
   "metadata": {},
   "outputs": [],
   "source": [
    "# Confirm what we have available\n",
    "print(scan.soc)\n"
   ]
  },
  {
   "cell_type": "code",
   "execution_count": null,
   "id": "4c21e6dd-5a29-4d08-8e00-acd0ed687484",
   "metadata": {},
   "outputs": [],
   "source": [
    "# Build processing chain\n",
    "chain = KidsChain(scan.soc, dual=scan.soc['dual'][0])\n",
    "\n"
   ]
  },
  {
   "cell_type": "code",
   "execution_count": null,
   "id": "8f0d1b9c-26c9-4995-9697-29cf5348b932",
   "metadata": {},
   "outputs": [],
   "source": [
    "# Build simulation chain.\n",
    "simu = SimuChain(scan.soc, simu=scan.soc['simu'][0])\n",
    "\n",
    "# Set quantization.\n",
    "simu.analysis.qout(3)\n",
    "simu.synthesis.qout(3)\n",
    "\n",
    "# Disable all resonators.\n",
    "simu.alloff()\n",
    "\n",
    "# Channel separation.\n",
    "fc = simu.analysis.fc_ch\n",
    "\n",
    "# Set mixer.\n",
    "fMixerSimu = 300\n",
    "simu.set_mixer_frequency(fMixerSimu)\n",
    "\n",
    "# Pue one resonator \n",
    "fr0 = fMixerSimu + 10*fc\n",
    "print(\"fr0 = {} MHz\".format(fr0))\n",
    "\n",
    "simu.enable(fr0+0.1)\n"
   ]
  },
  {
   "cell_type": "code",
   "execution_count": null,
   "id": "df576f83-aecc-4602-8d2d-31b5ffcdcdd2",
   "metadata": {},
   "outputs": [],
   "source": [
    "#######################\n",
    "### Frequency Sweep ###\n",
    "#######################\n",
    "chain.analysis.qout(2)\n",
    "chain.synthesis.qout(2)\n",
    "fc = 324\n",
    "df = 20\n",
    "f,a,phi=chain.sweep(fc-df/2,fc+df/2,N=500,g=0.1)\n",
    "\n",
    "plt.figure(dpi=150)\n",
    "plt.plot(f,20*np.log10(a/max(a)))\n",
    "plt.xlabel(\"Frequency [MHz]\");\n",
    "plt.ylabel(\"Amplitude [dB]\");\n",
    "\n",
    "plt.figure(dpi=150)\n",
    "plt.plot(f,phi)\n",
    "plt.xlabel(\"Frequency [MHz]\");\n",
    "plt.ylabel(\"Phase [rad]\");"
   ]
  },
  {
   "cell_type": "code",
   "execution_count": null,
   "id": "af0fff0a-ffaa-49c6-bcf0-591e47237e04",
   "metadata": {},
   "outputs": [],
   "source": []
  }
 ],
 "metadata": {
  "kernelspec": {
   "display_name": "Python 3 (ipykernel)",
   "language": "python",
   "name": "python3"
  },
  "language_info": {
   "codemirror_mode": {
    "name": "ipython",
    "version": 3
   },
   "file_extension": ".py",
   "mimetype": "text/x-python",
   "name": "python",
   "nbconvert_exporter": "python",
   "pygments_lexer": "ipython3",
   "version": "3.10.4"
  }
 },
 "nbformat": 4,
 "nbformat_minor": 5
}
