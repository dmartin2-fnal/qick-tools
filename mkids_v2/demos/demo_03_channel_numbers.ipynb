{
 "cells": [
  {
   "cell_type": "markdown",
   "id": "1bf9d403-c96e-4969-b22c-9d312abf63ab",
   "metadata": {},
   "source": [
    "Convert between frequency and channel number for PFB input and output"
   ]
  },
  {
   "cell_type": "code",
   "execution_count": null,
   "id": "a69fd1b4-7946-4d5d-8a70-38e1158fb77f",
   "metadata": {},
   "outputs": [],
   "source": [
    "import sys\n",
    "sys.path.append('../../qick/qick_lib/')\n",
    "sys.path.append('../soft/')\n",
    "import Scan\n",
    "from mkids import *\n",
    "import matplotlib.pyplot as plt\n",
    "import numpy as np"
   ]
  },
  {
   "cell_type": "code",
   "execution_count": null,
   "id": "c875a999-a33e-478a-8fd2-e1da7f1a0285",
   "metadata": {},
   "outputs": [],
   "source": [
    "bitfile = \"mkids_2x2_kidsim_v2\"\n",
    "scan = Scan.Scan(bitfile, iKids=1, iSimu=0)\n"
   ]
  },
  {
   "cell_type": "code",
   "execution_count": null,
   "id": "b2bff139-4651-4187-83a9-0433ca865235",
   "metadata": {},
   "outputs": [],
   "source": [
    "scan.set_mixer(50)"
   ]
  },
  {
   "cell_type": "code",
   "execution_count": null,
   "id": "55356bf8-c345-4dee-89f3-6a74711eb067",
   "metadata": {},
   "outputs": [],
   "source": [
    "\n",
    "outFreq = 143.4\n",
    "scan.kidsChain.synthesis.freq2ch(outFreq)"
   ]
  },
  {
   "cell_type": "code",
   "execution_count": null,
   "id": "57acc59b-6b7a-4f1f-b31e-5f63f87efb08",
   "metadata": {},
   "outputs": [],
   "source": [
    "ch = scan.outFreq2ch(outFreq) \n",
    "print(\"ch =\",ch,type(ch))\n",
    "f = scan.outCh2Freq(ch)\n",
    "print(\" f =\",f)"
   ]
  },
  {
   "cell_type": "code",
   "execution_count": null,
   "id": "53aa0259-0a77-4291-966f-02ea1b5fe4ac",
   "metadata": {},
   "outputs": [],
   "source": [
    "f0 = 100\n",
    "f1 = 133\n",
    "fMixer = 12\n",
    "inFreqs = np.linspace(f0,f1)\n",
    "inChs = scan.inFreq2ch(inFreqs)\n",
    "plt.plot(inFreqs, inChs, \"o\", label=\"from freq->ch\")\n",
    "inChs2 = np.arange(inChs.min(),inChs.max()+1)\n",
    "print(inChs2)\n",
    "inFreqs2 = scan.inCh2Freq(inChs2)\n",
    "plt.plot(inFreqs2, inChs2, \"rx\", label=\"from ch->freq\")\n",
    "plt.xlabel(\"frequency (MHz)\")\n",
    "plt.ylabel(\"input channel\")\n",
    "plt.title(\"fMixer = %.1f MHz\"%scan.get_mixer())\n",
    "plt.legend()"
   ]
  },
  {
   "cell_type": "code",
   "execution_count": null,
   "id": "3e0e19c5-3e4a-4312-866d-138a782be74c",
   "metadata": {},
   "outputs": [],
   "source": [
    "f0 = 100\n",
    "f1 = 133\n",
    "fMixer = 12\n",
    "outFreqs = np.linspace(f0,f1)\n",
    "outChs = scan.inFreq2ch(inFreqs)\n",
    "plt.plot(inFreqs, inChs, \"o\", label=\"from freq->ch\")\n",
    "outChs2 = np.arange(outChs.min(),outChs.max()+1)\n",
    "print(outChs2)\n",
    "outFreqs2 = scan.outCh2Freq(inChs2)\n",
    "plt.plot(outFreqs2, outChs2, \"rx\", label=\"from ch->freq\")\n",
    "plt.xlabel(\"frequency (MHz)\")\n",
    "plt.ylabel(\"output channel\")\n",
    "plt.title(\"fMixer = %.1f MHz\"%scan.get_mixer())\n",
    "plt.legend()"
   ]
  },
  {
   "cell_type": "code",
   "execution_count": null,
   "id": "59a69a07-80d2-4fb0-821a-9efeea46bc5c",
   "metadata": {},
   "outputs": [],
   "source": [
    "scan.set_mixer(512)\n",
    "nchIn = scan.kidsChain.analysis.dict['chain']['nch']\n",
    "inChs = np.arange(nchIn)\n",
    "inFreqs = scan.inCh2Freq(inChs)\n",
    "plt.plot(inFreqs, inChs,'.')\n",
    "plt.xlabel(\"input frequency (MHz)\")\n",
    "plt.ylabel(\"input channel\")\n",
    "plt.title(\"fMixer = %.1f\"%scan.get_mixer())"
   ]
  },
  {
   "cell_type": "code",
   "execution_count": null,
   "id": "8ccda0cc-7770-4abe-9e91-4222e4febd73",
   "metadata": {},
   "outputs": [],
   "source": [
    "scan.set_mixer(512)\n",
    "nchOut = scan.kidsChain.synthesis.dict['chain']['nch']\n",
    "outChs = np.arange(nchOut)\n",
    "outFreqs = scan.inCh2Freq(outChs)\n",
    "plt.plot(outFreqs, outChs,'.')\n",
    "plt.xlabel(\"output frequency (MHz)\")\n",
    "plt.ylabel(\"output channel\")\n",
    "plt.title(\"fMixer = %.1f\"%scan.get_mixer())"
   ]
  },
  {
   "cell_type": "code",
   "execution_count": null,
   "id": "6bd8a544-a306-473c-9316-5466a7fa342f",
   "metadata": {},
   "outputs": [],
   "source": [
    "f0 = 300\n",
    "f1 = 400\n",
    "fMixer = 512\n",
    "inFreqs = np.linspace(f0,f1)\n",
    "inChs = scan.inFreq2ch(inFreqs)\n",
    "plt.plot(inFreqs, inChs, \"o\", label=\"from freq->ch\")\n",
    "inChs2 = np.arange(inChs.min(),inChs.max()+1)\n",
    "print(inChs2)\n",
    "inFreqs2 = scan.inCh2Freq(inChs2)\n",
    "plt.plot(inFreqs2, inChs2, \"rx\", label=\"from ch->freq\")\n",
    "plt.xlabel(\"input frequency (MHz)\")\n",
    "plt.ylabel(\"input channel\")\n",
    "plt.title(\"fMixer = %.1f MHz\"%scan.get_mixer())\n",
    "plt.legend()"
   ]
  },
  {
   "cell_type": "code",
   "execution_count": null,
   "id": "4bc172a1-dcab-4627-b665-cbf2d4d25e0e",
   "metadata": {},
   "outputs": [],
   "source": [
    "f0 = 300\n",
    "f1 = 400\n",
    "fMixer = 512\n",
    "outFreqs = np.linspace(f0,f1)\n",
    "outChs = scan.inFreq2ch(outFreqs)\n",
    "plt.plot(outFreqs, outChs, \"o\", label=\"from freq->ch\")\n",
    "outChs2 = np.arange(outChs.min(),outChs.max()+1)\n",
    "print(outChs2)\n",
    "outFreqs2 = scan.inCh2Freq(outChs2)\n",
    "plt.plot(outFreqs2, outChs2, \"rx\", label=\"from ch->freq\")\n",
    "plt.xlabel(\"output frequency (MHz)\")\n",
    "plt.ylabel(\"output channel\")\n",
    "plt.title(\"fMixer = %.1f MHz\"%scan.get_mixer())\n",
    "plt.legend()"
   ]
  }
 ],
 "metadata": {
  "kernelspec": {
   "display_name": "Python 3 (ipykernel)",
   "language": "python",
   "name": "python3"
  },
  "language_info": {
   "codemirror_mode": {
    "name": "ipython",
    "version": 3
   },
   "file_extension": ".py",
   "mimetype": "text/x-python",
   "name": "python",
   "nbconvert_exporter": "python",
   "pygments_lexer": "ipython3",
   "version": "3.10.4"
  }
 },
 "nbformat": 4,
 "nbformat_minor": 5
}
