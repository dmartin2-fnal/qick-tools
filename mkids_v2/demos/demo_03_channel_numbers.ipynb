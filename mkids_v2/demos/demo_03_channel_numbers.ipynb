{
 "cells": [
  {
   "cell_type": "markdown",
   "id": "1bf9d403-c96e-4969-b22c-9d312abf63ab",
   "metadata": {},
   "source": [
    "Convert between frequency and channel number for PFB input and output at different values of the mixer frequency.\n",
    "\n",
    "No actual tones are generated or read, so the connections do not matter for this demonstration."
   ]
  },
  {
   "cell_type": "code",
   "execution_count": null,
   "id": "a69fd1b4-7946-4d5d-8a70-38e1158fb77f",
   "metadata": {},
   "outputs": [],
   "source": [
    "import sys\n",
    "sys.path.append('../../../qick/qick_lib/')\n",
    "sys.path.append('../soft/')\n",
    "import Scan\n",
    "from mkids import *\n",
    "import matplotlib.pyplot as plt\n",
    "import numpy as np"
   ]
  },
  {
   "cell_type": "code",
   "execution_count": null,
   "id": "eaf6949a-0b6b-4b62-aae4-efbfe8203b34",
   "metadata": {},
   "outputs": [],
   "source": [
    "board = Scan.getBoard()\n",
    "if board == 'zcu111':\n",
    "    bitfile = 'mkids_2x2_kidsim_v1'    \n",
    "elif board == 'zcu216':\n",
    "    bitfile = 'mkids_2x2_kidsim_v2'\n",
    "elif board == 'rfsoc4x2':\n",
    "    bitfile = 'mkids_v3'\n",
    "else:\n",
    "    raise Exception(\"Do not know what to do with %s\"%board)\n",
    "scan = Scan.Scan(bitfile, iKids=0, iSimu=0)"
   ]
  },
  {
   "cell_type": "code",
   "execution_count": null,
   "id": "3462b41d-a169-4699-9d4d-97fa141c2e6e",
   "metadata": {},
   "outputs": [],
   "source": [
    "fMixers = np.array([512,1024])\n",
    "fToneOffset = 143.4"
   ]
  },
  {
   "cell_type": "code",
   "execution_count": null,
   "id": "53aa0259-0a77-4291-966f-02ea1b5fe4ac",
   "metadata": {},
   "outputs": [],
   "source": [
    "for iMixer in range(len(fMixers)):\n",
    "    scan.set_mixer(fMixers[iMixer])\n",
    "    f0 = fMixers[iMixer] - fToneOffset\n",
    "    f1 = fMixers[iMixer] + fToneOffset\n",
    "    inFreqs = np.linspace(f0,f1)\n",
    "    inChs = scan.inFreq2ch(inFreqs)\n",
    "    plt.plot(inFreqs, inChs, '.',  label=\"from freq->ch\", alpha=0.5)\n",
    "    inChs2 = np.arange(inChs.min(),inChs.max()+1)\n",
    "\n",
    "    inFreqs2 = scan.inCh2Freq(inChs2)\n",
    "    plt.plot(inFreqs2, inChs2, ',', label=\"from ch->freq\", alpha=0.5)\n",
    "    plt.xlabel(\"frequency (MHz)\")\n",
    "    plt.ylabel(\"input channel\")\n",
    "    plt.title(\"fMixer = %.1f MHz\"%scan.get_mixer())\n",
    "    plt.legend()\n",
    "    plt.show()"
   ]
  },
  {
   "cell_type": "code",
   "execution_count": null,
   "id": "3e0e19c5-3e4a-4312-866d-138a782be74c",
   "metadata": {},
   "outputs": [],
   "source": [
    "for iMixer in range(len(fMixers)):\n",
    "    scan.set_mixer(fMixers[iMixer])\n",
    "    f0 = fMixers[iMixer] - fToneOffset\n",
    "    f1 = fMixers[iMixer] + fToneOffset\n",
    "    outFreqs = np.linspace(f0,f1)\n",
    "    outChs = scan.outFreq2ch(outFreqs)\n",
    "    plt.plot(outFreqs, outChs, \".\", label=\"from freq->ch\")\n",
    "    outChs2 = np.arange(outChs.min(),outChs.max()+1)\n",
    "    outFreqs2 = scan.outCh2Freq(inChs2)\n",
    "    plt.plot(outFreqs2, outChs2, \",\", label=\"from ch->freq\")\n",
    "    plt.xlabel(\"frequency (MHz)\")\n",
    "    plt.ylabel(\"output channel\")\n",
    "    plt.title(\"fMixer = %.1f MHz\"%scan.get_mixer())\n",
    "    plt.legend()\n",
    "    plt.show()"
   ]
  },
  {
   "cell_type": "code",
   "execution_count": null,
   "id": "fac0eebc-4729-481c-aea8-f99b1d6e9556",
   "metadata": {},
   "outputs": [],
   "source": []
  }
 ],
 "metadata": {
  "kernelspec": {
   "display_name": "Python 3 (ipykernel)",
   "language": "python",
   "name": "python3"
  },
  "language_info": {
   "codemirror_mode": {
    "name": "ipython",
    "version": 3
   },
   "file_extension": ".py",
   "mimetype": "text/x-python",
   "name": "python",
   "nbconvert_exporter": "python",
   "pygments_lexer": "ipython3",
   "version": "3.10.4"
  }
 },
 "nbformat": 4,
 "nbformat_minor": 5
}
