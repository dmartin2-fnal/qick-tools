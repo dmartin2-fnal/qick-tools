{
 "cells": [
  {
   "cell_type": "markdown",
   "id": "d7bd7caa-408d-4541-a9af-443e16943259",
   "metadata": {},
   "source": [
    "Demonstrate delay correction in Scan\n",
    "\n",
    "For this notebook, we use the \"Dual 0\" chain for mkids software. I\n",
    "\n",
    "On the ZCU216 the bitfile mkids_2x2_kidsim_v2 uses these connections:\n",
    "\n",
    "DAC output on DAC Tile = 2, DAC Ch = 0, which is the connector 0_230, on JHC3\n",
    "ADC input on ADC Tile = 2, ADC Ch = 0, which is the connector 0_226, on JHC7\n",
    "We use the \"Sim 0\" chain to simulate the resonance. It uses these connections:\n",
    "\n",
    "DAC output on DAC Tile = 3, DAC Ch = 0, which is the connector 0_231, on JHC3\n",
    "ADC input on ADC Tile = 3, ADC Ch = 0, which is the connector 0_227, on JHC7\n",
    "These are connected through the low-frequency Baluns.\n",
    "\n",
    "connector 0_230, on JHC3 <--> connector 0_227, on JHC7\n",
    "\n",
    "connector 0_226, on JHC7 <--> connector 0_231, on JHC3"
   ]
  },
  {
   "cell_type": "code",
   "execution_count": null,
   "id": "92220db0-482b-45a9-9f78-5a451fe34ae1",
   "metadata": {},
   "outputs": [],
   "source": [
    "import sys\n",
    "sys.path.append('../../qick/qick_lib/')\n",
    "sys.path.append('../soft/')\n",
    "import Scan\n",
    "from mkids import *\n",
    "import matplotlib.pyplot as plt\n",
    "import resonanceFitter\n",
    "import time\n",
    "import importlib\n",
    "import datetime"
   ]
  },
  {
   "cell_type": "code",
   "execution_count": null,
   "id": "c766caee-9f29-4b43-95ee-7999dc387015",
   "metadata": {},
   "outputs": [],
   "source": [
    "# Use this bitfile.  \n",
    "bitfile = \"mkids_2x2_kidsim_v2\"\n",
    "\n",
    "# Set up the firmware to use the kids and simu chains described above\n",
    "iKids = 0\n",
    "iSimu = 0\n",
    "scan = Scan.Scan(bitfile, iKids=iKids, iSimu=iSimu)"
   ]
  },
  {
   "cell_type": "code",
   "execution_count": null,
   "id": "18168ccf-2391-43b8-88f2-70ba23571468",
   "metadata": {},
   "outputs": [],
   "source": [
    "# Print out properties of the firmware\n",
    "print(\"       Nyquist Frequency:  %.1f MHz\"%scan.fNyquist)\n",
    "print(\"      Number of channels:  nInCh=%d  nOutCh=%d\"%(scan.nInCh, scan.nOutCh))\n",
    "print(\"      Channel Separation:  %.1f MHz\"%scan.dfChannel)\n",
    "print(\"              decimation:  %d\"%scan.kidsChain.analysis.decimation)\n",
    "print(\"Sampling frequency fs_ch:  %.1f MHz\"%scan.kidsChain.analysis.fs_ch)\n"
   ]
  },
  {
   "cell_type": "code",
   "execution_count": null,
   "id": "82fa29e9-f8bd-4655-afa0-3f932f2cc3f5",
   "metadata": {},
   "outputs": [],
   "source": [
    "# Set the mixer to a convenient location, the center of the first Nyquist zone\n",
    "fMixer = scan.fNyquist/2\n",
    "scan.set_mixer(fMixer)"
   ]
  },
  {
   "cell_type": "code",
   "execution_count": null,
   "id": "8fd6dc54-f5be-4e04-8147-55a26c71918f",
   "metadata": {},
   "outputs": [],
   "source": [
    "# Place resonators\n",
    "\n",
    "# Get the simulation chain.\n",
    "simu = scan.simuChain\n",
    "\n",
    "# Set quantization.\n",
    "simu.analysis.qout(3)\n",
    "simu.synthesis.qout(3)\n",
    "\n",
    "# Disable all resonators.\n",
    "simu.alloff()\n",
    "\n",
    "fResonances = [543.21]\n",
    "for fResonance in fResonances:\n",
    "    print(\"fResonance = {} MHz\".format(fResonance))\n",
    "    simu.enable(fResonance)\n"
   ]
  },
  {
   "cell_type": "code",
   "execution_count": null,
   "id": "7fd3894f-944c-437e-9cef-58a09e928857",
   "metadata": {},
   "outputs": [],
   "source": [
    "# Place one tone in the center of each bin\n",
    "inChannelsAll = np.arange(scan.nInCh)\n",
    "fTones = np.sort(scan.outCh2Freq(inChannelsAll))[1:-1] # Skip the lowest and highest frequencies\n",
    "inChannels = scan.outFreq2ch(fTones)\n",
    "plt.plot(inChannels, fTones, 'o')\n",
    "plt.xlabel(\" number\")\n",
    "plt.ylabel(\"center frequency (MHz)\")"
   ]
  },
  {
   "cell_type": "code",
   "execution_count": null,
   "id": "271e2426-4a67-4508-b33f-b18b49fe12ef",
   "metadata": {},
   "outputs": [],
   "source": [
    "# Set phases of the input tones\n",
    "np.random.seed(123555)\n",
    "phases = 2*np.pi*np.random.uniform(size=len(fTones))\n",
    "gains = np.ones(len(fTones))/len(fTones)\n",
    "\n",
    "# Do not apply compensation gain\n",
    "cgs = None\n",
    "\n",
    "bandwidth = scan.dfChannel\n",
    "\n",
    "nf = 100\n",
    "\n",
    "# This sweeps all of the tones simultaneously and applies the nominal delay to phase\n",
    "sweptTones = scan.sweep_tones(fTones, phases, gains, cgs, bandwidth, nf)"
   ]
  },
  {
   "cell_type": "code",
   "execution_count": null,
   "id": "4ee3f85a-ea2a-4bd6-9542-d593488b9f0f",
   "metadata": {},
   "outputs": [],
   "source": [
    "\n",
    "f,x = Scan.sweptTonesToSpectrum(sweptTones, fTones, scan.kidsChain.scanFOffsets)"
   ]
  },
  {
   "cell_type": "code",
   "execution_count": null,
   "id": "3d62fdd8-5583-49c9-a579-2422774587ee",
   "metadata": {},
   "outputs": [],
   "source": [
    "plt.plot(f,np.abs(x))\n",
    "plt.xlabel(\"Frequency (MHz)\")\n",
    "plt.ylabel(\"Amplitude (ADUs\")"
   ]
  },
  {
   "cell_type": "code",
   "execution_count": null,
   "id": "d16be314-a40e-43f3-9444-d436029a0c71",
   "metadata": {},
   "outputs": [],
   "source": [
    "plt.plot(f,np.angle(x))\n",
    "plt.xlabel(\"Frequency (MHz)\")\n",
    "plt.ylabel(\"Phase (Rad)\")"
   ]
  },
  {
   "cell_type": "code",
   "execution_count": null,
   "id": "1120449e-f3b9-4a33-aaf8-9a4fd66c9c6b",
   "metadata": {},
   "outputs": [],
   "source": [
    "inds = (f>fResonances[0]-.5) & (f < fResonances[0]+.5)\n",
    "plt.plot(f[inds],np.abs(x[inds]), \".-\")\n",
    "plt.xlabel(\"Frequency (MHz)\")\n",
    "plt.ylabel(\"Phase (Rad)\")"
   ]
  },
  {
   "cell_type": "code",
   "execution_count": null,
   "id": "571db17e-36f1-4c80-a4d3-bde5f6b8017b",
   "metadata": {},
   "outputs": [],
   "source": [
    "plt.plot(np.real(x[inds]),np.imag(x[inds]), '.-')"
   ]
  },
  {
   "cell_type": "code",
   "execution_count": null,
   "id": "a4951062-3de9-4dc8-8e6a-614bef6c9177",
   "metadata": {},
   "outputs": [],
   "source": [
    "importlib.reload(resonanceFitter)\n",
    "try:\n",
    "    rv = resonanceFitter.fitResonance(f[inds], x[inds])\n",
    "    resonanceFitter.fitResonancePlot(f[inds], x[inds], rv[0], 0)\n",
    "    resonanceFitter.fitResonancePlot(f[inds], x[inds], rv[0], 1)\n",
    "    f0 = rv[0][1] # This is the fit frequency\n",
    "    print(\"the fit worked with f0 =\",f0)\n",
    "except:\n",
    "    f0 = fResonances[0]\n",
    "    print(\"the fit did not work so use f0 =\",f0)"
   ]
  },
  {
   "cell_type": "code",
   "execution_count": null,
   "id": "4dad98d3-00e2-4623-9b38-4fb9785db186",
   "metadata": {},
   "outputs": [],
   "source": [
    "for v in rv[0]:\n",
    "    print(v)"
   ]
  },
  {
   "cell_type": "code",
   "execution_count": null,
   "id": "b685ca80-a7d0-4061-b376-d3e7e0dc2183",
   "metadata": {},
   "outputs": [],
   "source": []
  },
  {
   "cell_type": "markdown",
   "id": "950f8da6-2444-408a-be00-580652101d94",
   "metadata": {},
   "source": [
    "Set up to read phases continuously at three frequencies:  at resonance, and 10 MHz above and below"
   ]
  },
  {
   "cell_type": "code",
   "execution_count": null,
   "id": "f4ce9366-eb20-4c18-9c06-1d76935d4274",
   "metadata": {},
   "outputs": [],
   "source": [
    "\n",
    "fTones = np.array([f0-10, f0, f0+10])\n",
    "phases = 2*np.pi*np.random.uniform(size=len(fTones))\n",
    "gains = np.ones(len(fTones))/len(fTones)\n",
    "\n",
    "# Do not apply compensation gain\n",
    "cgs = None\n",
    "\n",
    "scan.kidsChain.set_tones(fTones, phases, gains, cgs)\n",
    "scan.kidsChain.enable_channels() # prepare the default, to readout all tones"
   ]
  },
  {
   "cell_type": "code",
   "execution_count": null,
   "id": "952acea1-547e-450d-bdcd-7d8585a8d6da",
   "metadata": {},
   "outputs": [],
   "source": [
    "\n",
    "# This does one read to flush the buffers, since the first few samples could be stale\n",
    "_ = scan.kidsChain.get_xs(mean=False)\n",
    "\n",
    "# Now get actual data\n",
    "xs = scan.kidsChain.get_xs(mean=False)\n"
   ]
  },
  {
   "cell_type": "code",
   "execution_count": null,
   "id": "e6104e98-4a9c-4b78-bba2-2768c75b541d",
   "metadata": {},
   "outputs": [],
   "source": [
    "# Print out the number of samples for each tone.  \n",
    "# Note that we do not necessarily get the same number of samples for each tone,\n",
    "# but in this example, since the tones are in nearby bins, we usually get the same.\n",
    "\n",
    "for iTone, x in enumerate(xs):\n",
    "    print(iTone, len(x))"
   ]
  },
  {
   "cell_type": "code",
   "execution_count": null,
   "id": "ef28dab5-f697-4b7b-b58c-41bf8210444b",
   "metadata": {},
   "outputs": [],
   "source": [
    "print(\"        fs\",scan.kidsChain.analysis.fs)\n",
    "print(\"     fc_ch\",scan.kidsChain.analysis.fc_ch)\n",
    "print(\"decimation\",scan.kidsChain.analysis.decimation)\n",
    "print(\"     fs_ch\",scan.kidsChain.analysis.fs_ch)\n"
   ]
  },
  {
   "cell_type": "code",
   "execution_count": null,
   "id": "ed14dca6-3d9a-419d-8ef0-014491f3ebd3",
   "metadata": {},
   "outputs": [],
   "source": [
    "# fs_ch is the sampling frequency.  I takes into account the decimation\n",
    "times = np.arange(len(xs[1]))/scan.kidsChain.analysis.fs_ch\n",
    "plt.plot(times, np.angle(xs[1]),',')\n",
    "plt.xlabel(\"Time ($\\mu$sec)\")\n",
    "plt.ylabel(\"phase (Rad)\")"
   ]
  },
  {
   "cell_type": "code",
   "execution_count": null,
   "id": "977a22e6-4b08-48c4-b564-4178435f4959",
   "metadata": {},
   "outputs": [],
   "source": [
    "# Double the decimation, effective sampling rate is reduced, duration twice as long\n",
    "# Can't go faster than decimation=2 for the ZCU216\n",
    "scan.kidsChain.set_decimation(4)\n",
    "# after changing a setting read one buffer\n",
    "_ = scan.kidsChain.get_xs(mean=False)\n",
    "\n",
    "times = np.arange(len(xs[1]))/scan.kidsChain.analysis.fs_ch\n",
    "\n",
    "# Read again data\n",
    "xs = scan.kidsChain.get_xs(mean=False)\n",
    "plt.plot(times, np.angle(xs[1]),',')\n",
    "plt.xlabel(\"Time ($\\mu$sec)\")\n",
    "plt.ylabel(\"phase (Rad)\")"
   ]
  },
  {
   "cell_type": "code",
   "execution_count": null,
   "id": "7daebff7-e720-4a9b-a4c8-28bbf353842e",
   "metadata": {},
   "outputs": [],
   "source": [
    "nRead = 100\n",
    "means = np.zeros(nRead)\n",
    "seconds = np.zeros(nRead)\n",
    "n0 = datetime.datetime.now()\n",
    "for iRead in range(nRead):\n",
    "    xs = scan.kidsChain.get_xs(mean=True)\n",
    "    means[iRead] = np.angle(xs[1])\n",
    "    n1 = datetime.datetime.now()\n",
    "    seconds[iRead] = (n1-n0).total_seconds()\n",
    "seconds -= seconds[0]\n",
    "plt.plot(seconds,means, '.')\n",
    "plt.xlabel(\"time (seconds)\")\n",
    "plt.ylabel(\"phase on resonance [Rad]\")"
   ]
  },
  {
   "cell_type": "code",
   "execution_count": null,
   "id": "5a434f17-77bb-433d-9b1e-26fe18b6d7ae",
   "metadata": {},
   "outputs": [],
   "source": [
    "import datetime\n",
    "n0 = datetime.datetime.now()\n",
    "time.sleep(1)\n",
    "n1 = datetime.datetime.now()"
   ]
  },
  {
   "cell_type": "code",
   "execution_count": null,
   "id": "dca54887-d33a-4f8e-8421-3a8d64d18a2c",
   "metadata": {},
   "outputs": [],
   "source": [
    "d = n1-n0"
   ]
  },
  {
   "cell_type": "code",
   "execution_count": null,
   "id": "08c1b91f-edd3-4011-b6f5-96938b027e05",
   "metadata": {},
   "outputs": [],
   "source": [
    "d.total_seconds()"
   ]
  }
 ],
 "metadata": {
  "kernelspec": {
   "display_name": "Python 3 (ipykernel)",
   "language": "python",
   "name": "python3"
  },
  "language_info": {
   "codemirror_mode": {
    "name": "ipython",
    "version": 3
   },
   "file_extension": ".py",
   "mimetype": "text/x-python",
   "name": "python",
   "nbconvert_exporter": "python",
   "pygments_lexer": "ipython3",
   "version": "3.10.4"
  }
 },
 "nbformat": 4,
 "nbformat_minor": 5
}
