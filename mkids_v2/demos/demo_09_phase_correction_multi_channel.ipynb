{
 "cells": [
  {
   "cell_type": "code",
   "execution_count": null,
   "id": "92b0c0b3-3b2d-4f8e-9059-e7c6871fbcd7",
   "metadata": {},
   "outputs": [],
   "source": [
    "import sys\n",
    "sys.path.append('../../qick/qick_lib/')\n",
    "sys.path.append('../soft/')\n",
    "import Scan\n",
    "from mkids import *\n",
    "import matplotlib.pyplot as plt\n"
   ]
  },
  {
   "cell_type": "code",
   "execution_count": null,
   "id": "9e6ee9ba-6d7b-405d-8289-26711c140a3d",
   "metadata": {},
   "outputs": [],
   "source": [
    "board = Scan.getBoard()\n",
    "if board == 'zcu111':\n",
    "    bitfile = 'mkids_2x2_kidsim_v1'    \n",
    "elif board == 'zcu216':\n",
    "    bitfile = 'mkids_2x2_kidsim_v2'\n",
    "elif board == 'rfsoc4x2':\n",
    "    bitfile = 'mkids_v3'\n",
    "else:\n",
    "    raise Exception(\"Do not know what to do with %s\"%board)\n",
    "\n",
    "iKids = 0\n",
    "iSimu = 0\n",
    "scan = Scan.Scan(bitfile, iKids=iKids, iSimu=iSimu)"
   ]
  },
  {
   "cell_type": "code",
   "execution_count": null,
   "id": "51cfd069-46d4-4580-bd9d-1ad2925f1842",
   "metadata": {},
   "outputs": [],
   "source": [
    "# Set the mixers so the channel is in the middle of the first nyquist zone.\n",
    "# Note that the Scan object has the field \"fNyquist\" which will be set correctly for each board and firmware.\n",
    "fMixerSimu = 512\n",
    "fMixerKids = scan.fNyquist/2\n",
    "print(\"fNyquist = \",scan.fNyquist)"
   ]
  },
  {
   "cell_type": "code",
   "execution_count": null,
   "id": "caf7ff94-2597-4592-b7d1-feab4df67984",
   "metadata": {},
   "outputs": [],
   "source": [
    "# Initialize simulation chain with no resonance\n",
    "simu = scan.simuChain\n",
    "simu.analysis.qout(3)\n",
    "simu.synthesis.qout(3)\n",
    "simu.alloff()\n",
    "simu.set_mixer_frequency(fMixerSimu)\n"
   ]
  },
  {
   "cell_type": "code",
   "execution_count": null,
   "id": "c5cca80a-829e-40cc-88b8-1d11bca18226",
   "metadata": {},
   "outputs": [],
   "source": [
    "# Initialize the kids chain\n",
    "kids = scan.kidsChain\n",
    "# These values for qout work reasonably for loopback.  \n",
    "kids.analysis.qout(2)\n",
    "kids.synthesis.qout(2)\n",
    "kids.set_mixer_frequency(fMixerKids)"
   ]
  },
  {
   "cell_type": "code",
   "execution_count": null,
   "id": "1b6a6765-0263-48dd-afb5-ae66dc97b8df",
   "metadata": {},
   "outputs": [],
   "source": [
    "outCh = [30]\n",
    "fTones = np.array(scan.outCh2Freq(outCh))\n",
    "fis = np.random.default_rng().uniform(0, 2*np.pi, 1000)\n",
    "gs = 0.9*np.ones(len(fTones))/len(fTones)\n",
    "cgs = None\n",
    "bandwidth = 0.3 #scan.dfChannel\n",
    "nf = 50\n",
    "xs = scan.sweep_tones(fTones, fis, gs, cgs, bandwidth, nf, doApplyDelay=True)"
   ]
  },
  {
   "cell_type": "code",
   "execution_count": null,
   "id": "777e8389-f3a9-4d4b-8f3f-0023a3d97aed",
   "metadata": {},
   "outputs": [],
   "source": [
    "f,x = Scan.sweptTonesToSpectrum(xs, fTones, scan.kidsChain.scanFOffsets)"
   ]
  },
  {
   "cell_type": "code",
   "execution_count": null,
   "id": "381f3d2f-d7ce-4e4e-8bb8-3b1e4963044a",
   "metadata": {},
   "outputs": [],
   "source": [
    "plt.plot(f,np.angle(x), '.-')"
   ]
  },
  {
   "cell_type": "code",
   "execution_count": null,
   "id": "50e93afb-18ee-4776-a4dc-44eab79db394",
   "metadata": {},
   "outputs": [],
   "source": [
    "plt.plot(f,np.abs(x), '.-')"
   ]
  },
  {
   "cell_type": "code",
   "execution_count": null,
   "id": "6a39bf2c-bb5b-402c-a8ed-f79a8af00d7a",
   "metadata": {},
   "outputs": [],
   "source": [
    "def getDelayForOutCh(outCh, df=None, N=50, doProgress=False, plotFit=False, fMixer=700):\n",
    "    scan.set_mixer(fMixer)\n",
    "    kids = scan.kidsChain\n",
    "    qFMixer = scan.get_mixer()\n",
    "    pfbFs = kids.synthesis.dict['chain']['fs']\n",
    "    fMinimum = qFMixer-pfbFs/2\n",
    "    fMaximum = qFMixer+pfbFs/2\n",
    "\n",
    "    fTone = scan.outCh2Freq(outCh)\n",
    "    if df is None:\n",
    "        df = kids.synthesis.fc_ch\n",
    "    fMin = np.maximum(fMinimum, fTone-df/2)\n",
    "    fMax = np.minimum(fMaximum, fTone+df/2)\n",
    "    df = fMax-fMin\n",
    "    fc = (fMin+fMax)/2\n",
    "    freqs = np.array([fc])\n",
    "    fis = np.zeros(1)\n",
    "    gs = 0.9*np.ones(1)\n",
    "    kids.set_tones(freqs, fis, gs)\n",
    "    fOffsets = kids.get_sweep_offsets(df, N)\n",
    "    xs = kids.sweep_tones(df, N, mean=True, doProgress=doProgress)\n",
    "    delay,phi0 = measureDelay(fOffsets, xs[:,0], plotFit=plotFit) \n",
    "    return delay,xs,fOffsets,fTone,phi0"
   ]
  },
  {
   "cell_type": "code",
   "execution_count": null,
   "id": "6f73c8bd-d640-4e0e-bb0a-89c45ebb0185",
   "metadata": {},
   "outputs": [],
   "source": [
    "delay,xs,fOffsets,fTone,phi0 = getDelayForOutCh(28, df=0.3, N=50, doProgress=True, plotFit=True, fMixer=fMixerKids)\n",
    "print(\"fTone =\",fTone)\n",
    "delay28 = delay"
   ]
  },
  {
   "cell_type": "code",
   "execution_count": null,
   "id": "e2183516-47d5-47fb-94b0-df63b450d78f",
   "metadata": {},
   "outputs": [],
   "source": [
    "scan.nominalDelay"
   ]
  },
  {
   "cell_type": "code",
   "execution_count": null,
   "id": "98508711-a489-4f9c-bc77-05ed66592fc9",
   "metadata": {},
   "outputs": [],
   "source": [
    "scan.get_mixer()"
   ]
  },
  {
   "cell_type": "code",
   "execution_count": null,
   "id": "97bb9fe7-deb8-4044-833b-d69c215f9aa7",
   "metadata": {},
   "outputs": [],
   "source": [
    "iCh = 28\n",
    "outCh = [iCh]\n",
    "fTones = np.array(scan.outCh2Freq(outCh))\n",
    "fis = np.random.default_rng().uniform(0, 2*np.pi, 1000)\n",
    "gs = 0.9*np.ones(len(fTones))/len(fTones)\n",
    "cgs = None\n",
    "bandwidth = scan.dfChannel\n",
    "nf = 50\n",
    "xs28 = scan.sweep_tones(fTones, fis, gs, cgs, bandwidth, nf, doApplyDelay=False)"
   ]
  },
  {
   "cell_type": "code",
   "execution_count": null,
   "id": "a5e6692c-09cb-4b38-9ffd-f670be914aa8",
   "metadata": {},
   "outputs": [],
   "source": [
    "xs28c = applyDelay(fTones, scan.kidsChain.scanFOffsets, xs28, delay28)\n",
    "f28c,x28c = Scan.sweptTonesToSpectrum(xs28c, fTones, scan.kidsChain.scanFOffsets)\n",
    "xs28n = applyDelay(fTones, scan.kidsChain.scanFOffsets, xs28, scan.nominalDelay)\n",
    "f28n,x28n = Scan.sweptTonesToSpectrum(xs28n, fTones, scan.kidsChain.scanFOffsets)\n",
    "#plt.plot(f28c, np.angle(x28c), '.-', label=\"best delay\")\n",
    "plt.plot(f28n, np.angle(x28n), '.-', label=\"nominal delay\")\n",
    "plt.ylabel(\"Phase [Rad]\")\n",
    "plt.legend()\n",
    "plt.title(\"iCh = %d\"%iCh)"
   ]
  },
  {
   "cell_type": "code",
   "execution_count": null,
   "id": "5dd25987-d315-47e4-86b9-2b09efb818d2",
   "metadata": {},
   "outputs": [],
   "source": [
    "iCh = 29\n",
    "outCh = [iCh]\n",
    "fTones = np.array(scan.outCh2Freq(outCh))\n",
    "fis = np.random.default_rng().uniform(0, 2*np.pi, 1000)\n",
    "gs = 0.9*np.ones(len(fTones))/len(fTones)\n",
    "cgs = None\n",
    "bandwidth = scan.dfChannel\n",
    "nf = 50\n",
    "xs = scan.sweep_tones(fTones, fis, gs, cgs, bandwidth, nf, doApplyDelay=True)\n",
    "f,x = Scan.sweptTonesToSpectrum(xs, fTones, scan.kidsChain.scanFOffsets)\n",
    "plt.plot(f,np.angle(x), '.-')\n",
    "plt.ylabel(\"Phase [Rad]\")\n",
    "plt.title(\"iCh = %d\"%iCh)"
   ]
  },
  {
   "cell_type": "code",
   "execution_count": null,
   "id": "677cbd0b-e5a9-42b2-be24-93f18002f60d",
   "metadata": {},
   "outputs": [],
   "source": [
    "iCh = 30\n",
    "outCh = [iCh]\n",
    "fTones = np.array(scan.outCh2Freq(outCh))\n",
    "fis = np.random.default_rng().uniform(0, 2*np.pi, 1000)\n",
    "gs = 0.9*np.ones(len(fTones))/len(fTones)\n",
    "cgs = None\n",
    "bandwidth = scan.dfChannel\n",
    "nf = 50\n",
    "xs = scan.sweep_tones(fTones, fis, gs, cgs, bandwidth, nf, doApplyDelay=True)\n",
    "f,x = Scan.sweptTonesToSpectrum(xs, fTones, scan.kidsChain.scanFOffsets)\n",
    "plt.plot(f,np.angle(x), '.-')\n",
    "plt.ylabel(\"Phase [Rad]\")\n",
    "plt.title(\"iCh = %d\"%iCh)"
   ]
  },
  {
   "cell_type": "code",
   "execution_count": null,
   "id": "18b06234-00dd-4d00-b906-779441640a95",
   "metadata": {},
   "outputs": [],
   "source": [
    "outCh = [28, 29, 30]\n",
    "fTones = np.array(scan.outCh2Freq(outCh))\n",
    "fis = np.random.default_rng().uniform(0, 2*np.pi, 1000)\n",
    "gs = 0.9*np.ones(len(fTones))/len(fTones)\n",
    "cgs = None\n",
    "bandwidth = scan.dfChannel\n",
    "nf = 50\n",
    "xs = scan.sweep_tones(fTones, fis, gs, cgs, bandwidth, nf, doApplyDelay=True)\n",
    "f,x = Scan.sweptTonesToSpectrum(xs, fTones, scan.kidsChain.scanFOffsets)\n",
    "plt.plot(f,np.angle(x), '.-')\n",
    "plt.ylabel(\"Phase [Rad]\")\n",
    "plt.title(\"outCh = %s\"%str(outCh))"
   ]
  },
  {
   "cell_type": "code",
   "execution_count": null,
   "id": "59884ee7-ffdb-433b-99b1-3c09765c2690",
   "metadata": {},
   "outputs": [],
   "source": [
    "delay = 0.001\n",
    "xsc = Scan.applyDelay(fTones, scan.kidsChain.scanFOffsets, xs, delay)\n",
    "f,x = Scan.sweptTonesToSpectrum(xsc, fTones, scan.kidsChain.scanFOffsets)\n",
    "plt.plot(f,np.angle(x), '.-')\n",
    "dtheta = np.angle(x).max()-np.angle(x).min()\n",
    "plt.ylabel(\"Phase [Rad]\")\n",
    "plt.title(\"outCh = %s  delay = %f\"%(str(outCh), delay))\n",
    "print(dtheta)"
   ]
  },
  {
   "cell_type": "code",
   "execution_count": null,
   "id": "4ca87931-bc0b-4bde-8137-51b0a87db517",
   "metadata": {},
   "outputs": [],
   "source": [
    "outCh = [25, 26, 27, 28, 29, 30, 31]\n",
    "fTones = np.array(scan.outCh2Freq(outCh))\n",
    "fis = np.random.default_rng().uniform(0, 2*np.pi, 1000)\n",
    "gs = 0.9*np.ones(len(fTones))/len(fTones)\n",
    "cgs = None\n",
    "bandwidth = scan.dfChannel\n",
    "nf = 50\n",
    "xs = scan.sweep_tones(fTones, fis, gs, cgs, bandwidth, nf, doApplyDelay=True)\n",
    "f,x = Scan.sweptTonesToSpectrum(xs, fTones, scan.kidsChain.scanFOffsets)\n",
    "plt.plot(f,np.angle(x), '.-')\n",
    "plt.ylabel(\"Phase [Rad]\")\n",
    "plt.title(\"outCh = %s\"%str(outCh))"
   ]
  },
  {
   "cell_type": "code",
   "execution_count": null,
   "id": "888a2e66-7b3c-4e3f-be6a-d000d1110e79",
   "metadata": {},
   "outputs": [],
   "source": [
    "delay = 0.0005\n",
    "xsc = Scan.applyDelay(fTones, scan.kidsChain.scanFOffsets, xs, delay)\n",
    "f,x = Scan.sweptTonesToSpectrum(xsc, fTones, scan.kidsChain.scanFOffsets)\n",
    "plt.plot(f,np.angle(x), ',-')\n",
    "dtheta = np.angle(x).max()-np.angle(x).min()\n",
    "plt.ylabel(\"Phase [Rad]\")\n",
    "plt.title(\"outCh = %s  extraDelay = %f\"%(str(outCh), delay))\n",
    "plt.xlabel(\"frequency [MHz]  fMixer=%f\"%scan.get_mixer())\n",
    "for ch in outCh:\n",
    "    f = scan.outCh2Freq(ch) + scan.dfChannel/2\n",
    "    plt.axvline(f, c='r', alpha=0.3)"
   ]
  }
 ],
 "metadata": {
  "kernelspec": {
   "display_name": "Python 3 (ipykernel)",
   "language": "python",
   "name": "python3"
  },
  "language_info": {
   "codemirror_mode": {
    "name": "ipython",
    "version": 3
   },
   "file_extension": ".py",
   "mimetype": "text/x-python",
   "name": "python",
   "nbconvert_exporter": "python",
   "pygments_lexer": "ipython3",
   "version": "3.10.4"
  }
 },
 "nbformat": 4,
 "nbformat_minor": 5
}
