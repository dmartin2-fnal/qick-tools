{
 "cells": [
  {
   "cell_type": "markdown",
   "id": "cc7160fd-1024-46d9-9945-a3b13029a2d3",
   "metadata": {},
   "source": [
    "Demonstrate generation of multiple tones"
   ]
  },
  {
   "cell_type": "code",
   "execution_count": 1,
   "id": "5656d574-3bfd-4acf-9f00-812fe6ce17e3",
   "metadata": {},
   "outputs": [],
   "source": [
    "import sys\n",
    "sys.path.append('../../qick/qick_lib/')\n",
    "sys.path.append('../soft/')\n",
    "import Scan\n",
    "from mkids import *\n",
    "import matplotlib.pyplot as plt\n"
   ]
  },
  {
   "cell_type": "code",
   "execution_count": 2,
   "id": "79112c1f-06c9-434b-91f2-f06b85183636",
   "metadata": {},
   "outputs": [
    {
     "data": {
      "application/javascript": [
       "\n",
       "try {\n",
       "require(['notebook/js/codecell'], function(codecell) {\n",
       "  codecell.CodeCell.options_default.highlight_modes[\n",
       "      'magic_text/x-csrc'] = {'reg':[/^%%microblaze/]};\n",
       "  Jupyter.notebook.events.one('kernel_ready.Kernel', function(){\n",
       "      Jupyter.notebook.get_cells().map(function(cell){\n",
       "          if (cell.cell_type == 'code'){ cell.auto_highlight(); } }) ;\n",
       "  });\n",
       "});\n",
       "} catch (e) {};\n"
      ]
     },
     "metadata": {},
     "output_type": "display_data"
    },
    {
     "data": {
      "application/javascript": [
       "\n",
       "try {\n",
       "require(['notebook/js/codecell'], function(codecell) {\n",
       "  codecell.CodeCell.options_default.highlight_modes[\n",
       "      'magic_text/x-csrc'] = {'reg':[/^%%pybind11/]};\n",
       "  Jupyter.notebook.events.one('kernel_ready.Kernel', function(){\n",
       "      Jupyter.notebook.get_cells().map(function(cell){\n",
       "          if (cell.cell_type == 'code'){ cell.auto_highlight(); } }) ;\n",
       "  });\n",
       "});\n",
       "} catch (e) {};\n"
      ]
     },
     "metadata": {},
     "output_type": "display_data"
    }
   ],
   "source": [
    "# After running demo_00_init.ipynb we decide which bitfile we'd like to use\n",
    "bitfile = \"mkids_2x2_kidsim_v2\"\n",
    "scan = Scan.Scan(bitfile)"
   ]
  },
  {
   "cell_type": "code",
   "execution_count": 3,
   "id": "4686fae6-3cad-42ca-81e4-f02e438403b8",
   "metadata": {},
   "outputs": [],
   "source": [
    "# Initialize simulation chain\n",
    "simu = scan.simuChain\n",
    "simu.analysis.qout(3)\n",
    "simu.synthesis.qout(3)\n",
    "simu.alloff()\n",
    "\n",
    "# Get the kids chain\n",
    "chain = scan.kidsChain\n",
    "\n",
    "# Set the mixer of the analysis and synthesis chains to be the same\n",
    "fMixer = 324\n",
    "fMixerQ = chain.fq(fMixer)\n",
    "_ = scan.set_mixer(fMixerQ)"
   ]
  },
  {
   "cell_type": "code",
   "execution_count": 4,
   "id": "0332deac-cd8f-40da-9ffc-6c437c1ac244",
   "metadata": {},
   "outputs": [],
   "source": [
    "pfb = getattr(chain.soc, chain.synthesis.dict['chain']['pfb'])\n",
    "N= pfb.dict['N']\n",
    "chsel = getattr(chain.soc, chain.analysis.dict['chain']['chsel'])\n"
   ]
  },
  {
   "cell_type": "code",
   "execution_count": 5,
   "id": "232cd78a-a2a3-48eb-a8c1-b3e9d525bbda",
   "metadata": {},
   "outputs": [
    {
     "data": {
      "text/plain": [
       "<matplotlib.legend.Legend at 0xffff8dfcd630>"
      ]
     },
     "execution_count": 5,
     "metadata": {},
     "output_type": "execute_result"
    },
    {
     "data": {
      "image/png": "[encoded data removed]",
      "text/plain": [
       "<Figure size 432x288 with 1 Axes>"
      ]
     },
     "metadata": {
      "needs_background": "light"
     },
     "output_type": "display_data"
    }
   ],
   "source": [
    "ntrans = np.zeros(N)\n",
    "idxs = np.zeros(N)\n",
    "for ch in range(N):\n",
    "    ntrans[ch],bit = chsel.ch2tran(ch)\n",
    "    idxs[ch] = chsel.ch2idx(ch)\n",
    "plt.plot(ntrans,'+',label=\"ntrans\")\n",
    "plt.plot(idxs,'x',label='idxs')\n",
    "plt.xlabel(\"Input Channel Number\")\n",
    "plt.ylabel(\"Value\")\n",
    "plt.title(bitfile)\n",
    "plt.legend()"
   ]
  },
  {
   "cell_type": "code",
   "execution_count": 6,
   "id": "68ecda7c-5366-48b0-9ba0-c6f4097ffde4",
   "metadata": {},
   "outputs": [
    {
     "name": "stdout",
     "output_type": "stream",
     "text": [
      "[0.225 0.45 ]\n",
      "mkids.py set_tones:  fOffset, fiDeg, g, cg, ch, comp= 2.3399999991059417 0.0 0.225 0.0 0 False\n",
      "dds.py  AxisDdsDualV1 ddscfg:  f, fi, g, ch, comp= 2339999.9991059415 0.0 0.225 0 False\n",
      "mkids.py set_tones:  fOffset, fiDeg, g, cg, ch, comp= -0.3999999985098839 7.047380880109126 0.45 0.0 63 False\n",
      "dds.py  AxisDdsDualV1 ddscfg:  f, fi, g, ch, comp= -399999.9985098839 7.047380880109126 0.45 63 False\n"
     ]
    }
   ],
   "source": [
    "fTone = 314\n",
    "decimation = 2\n",
    "g = 0.9\n",
    "\n",
    "qout = 2\n",
    "chain.analysis.qout(qout)\n",
    "chain.synthesis.qout(qout)\n",
    "freqs = np.array([fTone+12.34, fTone])\n",
    "fis = 0.123*np.arange(len(freqs))\n",
    "gs = g*np.ones(len(freqs))/len(freqs)\n",
    "gs[0] /= 2\n",
    "cgs = None\n",
    "print(gs)\n",
    "chain.set_tones(freqs,fis,gs,cgs, verbose=True)"
   ]
  },
  {
   "cell_type": "code",
   "execution_count": 7,
   "id": "84845e5a-98ab-4682-b2d4-1b3cc304ca12",
   "metadata": {},
   "outputs": [
    {
     "name": "stdout",
     "output_type": "stream",
     "text": [
      " ch = 0\n",
      "axis_chsel_pfb_v3_0: channel = 0\n",
      "axis_chsel_pfb_v3_0: ch = 0, ntran = 0, bit = 0\n",
      "axis_chsel_pfb_v3_0: Original Mask: 0, Updated Mask: 1\n",
      " ch = 63\n",
      "axis_chsel_pfb_v3_0: channel = 63\n",
      "axis_chsel_pfb_v3_0: ch = 63, ntran = 7, bit = 7\n",
      "axis_chsel_pfb_v3_0: Original Mask: 1, Updated Mask: 129\n"
     ]
    }
   ],
   "source": [
    "def enableChannels(self, verbose):\n",
    "    chsel = getattr(self.soc, self.analysis.dict['chain']['chsel'])\n",
    "    chsel.alloff()\n",
    "    for ch in self.chs:\n",
    "        print(\" ch =\",ch)\n",
    "        chsel.set(ch, single=False, verbose=verbose)\n",
    "enableChannels(chain, verbose=True)"
   ]
  },
  {
   "cell_type": "code",
   "execution_count": 8,
   "id": "2671fca6-b69b-42a5-8d10-26883b244b5c",
   "metadata": {},
   "outputs": [],
   "source": [
    "xs = chain.get_xs() # The first read might have \"old\" data in the first few samples\n",
    "xs = chain.get_xs()"
   ]
  },
  {
   "cell_type": "code",
   "execution_count": 9,
   "id": "3bde5bff-b8c5-4b8f-9673-64e64fd8eb13",
   "metadata": {},
   "outputs": [
    {
     "data": {
      "text/plain": [
       "<matplotlib.legend.Legend at 0xffff8fd12ce0>"
      ]
     },
     "execution_count": 9,
     "metadata": {},
     "output_type": "execute_result"
    },
    {
     "data": {
      "image/png": "[encoded data removed]",
      "text/plain": [
       "<Figure size 432x288 with 1 Axes>"
      ]
     },
     "metadata": {
      "needs_background": "light"
     },
     "output_type": "display_data"
    }
   ],
   "source": [
    "phi0 = np.angle(xs[0])\n",
    "phi1 = np.angle(xs[1])\n",
    "plt.plot(phi0, label=\"Tone 0\")\n",
    "plt.plot(phi1, label=\"Tone 1\")\n",
    "plt.xlabel(\"sample number\")\n",
    "plt.ylabel(\"phase (Radians)\")\n",
    "plt.legend()"
   ]
  },
  {
   "cell_type": "code",
   "execution_count": 10,
   "id": "20649ec1-0299-48f3-8fe4-b35a4f71e3d3",
   "metadata": {},
   "outputs": [
    {
     "data": {
      "text/plain": [
       "<matplotlib.legend.Legend at 0xffff8fd53c40>"
      ]
     },
     "execution_count": 10,
     "metadata": {},
     "output_type": "execute_result"
    },
    {
     "data": {
      "image/png": "[encoded data removed]",
      "text/plain": [
       "<Figure size 432x288 with 1 Axes>"
      ]
     },
     "metadata": {
      "needs_background": "light"
     },
     "output_type": "display_data"
    }
   ],
   "source": [
    "amp0 = np.abs(xs[0])\n",
    "amp1 = np.abs(xs[1])\n",
    "plt.plot(amp0, label=\"Tone 0\")\n",
    "plt.plot(amp1, label=\"Tone 1\")\n",
    "plt.xlabel(\"sample number\")\n",
    "plt.ylabel(\"amplitude\")\n",
    "plt.legend()"
   ]
  },
  {
   "cell_type": "code",
   "execution_count": null,
   "id": "026a313e-2d81-41df-83ae-83d30f16c95c",
   "metadata": {},
   "outputs": [],
   "source": []
  },
  {
   "cell_type": "code",
   "execution_count": null,
   "id": "fc821d8d-5136-4a04-8a02-2f9d05378bbe",
   "metadata": {},
   "outputs": [],
   "source": []
  }
 ],
 "metadata": {
  "kernelspec": {
   "display_name": "Python 3 (ipykernel)",
   "language": "python",
   "name": "python3"
  },
  "language_info": {
   "codemirror_mode": {
    "name": "ipython",
    "version": 3
   },
   "file_extension": ".py",
   "mimetype": "text/x-python",
   "name": "python",
   "nbconvert_exporter": "python",
   "pygments_lexer": "ipython3",
   "version": "3.10.4"
  }
 },
 "nbformat": 4,
 "nbformat_minor": 5
}
