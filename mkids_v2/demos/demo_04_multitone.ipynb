{
 "cells": [
  {
   "cell_type": "markdown",
   "id": "cc7160fd-1024-46d9-9945-a3b13029a2d3",
   "metadata": {},
   "source": [
    "Demonstrate generation of multiple tones"
   ]
  },
  {
   "cell_type": "code",
   "execution_count": null,
   "id": "5656d574-3bfd-4acf-9f00-812fe6ce17e3",
   "metadata": {},
   "outputs": [],
   "source": [
    "import sys\n",
    "sys.path.append('../../qick/qick_lib/')\n",
    "sys.path.append('../soft/')\n",
    "import Scan\n",
    "from mkids import *\n",
    "import matplotlib.pyplot as plt\n"
   ]
  },
  {
   "cell_type": "code",
   "execution_count": null,
   "id": "79112c1f-06c9-434b-91f2-f06b85183636",
   "metadata": {},
   "outputs": [],
   "source": [
    "# After running demo_00_init.ipynb we decide which bitfile we'd like to use\n",
    "bitfile = \"mkids_2x2_kidsim_v2\"\n",
    "scan = Scan.Scan(bitfile)"
   ]
  },
  {
   "cell_type": "code",
   "execution_count": null,
   "id": "4686fae6-3cad-42ca-81e4-f02e438403b8",
   "metadata": {},
   "outputs": [],
   "source": [
    "# Initialize simulation chain\n",
    "simu = scan.simuChain\n",
    "simu.analysis.qout(3)\n",
    "simu.synthesis.qout(3)\n",
    "simu.alloff()\n",
    "\n",
    "# Get the kids chain\n",
    "chain = scan.kidsChain\n",
    "\n",
    "# Set the mixer of the analysis and synthesis chains to be the same\n",
    "fMixer = 324\n",
    "fMixerQ = chain.fq(fMixer)\n",
    "_ = scan.set_mixer(fMixerQ)"
   ]
  },
  {
   "cell_type": "code",
   "execution_count": null,
   "id": "0332deac-cd8f-40da-9ffc-6c437c1ac244",
   "metadata": {},
   "outputs": [],
   "source": [
    "pfb = getattr(chain.soc, chain.synthesis.dict['chain']['pfb'])\n",
    "N= pfb.dict['N']\n",
    "chsel = getattr(chain.soc, chain.analysis.dict['chain']['chsel'])\n"
   ]
  },
  {
   "cell_type": "code",
   "execution_count": null,
   "id": "232cd78a-a2a3-48eb-a8c1-b3e9d525bbda",
   "metadata": {},
   "outputs": [],
   "source": [
    "ntrans = np.zeros(N)\n",
    "idxs = np.zeros(N)\n",
    "for ch in range(N):\n",
    "    ntrans[ch],bit = chsel.ch2tran(ch)\n",
    "    idxs[ch] = chsel.ch2idx(ch)\n",
    "plt.plot(ntrans,'+',label=\"ntrans\")\n",
    "plt.plot(idxs,'x',label='idxs')\n",
    "plt.xlabel(\"Input Channel Number\")\n",
    "plt.ylabel(\"Value\")\n",
    "plt.title(bitfile)\n",
    "plt.legend()"
   ]
  },
  {
   "cell_type": "code",
   "execution_count": null,
   "id": "68ecda7c-5366-48b0-9ba0-c6f4097ffde4",
   "metadata": {},
   "outputs": [],
   "source": [
    "fTone = 314\n",
    "decimation = 2\n",
    "g = 0.9\n",
    "\n",
    "qout = 2\n",
    "chain.analysis.qout(qout)\n",
    "chain.synthesis.qout(qout)\n",
    "freqs = np.array([fTone+12.34, fTone])\n",
    "fis = 0.123*np.arange(len(freqs))\n",
    "gs = g*np.ones(len(freqs))/len(freqs)\n",
    "gs[0] /= 2\n",
    "cgs = None\n",
    "print(gs)\n",
    "chain.set_tones(freqs,fis,gs,cgs, verbose=True)"
   ]
  },
  {
   "cell_type": "code",
   "execution_count": null,
   "id": "84845e5a-98ab-4682-b2d4-1b3cc304ca12",
   "metadata": {},
   "outputs": [],
   "source": [
    "chain.enable_channels(verbose=True)"
   ]
  },
  {
   "cell_type": "code",
   "execution_count": null,
   "id": "2671fca6-b69b-42a5-8d10-26883b244b5c",
   "metadata": {},
   "outputs": [],
   "source": [
    "xs = chain.get_xs() # The first read might have \"old\" data in the first few samples\n",
    "xs = chain.get_xs()"
   ]
  },
  {
   "cell_type": "code",
   "execution_count": null,
   "id": "3bde5bff-b8c5-4b8f-9673-64e64fd8eb13",
   "metadata": {},
   "outputs": [],
   "source": [
    "phi0 = np.angle(xs[0])\n",
    "phi1 = np.angle(xs[1])\n",
    "plt.plot(phi0, label=\"Tone 0\")\n",
    "plt.plot(phi1, label=\"Tone 1\")\n",
    "plt.xlabel(\"sample number\")\n",
    "plt.ylabel(\"phase (Radians)\")\n",
    "plt.legend()"
   ]
  },
  {
   "cell_type": "code",
   "execution_count": null,
   "id": "20649ec1-0299-48f3-8fe4-b35a4f71e3d3",
   "metadata": {},
   "outputs": [],
   "source": [
    "amp0 = np.abs(xs[0])\n",
    "amp1 = np.abs(xs[1])\n",
    "plt.plot(amp0, label=\"Tone 0\")\n",
    "plt.plot(amp1, label=\"Tone 1\")\n",
    "plt.xlabel(\"sample number\")\n",
    "plt.ylabel(\"amplitude\")\n",
    "plt.legend()"
   ]
  },
  {
   "cell_type": "code",
   "execution_count": null,
   "id": "026a313e-2d81-41df-83ae-83d30f16c95c",
   "metadata": {},
   "outputs": [],
   "source": []
  },
  {
   "cell_type": "code",
   "execution_count": null,
   "id": "fc821d8d-5136-4a04-8a02-2f9d05378bbe",
   "metadata": {},
   "outputs": [],
   "source": []
  }
 ],
 "metadata": {
  "kernelspec": {
   "display_name": "Python 3 (ipykernel)",
   "language": "python",
   "name": "python3"
  },
  "language_info": {
   "codemirror_mode": {
    "name": "ipython",
    "version": 3
   },
   "file_extension": ".py",
   "mimetype": "text/x-python",
   "name": "python",
   "nbconvert_exporter": "python",
   "pygments_lexer": "ipython3",
   "version": "3.10.4"
  }
 },
 "nbformat": 4,
 "nbformat_minor": 5
}
