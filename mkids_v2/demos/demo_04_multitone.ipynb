{
 "cells": [
  {
   "cell_type": "markdown",
   "id": "cc7160fd-1024-46d9-9945-a3b13029a2d3",
   "metadata": {},
   "source": [
    "Demonstrate generation and readback of multiple tones.  Use connections as described in demo_01_one_simulated_resonator.ipynb"
   ]
  },
  {
   "cell_type": "code",
   "execution_count": null,
   "id": "5656d574-3bfd-4acf-9f00-812fe6ce17e3",
   "metadata": {},
   "outputs": [],
   "source": [
    "import sys\n",
    "sys.path.append('../../../qick/qick_lib/')\n",
    "sys.path.append('../soft/')\n",
    "import Scan\n",
    "from mkids import *\n",
    "import matplotlib.pyplot as plt\n"
   ]
  },
  {
   "cell_type": "code",
   "execution_count": null,
   "id": "79112c1f-06c9-434b-91f2-f06b85183636",
   "metadata": {},
   "outputs": [],
   "source": [
    "board = Scan.getBoard()\n",
    "if board == 'zcu111':\n",
    "    bitfile = 'mkids_2x2_kidsim_v1'    \n",
    "elif board == 'zcu216':\n",
    "    bitfile = 'mkids_2x2_kidsim_v2'\n",
    "elif board == 'rfsoc4x2':\n",
    "    bitfile = 'mkids_v3'\n",
    "\n",
    "else:\n",
    "    raise Exception(\"Do not know what to do with %s\"%board)\n",
    "scan = Scan.Scan(bitfile, iKids=0, iSimu=0)"
   ]
  },
  {
   "cell_type": "code",
   "execution_count": null,
   "id": "e657fc64-d070-4655-9807-57e490fbc351",
   "metadata": {},
   "outputs": [],
   "source": [
    "fMixer = 512\n",
    "fTone = 814\n",
    "decimation = 2\n",
    "g = 0.9\n"
   ]
  },
  {
   "cell_type": "code",
   "execution_count": null,
   "id": "4686fae6-3cad-42ca-81e4-f02e438403b8",
   "metadata": {},
   "outputs": [],
   "source": [
    "# Initialize simulation chain\n",
    "simu = scan.simuChain\n",
    "simu.analysis.qout(3)\n",
    "simu.synthesis.qout(3)\n",
    "simu.alloff()\n",
    "\n",
    "# Get the kids chain\n",
    "kids = scan.kidsChain\n",
    "\n",
    "# Set the mixer of the analysis and synthesis chains to be the same\n",
    "\n",
    "fMixerQ = kids.fq(fMixer)\n",
    "_ = scan.set_mixer(fMixerQ)"
   ]
  },
  {
   "cell_type": "code",
   "execution_count": null,
   "id": "0332deac-cd8f-40da-9ffc-6c437c1ac244",
   "metadata": {},
   "outputs": [],
   "source": [
    "pfb = getattr(kids.soc, kids.synthesis.dict['chain']['pfb'])\n",
    "N = pfb.dict['N']\n",
    "chsel = getattr(kids.soc, kids.analysis.dict['chain']['chsel'])\n"
   ]
  },
  {
   "cell_type": "code",
   "execution_count": null,
   "id": "232cd78a-a2a3-48eb-a8c1-b3e9d525bbda",
   "metadata": {},
   "outputs": [],
   "source": [
    "ntrans = np.zeros(N)\n",
    "idxs = np.zeros(N)\n",
    "for ch in range(N):\n",
    "    ntrans[ch], addr, bit = chsel.ch2tran(ch)\n",
    "    idxs[ch] = chsel.ch2idx(ch)\n",
    "plt.plot(ntrans,'+',label=\"ntrans\")\n",
    "plt.plot(idxs,'x',label='idxs')\n",
    "plt.xlabel(\"Input Channel Number\")\n",
    "plt.ylabel(\"Value\")\n",
    "plt.title(bitfile)\n",
    "plt.legend()\n",
    "plt.show()\n",
    "plt.plot(ntrans[:100],'+',label=\"ntrans\")\n",
    "plt.plot(idxs[:100],'x',label='idxs')\n",
    "plt.xlabel(\"Input Channel Number\")\n",
    "plt.ylabel(\"Value\")\n",
    "plt.legend()\n",
    "plt.title(bitfile)\n"
   ]
  },
  {
   "cell_type": "code",
   "execution_count": null,
   "id": "68ecda7c-5366-48b0-9ba0-c6f4097ffde4",
   "metadata": {},
   "outputs": [],
   "source": [
    "qout = 2\n",
    "kids.analysis.qout(qout)\n",
    "kids.synthesis.qout(qout)\n",
    "freqs = np.array([fTone+22.34, fTone])\n",
    "fis = 0.123*np.arange(len(freqs))\n",
    "gs = g*np.ones(len(freqs))/len(freqs)\n",
    "gs[0] /= 2\n",
    "cgs = None\n",
    "print(gs)\n",
    "kids.set_tones(freqs,fis,gs,cgs, verbose=True)"
   ]
  },
  {
   "cell_type": "code",
   "execution_count": null,
   "id": "8d6e6c0f-3508-48b8-bdad-6c362675966d",
   "metadata": {},
   "outputs": [],
   "source": [
    "print(\"here are the values of ntrans and idxs that will be read\")\n",
    "for i, (ntran,idx) in enumerate(zip(kids.ntrans,kids.idxs)):\n",
    "    print(\"iTone=%2d   ntrans=%3d    idxs=%2d\"%(i,ntran,idx))"
   ]
  },
  {
   "cell_type": "code",
   "execution_count": null,
   "id": "cb195211-2a3f-4883-8722-393718ec32e1",
   "metadata": {},
   "outputs": [],
   "source": [
    "# This is the analysis chain, useful if you want to see what is going on\n",
    "kids.analysis"
   ]
  },
  {
   "cell_type": "code",
   "execution_count": null,
   "id": "65576168-cc73-43a1-b892-f96acd73df89",
   "metadata": {},
   "outputs": [],
   "source": [
    "# This is the streamer\n",
    "streamer_b = getattr(scan.soc, kids.analysis.dict['chain']['streamer'])\n",
    "print(streamer_b)"
   ]
  },
  {
   "cell_type": "code",
   "execution_count": null,
   "id": "86e02e8b-de0d-4871-8238-b9c928794773",
   "metadata": {},
   "outputs": [],
   "source": [
    "# The drivers check that this is true to see if there is anything to read\n",
    "kids.analysis.anyenabled()"
   ]
  },
  {
   "cell_type": "code",
   "execution_count": null,
   "id": "270cb706-372e-4708-91f6-83bafcfe2d65",
   "metadata": {},
   "outputs": [],
   "source": [
    "# Note that MORE channels than requested show up here, because they are enabled in chunks of 8\n",
    "chsel = getattr(scan.soc, kids.analysis.dict['chain']['chsel'])\n",
    "print(type(chsel))\n",
    "print(\"Here are the enabled channels for chsel.enabled_channels:\", chsel.enabled_channels)\n"
   ]
  },
  {
   "cell_type": "code",
   "execution_count": null,
   "id": "b624cc06-978d-4472-88a7-3aba808ec739",
   "metadata": {},
   "outputs": [],
   "source": [
    "xs = kids.get_xs() # The first read might have \"old\" data in the first few samples\n"
   ]
  },
  {
   "cell_type": "code",
   "execution_count": null,
   "id": "d08a6511-e218-4054-8728-833792a594b5",
   "metadata": {},
   "outputs": [],
   "source": [
    "xs = kids.get_xs(verbose=True) # This data will be clean. verbose=2 shows progress\n",
    "print(\"Returned data in the list xs\")\n",
    "for i,x in enumerate(xs):\n",
    "    print(\"tone number %d has %d samples\"%(i, len(x)))"
   ]
  },
  {
   "cell_type": "code",
   "execution_count": null,
   "id": "3bde5bff-b8c5-4b8f-9673-64e64fd8eb13",
   "metadata": {},
   "outputs": [],
   "source": [
    "phi0 = np.angle(xs[0])\n",
    "phi1 = np.angle(xs[1])\n",
    "plt.plot(phi0, label=\"Tone 0\")\n",
    "plt.plot(phi1, label=\"Tone 1\")\n",
    "plt.xlabel(\"sample number\")\n",
    "plt.ylabel(\"phase (Radians)\")\n",
    "plt.legend()"
   ]
  },
  {
   "cell_type": "code",
   "execution_count": null,
   "id": "20649ec1-0299-48f3-8fe4-b35a4f71e3d3",
   "metadata": {},
   "outputs": [],
   "source": [
    "amp0 = np.abs(xs[0])\n",
    "amp1 = np.abs(xs[1])\n",
    "plt.plot(amp0, label=\"Tone 0\")\n",
    "plt.plot(amp1, label=\"Tone 1\")\n",
    "plt.xlabel(\"sample number\")\n",
    "plt.ylabel(\"amplitude\")\n",
    "plt.legend()"
   ]
  },
  {
   "cell_type": "code",
   "execution_count": null,
   "id": "9dd4df0f-e670-4d56-86a4-2703d6aec960",
   "metadata": {},
   "outputs": [],
   "source": []
  }
 ],
 "metadata": {
  "kernelspec": {
   "display_name": "Python 3 (ipykernel)",
   "language": "python",
   "name": "python3"
  },
  "language_info": {
   "codemirror_mode": {
    "name": "ipython",
    "version": 3
   },
   "file_extension": ".py",
   "mimetype": "text/x-python",
   "name": "python",
   "nbconvert_exporter": "python",
   "pygments_lexer": "ipython3",
   "version": "3.10.4"
  }
 },
 "nbformat": 4,
 "nbformat_minor": 5
}
