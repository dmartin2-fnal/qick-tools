{
 "cells": [
  {
   "cell_type": "markdown",
   "id": "cc7160fd-1024-46d9-9945-a3b13029a2d3",
   "metadata": {},
   "source": [
    "Demonstrate generation of multiple tones"
   ]
  },
  {
   "cell_type": "code",
   "execution_count": null,
   "id": "5656d574-3bfd-4acf-9f00-812fe6ce17e3",
   "metadata": {},
   "outputs": [],
   "source": [
    "import sys\n",
    "sys.path.append('../../qick/qick_lib/')\n",
    "sys.path.append('../soft/')\n",
    "import Scan\n",
    "from mkids import *\n",
    "import matplotlib.pyplot as plt\n"
   ]
  },
  {
   "cell_type": "code",
   "execution_count": null,
   "id": "79112c1f-06c9-434b-91f2-f06b85183636",
   "metadata": {},
   "outputs": [],
   "source": [
    "# After running demo_00_init.ipynb we decide which bitfile we'd like to use\n",
    "bitfile = \"mkids_2x2_kidsim_v2\"\n",
    "scan = Scan.Scan(bitfile)"
   ]
  },
  {
   "cell_type": "code",
   "execution_count": null,
   "id": "4686fae6-3cad-42ca-81e4-f02e438403b8",
   "metadata": {},
   "outputs": [],
   "source": [
    "# Initialize simulation chain\n",
    "simu = scan.simuChain\n",
    "simu.analysis.qout(3)\n",
    "simu.synthesis.qout(3)\n",
    "simu.alloff()\n",
    "\n",
    "# Get the kids chain\n",
    "chain = scan.kidsChain\n",
    "\n",
    "# Set the mixer of the analysis and synthesis chains to be the same\n",
    "fMixer = 324\n",
    "fMixerQ = chain.fq(fMixer)\n",
    "scan.set_mixer(fMixerQ)"
   ]
  },
  {
   "cell_type": "code",
   "execution_count": null,
   "id": "40e5fb67-84fe-4fe0-9da3-e0de30ed301b",
   "metadata": {},
   "outputs": [],
   "source": [
    "fTone = 314\n",
    "decimation = 2\n",
    "g = 0.9\n",
    "\n",
    "qout = 2\n",
    "chain.analysis.qout(qout)\n",
    "chain.synthesis.qout(qout)\n",
    "\n",
    "fToneQ = chain.fq(fTone)\n",
    "chain.analysis.set_decimation(decimation)\n",
    "chain.analysis.source(\"product\")\n",
    "chain.set_tone(f=fToneQ, g=g, verbose=True)\n",
    "[xi,xq] = chain.get_bin(fToneQ, verbose=True)"
   ]
  },
  {
   "cell_type": "code",
   "execution_count": null,
   "id": "ab552d4e-72f9-493a-a417-8bb9cd243031",
   "metadata": {},
   "outputs": [],
   "source": [
    "plt.plot(xi)\n",
    "plt.plot(xq)"
   ]
  },
  {
   "cell_type": "code",
   "execution_count": null,
   "id": "71687f4d-926e-4a8e-bcb3-04bf55a3a735",
   "metadata": {},
   "outputs": [],
   "source": [
    "np.degrees(np.pi)"
   ]
  },
  {
   "cell_type": "code",
   "execution_count": null,
   "id": "263fba08-dc29-4db1-93df-c5f770a93ec4",
   "metadata": {},
   "outputs": [],
   "source": [
    "chain.synthesis"
   ]
  },
  {
   "cell_type": "code",
   "execution_count": null,
   "id": "c964a65b-ddf0-4d27-be97-0054f230828a",
   "metadata": {},
   "outputs": [],
   "source": [
    "# Eventually we will call ddscfg(self, f=0, fi=0, g=0, cg=0, ch=0, comp=False)\n",
    "\n",
    "def set_tones_delete_this(self, freqs, fis, gs, cgs, comp=False, verbose=False):\n",
    "    self.qFreqs = self.fq(freqs)\n",
    "    self.fis = fis\n",
    "    fiDegs = np.degrees(self.fis)\n",
    "    self.gs = gs\n",
    "    self.cgs = cgs\n",
    "    pfb_b = getattr(self.soc, self.synthesis.dict['chain']['pfb'])\n",
    "    dds_b = getattr(self.soc, self.synthesis.dict['chain']['dds'])\n",
    "    fmix = self.synthesis.dict['mixer']['freq']\n",
    "    self.chs = pfb_b.freq2ch(self.qFreqs-fmix)\n",
    "    print(\"self.chs =\",self.chs)\n",
    "    #fs = self.dict['chain']['fs'] \n",
    "    self.fOffsets = self.qFreqs - fmix - pfb_b.ch2freq(self.chs)\n",
    "    dds_b.alloff()\n",
    "    for fOffset,fiDeg,g,cg,ch in zip(self.fOffsets, fiDegs, gs, cgs, self.chs):\n",
    "        dds_b.ddscfg(f=fOffset*1e6, fi=fiDeg, g=g, cg=cg, ch=ch, comp=comp)\n",
    "\n",
    "freqs = np.array([fTone])\n",
    "fis = np.zeros(len(freqs))\n",
    "gs = 0.9*np.ones(len(freqs))/len(freqs)\n",
    "cgs = None\n",
    "#set_tones(chain,freqs,fis,gs,cgs)\n",
    "chain.set_tones(freqs,fis,gs,cgs)"
   ]
  },
  {
   "cell_type": "code",
   "execution_count": null,
   "id": "8053edc9-e7df-4215-89a6-57ea798fb7c0",
   "metadata": {},
   "outputs": [],
   "source": []
  },
  {
   "cell_type": "code",
   "execution_count": null,
   "id": "69e6fa00-d183-4dcd-b63c-086c0a640720",
   "metadata": {},
   "outputs": [],
   "source": [
    "[xi,xq] = chain.get_bin(fToneQ, verbose=True)"
   ]
  },
  {
   "cell_type": "code",
   "execution_count": null,
   "id": "8156ed55-60c9-49c8-b6c3-aefd547c9cbb",
   "metadata": {},
   "outputs": [],
   "source": [
    "plt.plot(xi)\n",
    "plt.plot(xq)"
   ]
  },
  {
   "cell_type": "code",
   "execution_count": null,
   "id": "68ecda7c-5366-48b0-9ba0-c6f4097ffde4",
   "metadata": {},
   "outputs": [],
   "source": [
    "freqs = np.array([fTone+12.345, fTone])\n",
    "fis = np.zeros(len(freqs))\n",
    "gs = 0.9*np.ones(len(freqs))/len(freqs)\n",
    "cgs = None\n",
    "chain.set_tones(freqs,fis,gs,cgs)"
   ]
  },
  {
   "cell_type": "code",
   "execution_count": null,
   "id": "28db5ffa-b524-47a4-9df5-ce47ed1b70d9",
   "metadata": {},
   "outputs": [],
   "source": [
    "[xi,xq] = chain.get_bin(freqs[0], verbose=True)\n",
    "plt.plot(xi[100:])\n",
    "plt.plot(xq[100:])"
   ]
  },
  {
   "cell_type": "code",
   "execution_count": null,
   "id": "2b21c434-f836-4eb2-942c-194029bc67a4",
   "metadata": {},
   "outputs": [],
   "source": [
    "[xi,xq] = chain.get_bin(freqs[1], verbose=True)\n",
    "plt.plot(xi[100:])\n",
    "plt.plot(xq[100:])"
   ]
  },
  {
   "cell_type": "code",
   "execution_count": null,
   "id": "024c1db5-f384-4550-933d-684db5694e4d",
   "metadata": {},
   "outputs": [],
   "source": [
    "print(chain.qFreqs)"
   ]
  }
 ],
 "metadata": {
  "kernelspec": {
   "display_name": "Python 3 (ipykernel)",
   "language": "python",
   "name": "python3"
  },
  "language_info": {
   "codemirror_mode": {
    "name": "ipython",
    "version": 3
   },
   "file_extension": ".py",
   "mimetype": "text/x-python",
   "name": "python",
   "nbconvert_exporter": "python",
   "pygments_lexer": "ipython3",
   "version": "3.10.4"
  }
 },
 "nbformat": 4,
 "nbformat_minor": 5
}
