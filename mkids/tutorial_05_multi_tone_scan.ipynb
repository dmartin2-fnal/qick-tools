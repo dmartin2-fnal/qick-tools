{
 "cells": [
  {
   "cell_type": "markdown",
   "id": "6fb82238-d5e6-463c-b322-8ef0dd0ad569",
   "metadata": {},
   "source": [
    "Generate  tones in adjacent output channels.  Scan by the bandwidth of the output channel. This produces a \"continuous\" scan.\n",
    "\n",
    "With no calibration applied, the variation of amplitude and fast phase evolution with frequency is evident."
   ]
  },
  {
   "cell_type": "code",
   "execution_count": null,
   "id": "ab000e0a-d337-4546-a56a-618f2efb4cfe",
   "metadata": {},
   "outputs": [],
   "source": [
    "import importlib\n",
    "import Mkids\n",
    "import numpy as np\n",
    "import matplotlib.pyplot as plt\n",
    "from MkidsSoc import *\n",
    "mkidsSoc = MkidsSoc(force_init_clks=False)"
   ]
  },
  {
   "cell_type": "code",
   "execution_count": null,
   "id": "c5e0de44-445d-4916-b8c4-556221d651fe",
   "metadata": {},
   "outputs": [],
   "source": [
    "importlib.reload(Mkids)\n",
    "mkids = Mkids.Mkids(mkidsSoc)\n"
   ]
  },
  {
   "cell_type": "code",
   "execution_count": null,
   "id": "17b143b4-e267-466b-88ba-c8e382cfa75c",
   "metadata": {},
   "outputs": [],
   "source": [
    "# Place the mixer so the output frequencies are centered on range of input frequencies\n",
    "fMixer = mkids.fsIn/2\n",
    "mkids.setFMixer(fMixer)\n"
   ]
  },
  {
   "cell_type": "code",
   "execution_count": null,
   "id": "aacbf5eb-752e-4616-9531-47a4cbf4e31d",
   "metadata": {},
   "outputs": [],
   "source": [
    "# Choose a tone frequency.  Find its output channel.\n",
    "# Get three frequencies to center on three consecutive output channels.\n",
    "fTone = fMixer + mkids.fsOut/np.pi + 0.523\n",
    "outCh = mkids.outFreq2ch(fTone)\n",
    "outChs = np.array([outCh-1, outCh, outCh+1])\n",
    "print(\"outChs =\",outChs)\n",
    "toneFreqs = mkids.outCh2FreqCenter(outChs)\n",
    "toneAmplitudes = np.ones(len(toneFreqs))*0.9/len(toneFreqs)\n",
    "np.random.seed(12394321)\n",
    "toneFis = 2* np.pi * np.random.uniform(size=len(toneFreqs))\n",
    "\n",
    "bandwidth = mkids.fcOut\n",
    "nMeas = 50\n",
    "nt = 1\n",
    "#mkids.setMultiTones(toneFreqs, toneAmplitudes, toneFis, fMixer, verbose=True)\n",
    "mts = mkids.multiToneScan(toneFreqs, toneAmplitudes, toneFis, \n",
    "                    bandwidth, nMeas, fMixer, nt, verbose=False, doProgress=True)\n"
   ]
  },
  {
   "cell_type": "code",
   "execution_count": null,
   "id": "959caec0-c569-4b02-b555-ae445eda7b92",
   "metadata": {},
   "outputs": [],
   "source": [
    "print(toneFreqs)\n",
    "print(bandwidth)"
   ]
  },
  {
   "cell_type": "code",
   "execution_count": null,
   "id": "c3ef8790-12f9-434f-9aa2-b0f79c1c9ceb",
   "metadata": {},
   "outputs": [],
   "source": [
    "mkids.mtsPlot(mts, 0)"
   ]
  },
  {
   "cell_type": "code",
   "execution_count": null,
   "id": "8781c382-abe8-4e1c-88c4-a71818e29589",
   "metadata": {},
   "outputs": [],
   "source": [
    "freqs, amps, fis = mkids.mtsUnwind(mts)\n",
    "plt.plot(freqs,amps, \"-o\")"
   ]
  },
  {
   "cell_type": "code",
   "execution_count": null,
   "id": "d63c9989-078c-4ea8-b78f-b6eb2d88566a",
   "metadata": {},
   "outputs": [],
   "source": [
    "plt.plot(freqs,fis, \"-o\")"
   ]
  },
  {
   "cell_type": "code",
   "execution_count": null,
   "id": "edfcb2df-f88d-428e-aff9-558b62b6a023",
   "metadata": {},
   "outputs": [],
   "source": []
  }
 ],
 "metadata": {
  "kernelspec": {
   "display_name": "Python 3",
   "language": "python",
   "name": "python3"
  },
  "language_info": {
   "codemirror_mode": {
    "name": "ipython",
    "version": 3
   },
   "file_extension": ".py",
   "mimetype": "text/x-python",
   "name": "python",
   "nbconvert_exporter": "python",
   "pygments_lexer": "ipython3",
   "version": "3.8.2"
  }
 },
 "nbformat": 4,
 "nbformat_minor": 5
}
