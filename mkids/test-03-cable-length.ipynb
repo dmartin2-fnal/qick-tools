{
 "cells": [
  {
   "cell_type": "markdown",
   "id": "41ded41e-d25b-40b4-966e-9d94851dddf0",
   "metadata": {},
   "source": [
    "Demonstrate measuring the nominal delay between the input and output DDS blocks."
   ]
  },
  {
   "cell_type": "code",
   "execution_count": null,
   "id": "0396b8c1-223b-408b-9338-9b0ed2fe1d07",
   "metadata": {},
   "outputs": [],
   "source": [
    "import importlib\n",
    "from mkids import TopSoc\n",
    "import numpy as np\n",
    "import matplotlib.pyplot as plt\n",
    "from tqdm.notebook import trange\n",
    "import Scan\n",
    "import datetime\n",
    "soc = TopSoc()"
   ]
  },
  {
   "cell_type": "code",
   "execution_count": null,
   "id": "c7a78822-f64e-4f9d-8482-ebfdd7f4de90",
   "metadata": {},
   "outputs": [],
   "source": [
    "fMixer = soc.fsIn/2/2\n",
    "soc.set_mixer(fMixer)"
   ]
  },
  {
   "cell_type": "code",
   "execution_count": null,
   "id": "2ea27bb1-27f3-4027-b12e-01900ba3296b",
   "metadata": {},
   "outputs": [],
   "source": [
    "scan = Scan.Scan(soc)\n",
    "outCh = 123\n",
    "nf = 5\n",
    "nominalDelay = scan.measureNominalDelay(outCh, decimation=2, nf=nf, doPlot=True)\n"
   ]
  },
  {
   "cell_type": "code",
   "execution_count": null,
   "id": "abd6a1e4-3c2c-4a53-a880-6ceda5142b33",
   "metadata": {},
   "outputs": [],
   "source": [
    "Scan.fscanPlot(scan.mndScan,0)"
   ]
  },
  {
   "cell_type": "code",
   "execution_count": null,
   "id": "eaa67d46-f342-4771-8bc6-e6fe17bf6719",
   "metadata": {},
   "outputs": [],
   "source": [
    "Scan.applyDelay(scan.mndScan, nominalDelay)"
   ]
  },
  {
   "cell_type": "code",
   "execution_count": null,
   "id": "9047de97-dbe1-41e7-9adb-12ee94283193",
   "metadata": {},
   "outputs": [],
   "source": [
    "Scan.fscanPlot(scan.mndScan,0)"
   ]
  },
  {
   "cell_type": "code",
   "execution_count": null,
   "id": "ea73d5e3-a754-4b6e-ae19-b91cb2fde124",
   "metadata": {},
   "outputs": [],
   "source": [
    "plt.plot(1000*scan.dfs,scan.fis, \"-x\", label='fis')\n",
    "plt.plot(1000*scan.dfs,scan.ufis, \"-+\", label='ufis')\n",
    "plt.legend()\n",
    "plt.xlabel(\"delta frequency (kHz)\")\n",
    "plt.ylabel(\"fi (Radians)\")"
   ]
  },
  {
   "cell_type": "code",
   "execution_count": null,
   "id": "5e62b1d4-2ff5-4630-a221-4b71eea0653a",
   "metadata": {},
   "outputs": [],
   "source": [
    "nToDo = 100\n",
    "delays = np.zeros(nToDo)\n",
    "for i in trange(nToDo):\n",
    "    delays[i] = scan.measureNominalDelay(outCh, decimation=2, nf=5, doPlot=i==0)"
   ]
  },
  {
   "cell_type": "code",
   "execution_count": null,
   "id": "6c240acb-c3c2-4c42-8cd0-6555926c69fb",
   "metadata": {},
   "outputs": [],
   "source": [
    "plt.hist(delays)\n",
    "resolution = 1000*delays.std()/(2*np.pi)\n",
    "_ = plt.title(\"mean=%.2f   sigma=%.4f resolution=%.2f nSec\"%(delays.mean(),delays.std(), resolution))"
   ]
  },
  {
   "cell_type": "code",
   "execution_count": null,
   "id": "3dbb3518-810b-42b6-8960-8e85a1fc183c",
   "metadata": {},
   "outputs": [],
   "source": [
    "length = 4+34+34 # in nsec\n",
    "nominalDelay = scan.measureNominalDelay(outCh, decimation=2, nf=nf, doPlot=False)\n",
    "with open(\"junk.txt\",\"a\") as file:\n",
    "    file.write(\"%s %d %f\\n\"%(datetime.datetime.now(),length,nominalDelay))\n",
    "with open(\"junk.txt\",\"r\") as file:\n",
    "    lines = file.readlines()\n",
    "\n",
    "lengths = np.zeros(len(lines))\n",
    "delays = np.zeros(len(lines))\n",
    "for i,line in enumerate(lines):\n",
    "    lengths[i] = line.split()[2]\n",
    "    delays[i] = line.split()[3] \n",
    "plt.plot(lengths, delays, 'o')\n",
    "plt.plot(lengths[-1], delays[-1], 'ro')"
   ]
  },
  {
   "cell_type": "code",
   "execution_count": null,
   "id": "01017094-3e02-4683-b303-ef72db648845",
   "metadata": {},
   "outputs": [],
   "source": [
    "ulengths = np.sort(np.unique(lengths))\n",
    "print(ulengths)\n",
    "udelays = np.zeros(len(ulengths))\n",
    "for i,ulength in enumerate(ulengths):\n",
    "    udelays[i] = delays[lengths==ulength].mean()\n",
    "#plt.plot(ulengths, udelays, \"o\")\n",
    "dlengths = ulengths - ulengths[0]\n",
    "ddelays = udelays - udelays[0]\n",
    "#plt.plot(dlengths, ddelays, 'o')\n",
    "dusecs = 1000*ddelays/(2*np.pi)\n",
    "plt.plot(dlengths, dusecs, \"o\")\n",
    "plt.plot([0, ulengths[-1]],[0, -ulengths[-1]], 'r')\n",
    "plt.xlabel(\"cable length - minimum cable length (nSec)\")\n",
    "plt.ylabel(\"calculated delay (nSec)\")"
   ]
  },
  {
   "cell_type": "code",
   "execution_count": null,
   "id": "bdaacd89-ce62-4690-9736-7684f3dc5c52",
   "metadata": {},
   "outputs": [],
   "source": []
  }
 ],
 "metadata": {
  "kernelspec": {
   "display_name": "Python 3",
   "language": "python",
   "name": "python3"
  },
  "language_info": {
   "codemirror_mode": {
    "name": "ipython",
    "version": 3
   },
   "file_extension": ".py",
   "mimetype": "text/x-python",
   "name": "python",
   "nbconvert_exporter": "python",
   "pygments_lexer": "ipython3",
   "version": "3.8.2"
  }
 },
 "nbformat": 4,
 "nbformat_minor": 5
}
