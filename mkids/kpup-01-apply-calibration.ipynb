{
 "cells": [
  {
   "cell_type": "markdown",
   "id": "2bf9780f-fbb1-4686-afdf-c61a871bb9d9",
   "metadata": {},
   "source": [
    "Make a calibration file for the \"kpup_snspd\" project.\n",
    "\n",
    "Typical resonances are 2.695, 2.7235, 2.767, 2.796, 2.83"
   ]
  },
  {
   "cell_type": "code",
   "execution_count": 1,
   "id": "a72c78b5-73b5-444f-883b-9489d78e9706",
   "metadata": {},
   "outputs": [
    {
     "data": {
      "application/javascript": [
       "\n",
       "try {\n",
       "require(['notebook/js/codecell'], function(codecell) {\n",
       "  codecell.CodeCell.options_default.highlight_modes[\n",
       "      'magic_text/x-csrc'] = {'reg':[/^%%microblaze/]};\n",
       "  Jupyter.notebook.events.one('kernel_ready.Kernel', function(){\n",
       "      Jupyter.notebook.get_cells().map(function(cell){\n",
       "          if (cell.cell_type == 'code'){ cell.auto_highlight(); } }) ;\n",
       "  });\n",
       "});\n",
       "} catch (e) {};\n"
      ]
     },
     "metadata": {},
     "output_type": "display_data"
    },
    {
     "data": {
      "application/javascript": [
       "\n",
       "try {\n",
       "require(['notebook/js/codecell'], function(codecell) {\n",
       "  codecell.CodeCell.options_default.highlight_modes[\n",
       "      'magic_text/x-csrc'] = {'reg':[/^%%pybind11/]};\n",
       "  Jupyter.notebook.events.one('kernel_ready.Kernel', function(){\n",
       "      Jupyter.notebook.get_cells().map(function(cell){\n",
       "          if (cell.cell_type == 'code'){ cell.auto_highlight(); } }) ;\n",
       "  });\n",
       "});\n",
       "} catch (e) {};\n"
      ]
     },
     "metadata": {},
     "output_type": "display_data"
    }
   ],
   "source": [
    "import importlib\n",
    "from mkids import TopSoc\n",
    "import numpy as np\n",
    "import matplotlib.pyplot as plt\n",
    "import Scan\n",
    "import pickle\n",
    "import datetime"
   ]
  },
  {
   "cell_type": "code",
   "execution_count": 2,
   "id": "78aaf985-c05e-4ad8-bee7-fc9db612d657",
   "metadata": {},
   "outputs": [],
   "source": [
    "# This should take a few seconds.  If it seems to hang, interrupt\n",
    "# the kernel and run it again.  \n",
    "soc = TopSoc()"
   ]
  },
  {
   "cell_type": "code",
   "execution_count": 3,
   "id": "8ac465f2-fe8a-4124-aacd-2d54f99a1be8",
   "metadata": {},
   "outputs": [],
   "source": [
    "scan = Scan.Scan(soc)"
   ]
  },
  {
   "cell_type": "code",
   "execution_count": 4,
   "id": "81975dda-1392-4840-86e1-8596930ccc4d",
   "metadata": {},
   "outputs": [],
   "source": [
    "fTones = 1e3*np.array([2.695, 2.7235, 2.767, 2.796, 2.83])"
   ]
  },
  {
   "cell_type": "code",
   "execution_count": 5,
   "id": "3debf9ed-34c9-4568-a2cd-6d8a03d65192",
   "metadata": {},
   "outputs": [
    {
     "name": "stdout",
     "output_type": "stream",
     "text": [
      "calibration loaded\n",
      "fMin, fMax = 2692.0 2833.0\n"
     ]
    }
   ],
   "source": [
    "# Load a calibration file\n",
    "cfn = \"calibration-kpup-2023-03-24-14-14-10.pkl\"\n",
    "\n",
    "# Load the calibration written in tutorial_09_scan_calibration.ipynb\n",
    "with open(cfn, 'rb') as file:\n",
    "    calibration = pickle.load(file)\n",
    "\n",
    "print(\"calibration loaded\")\n",
    "print(\"fMin, fMax =\",calibration['fMin'], calibration['fMax'])"
   ]
  },
  {
   "cell_type": "code",
   "execution_count": 6,
   "id": "1ef14d5a-6f83-40b2-a888-b11e614b6cd0",
   "metadata": {},
   "outputs": [
    {
     "data": {
      "text/plain": [
       "2499.9999755859376"
      ]
     },
     "execution_count": 6,
     "metadata": {},
     "output_type": "execute_result"
    }
   ],
   "source": [
    "fMixer = calibration['fMixer']\n",
    "soc.set_mixer(fMixer)"
   ]
  },
  {
   "cell_type": "code",
   "execution_count": 7,
   "id": "feb5b4b0-afed-41c4-83f1-01f3181c5acc",
   "metadata": {},
   "outputs": [
    {
     "name": "stdout",
     "output_type": "stream",
     "text": [
      "fToneMid = 2762.3\n"
     ]
    }
   ],
   "source": [
    "f0 = fTones.min() - 3\n",
    "f1 = fTones.max() + 3\n",
    "fToneMid = fTones.mean()\n",
    "print(\"fToneMid =\",fToneMid)"
   ]
  },
  {
   "cell_type": "code",
   "execution_count": 8,
   "id": "b1c207fd-e701-420a-9760-673708e9397b",
   "metadata": {},
   "outputs": [
    {
     "data": {
      "application/vnd.jupyter.widget-view+json": {
       "model_id": "b5a8ba19ab854c29bd8020e2ad4372fd",
       "version_major": 2,
       "version_minor": 0
      },
      "text/plain": [
       "  0%|          | 0/50 [00:00<?, ?it/s]"
      ]
     },
     "metadata": {},
     "output_type": "display_data"
    }
   ],
   "source": [
    "toneFreqs = fTones[:]\n",
    "toneAmps = 0.9*np.ones(len(toneFreqs))/len(toneFreqs)\n",
    "np.random.seed(12399512)\n",
    "toneFis = np.random.uniform(0, 2*np.pi, size=len(toneFreqs))\n",
    "\n",
    "bandwidth = 0.4 # MHz\n",
    "nf = 50\n",
    "decimation = 2\n",
    "nt = 3\n",
    "doProgress = True\n",
    "\n",
    "scan = Scan.Scan(soc)\n",
    "toneFScan = scan.fscan(toneFreqs, toneAmps, toneFis, bandwidth, nf, decimation,nt, doProgress=doProgress)\n"
   ]
  },
  {
   "cell_type": "code",
   "execution_count": null,
   "id": "0e669b11-a9f1-4bee-a40a-111102a4d5c5",
   "metadata": {},
   "outputs": [],
   "source": []
  },
  {
   "cell_type": "code",
   "execution_count": 9,
   "id": "9e1abe89-2be0-4f4c-bc85-1cebca6dc6c3",
   "metadata": {},
   "outputs": [
    {
     "data": {
      "image/png": "[encoded data removed]",
      "text/plain": [
       "<Figure size 432x288 with 2 Axes>"
      ]
     },
     "metadata": {
      "needs_background": "light"
     },
     "output_type": "display_data"
    }
   ],
   "source": [
    "Scan.fscanPlot(toneFScan, 0)"
   ]
  },
  {
   "cell_type": "code",
   "execution_count": 14,
   "id": "5fa0dc62-e3c7-40f5-92d5-6496486837ad",
   "metadata": {},
   "outputs": [],
   "source": [
    "importlib.reload(Scan)\n",
    "scan = Scan.Scan(soc)\n",
    "cToneFScan = scan.applyCalibration(toneFScan, calibration)"
   ]
  },
  {
   "cell_type": "code",
   "execution_count": 15,
   "id": "ea3927df-03d1-4f41-b844-3551732eb60d",
   "metadata": {},
   "outputs": [
    {
     "data": {
      "image/png": "[encoded data removed]",
      "text/plain": [
       "<Figure size 432x288 with 2 Axes>"
      ]
     },
     "metadata": {
      "needs_background": "light"
     },
     "output_type": "display_data"
    }
   ],
   "source": [
    "Scan.fscanPlot(cToneFScan, 0, db=True, millirad=True)"
   ]
  },
  {
   "cell_type": "code",
   "execution_count": null,
   "id": "1cee3b39-43dd-402e-ae5d-b4933109d4d1",
   "metadata": {},
   "outputs": [],
   "source": [
    "Scan.plotCalibrationAndScan(fTones[0]-.5, fTones[0]+0.5, calibration, toneFScan)"
   ]
  }
 ],
 "metadata": {
  "kernelspec": {
   "display_name": "Python 3",
   "language": "python",
   "name": "python3"
  },
  "language_info": {
   "codemirror_mode": {
    "name": "ipython",
    "version": 3
   },
   "file_extension": ".py",
   "mimetype": "text/x-python",
   "name": "python",
   "nbconvert_exporter": "python",
   "pygments_lexer": "ipython3",
   "version": "3.8.2"
  }
 },
 "nbformat": 4,
 "nbformat_minor": 5
}
