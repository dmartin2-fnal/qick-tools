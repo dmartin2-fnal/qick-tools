{
 "cells": [
  {
   "cell_type": "code",
   "execution_count": null,
   "id": "a7899a95-151e-4c22-a4f7-cc41136e1376",
   "metadata": {},
   "outputs": [],
   "source": [
    "import importlib\n",
    "from mkids import TopSoc\n",
    "import numpy as np\n",
    "import matplotlib.pyplot as plt\n",
    "import Scan\n",
    "import pickle\n",
    "soc = TopSoc()"
   ]
  },
  {
   "cell_type": "code",
   "execution_count": null,
   "id": "084708ec-978d-4668-a72b-6a49e9dacd58",
   "metadata": {},
   "outputs": [],
   "source": [
    "importlib.reload(Scan)\n",
    "scan = Scan.Scan(soc)\n",
    "def setAndRead(fTone, average=False, verbose=False, outsel=\"product\", setDds=True):\n",
    "    scan.setTones(np.array([fTone]), np.array([0.9]), np.array([0.0]))\n",
    "    scan.prepRead(decimation=2, outsel=outsel, setDds=setDds)\n",
    "    xs = scan.readAndUnpack(nt=1, nsamp=10000, iBegin=1000, average=average)\n",
    "    if verbose:\n",
    "        f = scan.toneFreqs[0]\n",
    "        outCh = scan.outChs[0]\n",
    "        outDds = scan.outDds[0]\n",
    "        inCh = scan.inChs[0]\n",
    "        inOffset = scan.inOffsets[0]\n",
    "        ntran = scan.ntranByTone[0]\n",
    "        stream = scan.streamByTone[0]\n",
    "        print(\" f=%8.3f  outCh=%3d  outDds=%+6.3f  inCh=%4d   inOffset=%+6.3f   ntran=%4d   stream=%1d\"%(fTone, outCh, outDds, inCh, inOffset, ntran, stream))\n",
    "    return xs\n"
   ]
  },
  {
   "cell_type": "code",
   "execution_count": null,
   "id": "dcfa038f-eaa3-4c8e-be91-1dca90a38d65",
   "metadata": {},
   "outputs": [],
   "source": [
    "fMixer = 614\n",
    "soc.set_mixer(fMixer)\n",
    "freqs = np.linspace(300,1000,250)\n",
    "\n",
    "amps = np.zeros(len(freqs))\n",
    "for i,freq in enumerate(freqs):\n",
    "    print(i, end=\" \")\n",
    "    x = setAndRead(freq, verbose=True)\n",
    "    amp = np.abs(x[0][0].mean())\n",
    "    amps[i] = amp"
   ]
  },
  {
   "cell_type": "code",
   "execution_count": null,
   "id": "bf9ff358",
   "metadata": {},
   "outputs": [],
   "source": [
    "plt.plot(freqs,amps, '-o')\n",
    "#plt.xlim((997, 998))"
   ]
  },
  {
   "cell_type": "code",
   "execution_count": null,
   "id": "2fc777df-ad79-43ee-92fc-9306e4261876",
   "metadata": {},
   "outputs": [],
   "source": [
    "inds = amps < 1000\n",
    "print(\"bad freqs \",freqs[inds])"
   ]
  },
  {
   "cell_type": "code",
   "execution_count": null,
   "id": "1d14a4e2-3b29-475b-a2e5-62297f6a19eb",
   "metadata": {},
   "outputs": [],
   "source": [
    "raise Exception()"
   ]
  },
  {
   "cell_type": "code",
   "execution_count": null,
   "id": "7cc22eef-22f0-4559-b7d8-f07349eaaeaa",
   "metadata": {},
   "outputs": [],
   "source": []
  },
  {
   "cell_type": "code",
   "execution_count": null,
   "id": "4de0a329-c6d3-4436-bb0b-38f296892efb",
   "metadata": {},
   "outputs": [],
   "source": [
    "freq = 446.34538153\n",
    "x = setAndRead(freq, verbose=True, average=False)\n",
    "amp = np.abs(x[0][0].mean())\n",
    "print(\"amp =\",amp)\n",
    "      "
   ]
  },
  {
   "cell_type": "code",
   "execution_count": null,
   "id": "6e6e4a56-4b8d-468c-b441-955c2dad4143",
   "metadata": {},
   "outputs": [],
   "source": [
    "for inCh in range(soc.nInCh):\n",
    "    fdds = .1\n",
    "    soc.ddscic.set_ddsfreq(ch_id=inCh, f=fdds)\n",
    "    if inCh == 193:\n",
    "        print( \"inCh, fdds\", inCh, fdds)"
   ]
  },
  {
   "cell_type": "code",
   "execution_count": null,
   "id": "b4696482-f16c-4086-a667-9a00619ad885",
   "metadata": {},
   "outputs": [],
   "source": [
    "x2 = setAndRead(freq, verbose=True, average=False, outsel=\"dds\", setDds=False)"
   ]
  },
  {
   "cell_type": "code",
   "execution_count": null,
   "id": "ff02dcab",
   "metadata": {},
   "outputs": [],
   "source": []
  },
  {
   "cell_type": "code",
   "execution_count": null,
   "id": "91605e86",
   "metadata": {},
   "outputs": [],
   "source": [
    "from numpy.fft import fft, fftshift\n",
    "from scipy.signal import welch\n",
    "xc = np.array(x2[0][0])\n",
    "xc.shape\n",
    "fs = soc.pfb_in.get_fb()/soc.ddscic.get_decimate()\n",
    "F, Y = fftshift(welch(xc,\n",
    "                          fs,\n",
    "                          return_onesided=False,\n",
    "                          detrend=False,\n",
    "                          nperseg=512), axes=1)\n"
   ]
  },
  {
   "cell_type": "code",
   "execution_count": null,
   "id": "4f11c8cb",
   "metadata": {},
   "outputs": [],
   "source": [
    "plt.plot((F),10*np.log10(Y))\n"
   ]
  },
  {
   "cell_type": "code",
   "execution_count": null,
   "id": "15c4c1b6-2c2b-4cbc-9522-877d9b6e35b3",
   "metadata": {},
   "outputs": [],
   "source": [
    "plt.plot(np.real(xc))\n",
    "plt.plot(np.imag(xc))\n",
    "plt.xlim((2000,2100))"
   ]
  },
  {
   "cell_type": "code",
   "execution_count": null,
   "id": "4c097304",
   "metadata": {},
   "outputs": [],
   "source": [
    "importlib.reload(Scan)\n",
    "scan = Scan.Scan(soc)\n",
    "fMixer = 614\n",
    "freq = 1000.06\n",
    "inCh,inOff = soc.inFreq2chOffset(freq)\n",
    "print(inCh, inOff)\n",
    "inFCenter = soc.inCh2FreqCenter(inCh)\n",
    "print(inFCenter)\n",
    "soc.set_mixer(fMixer)\n",
    "x = setAndRead(freq, verbose=True, average=False, outsel=\"product\")"
   ]
  },
  {
   "cell_type": "code",
   "execution_count": null,
   "id": "fca45be8",
   "metadata": {},
   "outputs": [],
   "source": [
    "xc = np.array(x[0][0])\n",
    "xc.shape\n",
    "fs = soc.pfb_in.get_fb()/soc.ddscic.get_decimate()\n",
    "F, Y = fftshift(welch(xc,\n",
    "                          fs,\n",
    "                          return_onesided=False,\n",
    "                          detrend=False,\n",
    "                          nperseg=512), axes=1)\n"
   ]
  },
  {
   "cell_type": "code",
   "execution_count": null,
   "id": "c4f82a30",
   "metadata": {},
   "outputs": [],
   "source": [
    "plt.plot((F)/1000,10*np.log10(Y))"
   ]
  },
  {
   "cell_type": "code",
   "execution_count": null,
   "id": "c983eb74",
   "metadata": {},
   "outputs": [],
   "source": [
    "from numpy.fft import fft, fftshift"
   ]
  },
  {
   "cell_type": "code",
   "execution_count": null,
   "id": "768aa723",
   "metadata": {},
   "outputs": [],
   "source": [
    "#############################\n",
    "### Channels Side-by-Side ###\n",
    "#############################\n",
    "# Quantization.\n",
    "soc.pfb_in.qout(0)\n",
    "\n",
    "# Set Decimation value.\n",
    "soc.ddscic.decimation(value=2)\n",
    "\n",
    "# Overwrite qsel.\n",
    "qsel = soc.ddscic.qdata_qsel_reg\n",
    "#soc.ddscic.qsel(20)\n",
    "\n",
    "# By-pass DDS product.\n",
    "soc.ddscic.dds_outsel(outsel=\"dds\")\n",
    "\n",
    "# Channel's sampling frequency.\n",
    "fs = soc.pfb_in.get_fb()/soc.ddscic.get_decimate()\n",
    "\n",
    "# Channels to plot.\n",
    "#K = np.arange(soc.pfb_in.N)\n",
    "#K = np.arange(250)\n",
    "#K = [403,404,405,406]\n",
    "K = np.arange(255,260)\n",
    "\n",
    "plt.figure(dpi=150)\n",
    "\n",
    "# Frequency and amplitude vectors.\n",
    "FF = []\n",
    "AA = []\n",
    "for KK in K:\n",
    "    print(\"Iteration K = %d\" %KK)\n",
    "    fck = KK*soc.pfb_in.get_fc()\n",
    "    \n",
    "    # Un-mask channel.\n",
    "    soc.chsel.set_single(KK)\n",
    "    \n",
    "    # Transfer data.\n",
    "    [xi,xq] = soc.stream.get_data(nt=1,idx=soc.chsel.ch2idx_orig(KK),debug=False)\n",
    "    x = xi + 1j*xq\n",
    "    \n",
    "    # Frequency vector.\n",
    "    F = (np.arange(len(x))/len(x)-0.5)*fs\n",
    "    \n",
    "    # Normalization factor.\n",
    "    NF = (2**15)*len(F)\n",
    "\n",
    "    w = np.hanning(len(x))\n",
    "    xw = x*w\n",
    "    YY = fftshift(fft(xw))\n",
    "    YYlog = 20*np.log10(abs(YY)/NF)\n",
    "    AA = np.concatenate((AA,YYlog))\n",
    "    \n",
    "    Fk = F+fck\n",
    "    FF = np.concatenate((FF,Fk))\n",
    "    plt.plot(Fk,YYlog)"
   ]
  },
  {
   "cell_type": "code",
   "execution_count": null,
   "id": "5e76ec25",
   "metadata": {},
   "outputs": [],
   "source": [
    "soc.ddscic.dds_stop()"
   ]
  },
  {
   "cell_type": "code",
   "execution_count": null,
   "id": "774578a0",
   "metadata": {},
   "outputs": [],
   "source": [
    "soc.ddscic.dds_start()"
   ]
  },
  {
   "cell_type": "code",
   "execution_count": null,
   "id": "8f2b9591",
   "metadata": {},
   "outputs": [],
   "source": [
    "np.arange(200,220)"
   ]
  },
  {
   "cell_type": "code",
   "execution_count": null,
   "id": "19bbbaa8",
   "metadata": {},
   "outputs": [],
   "source": [
    "soc.ddscic.qdata_qsel_reg"
   ]
  },
  {
   "cell_type": "code",
   "execution_count": null,
   "id": "fac56f61",
   "metadata": {},
   "outputs": [],
   "source": []
  }
 ],
 "metadata": {
  "kernelspec": {
   "display_name": "Python 3",
   "language": "python",
   "name": "python3"
  },
  "language_info": {
   "codemirror_mode": {
    "name": "ipython",
    "version": 3
   },
   "file_extension": ".py",
   "mimetype": "text/x-python",
   "name": "python",
   "nbconvert_exporter": "python",
   "pygments_lexer": "ipython3",
   "version": "3.8.2"
  }
 },
 "nbformat": 4,
 "nbformat_minor": 5
}
