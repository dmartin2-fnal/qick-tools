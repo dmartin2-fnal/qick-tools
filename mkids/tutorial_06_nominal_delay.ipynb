{
 "cells": [
  {
   "cell_type": "markdown",
   "id": "6fb82238-d5e6-463c-b322-8ef0dd0ad569",
   "metadata": {},
   "source": [
    "Generate  tones in adjacent output channels.  Scan by the bandwidth of the output channel. This produces a \"continuous\" scan.\n",
    "\n",
    "With no calibration applied, the variation of amplitude and fast phase evolution with frequency is evident.  \n",
    "\n",
    "Measure a nominal delay with the function measureNominalDealy and apply it with the function applyDelayCorrection.\n",
    "\n",
    "Plot the corrected phases."
   ]
  },
  {
   "cell_type": "code",
   "execution_count": null,
   "id": "ab000e0a-d337-4546-a56a-618f2efb4cfe",
   "metadata": {},
   "outputs": [],
   "source": [
    "import importlib\n",
    "import Mkids\n",
    "import numpy as np\n",
    "import matplotlib.pyplot as plt\n",
    "from MkidsSoc import *\n",
    "mkidsSoc = MkidsSoc(force_init_clks=False)"
   ]
  },
  {
   "cell_type": "code",
   "execution_count": null,
   "id": "59d55073-75ba-49a7-b6a0-e50ebae75e67",
   "metadata": {},
   "outputs": [],
   "source": [
    "importlib.reload(Mkids)\n",
    "mkids = Mkids.Mkids(mkidsSoc)\n",
    "# Place the mixer so the output frequencies are centered on range of input frequencies\n",
    "fMixer = mkids.fsIn/2\n",
    "mkids.setFMixer(fMixer)\n",
    "# Choose a tone frequency.  Find its output channel.\n",
    "# Get three frequencies to center on three consecutive output channels.\n",
    "fTone = fMixer + mkids.fsOut/np.pi + 0.523\n",
    "outCh = mkids.outFreq2ch(fTone)\n",
    "fCenter = mkids.outCh2FreqCenter(outCh)\n",
    "print(\"outCh =\",outCh)\n",
    "nominalDelay = mkids.measureNominalDelay(outCh, doProgress=True, doPlot=True)"
   ]
  },
  {
   "cell_type": "code",
   "execution_count": null,
   "id": "feddc6db-037f-4ad6-873a-d75f029129d3",
   "metadata": {},
   "outputs": [],
   "source": [
    "# Choose a tone frequency.  Find its output channel.\n",
    "# Get three frequencies to center on three consecutive output channels.\n",
    "fTone = fMixer + mkids.fsOut/np.pi + 0.523\n",
    "outCh = mkids.outFreq2ch(fTone)\n",
    "outChs = np.array([outCh-1, outCh, outCh+1])\n",
    "print(\"outChs =\",outChs)\n",
    "toneFreqs = mkids.outCh2FreqCenter(outChs)\n",
    "toneAmplitudes = np.ones(len(toneFreqs))*0.9/len(toneFreqs)\n",
    "np.random.seed(12394321)\n",
    "toneFis = 2* np.pi * np.random.uniform(size=len(toneFreqs))\n",
    "\n",
    "bandwidth = mkids.fcOut\n",
    "nMeas = 50\n",
    "nt = 1\n",
    "#mkids.setMultiTones(toneFreqs, toneAmplitudes, toneFis, fMixer, verbose=True)\n",
    "mts = mkids.multiToneScan(toneFreqs, toneAmplitudes, toneFis, \n",
    "                    bandwidth, nMeas, fMixer, nt, verbose=False, doProgress=True)\n"
   ]
  },
  {
   "cell_type": "code",
   "execution_count": null,
   "id": "4fdf5cfc-0edc-4d61-9385-6e8adb6101c0",
   "metadata": {},
   "outputs": [],
   "source": [
    "importlib.reload(Mkids)\n",
    "mkids = Mkids.Mkids(mkidsSoc)\n",
    "mtsCorr = mkids.applyDelayCorrection(mts, nominalDelay)"
   ]
  },
  {
   "cell_type": "code",
   "execution_count": null,
   "id": "5e73e959-0f6d-4bf0-87ff-3775e9cd2f85",
   "metadata": {},
   "outputs": [],
   "source": [
    "dfs = mtsCorr['dfs']\n",
    "fis = mtsCorr['fis'][0]\n",
    "plt.plot(dfs*1e3,1000*(fis-fis.mean()), \".-\")\n",
    "plt.xlabel(\"frequency - %f [kHz]\"%(fCenter*1000))\n",
    "plt.ylabel(\"phase - meanPhase [milliRadians]\")"
   ]
  },
  {
   "cell_type": "code",
   "execution_count": null,
   "id": "9ae03a93-12b2-4c2d-9623-1848210f6028",
   "metadata": {},
   "outputs": [],
   "source": [
    "outChs = np.array([outCh-1, outCh, outCh+1])\n",
    "print(\"outChs =\",outChs)\n",
    "toneFreqs = mkids.outCh2FreqCenter(outChs)\n",
    "toneAmplitudes = np.ones(len(toneFreqs))*0.9/len(toneFreqs)\n",
    "np.random.seed(12394321)\n",
    "toneFis = 2* np.pi * np.random.uniform(size=len(toneFreqs))\n",
    "\n",
    "bandwidth = mkids.fcOut\n",
    "nMeas = 50\n",
    "nt = 1\n",
    "#mkids.setMultiTones(toneFreqs, toneAmplitudes, toneFis, fMixer, verbose=True)\n",
    "mts3 = mkids.multiToneScan(toneFreqs, toneAmplitudes, toneFis, \n",
    "                    bandwidth, nMeas, fMixer, nt, verbose=False, doProgress=True)\n"
   ]
  },
  {
   "cell_type": "code",
   "execution_count": null,
   "id": "fa721cbc-1407-48ae-b674-a2012573cf1e",
   "metadata": {},
   "outputs": [],
   "source": [
    "mts3Corr = mkids.applyDelayCorrection(mts3, nominalDelay)"
   ]
  },
  {
   "cell_type": "code",
   "execution_count": null,
   "id": "8514e259-7e5b-4b40-af29-0d278b287bec",
   "metadata": {},
   "outputs": [],
   "source": [
    "freqs, amps, fis = mkids.mtsUnwind(mts3Corr)\n",
    "plt.plot(freqs, fis, \"-o\")\n",
    "plt.xlabel(\"frequency (MHz)\")\n",
    "plt.ylabel(\"phase corrected for delay\")"
   ]
  },
  {
   "cell_type": "code",
   "execution_count": null,
   "id": "41f8c194-716a-46b8-9abe-1717af91cd7d",
   "metadata": {},
   "outputs": [],
   "source": []
  }
 ],
 "metadata": {
  "kernelspec": {
   "display_name": "Python 3",
   "language": "python",
   "name": "python3"
  },
  "language_info": {
   "codemirror_mode": {
    "name": "ipython",
    "version": 3
   },
   "file_extension": ".py",
   "mimetype": "text/x-python",
   "name": "python",
   "nbconvert_exporter": "python",
   "pygments_lexer": "ipython3",
   "version": "3.8.2"
  }
 },
 "nbformat": 4,
 "nbformat_minor": 5
}
