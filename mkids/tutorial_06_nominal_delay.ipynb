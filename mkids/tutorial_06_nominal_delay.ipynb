{
 "cells": [
  {
   "cell_type": "markdown",
   "id": "6fb82238-d5e6-463c-b322-8ef0dd0ad569",
   "metadata": {},
   "source": [
    "Generate  tones in adjacent output channels.  Scan by the bandwidth of the output channel. This produces a \"continuous\" scan.\n",
    "\n",
    "With no calibration applied, the variation of amplitude and fast phase evolution with frequency is evident.  \n",
    "\n",
    "Measure a nominal delay with the function measureNominalDealy and apply it with the function applyDelayCorrection.\n",
    "\n",
    "Plot the corrected phases."
   ]
  },
  {
   "cell_type": "code",
   "execution_count": 1,
   "id": "ab000e0a-d337-4546-a56a-618f2efb4cfe",
   "metadata": {},
   "outputs": [
    {
     "data": {
      "application/javascript": [
       "\n",
       "try {\n",
       "require(['notebook/js/codecell'], function(codecell) {\n",
       "  codecell.CodeCell.options_default.highlight_modes[\n",
       "      'magic_text/x-csrc'] = {'reg':[/^%%microblaze/]};\n",
       "  Jupyter.notebook.events.one('kernel_ready.Kernel', function(){\n",
       "      Jupyter.notebook.get_cells().map(function(cell){\n",
       "          if (cell.cell_type == 'code'){ cell.auto_highlight(); } }) ;\n",
       "  });\n",
       "});\n",
       "} catch (e) {};\n"
      ]
     },
     "metadata": {},
     "output_type": "display_data"
    },
    {
     "data": {
      "application/javascript": [
       "\n",
       "try {\n",
       "require(['notebook/js/codecell'], function(codecell) {\n",
       "  codecell.CodeCell.options_default.highlight_modes[\n",
       "      'magic_text/x-csrc'] = {'reg':[/^%%pybind11/]};\n",
       "  Jupyter.notebook.events.one('kernel_ready.Kernel', function(){\n",
       "      Jupyter.notebook.get_cells().map(function(cell){\n",
       "          if (cell.cell_type == 'code'){ cell.auto_highlight(); } }) ;\n",
       "  });\n",
       "});\n",
       "} catch (e) {};\n"
      ]
     },
     "metadata": {},
     "output_type": "display_data"
    }
   ],
   "source": [
    "import importlib\n",
    "import Mkids\n",
    "import numpy as np\n",
    "import matplotlib.pyplot as plt\n",
    "from MkidsSoc import *\n",
    "mkidsSoc = MkidsSoc(force_init_clks=False)"
   ]
  },
  {
   "cell_type": "code",
   "execution_count": 2,
   "id": "59d55073-75ba-49a7-b6a0-e50ebae75e67",
   "metadata": {},
   "outputs": [
    {
     "name": "stdout",
     "output_type": "stream",
     "text": [
      "outCh = 163\n"
     ]
    },
    {
     "data": {
      "application/vnd.jupyter.widget-view+json": {
       "model_id": "c6127e35210c4b24a3ece626471312b8",
       "version_major": 2,
       "version_minor": 0
      },
      "text/plain": [
       "  0%|          | 0/10 [00:00<?, ?it/s]"
      ]
     },
     "metadata": {},
     "output_type": "display_data"
    },
    {
     "data": {
      "image/png": "[encoded data removed]",
      "text/plain": [
       "<Figure size 432x288 with 2 Axes>"
      ]
     },
     "metadata": {
      "needs_background": "light"
     },
     "output_type": "display_data"
    }
   ],
   "source": [
    "importlib.reload(Mkids)\n",
    "mkids = Mkids.Mkids(mkidsSoc)\n",
    "# Place the mixer so the output frequencies are centered on range of input frequencies\n",
    "fMixer = mkids.fsIn/2\n",
    "mkids.setFMixer(fMixer)\n",
    "# Choose a tone frequency.  Find its output channel.\n",
    "# Get three frequencies to center on three consecutive output channels.\n",
    "fTone = fMixer + mkids.fsOut/np.pi + 0.523\n",
    "outCh = mkids.outFreq2ch(fTone)\n",
    "fCenter = mkids.outCh2FreqCenter(outCh)\n",
    "print(\"outCh =\",outCh)\n",
    "nominalDelay = mkids.measureNominalDelay(outCh, doProgress=True, doPlot=True)"
   ]
  },
  {
   "cell_type": "code",
   "execution_count": 3,
   "id": "4fdf5cfc-0edc-4d61-9385-6e8adb6101c0",
   "metadata": {},
   "outputs": [
    {
     "ename": "NameError",
     "evalue": "name 'mts' is not defined",
     "output_type": "error",
     "traceback": [
      "\u001b[0;31m---------------------------------------------------------------------------\u001b[0m",
      "\u001b[0;31mNameError\u001b[0m                                 Traceback (most recent call last)",
      "\u001b[0;32m<ipython-input-3-7d322a21d2e4>\u001b[0m in \u001b[0;36m<module>\u001b[0;34m\u001b[0m\n\u001b[1;32m      1\u001b[0m \u001b[0mimportlib\u001b[0m\u001b[0;34m.\u001b[0m\u001b[0mreload\u001b[0m\u001b[0;34m(\u001b[0m\u001b[0mMkids\u001b[0m\u001b[0;34m)\u001b[0m\u001b[0;34m\u001b[0m\u001b[0;34m\u001b[0m\u001b[0m\n\u001b[1;32m      2\u001b[0m \u001b[0mmkids\u001b[0m \u001b[0;34m=\u001b[0m \u001b[0mMkids\u001b[0m\u001b[0;34m.\u001b[0m\u001b[0mMkids\u001b[0m\u001b[0;34m(\u001b[0m\u001b[0mmkidsSoc\u001b[0m\u001b[0;34m)\u001b[0m\u001b[0;34m\u001b[0m\u001b[0;34m\u001b[0m\u001b[0m\n\u001b[0;32m----> 3\u001b[0;31m \u001b[0mmtsCorr\u001b[0m \u001b[0;34m=\u001b[0m \u001b[0mmkids\u001b[0m\u001b[0;34m.\u001b[0m\u001b[0mapplyDelayCorrection\u001b[0m\u001b[0;34m(\u001b[0m\u001b[0mmts\u001b[0m\u001b[0;34m,\u001b[0m \u001b[0mnominalDelay\u001b[0m\u001b[0;34m)\u001b[0m\u001b[0;34m\u001b[0m\u001b[0;34m\u001b[0m\u001b[0m\n\u001b[0m",
      "\u001b[0;31mNameError\u001b[0m: name 'mts' is not defined"
     ]
    }
   ],
   "source": [
    "importlib.reload(Mkids)\n",
    "mkids = Mkids.Mkids(mkidsSoc)\n",
    "mtsCorr = mkids.applyDelayCorrection(mts, nominalDelay)"
   ]
  },
  {
   "cell_type": "code",
   "execution_count": null,
   "id": "5e73e959-0f6d-4bf0-87ff-3775e9cd2f85",
   "metadata": {},
   "outputs": [],
   "source": [
    "dfs = mtsCorr['dfs']\n",
    "fis = mtsCorr['fis'][0]\n",
    "plt.plot(dfs*1e3,1000*(fis-fis.mean()), \".-\")\n",
    "plt.xlabel(\"frequency - %f [kHz]\"%(fCenter*1000))\n",
    "plt.ylabel(\"phase - meanPhase [milliRadians]\")"
   ]
  },
  {
   "cell_type": "code",
   "execution_count": null,
   "id": "9ae03a93-12b2-4c2d-9623-1848210f6028",
   "metadata": {},
   "outputs": [],
   "source": [
    "outChs = np.array([outCh-1, outCh, outCh+1])\n",
    "print(\"outChs =\",outChs)\n",
    "toneFreqs = mkids.outCh2FreqCenter(outChs)\n",
    "toneAmplitudes = np.ones(len(toneFreqs))*0.9/len(toneFreqs)\n",
    "np.random.seed(12394321)\n",
    "toneFis = 2* np.pi * np.random.uniform(size=len(toneFreqs))\n",
    "\n",
    "bandwidth = mkids.fcOut\n",
    "nMeas = 50\n",
    "nt = 1\n",
    "#mkids.setMultiTones(toneFreqs, toneAmplitudes, toneFis, fMixer, verbose=True)\n",
    "mts3 = mkids.multiToneScan(toneFreqs, toneAmplitudes, toneFis, \n",
    "                    bandwidth, nMeas, fMixer, nt, verbose=False, doProgress=True)\n"
   ]
  },
  {
   "cell_type": "code",
   "execution_count": null,
   "id": "fa721cbc-1407-48ae-b674-a2012573cf1e",
   "metadata": {},
   "outputs": [],
   "source": [
    "mts3Corr = mkids.applyDelayCorrection(mts3, nominalDelay)"
   ]
  },
  {
   "cell_type": "code",
   "execution_count": null,
   "id": "8514e259-7e5b-4b40-af29-0d278b287bec",
   "metadata": {},
   "outputs": [],
   "source": [
    "freqs, amps, fis = mkids.mtsUnwind(mts3Corr)\n",
    "plt.plot(freqs, fis, \"-o\")\n",
    "plt.xlabel(\"frequency (MHz)\")\n",
    "plt.ylabel(\"phase corrected for delay\")"
   ]
  }
 ],
 "metadata": {
  "kernelspec": {
   "display_name": "Python 3",
   "language": "python",
   "name": "python3"
  },
  "language_info": {
   "codemirror_mode": {
    "name": "ipython",
    "version": 3
   },
   "file_extension": ".py",
   "mimetype": "text/x-python",
   "name": "python",
   "nbconvert_exporter": "python",
   "pygments_lexer": "ipython3",
   "version": "3.8.2"
  }
 },
 "nbformat": 4,
 "nbformat_minor": 5
}
