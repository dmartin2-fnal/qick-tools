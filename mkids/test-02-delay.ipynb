{
 "cells": [
  {
   "cell_type": "markdown",
   "id": "1e322b29-1361-4bf6-ab24-318ad3bb2238",
   "metadata": {},
   "source": [
    "Demonstrate the base functionality of the firmware.  With a loop-back cable installed from the DAC output to the ADC input, this produces a tone at the output, reads it back, and demodulates back to DC.\n",
    "\n",
    "The TopSoc class chooses the firmware based on the board, ZCU111 or ZCU216.\n",
    "\n",
    "For the ZCU111, the loopback cable is from DAC229_T1_CH2 to ADC224_T0_CH0, (single ended)\n",
    "\n",
    "For the ZCU216, the loopback cables are from  226 CH 0 and 230 CH0.  The P and N are separate, so you need two physical cables.  ADC Vin channels P 0_226 and N 01_226 connect to a tile, LMFB DAC 02. Connect the LMFB DAC 02 tile to the LMFB DAC 01 tile on the left side of the board.  You need two cables running from that LMFB DAC 01 tile to channels 0_230 and 2_230 in the DAC Vout connector. \n"
   ]
  },
  {
   "cell_type": "code",
   "execution_count": 1,
   "id": "53bb27ab-06d8-4162-9e26-2e9ddfe98964",
   "metadata": {},
   "outputs": [
    {
     "data": {
      "application/javascript": [
       "\n",
       "try {\n",
       "require(['notebook/js/codecell'], function(codecell) {\n",
       "  codecell.CodeCell.options_default.highlight_modes[\n",
       "      'magic_text/x-csrc'] = {'reg':[/^%%microblaze/]};\n",
       "  Jupyter.notebook.events.one('kernel_ready.Kernel', function(){\n",
       "      Jupyter.notebook.get_cells().map(function(cell){\n",
       "          if (cell.cell_type == 'code'){ cell.auto_highlight(); } }) ;\n",
       "  });\n",
       "});\n",
       "} catch (e) {};\n"
      ]
     },
     "metadata": {},
     "output_type": "display_data"
    },
    {
     "data": {
      "application/javascript": [
       "\n",
       "try {\n",
       "require(['notebook/js/codecell'], function(codecell) {\n",
       "  codecell.CodeCell.options_default.highlight_modes[\n",
       "      'magic_text/x-csrc'] = {'reg':[/^%%pybind11/]};\n",
       "  Jupyter.notebook.events.one('kernel_ready.Kernel', function(){\n",
       "      Jupyter.notebook.get_cells().map(function(cell){\n",
       "          if (cell.cell_type == 'code'){ cell.auto_highlight(); } }) ;\n",
       "  });\n",
       "});\n",
       "} catch (e) {};\n"
      ]
     },
     "metadata": {},
     "output_type": "display_data"
    }
   ],
   "source": [
    "from mkids import TopSoc\n",
    "from scipy.signal import welch\n",
    "from numpy.fft import fftshift\n",
    "import numpy as np\n",
    "import matplotlib.pyplot as plt"
   ]
  },
  {
   "cell_type": "code",
   "execution_count": 2,
   "id": "34d0a552-2aad-4c25-b464-6b6f85eb022c",
   "metadata": {},
   "outputs": [],
   "source": [
    "# Load bitstream with custom overlay\n",
    "soc = TopSoc()"
   ]
  },
  {
   "cell_type": "code",
   "execution_count": 3,
   "id": "43a675a8-70b4-4890-8f46-1fffb2ff6b86",
   "metadata": {},
   "outputs": [],
   "source": [
    "soc.set_mixer(1000) # MHz\n",
    "foutRequested = 500.3\n",
    "foutRequested = soc.fsIn/2 + 123\n"
   ]
  },
  {
   "cell_type": "code",
   "execution_count": 4,
   "id": "6006cf60-5b33-4ff2-b595-ea3f6f726f4c",
   "metadata": {},
   "outputs": [],
   "source": [
    "# Create an output tone\n",
    "def measurePhaseOriginal(foutRequested, doPlot=False, verbose=False):\n",
    "    soc.dds_out.alloff()\n",
    "    foutQuantized = soc.DF*np.round(foutRequested/soc.DF)\n",
    "    pfb_ch, dds_freq, _, _ = soc.pfb_out.freq2ch(foutQuantized, soc.get_mixer())\n",
    "    if verbose:\n",
    "        print(\"output channel =\",pfb_ch)\n",
    "    print(\"output DDS freq =\",dds_freq)\n",
    "    soc.dds_out.ddscfg(ch=pfb_ch, f=dds_freq, g=0.9, fi=0.0)\n",
    "    soc.pfb_out.qout(0)\n",
    "    fInAliased = soc.fAliasedFromFTone(foutQuantized)\n",
    "    print(\"foutQuantized =\",foutQuantized)\n",
    "    print(\"fInAliased =\",fInAliased)\n",
    "    decimation = 2\n",
    "    pfbInQout = 8\n",
    "    K, dds_freq, pdb_freq, ch = soc.pfb_in.freq2ch(np.array([fInAliased]))\n",
    "    print(\"K =\",K, \"dds_freq =\",dds_freq)\n",
    "    stream, stream_idx = soc.chsel.ch2idx(K)\n",
    "    print(\"stream, stream_idx\",stream,stream_idx)\n",
    "    inCh, offset = soc.inFreq2chOffset(fInAliased)\n",
    "    print(\"inCh =\",inCh, \"offset =\",offset)\n",
    "    ntran, addr, bits = soc.chsel.ch2tran(inCh)\n",
    "    num_tran, tran_idx = soc.chsel.set(K)\n",
    "    print(\"num_tran, tran_idx\",num_tran,tran_idx)\n",
    "    ntranByTone, streamByTone = soc.inFreq2NtranStream(np.array([fInAliased]))\n",
    "    print(\"ntranByTone, streamByTone\",ntranByTone, streamByTone)\n",
    "\n",
    "    soc.pfb_in.qout(pfbInQout)\n",
    "    soc.ddscic.decimation(decimation)\n",
    "    soc.ddscic.dds_outsel(outsel=\"product\")\n",
    "    soc.ddscic.set_ddsfreq(ch_id=inCh, f=offset)\n",
    "\n",
    "    nt = 1\n",
    "    nsamp = 10000\n",
    "    packets = soc.stream.transfer(nt=nt, nsamp=nsamp)\n",
    "    \n",
    "    print(\"     packets.shape =\",packets.shape)\n",
    "    ntrans = packets[:,:,16]\n",
    "    print(\"      ntrans.shape =\",ntrans.shape)\n",
    "    xis = packets[:,:,0:16:2]\n",
    "    print(\"         xis.shape =\",xis.shape)\n",
    "    xqs = packets[:,:,1:17:2]\n",
    "    print(\"         xqs.shape =\",xqs.shape)\n",
    "    xs = xis + 1j*xqs\n",
    "    print(\"          xs.shape =\",xs.shape)\n",
    "\n",
    "    it = 0\n",
    "    iTone = 0\n",
    "    inds = ntrans[it] ==  ntranByTone[iTone]\n",
    "    temp = xs[it, inds, streamByTone[iTone]][1000:]\n",
    "    \n",
    "    plt.plot(np.real(temp), label=\"I\")\n",
    "    plt.plot(np.imag(temp), label=\"Q\")\n",
    "    amplitude = np.abs(temp).mean()\n",
    "    fi = np.angle(temp).mean()\n",
    "    print(amplitude,fi)\n",
    "    plt.title(\"freq=%.6f amp=%.3f  fi=%.6f\"%(foutQuantized,amplitude,fi))\n",
    "    return foutQuantized,amplitude, fi"
   ]
  },
  {
   "cell_type": "code",
   "execution_count": 9,
   "id": "8e602278-622b-4dc4-8964-655e865b679b",
   "metadata": {},
   "outputs": [],
   "source": [
    "# Create an output tone\n",
    "def measurePhase(foutRequested, doPlot=False, verbose=False):\n",
    "    soc.dds_out.alloff()\n",
    "    foutQuantized = soc.DF*np.round(foutRequested/soc.DF)\n",
    "    pfb_ch, dds_freq, _, _ = soc.pfb_out.freq2ch(foutQuantized, soc.get_mixer())\n",
    "    soc.dds_out.ddscfg(ch=pfb_ch, f=dds_freq, g=0.9, fi=0.0)\n",
    "    soc.pfb_out.qout(0)\n",
    "    fInAliased = soc.fAliasedFromFTone(foutQuantized)\n",
    "    decimation = 2\n",
    "    pfbInQout = 8\n",
    "    K, dds_freq, pdb_freq, ch = soc.pfb_in.freq2ch(np.array([fInAliased]))\n",
    "    stream, stream_idx = soc.chsel.ch2idx(K)\n",
    "    inCh, offset = soc.inFreq2chOffset(fInAliased)\n",
    "    ntran, addr, bits = soc.chsel.ch2tran(inCh)\n",
    "    num_tran, tran_idx = soc.chsel.set(K)\n",
    "    ntranByTone, streamByTone = soc.inFreq2NtranStream(np.array([fInAliased]))\n",
    "\n",
    "    soc.pfb_in.qout(pfbInQout)\n",
    "    soc.ddscic.decimation(decimation)\n",
    "    soc.ddscic.dds_outsel(outsel=\"product\")\n",
    "    soc.ddscic.set_ddsfreq(ch_id=inCh, f=offset)\n",
    "\n",
    "    nt = 1\n",
    "    nsamp = 10000\n",
    "    packets = soc.stream.transfer(nt=nt, nsamp=nsamp)\n",
    "    \n",
    "    ntrans = packets[:,:,16]\n",
    "    xis = packets[:,:,0:16:2]\n",
    "    xqs = packets[:,:,1:17:2]\n",
    "    xs = xis + 1j*xqs\n",
    "\n",
    "    it = 0\n",
    "    iTone = 0\n",
    "    inds = ntrans[it] ==  ntranByTone[iTone]\n",
    "    temp = xs[it, inds, streamByTone[iTone]][1000:]\n",
    "    amplitude = np.abs(temp).mean()\n",
    "    fi = np.angle(temp).mean()\n",
    "    \n",
    "\n",
    "    if verbose:\n",
    "        print(\"output channel =\",pfb_ch)\n",
    "        print(\"output DDS freq =\",dds_freq)\n",
    "        print(\"foutQuantized =\",foutQuantized)\n",
    "        print(\"fInAliased =\",fInAliased)\n",
    "        print(\"K =\",K, \"dds_freq =\",dds_freq)\n",
    "        print(\"stream, stream_idx\",stream,stream_idx)\n",
    "        print(\"inCh =\",inCh, \"offset =\",offset)\n",
    "        print(\"num_tran, tran_idx\",num_tran,tran_idx)\n",
    "        print(\"ntranByTone, streamByTone\",ntranByTone, streamByTone)\n",
    "        print(\"     packets.shape =\",packets.shape)\n",
    "        print(\"      ntrans.shape =\",ntrans.shape)\n",
    "        print(\"         xis.shape =\",xis.shape)\n",
    "        print(\"         xqs.shape =\",xqs.shape)\n",
    "        print(\"          xs.shape =\",xs.shape)\n",
    "\n",
    "        print(amplitude,fi)\n",
    "\n",
    "    if doPlot:\n",
    "        plt.plot(np.real(temp), label=\"I\")\n",
    "        plt.plot(np.imag(temp), label=\"Q\")\n",
    "        plt.title(\"freq=%.6f amp=%.3f  fi=%.6f\"%(foutQuantized,amplitude,fi))\n",
    "    return foutQuantized,amplitude, fi"
   ]
  },
  {
   "cell_type": "code",
   "execution_count": 33,
   "id": "b94f1fe6-692a-48fc-bffc-f3c327d7e1e5",
   "metadata": {},
   "outputs": [
    {
     "name": "stdout",
     "output_type": "stream",
     "text": [
      "delay = 9.560199126411236\n"
     ]
    }
   ],
   "source": [
    "f0,a0,fi0 = measurePhase(foutRequested)\n",
    "\n",
    "df = 0.001\n",
    "f1,a1,fi1 = measurePhase(foutRequested+df)\n",
    "\n",
    "delay = (fi1-fi0)/(f1-f0)\n",
    "print(\"delay =\",delay)"
   ]
  },
  {
   "cell_type": "code",
   "execution_count": null,
   "id": "a63ef49d-4916-4ca0-8f51-89eb578c527b",
   "metadata": {},
   "outputs": [],
   "source": []
  }
 ],
 "metadata": {
  "kernelspec": {
   "display_name": "Python 3",
   "language": "python",
   "name": "python3"
  },
  "language_info": {
   "codemirror_mode": {
    "name": "ipython",
    "version": 3
   },
   "file_extension": ".py",
   "mimetype": "text/x-python",
   "name": "python",
   "nbconvert_exporter": "python",
   "pygments_lexer": "ipython3",
   "version": "3.8.2"
  }
 },
 "nbformat": 4,
 "nbformat_minor": 5
}
