{
 "cells": [
  {
   "cell_type": "markdown",
   "id": "41ded41e-d25b-40b4-966e-9d94851dddf0",
   "metadata": {},
   "source": [
    "Demonstrate making and applying calibration of phase and amplitude for a scan.\n",
    "\n",
    "In general, the \"calbration\" data are calculated with a direct loop-back and then are applied to data collected while connected to actual resonators.  In these examples, we retain the loop back connection for both the calibration and the data.  This should result in \"flat\" scans in amplitude and phase."
   ]
  },
  {
   "cell_type": "code",
   "execution_count": null,
   "id": "0396b8c1-223b-408b-9338-9b0ed2fe1d07",
   "metadata": {},
   "outputs": [],
   "source": [
    "import importlib\n",
    "from mkids import TopSoc\n",
    "import numpy as np\n",
    "import matplotlib.pyplot as plt\n",
    "import Scan\n",
    "import pickle\n",
    "soc = TopSoc()"
   ]
  },
  {
   "cell_type": "code",
   "execution_count": null,
   "id": "9a17d4b4-1c01-4885-bb6b-28b29e735fb0",
   "metadata": {},
   "outputs": [],
   "source": [
    "fNyIn = soc.fsIn/2\n",
    "print(\"fNyIn =\",fNyIn)"
   ]
  },
  {
   "cell_type": "code",
   "execution_count": null,
   "id": "c7a78822-f64e-4f9d-8482-ebfdd7f4de90",
   "metadata": {},
   "outputs": [],
   "source": [
    "# Define the area to calibrate, based on an (arbitrary) mixer setting\n",
    "fMixer = 0.75*soc.fsIn\n",
    "print(\"fMixer =\",fMixer)\n",
    "soc.set_mixer(fMixer)\n",
    "f0 = fMixer + 85.4\n",
    "f1 = fMixer + 95.6\n",
    "fTone = 0.5*(f0+f1)"
   ]
  },
  {
   "cell_type": "code",
   "execution_count": null,
   "id": "116fb512-1225-4f39-accb-4ef8f1823b7b",
   "metadata": {},
   "outputs": [],
   "source": [
    "# Measure the nominal delay near fTone\n",
    "scan = Scan.Scan(soc)\n",
    "outCh = scan.soc.outFreq2ch(fTone)\n",
    "print(\"measure nominal dealy for fTone=%f  outCh=%d\"%(fTone, outCh))\n",
    "nominalDelay = scan.measureNominalDelay(outCh, decimation=2, doProgress=True, doPlot=True)"
   ]
  },
  {
   "cell_type": "code",
   "execution_count": null,
   "id": "af172583-c3eb-4275-916d-8b9a05dbdd5f",
   "metadata": {},
   "outputs": [],
   "source": [
    "# Make a calibration with nt transfers at nf frequencies, with the nominalDelay correction applied\n",
    "nt,nf = 1,201\n",
    "calibration = scan.makeCalibration(fMixer, f0, f1, nf=nf, nt=nt, doProgress=True,\n",
    "                            nominalDelay=nominalDelay)\n",
    "fscan = calibration['fscan']\n",
    "print(\"delayApplied =\",fscan['delayApplied'])\n"
   ]
  },
  {
   "cell_type": "code",
   "execution_count": null,
   "id": "2269b4b0-5c39-4e15-b70c-71a2877bf5e3",
   "metadata": {},
   "outputs": [],
   "source": [
    "# Save this calibration for use in the next tutorial\n",
    "with open(\"calibration-demo.pkl\", 'wb') as file:\n",
    "    pickle.dump(calibration, file)"
   ]
  },
  {
   "cell_type": "code",
   "execution_count": null,
   "id": "69421eda-7428-41da-b64d-f6e8e1199c32",
   "metadata": {},
   "outputs": [],
   "source": [
    "# Take a look at part of the calibration data, for one of the PFB bins\n",
    "iTone = 2\n",
    "Scan.fscanPlot(fscan, iTone)\n"
   ]
  },
  {
   "cell_type": "code",
   "execution_count": null,
   "id": "a4c6e37c-94cd-4931-9266-a1b4e6d860d7",
   "metadata": {},
   "outputs": [],
   "source": [
    "# For convenience, arrange these points as a single spectrum\n",
    "spectrum = Scan.fscanToSpectrum(fscan)"
   ]
  },
  {
   "cell_type": "code",
   "execution_count": null,
   "id": "6b4a4e09-9c3c-4a4b-9ec4-095b59c08c39",
   "metadata": {},
   "outputs": [],
   "source": [
    "# These frequencies define where there will be discontinuities in I,Q values\n",
    "importlib.reload(Scan)\n",
    "scan = Scan.Scan(soc)\n",
    "fList = scan.makeFList(fMixer, f0, f1,verbose=True)\n",
    "print(fList)"
   ]
  },
  {
   "cell_type": "code",
   "execution_count": null,
   "id": "facb1e20-092b-4cad-94ac-ef5f29d094cd",
   "metadata": {},
   "outputs": [],
   "source": [
    "# Plot the amplitudes, along with vertical lines showing where discontinuities are.  The horizontal green line shows the frequency range requested\n",
    "plt.plot(spectrum[0],spectrum[1])\n",
    "for f in fList:\n",
    "    plt.axvline(f,color='r', alpha=0.4)\n",
    "aMean = spectrum[1].mean()\n",
    "plt.plot([f0,f1],[aMean,aMean], 'g')\n",
    "plt.xlabel(\"frequency (MHz)\")"
   ]
  },
  {
   "cell_type": "code",
   "execution_count": null,
   "id": "9d456501-87be-456c-bc5d-8048d2a31c7c",
   "metadata": {},
   "outputs": [],
   "source": [
    "# Plot the phases, along with vertical lines showing where discontinuities are\n",
    "plt.plot(spectrum[0],spectrum[2])\n",
    "print(\"f0 =\",f0)\n",
    "print(\"f1 =\",f1)\n",
    "for f in fList:\n",
    "    plt.axvline(f,color='r', alpha=0.5)\n",
    "pMean = spectrum[2].mean()\n",
    "plt.plot([f0,f1],[pMean, pMean], 'g')\n",
    "plt.xlabel(\"frequency (MHz)\")"
   ]
  },
  {
   "cell_type": "code",
   "execution_count": null,
   "id": "9ac38e22-dcef-4a2b-8640-06c1b2fed1b1",
   "metadata": {},
   "outputs": [],
   "source": [
    "# zoom in a bit and show I, Q values and discontinuities\n",
    "fMiddle = 0.5*(f0+f1)\n",
    "fStart = fMiddle-2.3\n",
    "fEnd = fMiddle+1.4\n",
    "def iqPlot(fStart, fEnd):\n",
    "    inds = (spectrum[0] > fStart ) & (spectrum[0] < fEnd)\n",
    "    sx = spectrum[1]*np.exp(1j*spectrum[2])\n",
    "    si = np.real(sx)\n",
    "    sq = np.imag(sx)\n",
    "    plt.plot(spectrum[0][inds],si[inds], ',', label=\"I\")\n",
    "    plt.plot(spectrum[0][inds],sq[inds], ',', label=\"Q\")\n",
    "    for f in fList:\n",
    "        plt.axvline(f,color='r', alpha=0.2)\n",
    "    plt.xlim((fStart,fEnd))\n",
    "    plt.legend()\n",
    "    plt.xlabel(\"frequency (MHz)\")\n",
    "    plt.ylabel(\"values [ADUs]\")\n",
    "iqPlot(fStart, fEnd)"
   ]
  },
  {
   "cell_type": "code",
   "execution_count": null,
   "id": "e812b864-1d30-4c8e-9199-e6e20b354680",
   "metadata": {},
   "outputs": [],
   "source": [
    "# Pretend we have a few frequencies we want to study.  Define tones of equal amplitude and random phases and scan\n",
    "nTones = 4\n",
    "testFreqs = fStart + 2.345*np.arange(nTones)\n",
    "\n",
    "testAmps = 0.9*np.ones(len(testFreqs))/len(testFreqs)\n",
    "np.random.seed(1234991)\n",
    "testFis = np.random.uniform(0, 2*np.pi, size=len(testFreqs))\n",
    "bandwidth = 0.4 # MHz\n",
    "nf = 50\n",
    "decimation = 2\n",
    "nt = 3\n",
    "doProgress = True\n",
    "\n",
    "testFScan = scan.fscan(testFreqs, testAmps, testFis, bandwidth, nf, decimation,nt, doProgress=doProgress)\n"
   ]
  },
  {
   "cell_type": "code",
   "execution_count": null,
   "id": "4d682dde-281b-44f5-82c9-b821a8986faf",
   "metadata": {},
   "outputs": [],
   "source": [
    "# Plot the measured amplitude,phase of one of the tones\n",
    "Scan.fscanPlot(testFScan, 0)"
   ]
  },
  {
   "cell_type": "code",
   "execution_count": null,
   "id": "7b28cb63-bc07-4b31-9e1b-bd42141d713b",
   "metadata": {},
   "outputs": [],
   "source": [
    "# Apply the calibration\n",
    "tfsCalib = scan.applyCalibration(testFScan, calibration, amplitudeMax=5000)\n"
   ]
  },
  {
   "cell_type": "code",
   "execution_count": null,
   "id": "b061f86f-19d0-4ea0-8703-05120cd810af",
   "metadata": {},
   "outputs": [],
   "source": [
    "# Plot the calibrated amplitude,phase of one of the tones\n",
    "Scan.fscanPlot(tfsCalib, 0)"
   ]
  },
  {
   "cell_type": "code",
   "execution_count": null,
   "id": "3b1fed28-b3c2-49e3-b43a-586a963aec32",
   "metadata": {},
   "outputs": [],
   "source": [
    "Scan.fscanPlot(tfsCalib, 1)"
   ]
  },
  {
   "cell_type": "code",
   "execution_count": null,
   "id": "5db5b635-ce22-4032-9080-53bfececf5e3",
   "metadata": {},
   "outputs": [],
   "source": [
    "Scan.fscanPlot(tfsCalib, 2)"
   ]
  },
  {
   "cell_type": "code",
   "execution_count": null,
   "id": "eecd4f43-f903-4265-987b-1adf299d789f",
   "metadata": {},
   "outputs": [],
   "source": [
    "Scan.fscanPlot(tfsCalib, 3)"
   ]
  },
  {
   "cell_type": "code",
   "execution_count": null,
   "id": "701d80d6-7766-41b7-8cf8-cadfab0385e4",
   "metadata": {},
   "outputs": [],
   "source": [
    "iqPlot(3164, 3166)"
   ]
  },
  {
   "cell_type": "code",
   "execution_count": null,
   "id": "02ede1ca-0a9a-4116-964c-04d212a1b93d",
   "metadata": {},
   "outputs": [],
   "source": [
    "def apPlot(fStart, fEnd):\n",
    "    inds = (spectrum[0] > fStart ) & (spectrum[0] < fEnd)\n",
    "    amp = spectrum[1]\n",
    "    pha = spectrum[2]\n",
    "    fig,ax = plt.subplots(2,1,sharex=True)\n",
    "    \n",
    "    ax[0].plot(spectrum[0][inds],amp[inds], ',')\n",
    "    plt.plot(spectrum[0][inds],pha[inds], ',')\n",
    "    for f in fList:\n",
    "        ax[0].axvline(f,color='r', alpha=0.2)\n",
    "        ax[1].axvline(f,color='r', alpha=0.2)\n",
    "    ax[1].set_xlabel(\"frequency (MHz)\")\n",
    "    ax[0].set_ylabel(\"amplitude [ADUs]\")\n",
    "    ax[1].set_ylabel(\"phase [rad]\")\n",
    "    plt.xlim((fStart,fEnd))\n"
   ]
  },
  {
   "cell_type": "code",
   "execution_count": null,
   "id": "b8604503-4373-4d47-937d-cb61308fef69",
   "metadata": {},
   "outputs": [],
   "source": [
    "apPlot(3164, 3166)"
   ]
  },
  {
   "cell_type": "code",
   "execution_count": null,
   "id": "edaceadb-8418-4052-b7bd-dd322f79d6c2",
   "metadata": {},
   "outputs": [],
   "source": [
    "iToneTest = 2\n",
    "import copy\n",
    "def applyCalibration2(self, fscan, calibration, amplitudeMax=30000):\n",
    "    \"\"\"\n",
    "    Apply the calibration to the frequency scan\n",
    "\n",
    "    Parameters:\n",
    "    -----------\n",
    "        fscan : object\n",
    "            returned from the function fscan.\n",
    "        calibration : object\n",
    "            returned from the function makeCalibration\n",
    "        amplitudeMax : float\n",
    "            amplitude of measurement when amplitudes of fscan and calibration are equal\n",
    "\n",
    "    Returns:\n",
    "    --------\n",
    "        a deep copy of fscan with the calibration applied.\n",
    "    \"\"\"\n",
    "    fscanCalib = copy.deepcopy(fscan)\n",
    "    nominalDelay = calibration['nominalDelay']\n",
    "    self.applyDelay(fscanCalib, nominalDelay)\n",
    "    if nominalDelay != fscanCalib['delayApplied']:\n",
    "        raise ValueError(\"fscan already had a delay applied\", nominalDelay, fscanCalib['delayApplied'])\n",
    "    dfs = fscanCalib['dfs']\n",
    "    for iTone,(freq,xs) in enumerate(zip(fscanCalib['freqs'],fscanCalib['xs'])):\n",
    "        print(\"iTone, freq\",iTone,freq)\n",
    "        freqs = freq+dfs\n",
    "        xCalib = np.zeros(len(freqs), dtype=complex)\n",
    "        for i, freq in enumerate(freqs):\n",
    "            iCalib = np.searchsorted(calibration['fList'], freq)-1 \n",
    "            xCalib[i] = calibration['cInterps'][iCalib](freq)\n",
    "            if iTone==2:\n",
    "                xi = np.real(xCalib[i])\n",
    "                xq = np.imag(xCalib[i])\n",
    "                #print(\"   i=%2d   freq=%.2f   iCalib=%d  xi=%f xq=%f\"%(i,freq,iCalib,xi,xq))\n",
    "        gain = amplitudeMax/np.abs(xCalib)\n",
    "        fscanCalib['xs'][:,iTone] *= gain\n",
    "        dfi = np.angle(xCalib)\n",
    "        xs = fscanCalib['xs'][:,iTone]\n",
    "        if iTone == iToneTest:\n",
    "            plt.plot(freq+dfs, dfi, '.', label='dfi')\n",
    "            plt.plot(freq+dfs, np.angle(xs), '.', label='xs')\n",
    "            plt.legend()\n",
    "        fscanCalib['xs'][:,iTone] = np.abs(xs)*np.exp(1j*(np.angle(xs)-dfi))\n",
    "    return fscanCalib                                                     \n",
    "\n",
    "# Apply the calibration\n",
    "print(\"iToneTest =\",iToneTest)\n",
    "calibrated = applyCalibration2(scan, testFScan, calibration, amplitudeMax=5000)\n",
    "Scan.fscanPlot(calibrated, iToneTest)"
   ]
  },
  {
   "cell_type": "code",
   "execution_count": null,
   "id": "1d1ed414-46f2-41af-b508-58a8dc471ad5",
   "metadata": {},
   "outputs": [],
   "source": [
    "phis = np.angle(calibrated['xs'][:,iToneTest])\n",
    "plt.plot(np.diff(phis))\n",
    "print(np.diff(phis).min())\n",
    "print(np.diff(phis).min()/np.pi)\n"
   ]
  },
  {
   "cell_type": "code",
   "execution_count": null,
   "id": "53858ac1-4d11-493e-9b82-30b7b5c2149c",
   "metadata": {},
   "outputs": [],
   "source": [
    "import copy\n",
    "def applyCalibration3(self, fscan, calibration, amplitudeMax=30000):\n",
    "    \"\"\"\n",
    "    Apply the calibration to the frequency scan\n",
    "\n",
    "    Parameters:\n",
    "    -----------\n",
    "        fscan : object\n",
    "            returned from the function fscan.\n",
    "        calibration : object\n",
    "            returned from the function makeCalibration\n",
    "        amplitudeMax : float\n",
    "            amplitude of measurement when amplitudes of fscan and calibration are equal\n",
    "\n",
    "    Returns:\n",
    "    --------\n",
    "        a deep copy of fscan with the calibration applied.\n",
    "    \"\"\"\n",
    "    fscanCalib = copy.deepcopy(fscan)\n",
    "    nominalDelay = calibration['nominalDelay']\n",
    "    self.applyDelay(fscanCalib, nominalDelay)\n",
    "    if nominalDelay != fscanCalib['delayApplied']:\n",
    "        raise ValueError(\"fscan already had a delay applied\", nominalDelay, fscanCalib['delayApplied'])\n",
    "    dfs = fscanCalib['dfs']\n",
    "    for iTone,(freq,xs) in enumerate(zip(fscanCalib['freqs'],fscanCalib['xs'])):\n",
    "        print(\"iTone, freq\",iTone,freq)\n",
    "        freqs = freq+dfs\n",
    "        xCalib = np.zeros(len(freqs), dtype=complex)\n",
    "        for i, freq in enumerate(freqs):\n",
    "            iCalib = np.searchsorted(calibration['fList'], freq)-1 \n",
    "            xCalib[i] = calibration['cInterps'][iCalib](freq)\n",
    "        \n",
    "        gain = amplitudeMax/np.abs(xCalib)\n",
    "        fscanCalib['xs'][:,iTone] *= gain\n",
    "        xs = fscanCalib['xs'][:,iTone]\n",
    "        xsReal = np.real(xs)/np.abs(xs)\n",
    "        xsImag = np.imag(xs)/np.abs(xs)\n",
    "        \n",
    "        xcalibReal = np.real(xCalib)/np.abs(xCalib)\n",
    "        xcalibImag = np.imag(xCalib)/np.abs(xCalib)\n",
    "        \n",
    "        xcReal = xsReal - xcalibReal\n",
    "        xcImag = xsImag - xcalibImag\n",
    "        fscanCalib['xs'][:,iTone] = fscanCalib['xs'][:,iTone] / gain * (xcReal + 1j*xcImag)\n",
    "        if iTone == 2:\n",
    "            fscan = fscanCalib['xs'][:,iTone]\n",
    "            plt.plot(freq+dfs, xsReal, '.', label='xsReal')\n",
    "            plt.plot(freq+dfs, xcalibReal, '.', label='xcalibReal')\n",
    "            plt.legend()\n",
    "    return fscanCalib                                                     \n",
    "\n",
    "# Apply the calibration\n",
    "calibrated = applyCalibration3(scan, testFScan, calibration, amplitudeMax=5000)\n"
   ]
  },
  {
   "cell_type": "code",
   "execution_count": null,
   "id": "bdb6d20b-6703-4150-8b4f-f5133ae50e75",
   "metadata": {},
   "outputs": [],
   "source": [
    "Scan.fscanPlot(calibrated, 2)"
   ]
  },
  {
   "cell_type": "code",
   "execution_count": null,
   "id": "dc85b6f8-dad7-4de2-9e81-5b63ae090bf6",
   "metadata": {},
   "outputs": [],
   "source": []
  }
 ],
 "metadata": {
  "kernelspec": {
   "display_name": "Python 3",
   "language": "python",
   "name": "python3"
  },
  "language_info": {
   "codemirror_mode": {
    "name": "ipython",
    "version": 3
   },
   "file_extension": ".py",
   "mimetype": "text/x-python",
   "name": "python",
   "nbconvert_exporter": "python",
   "pygments_lexer": "ipython3",
   "version": "3.8.2"
  }
 },
 "nbformat": 4,
 "nbformat_minor": 5
}
