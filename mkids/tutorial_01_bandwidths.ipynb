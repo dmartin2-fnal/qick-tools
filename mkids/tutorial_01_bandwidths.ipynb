{
 "cells": [
  {
   "cell_type": "code",
   "execution_count": null,
   "id": "9e38a2bf-e593-4db1-8068-c28e41e56178",
   "metadata": {},
   "outputs": [],
   "source": [
    "\n",
    "import Mkids\n",
    "import MkidsSoc\n",
    "import importlib\n",
    "soc = MkidsSoc.MkidsSoc(force_init_clks=False)"
   ]
  },
  {
   "cell_type": "code",
   "execution_count": null,
   "id": "55586358-0f1c-41c3-93f4-0b9c863e3322",
   "metadata": {},
   "outputs": [],
   "source": [
    "import Mkids\n",
    "importlib.reload(Mkids)\n",
    "mkids = Mkids.Mkids(soc)\n",
    "mkids.info()"
   ]
  },
  {
   "cell_type": "code",
   "execution_count": null,
   "id": "b052411a-9fb5-45e2-84c6-f11c9a039b70",
   "metadata": {},
   "outputs": [],
   "source": [
    "mkids.dfDdsMhz"
   ]
  }
 ],
 "metadata": {
  "kernelspec": {
   "display_name": "Python 3",
   "language": "python",
   "name": "python3"
  },
  "language_info": {
   "codemirror_mode": {
    "name": "ipython",
    "version": 3
   },
   "file_extension": ".py",
   "mimetype": "text/x-python",
   "name": "python",
   "nbconvert_exporter": "python",
   "pygments_lexer": "ipython3",
   "version": "3.8.2"
  }
 },
 "nbformat": 4,
 "nbformat_minor": 5
}
