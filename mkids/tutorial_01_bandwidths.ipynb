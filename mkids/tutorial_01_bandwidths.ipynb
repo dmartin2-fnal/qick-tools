{
 "cells": [
  {
   "cell_type": "markdown",
   "id": "daefeda3-bf50-4ded-bf1f-dcf183c8fbd5",
   "metadata": {},
   "source": [
    "Print information about bandwidths for the board."
   ]
  },
  {
   "cell_type": "code",
   "execution_count": 1,
   "id": "9e38a2bf-e593-4db1-8068-c28e41e56178",
   "metadata": {},
   "outputs": [
    {
     "data": {
      "application/javascript": [
       "\n",
       "try {\n",
       "require(['notebook/js/codecell'], function(codecell) {\n",
       "  codecell.CodeCell.options_default.highlight_modes[\n",
       "      'magic_text/x-csrc'] = {'reg':[/^%%microblaze/]};\n",
       "  Jupyter.notebook.events.one('kernel_ready.Kernel', function(){\n",
       "      Jupyter.notebook.get_cells().map(function(cell){\n",
       "          if (cell.cell_type == 'code'){ cell.auto_highlight(); } }) ;\n",
       "  });\n",
       "});\n",
       "} catch (e) {};\n"
      ]
     },
     "metadata": {},
     "output_type": "display_data"
    },
    {
     "data": {
      "application/javascript": [
       "\n",
       "try {\n",
       "require(['notebook/js/codecell'], function(codecell) {\n",
       "  codecell.CodeCell.options_default.highlight_modes[\n",
       "      'magic_text/x-csrc'] = {'reg':[/^%%pybind11/]};\n",
       "  Jupyter.notebook.events.one('kernel_ready.Kernel', function(){\n",
       "      Jupyter.notebook.get_cells().map(function(cell){\n",
       "          if (cell.cell_type == 'code'){ cell.auto_highlight(); } }) ;\n",
       "  });\n",
       "});\n",
       "} catch (e) {};\n"
      ]
     },
     "metadata": {},
     "output_type": "display_data"
    },
    {
     "name": "stdout",
     "output_type": "stream",
     "text": [
      "resetting clocks: 245.76 491.52\n",
      "Board model: ZCU216\n",
      "Input:\n",
      "         number of input channels:                        nInCh =    1024\n",
      "         input sampling frequency:                         fsIn = 2457.60 MHz\n",
      "             input DDS resolution:                ddscic.DF_DDS = 36.6211 Hz\n",
      "  bandwidth of each input channel:                         fbIn =    2.40 MHz\n",
      "   spacing between input channels:                         fcIn =    1.20 MHz\n",
      "            total input bandwidth:                   nInCh*fcIn = 1228.80 MHz\n",
      "Output:\n",
      "        number of output channels:                       nOutCh =     512\n",
      "        output sampling frequency:                        fsOut = 1228.80 MHz\n",
      "            output DDS resolution:               dds_out.DF_DDS = 73.2422 Hz\n",
      " bandwidth of each output channel:                        fbOut =    4.80 MHz\n",
      "  spacing between output channels:                        fcOut =    2.40 MHz\n",
      "           total output bandwidth:                 nOutCh*fcOut = 1228.80 MHz\n",
      "\n",
      "             frequency resolution:                       1e6*DF = 73.2422 Hz\n",
      "      output/input DDS resolution: dds_out.DF_DDS/ddscic.DF_DDS = 2.000000\n"
     ]
    }
   ],
   "source": [
    "from mkids import TopSoc\n",
    "soc = TopSoc(force_init_clks=True)\n",
    "soc.info()"
   ]
  },
  {
   "cell_type": "code",
   "execution_count": null,
   "id": "06e4d6a5-41a7-409b-9211-ad13e322dc40",
   "metadata": {},
   "outputs": [],
   "source": []
  }
 ],
 "metadata": {
  "kernelspec": {
   "display_name": "Python 3",
   "language": "python",
   "name": "python3"
  },
  "language_info": {
   "codemirror_mode": {
    "name": "ipython",
    "version": 3
   },
   "file_extension": ".py",
   "mimetype": "text/x-python",
   "name": "python",
   "nbconvert_exporter": "python",
   "pygments_lexer": "ipython3",
   "version": "3.8.2"
  }
 },
 "nbformat": 4,
 "nbformat_minor": 5
}
