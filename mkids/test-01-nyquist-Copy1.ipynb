{
 "cells": [
  {
   "cell_type": "code",
   "execution_count": null,
   "id": "be8965e8-90ba-4ee2-b53f-fe67004f2fe6",
   "metadata": {},
   "outputs": [],
   "source": [
    "import importlib\n",
    "from mkids import TopSoc\n",
    "import numpy as np\n",
    "import matplotlib.pyplot as plt\n",
    "import Scan\n",
    "from tqdm.notebook import trange\n",
    "soc = TopSoc()"
   ]
  },
  {
   "cell_type": "code",
   "execution_count": null,
   "id": "368e492f-e188-4017-874b-b7d604b25e79",
   "metadata": {},
   "outputs": [],
   "source": [
    "importlib.reload(Scan)\n",
    "scan = Scan.Scan(soc)"
   ]
  },
  {
   "cell_type": "code",
   "execution_count": null,
   "id": "47416783-92aa-4322-b528-0e8809ba8bae",
   "metadata": {},
   "outputs": [],
   "source": [
    "#fMixer = soc.fsOut/2\n",
    "fMixer=4500\n",
    "soc.set_mixer(fMixer)"
   ]
  },
  {
   "cell_type": "code",
   "execution_count": null,
   "id": "16c48805-7e5a-4cc8-8235-498e9d0813a6",
   "metadata": {},
   "outputs": [],
   "source": [
    "# One frequency per output bin, offset a little bit from the middle\n",
    "outChs = np.arange(soc.nOutCh)\n",
    "freqs = np.sort(soc.outCh2FreqCenter(outChs))\n",
    "inChs, inOffsets = soc.inFreq2chOffset(freqs)\n",
    "#for i in range(soc.nOutCh):\n",
    "#    print(\"freq=%8.3f  outCh=%3d  inCh=%4d   inOffset=%+5.3f\"%(freqs[i],outChs[i], inChs[i], inOffsets[i]))\n",
    "    #print(i, outChs[i], freqs[i])"
   ]
  },
  {
   "cell_type": "code",
   "execution_count": null,
   "id": "62502c72-e321-4b35-ab27-fbceccd79e0f",
   "metadata": {},
   "outputs": [],
   "source": [
    "nFreqs = len(freqs)\n",
    "amps = np.array([0.9])\n",
    "fis = np.array([0])\n",
    "allxs = np.zeros(nFreqs, dtype=complex)\n",
    "for i in trange(nFreqs):\n",
    "    fTone = freqs[i]\n",
    "    scan.setTones(np.array([fTone]), amps, fis)\n",
    "    scan.prepRead(decimation=2)\n",
    "    xs = scan.readAndUnpack(nsamp=10000, iBegin=1000, average=True)\n",
    "    allxs[i] = xs[0]"
   ]
  },
  {
   "cell_type": "code",
   "execution_count": null,
   "id": "79134a9b-83a9-4bcc-9d54-d4765cc75e2e",
   "metadata": {},
   "outputs": [],
   "source": [
    "plt.plot(freqs, 10*np.log10(np.abs(allxs)))\n",
    "#plt.plot(freqs, np.abs(allxs))\n",
    "plt.xlabel(\"frequency (MHz)\")\n",
    "plt.ylabel(\"amplitude measured dB\")\n",
    "plt.title(\"board=%s fMixer=%.1f\"%(soc.board, soc.get_mixer()))\n",
    "plt.savefig(\"temp.png\")\n"
   ]
  },
  {
   "cell_type": "code",
   "execution_count": null,
   "id": "fcd42786-9221-4b5e-b790-00cf15c2d29f",
   "metadata": {},
   "outputs": [],
   "source": [
    "freqs.shape"
   ]
  },
  {
   "cell_type": "code",
   "execution_count": null,
   "id": "dbc5a642-22a8-45a8-8d52-dc8bfe881746",
   "metadata": {},
   "outputs": [],
   "source": [
    "plt.plot(freqs, np.angle(allxs), ',')\n",
    "#plt.plot(freqs, np.abs(allxs))\n",
    "plt.xlabel(\"frequency (MHz)\")\n",
    "plt.ylabel(\"phi\")\n",
    "plt.title(\"board=%s fMixer=%.1f\"%(soc.board, soc.get_mixer()))\n"
   ]
  },
  {
   "cell_type": "code",
   "execution_count": null,
   "id": "fddb8796-f4c5-4d8e-aac8-90879ceb349a",
   "metadata": {},
   "outputs": [],
   "source": [
    "soc.dacs"
   ]
  },
  {
   "cell_type": "code",
   "execution_count": null,
   "id": "a24c71b1-a259-4d99-958e-d4d1a3ec0942",
   "metadata": {},
   "outputs": [],
   "source": [
    "fn = soc.fsIn/2\n",
    "print(\"fn =\",fn)\n",
    "nZone = 2\n",
    "fTone = (nZone-.5)*fn + 20\n",
    "print(\"fTone =\",fTone)\n",
    "fMixer = fTone - 250\n",
    "soc.set_mixer(fMixer)\n",
    "print(soc.inFreq2chOffset(fTone))\n",
    "freqs = np.array([fTone])\n",
    "amps = np.array([0.9])\n",
    "fis = np.array([0.0])\n",
    "bandwidth = soc.fcOut/100\n",
    "nf = 10\n",
    "decimation = 2\n",
    "nt = 1\n",
    "fscan = scan.fscan(freqs, amps, fis, bandwidth, nf, decimation, nt, doProgress=True)"
   ]
  },
  {
   "cell_type": "code",
   "execution_count": null,
   "id": "a278f6a4-dbd9-461f-a0aa-b75d3ef4149e",
   "metadata": {},
   "outputs": [],
   "source": [
    "Scan.fscanPlot(fscan,0)"
   ]
  },
  {
   "cell_type": "code",
   "execution_count": null,
   "id": "2568d863-2d33-4a1e-802b-32a3e2f770d3",
   "metadata": {},
   "outputs": [],
   "source": [
    "fAliased = soc.fAliasedFromFTone(freqs)\n",
    "print(fAliased)"
   ]
  },
  {
   "cell_type": "code",
   "execution_count": null,
   "id": "d2bab206-0e55-4fc8-b953-772aece35220",
   "metadata": {},
   "outputs": [],
   "source": [
    "outCh = soc.outFreq2ch(freqs)\n",
    "print(outCh)"
   ]
  },
  {
   "cell_type": "code",
   "execution_count": null,
   "id": "22e08318-5c06-4607-8072-cfacdbc64393",
   "metadata": {},
   "outputs": [],
   "source": [
    "importlib.reload(Scan)\n",
    "scan = Scan.Scan(soc)\n",
    "nominalDelay = scan.measureNominalDelay(outCh[0], decimation=2, doPlot=True)"
   ]
  },
  {
   "cell_type": "code",
   "execution_count": null,
   "id": "90cc64fa-d659-47ec-8683-d091ee474d2c",
   "metadata": {},
   "outputs": [],
   "source": []
  }
 ],
 "metadata": {
  "kernelspec": {
   "display_name": "Python 3",
   "language": "python",
   "name": "python3"
  },
  "language_info": {
   "codemirror_mode": {
    "name": "ipython",
    "version": 3
   },
   "file_extension": ".py",
   "mimetype": "text/x-python",
   "name": "python",
   "nbconvert_exporter": "python",
   "pygments_lexer": "ipython3",
   "version": "3.8.2"
  }
 },
 "nbformat": 4,
 "nbformat_minor": 5
}
