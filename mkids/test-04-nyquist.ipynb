{
 "cells": [
  {
   "cell_type": "code",
   "execution_count": null,
   "id": "3a4bcc65-5f9c-4691-94e0-cd485c7fa93b",
   "metadata": {},
   "outputs": [],
   "source": [
    "import importlib\n",
    "from mkids import TopSoc\n",
    "import numpy as np\n",
    "import matplotlib.pyplot as plt\n",
    "from tqdm.notebook import trange\n",
    "import Scan\n",
    "soc = TopSoc()"
   ]
  },
  {
   "cell_type": "code",
   "execution_count": null,
   "id": "256d5509-7a28-42bf-a8d4-ad673daa13f5",
   "metadata": {},
   "outputs": [],
   "source": [
    "fNyIn = soc.fsIn/2\n",
    "print(\"Input Nyquist Frequency =\",fNyIn)"
   ]
  },
  {
   "cell_type": "code",
   "execution_count": null,
   "id": "23e69f54-de82-4a88-846c-bab390c15bfb",
   "metadata": {},
   "outputs": [],
   "source": [
    "def fAliasedFromFTone(self, fTone):\n",
    "    fn = self.fsIn/2\n",
    "    \n",
    "    nZone = ((fTone/fn) + 1).astype(int)\n",
    "\n",
    "    fAliased = nZone*fn - fTone # This is for the even-numbered Nyquist zones\n",
    "    oddInds = np.mod(nZone,2) == 1\n",
    "    fAliased[oddInds] =  fTone[oddInds] - (nZone[oddInds]-1)*fn\n",
    "    return fAliased\n",
    "\n",
    "nZones = 4\n",
    "freqs = np.linspace(0,nZones*fNyIn, 100)\n",
    "aliasedFreqs = soc.fAliasedFromFTone(freqs)\n",
    "plt.plot(freqs, aliasedFreqs, '.')\n",
    "plt.xlabel(\"tone frequency (MHz)\")\n",
    "plt.ylabel(\"aliased frequency (MHz)\")"
   ]
  }
 ],
 "metadata": {
  "kernelspec": {
   "display_name": "Python 3",
   "language": "python",
   "name": "python3"
  },
  "language_info": {
   "codemirror_mode": {
    "name": "ipython",
    "version": 3
   },
   "file_extension": ".py",
   "mimetype": "text/x-python",
   "name": "python",
   "nbconvert_exporter": "python",
   "pygments_lexer": "ipython3",
   "version": "3.8.2"
  }
 },
 "nbformat": 4,
 "nbformat_minor": 5
}
