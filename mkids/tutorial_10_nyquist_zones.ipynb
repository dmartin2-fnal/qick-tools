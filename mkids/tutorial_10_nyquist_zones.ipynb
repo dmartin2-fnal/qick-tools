{
 "cells": [
  {
   "cell_type": "markdown",
   "id": "fe421e09-51f2-4528-9274-588d6e7fdbe0",
   "metadata": {},
   "source": [
    "Demonstrate functions that calculate Nyquist zone and aliased frequency"
   ]
  },
  {
   "cell_type": "code",
   "execution_count": 1,
   "id": "a7899a95-151e-4c22-a4f7-cc41136e1376",
   "metadata": {},
   "outputs": [
    {
     "data": {
      "application/javascript": [
       "\n",
       "try {\n",
       "require(['notebook/js/codecell'], function(codecell) {\n",
       "  codecell.CodeCell.options_default.highlight_modes[\n",
       "      'magic_text/x-csrc'] = {'reg':[/^%%microblaze/]};\n",
       "  Jupyter.notebook.events.one('kernel_ready.Kernel', function(){\n",
       "      Jupyter.notebook.get_cells().map(function(cell){\n",
       "          if (cell.cell_type == 'code'){ cell.auto_highlight(); } }) ;\n",
       "  });\n",
       "});\n",
       "} catch (e) {};\n"
      ]
     },
     "metadata": {},
     "output_type": "display_data"
    },
    {
     "data": {
      "application/javascript": [
       "\n",
       "try {\n",
       "require(['notebook/js/codecell'], function(codecell) {\n",
       "  codecell.CodeCell.options_default.highlight_modes[\n",
       "      'magic_text/x-csrc'] = {'reg':[/^%%pybind11/]};\n",
       "  Jupyter.notebook.events.one('kernel_ready.Kernel', function(){\n",
       "      Jupyter.notebook.get_cells().map(function(cell){\n",
       "          if (cell.cell_type == 'code'){ cell.auto_highlight(); } }) ;\n",
       "  });\n",
       "});\n",
       "} catch (e) {};\n"
      ]
     },
     "metadata": {},
     "output_type": "display_data"
    }
   ],
   "source": [
    "import importlib\n",
    "from mkids import TopSoc\n",
    "import numpy as np\n",
    "import matplotlib.pyplot as plt\n",
    "import Scan\n",
    "import pickle\n",
    "soc = TopSoc(force_init_clks=False)"
   ]
  },
  {
   "cell_type": "code",
   "execution_count": 3,
   "id": "f56924cb-d789-4f19-a141-f0826e230297",
   "metadata": {},
   "outputs": [
    {
     "name": "stdout",
     "output_type": "stream",
     "text": [
      "ADCs  {'20': {'fs': 2457.6, 'f_fabric': 307.2}}\n",
      "DACs  {'20': {'fs': 4915.2, 'f_fabric': 307.2}}\n"
     ]
    }
   ],
   "source": [
    "print(\"ADCs \", soc.adcs)\n",
    "print(\"DACs \", soc.dacs)"
   ]
  },
  {
   "cell_type": "code",
   "execution_count": 23,
   "id": "3f0a2cb7-552c-4c91-842c-03b8753ef3f2",
   "metadata": {},
   "outputs": [
    {
     "data": {
      "text/plain": [
       "Text(0.5, 0, 'Tone Frequency')"
      ]
     },
     "execution_count": 23,
     "metadata": {},
     "output_type": "execute_result"
    },
    {
     "data": {
      "image/png": "[encoded data removed]",
      "text/plain": [
       "<Figure size 432x288 with 2 Axes>"
      ]
     },
     "metadata": {
      "needs_background": "light"
     },
     "output_type": "display_data"
    }
   ],
   "source": [
    "fNyquist = soc.fsIn/2\n",
    "\n",
    "fig,ax = plt.subplots(2,1,sharex=True)\n",
    "for nZone in [1,2,3,4]:\n",
    "    fMixer = 500 + (nZone-1)*fNyquist\n",
    "    fMixerSet = soc.set_mixer(fMixer)\n",
    "    fTone = fMixer + 1.123\n",
    "    fTones = fTone + 42.3*np.arange(10)\n",
    "    nZones = soc.nZoneFromFTone(fTones)\n",
    "    assert nZone == nZones.mean()\n",
    "    fAliased = soc.fAliasedFromFTone(fTones)\n",
    "    \n",
    "    ax[0].plot(fTones, nZones, \".\",label=\"nZone=%d\"%nZone)\n",
    "    ax[1].plot(fTones, fAliased, \".\",label=nZone)\n",
    "ax[0].legend()\n",
    "ax[0].set_ylabel(\"Nyquist zone\")\n",
    "ax[1].set_ylabel(\"Aliased Frequency\")\n",
    "ax[1].set_xlabel(\"Tone Frequency\")\n",
    "    "
   ]
  },
  {
   "cell_type": "code",
   "execution_count": null,
   "id": "919cd783-5201-44a0-8d0f-1dbdf30f10ad",
   "metadata": {},
   "outputs": [],
   "source": []
  }
 ],
 "metadata": {
  "kernelspec": {
   "display_name": "Python 3",
   "language": "python",
   "name": "python3"
  },
  "language_info": {
   "codemirror_mode": {
    "name": "ipython",
    "version": 3
   },
   "file_extension": ".py",
   "mimetype": "text/x-python",
   "name": "python",
   "nbconvert_exporter": "python",
   "pygments_lexer": "ipython3",
   "version": "3.8.2"
  }
 },
 "nbformat": 4,
 "nbformat_minor": 5
}
