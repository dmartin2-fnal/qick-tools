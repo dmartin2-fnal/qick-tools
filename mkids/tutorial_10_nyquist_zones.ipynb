{
 "cells": [
  {
   "cell_type": "code",
   "execution_count": null,
   "id": "a7899a95-151e-4c22-a4f7-cc41136e1376",
   "metadata": {},
   "outputs": [],
   "source": [
    "import importlib\n",
    "from mkids import TopSoc\n",
    "import numpy as np\n",
    "import matplotlib.pyplot as plt\n",
    "import Scan\n",
    "import pickle\n",
    "soc = TopSoc()"
   ]
  },
  {
   "cell_type": "code",
   "execution_count": null,
   "id": "f56924cb-d789-4f19-a141-f0826e230297",
   "metadata": {},
   "outputs": [],
   "source": [
    "print(\"ADCs \", soc.adcs)\n",
    "print(\"DACs \", soc.dacs)"
   ]
  },
  {
   "cell_type": "code",
   "execution_count": null,
   "id": "c0e32d26-aadf-43c1-a38f-8d1d16949ed4",
   "metadata": {},
   "outputs": [],
   "source": [
    "adcKey = list(soc.adcs.keys())[0]\n",
    "fsAdc = soc.adcs[adcKey]['fs']\n",
    "dacKey = list(soc.dacs.keys())[0]\n",
    "# Here is that call to configure for the pfb out:\n",
    "# self.pfb_out.configure(self.dacs[self.dacChannel]['fs']/4, self.mixer, self.dacChannel)\n",
    "fsDac = soc.dacs[dacKey]['fs']/4\n",
    "print(\"fsAdc, fsDac =\",fsAdc, fsDac)\n",
    "fnAdc = fsAdc/2\n",
    "fnDac = fsDac/2\n",
    "print(\"fnAdc, fnDac =\",fnAdc, fnDac)\n",
    "\n"
   ]
  },
  {
   "cell_type": "code",
   "execution_count": null,
   "id": "0a038023-b218-4300-b1af-eec6517f73e4",
   "metadata": {},
   "outputs": [],
   "source": [
    "def fMeasFromFGen(fn, fGen, nZone):\n",
    "    if np.mod(nZone,2):\n",
    "        #print(\" ODD nZone =\",nZone)\n",
    "        fMeas = (nZone-1)*fn + fGen\n",
    "    else:\n",
    "        #print(\"EVEN nZone =\",nZone)\n",
    "        fMeas = nZone*fn - fGen\n",
    "    return fMeas\n",
    "\n",
    "def fGenFromFMeas(fn, fMeas):\n",
    "    nZone = int(fMeas/fn) + 1\n",
    "    if np.mod(nZone,2):\n",
    "        #print(\" ODD nZone =\",nZone)\n",
    "        fGen = fMeas - (nZone-1)*fn\n",
    "    else:\n",
    "        #print(\"EVEN nZone =\",nZone)\n",
    "        fGen = nZone*fn - fMeas\n",
    "    return fGen"
   ]
  },
  {
   "cell_type": "code",
   "execution_count": null,
   "id": "0c1b0380-965e-45d5-8327-8a58d3e73ba0",
   "metadata": {},
   "outputs": [],
   "source": [
    "fn = fnDac\n",
    "fGens = np.linspace(0,fn, 100)\n",
    "for nZone in [1,2,3,4]:\n",
    "    fMeas = np.zeros(len(fGens))\n",
    "    for i,fGen in enumerate(fGens):\n",
    "        fMeas[i] = fMeasFromFGen(fn, fGen, nZone)\n",
    "    plt.plot(fMeas,fGens, label=\"nZone=%d\"%nZone)\n",
    "plt.legend()\n",
    "fMeass = np.linspace(0,nZone*fn, 18)\n",
    "fGens = np.zeros(len(fMeass))\n",
    "for i,fMeas in enumerate(fMeass):\n",
    "    fGens[i] =  fGenFromFMeas(fn, fMeas)\n",
    "plt.plot(fMeass, fGens, 'ko')\n",
    "_ =plt.title(\"DAC fs = %f\"%fsDac)"
   ]
  },
  {
   "cell_type": "code",
   "execution_count": null,
   "id": "d73d647a-2fe9-40dc-be76-973a6fef2fa9",
   "metadata": {},
   "outputs": [],
   "source": [
    "fn = fnAdc\n",
    "fGens = np.linspace(0,fn, 100)\n",
    "for nZone in [1,2,3,4,5,6,7,8]:\n",
    "    fMeas = np.zeros(len(fGens))\n",
    "    for i,fGen in enumerate(fGens):\n",
    "        fMeas[i] = fMeasFromFGen(fn, fGen, nZone)\n",
    "    plt.plot(fMeas,fGens, label=\"nZone=%d\"%nZone)\n",
    "plt.legend()\n",
    "fMeass = np.linspace(0,nZone*fn, 18)\n",
    "fGens = np.zeros(len(fMeass))\n",
    "for i,fMeas in enumerate(fMeass):\n",
    "    fGens[i] =  fGenFromFMeas(fn, fMeas)\n",
    "plt.plot(fMeass, fGens, 'ko')\n",
    "_ =plt.title(\"ADC fs = %f\"%fsAdc)"
   ]
  },
  {
   "cell_type": "code",
   "execution_count": null,
   "id": "2302016c-7fd9-4dfb-ba96-49dd0c38f15a",
   "metadata": {},
   "outputs": [],
   "source": [
    "scan = Scan.Scan(soc)"
   ]
  },
  {
   "cell_type": "code",
   "execution_count": null,
   "id": "99bad075-3585-4dc4-8eab-b52f75373551",
   "metadata": {},
   "outputs": [],
   "source": [
    "fMixer = 14024\n",
    "soc.set_mixer(fMixer)"
   ]
  },
  {
   "cell_type": "code",
   "execution_count": null,
   "id": "ff65fb15-3fd2-481b-ac3d-7f2fa42b2b4a",
   "metadata": {},
   "outputs": [],
   "source": [
    "\n",
    "print(\"output\")\n",
    "print(\"fsDac =\",fsDac)\n",
    "print(\"soc.fsOut =\",soc.fsOut)\n",
    "print(\"soc.pf_out.fs =\",soc.pfb_out.fs)\n",
    "print(\"input\")\n",
    "print(\"fsAdc =\",fsAdc)\n",
    "print(\"soc.fsIn =\",soc.fsIn)"
   ]
  },
  {
   "cell_type": "code",
   "execution_count": null,
   "id": "1ab40096-aa67-4d20-8a93-b5de66a52f3c",
   "metadata": {},
   "outputs": [],
   "source": [
    "# Let's set fMixer to be the input Nyquist frequency minus 1/4 ouput bandwidth\n",
    "outputBandwidth = soc.nOutCh*soc.fcOut\n",
    "print(\"outputBandwidth =\",outputBandwidth)\n",
    "inputNyquist = soc.fsIn/2\n",
    "print(\"inputNyquist =\",inputNyquist)\n",
    "fMixer = soc.fsIn/2 - outputBandwidth/4\n",
    "print(\"fMixer = \",fMixer)\n",
    "soc.set_mixer(fMixer)"
   ]
  },
  {
   "cell_type": "code",
   "execution_count": null,
   "id": "f4ee19ea-09bc-4814-a184-0eb79c7119da",
   "metadata": {},
   "outputs": [],
   "source": [
    "soc.set_mixer(fMixer)\n",
    "fTone = fMixer + 12.345\n",
    "outCh = soc.outFreq2ch(fTone)\n",
    "inCh = soc.inFreq2ch(fTone)\n",
    "print(\"fMixer=%.2f fTone=%.2f outCh=%d inCh=%d\"%(fMixer, fTone, outCh, inCh))"
   ]
  },
  {
   "cell_type": "code",
   "execution_count": null,
   "id": "084708ec-978d-4668-a72b-6a49e9dacd58",
   "metadata": {},
   "outputs": [],
   "source": [
    "importlib.reload(Scan)\n",
    "scan = Scan.Scan(soc)\n",
    "def setAndRead(fTone, average=False, verbose=False):\n",
    "    scan.setTones(np.array([fTone]), np.array([0.9]), np.array([0.0]))\n",
    "    scan.prepRead(decimation=2)\n",
    "    xs = scan.readAndUnpack(nt=1, nsamp=10000, iBegin=1000, average=average)\n",
    "    if verbose:\n",
    "        f = scan.toneFreqs[0]\n",
    "        outCh = scan.outChs[0]\n",
    "        outDds = scan.outDds[0]\n",
    "        inCh = scan.inChs[0]\n",
    "        inOffset = scan.inOffsets[0]\n",
    "        print(\" f=%8.3f  outCh=%3d  outDds=%+6.3f  inCh=%4d   inOffset=%+6.3f\"%(fTone, outCh, outDds, inCh, inOffset))\n",
    "    return xs\n",
    "x = setAndRead(fTone, verbose=True)\n"
   ]
  },
  {
   "cell_type": "code",
   "execution_count": null,
   "id": "76d73232-725c-4fee-bad1-05560738b44b",
   "metadata": {},
   "outputs": [],
   "source": [
    "freqs = 1805.5+0.1*np.arange(30)\n",
    "for f in freqs:\n",
    "    x = setAndRead(f, verbose=True)"
   ]
  },
  {
   "cell_type": "code",
   "execution_count": null,
   "id": "1c3de269-8eb6-4ec0-9c61-84f2cf92ac77",
   "metadata": {},
   "outputs": [],
   "source": [
    "plt.plot(np.real(x[0][0]))\n",
    "plt.plot(np.imag(x[0][0]))\n",
    "plt.title(\"fMix=%.2f fTone=%.2f\"%(scan.soc.get_mixer(), fTone))"
   ]
  },
  {
   "cell_type": "code",
   "execution_count": null,
   "id": "4df949f2-d576-4ee4-848e-19714cc0751b",
   "metadata": {},
   "outputs": [],
   "source": [
    "freqs = 1805.5+0.1*np.arange(30)\n",
    "amps = np.zeros(len(freqs))\n",
    "for i,freq in enumerate(freqs):\n",
    "    x = setAndRead(freq, verbose=True)\n",
    "    amp = np.abs(x[0][0].mean())\n",
    "    amps[i] = amp"
   ]
  },
  {
   "cell_type": "code",
   "execution_count": null,
   "id": "daa871fb-595b-455f-a6d4-945cfa126c38",
   "metadata": {},
   "outputs": [],
   "source": [
    "plt.plot(freqs,amps, '-o')\n",
    "#plt.axvline(soc.fsIn/2, c='r')"
   ]
  },
  {
   "cell_type": "code",
   "execution_count": null,
   "id": "74caaf3f-65fb-4641-970c-bdd036a7c263",
   "metadata": {},
   "outputs": [],
   "source": [
    "freqs = 2047+0.1*np.arange(30)\n",
    "amps = np.zeros(len(freqs))\n",
    "for i,freq in enumerate(freqs):\n",
    "    x = setAndRead(freq, verbose=True)\n",
    "    amp = np.abs(x[0][0].mean())\n",
    "    amps[i] = amp"
   ]
  },
  {
   "cell_type": "code",
   "execution_count": null,
   "id": "3cf6b16d-51ff-400e-888f-212a97e02f42",
   "metadata": {},
   "outputs": [],
   "source": [
    "plt.plot(freqs,amps, '-o')\n",
    "plt.axvline(soc.fsIn/2, c='r')\n"
   ]
  },
  {
   "cell_type": "code",
   "execution_count": null,
   "id": "13c2139d-75e5-4750-bd8c-33aef638f2af",
   "metadata": {},
   "outputs": [],
   "source": [
    "freqs = 2047+0.1*np.arange(100)\n",
    "amps = np.zeros(len(freqs))\n",
    "for i,freq in enumerate(freqs):\n",
    "    x = setAndRead(freq, verbose=True)\n",
    "    amp = np.abs(x[0][0].mean())\n",
    "    amps[i] = amp\n",
    "plt.plot(freqs,amps, '-o')\n",
    "plt.axvline(soc.fsIn/2, c='r')\n"
   ]
  },
  {
   "cell_type": "code",
   "execution_count": null,
   "id": "05bc1411-0cf4-4a4a-b9ba-612afb80e971",
   "metadata": {},
   "outputs": [],
   "source": [
    "freqs = 2045+2*np.arange(100)\n",
    "amps = np.zeros(len(freqs))\n",
    "for i,freq in enumerate(freqs):\n",
    "    x = setAndRead(freq, verbose=True)\n",
    "    amp = np.abs(x[0][0].mean())\n",
    "    amps[i] = amp\n",
    "plt.plot(freqs,amps, '-o')\n",
    "plt.axvline(soc.fsIn/2, c='r')\n"
   ]
  },
  {
   "cell_type": "code",
   "execution_count": null,
   "id": "dcfa038f-eaa3-4c8e-be91-1dca90a38d65",
   "metadata": {},
   "outputs": [],
   "source": []
  }
 ],
 "metadata": {
  "kernelspec": {
   "display_name": "Python 3",
   "language": "python",
   "name": "python3"
  },
  "language_info": {
   "codemirror_mode": {
    "name": "ipython",
    "version": 3
   },
   "file_extension": ".py",
   "mimetype": "text/x-python",
   "name": "python",
   "nbconvert_exporter": "python",
   "pygments_lexer": "ipython3",
   "version": "3.8.2"
  }
 },
 "nbformat": 4,
 "nbformat_minor": 5
}
