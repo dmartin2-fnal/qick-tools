{
 "cells": [
  {
   "cell_type": "markdown",
   "id": "6fb82238-d5e6-463c-b322-8ef0dd0ad569",
   "metadata": {},
   "source": [
    "Generate one tone on the output DAC and read it on the ADC"
   ]
  },
  {
   "cell_type": "code",
   "execution_count": 1,
   "id": "ab000e0a-d337-4546-a56a-618f2efb4cfe",
   "metadata": {},
   "outputs": [
    {
     "data": {
      "application/javascript": [
       "\n",
       "try {\n",
       "require(['notebook/js/codecell'], function(codecell) {\n",
       "  codecell.CodeCell.options_default.highlight_modes[\n",
       "      'magic_text/x-csrc'] = {'reg':[/^%%microblaze/]};\n",
       "  Jupyter.notebook.events.one('kernel_ready.Kernel', function(){\n",
       "      Jupyter.notebook.get_cells().map(function(cell){\n",
       "          if (cell.cell_type == 'code'){ cell.auto_highlight(); } }) ;\n",
       "  });\n",
       "});\n",
       "} catch (e) {};\n"
      ]
     },
     "metadata": {},
     "output_type": "display_data"
    },
    {
     "data": {
      "application/javascript": [
       "\n",
       "try {\n",
       "require(['notebook/js/codecell'], function(codecell) {\n",
       "  codecell.CodeCell.options_default.highlight_modes[\n",
       "      'magic_text/x-csrc'] = {'reg':[/^%%pybind11/]};\n",
       "  Jupyter.notebook.events.one('kernel_ready.Kernel', function(){\n",
       "      Jupyter.notebook.get_cells().map(function(cell){\n",
       "          if (cell.cell_type == 'code'){ cell.auto_highlight(); } }) ;\n",
       "  });\n",
       "});\n",
       "} catch (e) {};\n"
      ]
     },
     "metadata": {},
     "output_type": "display_data"
    }
   ],
   "source": [
    "import importlib\n",
    "import Mkids\n",
    "import numpy as np\n",
    "import matplotlib.pyplot as plt\n",
    "from MkidsSoc import *\n",
    "mkidsSoc = MkidsSoc(force_init_clks=False)"
   ]
  },
  {
   "cell_type": "code",
   "execution_count": 2,
   "id": "c5e0de44-445d-4916-b8c4-556221d651fe",
   "metadata": {},
   "outputs": [],
   "source": [
    "importlib.reload(Mkids)\n",
    "mkids = Mkids.Mkids(mkidsSoc)\n"
   ]
  },
  {
   "cell_type": "code",
   "execution_count": 3,
   "id": "17b143b4-e267-466b-88ba-c8e382cfa75c",
   "metadata": {},
   "outputs": [],
   "source": [
    "# Place the mixer so the output frequencies are centered on range of input frequencies\n",
    "fMixer = mkids.fsIn/2\n",
    "mkids.setFMixer(fMixer)\n"
   ]
  },
  {
   "cell_type": "code",
   "execution_count": 4,
   "id": "aacbf5eb-752e-4616-9531-47a4cbf4e31d",
   "metadata": {},
   "outputs": [
    {
     "name": "stdout",
     "output_type": "stream",
     "text": [
      "fTone = 1350.472323 MHz\n",
      "  inCh= 653    inOffset=-0.027677\n",
      " outCh= 163   outOffset=+0.472323\n"
     ]
    }
   ],
   "source": [
    "# Choose a tone frequency\n",
    "fTone = fMixer + mkids.fsOut/np.pi + 0.523\n",
    "inCh,inOffset = mkids.inFreq2chOffset(fTone)\n",
    "outCh,outOffset = mkids.outFreq2chOffset(fTone)\n",
    "print(\"fTone = %.6f MHz\"%fTone)\n",
    "print(\"  inCh=%4d    inOffset=%+.6f\"%(inCh, inOffset))\n",
    "print(\" outCh=%4d   outOffset=%+.6f\"%(outCh, outOffset))"
   ]
  },
  {
   "cell_type": "code",
   "execution_count": 5,
   "id": "c46c673b-d93d-48d6-b4e0-9aa4fb080691",
   "metadata": {},
   "outputs": [
    {
     "name": "stdout",
     "output_type": "stream",
     "text": [
      "setMultiTones:  multiFreqs = [0.89996338]\n",
      "setMultiTones:  fMixer = 1024.0  fMixerQuantized = 1024.0\n",
      "setMultiTones:  outCh=   0 f=-1023.100037 amplitude=1350.472323 \n"
     ]
    },
    {
     "ename": "ValueError",
     "evalue": "frequency=-1023100036.621094 not contained in [0.000000,4000000.000000)",
     "output_type": "error",
     "traceback": [
      "\u001b[0;31m---------------------------------------------------------------------------\u001b[0m",
      "\u001b[0;31mValueError\u001b[0m                                Traceback (most recent call last)",
      "\u001b[0;32m<ipython-input-5-891b229e2608>\u001b[0m in \u001b[0;36m<module>\u001b[0;34m\u001b[0m\n\u001b[1;32m      6\u001b[0m \u001b[0mfrequencies\u001b[0m \u001b[0;34m=\u001b[0m \u001b[0mnp\u001b[0m\u001b[0;34m.\u001b[0m\u001b[0marray\u001b[0m\u001b[0;34m(\u001b[0m\u001b[0;34m[\u001b[0m\u001b[0mfTone\u001b[0m\u001b[0;34m]\u001b[0m\u001b[0;34m)\u001b[0m\u001b[0;34m\u001b[0m\u001b[0;34m\u001b[0m\u001b[0m\n\u001b[1;32m      7\u001b[0m \u001b[0mfis\u001b[0m \u001b[0;34m=\u001b[0m \u001b[0mnp\u001b[0m\u001b[0;34m.\u001b[0m\u001b[0marray\u001b[0m\u001b[0;34m(\u001b[0m\u001b[0;34m[\u001b[0m\u001b[0;36m1.234\u001b[0m\u001b[0;34m]\u001b[0m\u001b[0;34m)\u001b[0m\u001b[0;34m\u001b[0m\u001b[0;34m\u001b[0m\u001b[0m\n\u001b[0;32m----> 8\u001b[0;31m \u001b[0mmkids\u001b[0m\u001b[0;34m.\u001b[0m\u001b[0msetMultiTones\u001b[0m\u001b[0;34m(\u001b[0m\u001b[0mamplitudes\u001b[0m\u001b[0;34m,\u001b[0m \u001b[0mfrequencies\u001b[0m\u001b[0;34m,\u001b[0m \u001b[0mfis\u001b[0m\u001b[0;34m,\u001b[0m \u001b[0mfMixer\u001b[0m\u001b[0;34m,\u001b[0m \u001b[0mverbose\u001b[0m\u001b[0;34m=\u001b[0m\u001b[0;32mTrue\u001b[0m\u001b[0;34m)\u001b[0m\u001b[0;34m\u001b[0m\u001b[0;34m\u001b[0m\u001b[0m\n\u001b[0m",
      "\u001b[0;32m/home/xilinx/jupyter_notebooks/qick-tools/mkids/Mkids.py\u001b[0m in \u001b[0;36msetMultiTones\u001b[0;34m(self, frequencies, amplitudes, fis, fMixer, verbose)\u001b[0m\n\u001b[1;32m    285\u001b[0m             \u001b[0;32mif\u001b[0m \u001b[0mverbose\u001b[0m\u001b[0;34m:\u001b[0m\u001b[0;34m\u001b[0m\u001b[0;34m\u001b[0m\u001b[0m\n\u001b[1;32m    286\u001b[0m                 \u001b[0mprint\u001b[0m\u001b[0;34m(\u001b[0m\u001b[0;34m\"setMultiTones:  outCh=%4d f=%+f amplitude=%f \"\u001b[0m\u001b[0;34m%\u001b[0m\u001b[0;34m(\u001b[0m\u001b[0moutCh\u001b[0m\u001b[0;34m,\u001b[0m \u001b[0mmultiOutDds\u001b[0m\u001b[0;34m,\u001b[0m \u001b[0mamplitude\u001b[0m\u001b[0;34m)\u001b[0m\u001b[0;34m)\u001b[0m\u001b[0;34m\u001b[0m\u001b[0;34m\u001b[0m\u001b[0m\n\u001b[0;32m--> 287\u001b[0;31m             \u001b[0mself\u001b[0m\u001b[0;34m.\u001b[0m\u001b[0mdds_out\u001b[0m\u001b[0;34m.\u001b[0m\u001b[0mddscfg\u001b[0m\u001b[0;34m(\u001b[0m\u001b[0mf\u001b[0m\u001b[0;34m=\u001b[0m\u001b[0mmultiOutDds\u001b[0m\u001b[0;34m*\u001b[0m\u001b[0;36m1e6\u001b[0m\u001b[0;34m,\u001b[0m \u001b[0mfi\u001b[0m\u001b[0;34m=\u001b[0m\u001b[0mnp\u001b[0m\u001b[0;34m.\u001b[0m\u001b[0mdegrees\u001b[0m\u001b[0;34m(\u001b[0m\u001b[0mfi\u001b[0m\u001b[0;34m)\u001b[0m\u001b[0;34m,\u001b[0m \u001b[0mg\u001b[0m\u001b[0;34m=\u001b[0m\u001b[0mamplitude\u001b[0m\u001b[0;34m,\u001b[0m \u001b[0mch\u001b[0m\u001b[0;34m=\u001b[0m\u001b[0moutCh\u001b[0m\u001b[0;34m)\u001b[0m\u001b[0;34m\u001b[0m\u001b[0;34m\u001b[0m\u001b[0m\n\u001b[0m\u001b[1;32m    288\u001b[0m         \u001b[0;31m# Prepare for readouts\u001b[0m\u001b[0;34m\u001b[0m\u001b[0;34m\u001b[0m\u001b[0;34m\u001b[0m\u001b[0m\n\u001b[1;32m    289\u001b[0m         \u001b[0mself\u001b[0m\u001b[0;34m.\u001b[0m\u001b[0mmultiInChs\u001b[0m\u001b[0;34m,\u001b[0m \u001b[0mself\u001b[0m\u001b[0;34m.\u001b[0m\u001b[0minDdss\u001b[0m \u001b[0;34m=\u001b[0m \u001b[0mself\u001b[0m\u001b[0;34m.\u001b[0m\u001b[0minFreq2chOffset\u001b[0m\u001b[0;34m(\u001b[0m\u001b[0mself\u001b[0m\u001b[0;34m.\u001b[0m\u001b[0mmultiFreqs\u001b[0m\u001b[0;34m)\u001b[0m\u001b[0;34m\u001b[0m\u001b[0;34m\u001b[0m\u001b[0m\n",
      "\u001b[0;32m/home/xilinx/jupyter_notebooks/qick-tools/mkids_111_4x4096/mkids_4x4096_v4.py\u001b[0m in \u001b[0;36mddscfg\u001b[0;34m(self, f, fi, g, ch, sel)\u001b[0m\n\u001b[1;32m    624\u001b[0m                     \u001b[0;32mraise\u001b[0m \u001b[0mValueError\u001b[0m\u001b[0;34m(\u001b[0m\u001b[0;34m'phase=%f not contained in [%f,%f)'\u001b[0m\u001b[0;34m%\u001b[0m\u001b[0;34m(\u001b[0m\u001b[0mfi\u001b[0m\u001b[0;34m,\u001b[0m\u001b[0mself\u001b[0m\u001b[0;34m.\u001b[0m\u001b[0mMIN_PHI\u001b[0m\u001b[0;34m,\u001b[0m\u001b[0mself\u001b[0m\u001b[0;34m.\u001b[0m\u001b[0mMAX_PHI\u001b[0m\u001b[0;34m)\u001b[0m\u001b[0;34m)\u001b[0m\u001b[0;34m\u001b[0m\u001b[0;34m\u001b[0m\u001b[0m\n\u001b[1;32m    625\u001b[0m             \u001b[0;32melse\u001b[0m\u001b[0;34m:\u001b[0m\u001b[0;34m\u001b[0m\u001b[0;34m\u001b[0m\u001b[0m\n\u001b[0;32m--> 626\u001b[0;31m                 \u001b[0;32mraise\u001b[0m \u001b[0mValueError\u001b[0m\u001b[0;34m(\u001b[0m\u001b[0;34m'frequency=%f not contained in [%f,%f)'\u001b[0m\u001b[0;34m%\u001b[0m\u001b[0;34m(\u001b[0m\u001b[0mf\u001b[0m\u001b[0;34m,\u001b[0m\u001b[0;36m0\u001b[0m\u001b[0;34m,\u001b[0m\u001b[0mself\u001b[0m\u001b[0;34m.\u001b[0m\u001b[0mFS_DDS\u001b[0m\u001b[0;34m)\u001b[0m\u001b[0;34m)\u001b[0m\u001b[0;34m\u001b[0m\u001b[0;34m\u001b[0m\u001b[0m\n\u001b[0m\u001b[1;32m    627\u001b[0m         \u001b[0;32melse\u001b[0m\u001b[0;34m:\u001b[0m\u001b[0;34m\u001b[0m\u001b[0;34m\u001b[0m\u001b[0m\n\u001b[1;32m    628\u001b[0m             \u001b[0;32mraise\u001b[0m \u001b[0mValueError\u001b[0m\u001b[0;34m(\u001b[0m\u001b[0;34m'ch=%d not contained in [%d,%d)'\u001b[0m\u001b[0;34m%\u001b[0m\u001b[0;34m(\u001b[0m\u001b[0mch\u001b[0m\u001b[0;34m,\u001b[0m\u001b[0;36m0\u001b[0m\u001b[0;34m,\u001b[0m\u001b[0mself\u001b[0m\u001b[0;34m.\u001b[0m\u001b[0mNCH_TOTAL\u001b[0m\u001b[0;34m)\u001b[0m\u001b[0;34m)\u001b[0m\u001b[0;34m\u001b[0m\u001b[0;34m\u001b[0m\u001b[0m\n",
      "\u001b[0;31mValueError\u001b[0m: frequency=-1023100036.621094 not contained in [0.000000,4000000.000000)"
     ]
    }
   ],
   "source": [
    "# This generates a single tone\n",
    "# Look at the DAC output on scope or spectrum analyzer if you wish.\n",
    "# It also sets the input channel to demodulate this tone back to DC, and it\n",
    "# prepares readout.\n",
    "amplitudes = np.array([0.9])\n",
    "frequencies = np.array([fTone])\n",
    "fis = np.array([1.234])\n",
    "mkids.setMultiTones(amplitudes, frequencies, fis, fMixer, verbose=True)"
   ]
  },
  {
   "cell_type": "code",
   "execution_count": null,
   "id": "6360bf03-59c4-41eb-a239-dccfa0b6f86e",
   "metadata": {},
   "outputs": [],
   "source": [
    "nt = 1\n",
    "xs = mkids.readAllMultiTones(nt=nt)\n"
   ]
  },
  {
   "cell_type": "code",
   "execution_count": null,
   "id": "17bdc4ac-0162-4aea-829e-60fc27c720de",
   "metadata": {},
   "outputs": [],
   "source": [
    "iValues = np.real(xs[inCh])\n",
    "qValues = np.imag(xs[inCh])\n",
    "plt.plot(iValues, label=\"I\")\n",
    "plt.plot(qValues, label=\"Q\")\n",
    "plt.xlabel(\"Sample Number\")\n",
    "plt.ylabel(\"Value (ADUs)\")\n",
    "plt.legend()\n",
    "plt.title(\"fToneRequested=%.6f  fToneQuantized=%.6f\"%(fTone, mkids.multiFreqs[0]))"
   ]
  }
 ],
 "metadata": {
  "kernelspec": {
   "display_name": "Python 3",
   "language": "python",
   "name": "python3"
  },
  "language_info": {
   "codemirror_mode": {
    "name": "ipython",
    "version": 3
   },
   "file_extension": ".py",
   "mimetype": "text/x-python",
   "name": "python",
   "nbconvert_exporter": "python",
   "pygments_lexer": "ipython3",
   "version": "3.8.2"
  }
 },
 "nbformat": 4,
 "nbformat_minor": 5
}
