{
 "cells": [
  {
   "cell_type": "markdown",
   "id": "6fb82238-d5e6-463c-b322-8ef0dd0ad569",
   "metadata": {},
   "source": [
    "Generate one tone on the output DAC and read it on the ADC.\n",
    "\n",
    "Change the number of samples per read (streamLength) and repeat for a tone at a different frequency."
   ]
  },
  {
   "cell_type": "code",
   "execution_count": 1,
   "id": "ab000e0a-d337-4546-a56a-618f2efb4cfe",
   "metadata": {},
   "outputs": [
    {
     "data": {
      "application/javascript": [
       "\n",
       "try {\n",
       "require(['notebook/js/codecell'], function(codecell) {\n",
       "  codecell.CodeCell.options_default.highlight_modes[\n",
       "      'magic_text/x-csrc'] = {'reg':[/^%%microblaze/]};\n",
       "  Jupyter.notebook.events.one('kernel_ready.Kernel', function(){\n",
       "      Jupyter.notebook.get_cells().map(function(cell){\n",
       "          if (cell.cell_type == 'code'){ cell.auto_highlight(); } }) ;\n",
       "  });\n",
       "});\n",
       "} catch (e) {};\n"
      ]
     },
     "metadata": {},
     "output_type": "display_data"
    },
    {
     "data": {
      "application/javascript": [
       "\n",
       "try {\n",
       "require(['notebook/js/codecell'], function(codecell) {\n",
       "  codecell.CodeCell.options_default.highlight_modes[\n",
       "      'magic_text/x-csrc'] = {'reg':[/^%%pybind11/]};\n",
       "  Jupyter.notebook.events.one('kernel_ready.Kernel', function(){\n",
       "      Jupyter.notebook.get_cells().map(function(cell){\n",
       "          if (cell.cell_type == 'code'){ cell.auto_highlight(); } }) ;\n",
       "  });\n",
       "});\n",
       "} catch (e) {};\n"
      ]
     },
     "metadata": {},
     "output_type": "display_data"
    }
   ],
   "source": [
    "import importlib\n",
    "import Mkids\n",
    "import numpy as np\n",
    "import matplotlib.pyplot as plt\n",
    "from MkidsSoc import *\n",
    "mkidsSoc = MkidsSoc(force_init_clks=False)"
   ]
  },
  {
   "cell_type": "code",
   "execution_count": 2,
   "id": "c5e0de44-445d-4916-b8c4-556221d651fe",
   "metadata": {},
   "outputs": [],
   "source": [
    "importlib.reload(Mkids)\n",
    "mkids = Mkids.Mkids(mkidsSoc)\n"
   ]
  },
  {
   "cell_type": "code",
   "execution_count": 3,
   "id": "17b143b4-e267-466b-88ba-c8e382cfa75c",
   "metadata": {},
   "outputs": [],
   "source": [
    "# Place the mixer so the output frequencies are centered on range of input frequencies\n",
    "fMixer = mkids.fsIn/2\n",
    "mkids.setFMixer(fMixer)\n"
   ]
  },
  {
   "cell_type": "code",
   "execution_count": 4,
   "id": "aacbf5eb-752e-4616-9531-47a4cbf4e31d",
   "metadata": {},
   "outputs": [
    {
     "name": "stdout",
     "output_type": "stream",
     "text": [
      "fTone = 1350.472323 MHz\n",
      "  inCh= 653    inOffset=-0.027677\n",
      " outCh= 163   outOffset=+0.472323\n"
     ]
    }
   ],
   "source": [
    "# Choose a tone frequency\n",
    "fTone = fMixer + mkids.fsOut/np.pi + 0.523\n",
    "inCh,inOffset = mkids.inFreq2chOffset(fTone)\n",
    "outCh,outOffset = mkids.outFreq2chOffset(fTone)\n",
    "print(\"fTone = %.6f MHz\"%fTone)\n",
    "print(\"  inCh=%4d    inOffset=%+.6f\"%(inCh, inOffset))\n",
    "print(\" outCh=%4d   outOffset=%+.6f\"%(outCh, outOffset))"
   ]
  },
  {
   "cell_type": "code",
   "execution_count": 5,
   "id": "c46c673b-d93d-48d6-b4e0-9aa4fb080691",
   "metadata": {},
   "outputs": [
    {
     "name": "stdout",
     "output_type": "stream",
     "text": [
      "setMultiTones:  multiFreqs = [1350.47229004]\n",
      "setMultiTones:  fMixer = 1024.0  fMixerQuantized = 1024.0\n",
      "setMultiTones:  outCh= 163 f=+0.472290 amplitude=0.900000 \n",
      "setMultiTones:   inCh= 653 f=-0.027710\n",
      "setupReadAllMultitones: for inCh=653 set bit=17 in addr=2\n",
      "setupReadAllMultitones: addr= 0  data=00000000\n",
      "setupReadAllMultitones: addr= 1  data=00000000\n",
      "setupReadAllMultitones: addr= 2  data=00020000\n",
      "setupReadAllMultitones: addr= 3  data=00000000\n",
      "setupReadAllMultitones: addr= 4  data=00000000\n",
      "setupReadAllMultitones: addr= 5  data=00000000\n",
      "setupReadAllMultitones: addr= 6  data=00000000\n",
      "setupReadAllMultitones: addr= 7  data=00000000\n",
      "setupReadAllMultitones: addr= 8  data=00000000\n",
      "setupReadAllMultitones: addr= 9  data=00000000\n",
      "setupReadAllMultitones: addr=10  data=00000000\n",
      "setupReadAllMultitones: addr=11  data=00000000\n",
      "setupReadAllMultitones: addr=12  data=00000000\n",
      "setupReadAllMultitones: addr=13  data=00000000\n",
      "setupReadAllMultitones: addr=14  data=00000000\n",
      "setupReadAllMultitones: addr=15  data=00000000\n"
     ]
    }
   ],
   "source": [
    "# This generates a single tone\n",
    "# Look at the DAC output on scope or spectrum analyzer if you wish.\n",
    "# It also sets the input channel to demodulate this tone back to DC, and it\n",
    "# prepares readout.\n",
    "amplitudes = np.array([0.9])\n",
    "frequencies = np.array([fTone])\n",
    "fis = np.array([1.234])\n",
    "mkids.setMultiTones(frequencies, amplitudes, fis, fMixer, verbose=True)"
   ]
  },
  {
   "cell_type": "code",
   "execution_count": 6,
   "id": "6360bf03-59c4-41eb-a239-dccfa0b6f86e",
   "metadata": {},
   "outputs": [],
   "source": [
    "nt = 1\n",
    "xs = mkids.readAllMultiTones(nt=nt)\n"
   ]
  },
  {
   "cell_type": "code",
   "execution_count": 7,
   "id": "17bdc4ac-0162-4aea-829e-60fc27c720de",
   "metadata": {},
   "outputs": [
    {
     "data": {
      "text/plain": [
       "Text(0.5, 1.0, 'fToneRequested=1350.472323  fToneQuantized=1350.472290')"
      ]
     },
     "execution_count": 7,
     "metadata": {},
     "output_type": "execute_result"
    },
    {
     "data": {
      "image/png": "[encoded data removed]",
      "text/plain": [
       "<Figure size 432x288 with 1 Axes>"
      ]
     },
     "metadata": {
      "needs_background": "light"
     },
     "output_type": "display_data"
    }
   ],
   "source": [
    "iValues = np.real(xs[inCh])\n",
    "qValues = np.imag(xs[inCh])\n",
    "plt.plot(iValues, label=\"I\")\n",
    "plt.plot(qValues, label=\"Q\")\n",
    "plt.xlabel(\"Sample Number\")\n",
    "plt.ylabel(\"Value (ADUs)\")\n",
    "plt.legend()\n",
    "plt.title(\"fToneRequested=%.6f  fToneQuantized=%.6f\"%(fTone, mkids.multiFreqs[0]))"
   ]
  },
  {
   "cell_type": "code",
   "execution_count": 8,
   "id": "e6fc0d6b-f9ce-4446-8d11-70337b63e2cc",
   "metadata": {},
   "outputs": [
    {
     "name": "stdout",
     "output_type": "stream",
     "text": [
      "fTone = 1339.715323 MHz\n",
      "  inCh= 631    inOffset=+0.215323\n",
      " outCh= 158   outOffset=-0.284677\n"
     ]
    }
   ],
   "source": [
    "# Choose a tone frequency\n",
    "fTone = fMixer + mkids.fsOut/np.pi - 10.234\n",
    "inCh,inOffset = mkids.inFreq2chOffset(fTone)\n",
    "outCh,outOffset = mkids.outFreq2chOffset(fTone)\n",
    "print(\"fTone = %.6f MHz\"%fTone)\n",
    "print(\"  inCh=%4d    inOffset=%+.6f\"%(inCh, inOffset))\n",
    "print(\" outCh=%4d   outOffset=%+.6f\"%(outCh, outOffset))"
   ]
  },
  {
   "cell_type": "code",
   "execution_count": 9,
   "id": "5bb0f5f3-8745-4a59-a9f3-acd29512e25e",
   "metadata": {},
   "outputs": [
    {
     "name": "stdout",
     "output_type": "stream",
     "text": [
      "inCh = 631\n"
     ]
    },
    {
     "data": {
      "text/plain": [
       "Text(0.5, 1.0, 'fToneRequested=1339.715323  fToneQuantized=1339.715271')"
      ]
     },
     "execution_count": 9,
     "metadata": {},
     "output_type": "execute_result"
    },
    {
     "data": {
      "image/png": "[encoded data removed]",
      "text/plain": [
       "<Figure size 432x288 with 1 Axes>"
      ]
     },
     "metadata": {
      "needs_background": "light"
     },
     "output_type": "display_data"
    }
   ],
   "source": [
    "amplitudes = np.array([0.9])\n",
    "frequencies = np.array([fTone])\n",
    "fis = np.array([1.234])\n",
    "mkids.setMultiTones(frequencies, amplitudes, fis, fMixer, verbose=False)\n",
    "mkids.setStreamLength(20000)\n",
    "xs = mkids.readAllMultiTones(nt=nt)\n",
    "inCh = list(xs.keys())[0]\n",
    "print(\"inCh =\",inCh)\n",
    "iValues = np.real(xs[inCh])\n",
    "qValues = np.imag(xs[inCh])\n",
    "plt.plot(iValues, label=\"I\")\n",
    "plt.plot(qValues, label=\"Q\")\n",
    "plt.xlabel(\"Sample Number\")\n",
    "plt.ylabel(\"Value (ADUs)\")\n",
    "plt.legend()\n",
    "plt.title(\"fToneRequested=%.6f  fToneQuantized=%.6f\"%(fTone, mkids.multiFreqs[0]))"
   ]
  }
 ],
 "metadata": {
  "kernelspec": {
   "display_name": "Python 3",
   "language": "python",
   "name": "python3"
  },
  "language_info": {
   "codemirror_mode": {
    "name": "ipython",
    "version": 3
   },
   "file_extension": ".py",
   "mimetype": "text/x-python",
   "name": "python",
   "nbconvert_exporter": "python",
   "pygments_lexer": "ipython3",
   "version": "3.8.2"
  }
 },
 "nbformat": 4,
 "nbformat_minor": 5
}
