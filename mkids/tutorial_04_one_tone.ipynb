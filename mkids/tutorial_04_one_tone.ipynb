{
 "cells": [
  {
   "cell_type": "markdown",
   "id": "6fb82238-d5e6-463c-b322-8ef0dd0ad569",
   "metadata": {},
   "source": [
    "Generate one tone on the output DAC and read it on the ADC.\n",
    "\n",
    "Change the number of samples per read (streamLength) and repeat for a tone at a different frequency."
   ]
  },
  {
   "cell_type": "code",
   "execution_count": null,
   "id": "ab000e0a-d337-4546-a56a-618f2efb4cfe",
   "metadata": {},
   "outputs": [],
   "source": [
    "import importlib\n",
    "import Mkids\n",
    "import numpy as np\n",
    "import matplotlib.pyplot as plt\n",
    "from MkidsSoc import *\n",
    "mkidsSoc = MkidsSoc(force_init_clks=False)"
   ]
  },
  {
   "cell_type": "code",
   "execution_count": null,
   "id": "c5e0de44-445d-4916-b8c4-556221d651fe",
   "metadata": {},
   "outputs": [],
   "source": [
    "importlib.reload(Mkids)\n",
    "mkids = Mkids.Mkids(mkidsSoc)\n"
   ]
  },
  {
   "cell_type": "code",
   "execution_count": null,
   "id": "17b143b4-e267-466b-88ba-c8e382cfa75c",
   "metadata": {},
   "outputs": [],
   "source": [
    "# Place the mixer so the output frequencies are centered on range of input frequencies\n",
    "fMixer = mkids.fsIn/2\n",
    "mkids.setFMixer(fMixer)\n"
   ]
  },
  {
   "cell_type": "code",
   "execution_count": null,
   "id": "aacbf5eb-752e-4616-9531-47a4cbf4e31d",
   "metadata": {},
   "outputs": [],
   "source": [
    "# Choose a tone frequency\n",
    "fTone = fMixer + mkids.fsOut/np.pi + 0.523\n",
    "inCh,inOffset = mkids.inFreq2chOffset(fTone)\n",
    "outCh,outOffset = mkids.outFreq2chOffset(fTone)\n",
    "print(\"fTone = %.6f MHz\"%fTone)\n",
    "print(\"  inCh=%4d    inOffset=%+.6f\"%(inCh, inOffset))\n",
    "print(\" outCh=%4d   outOffset=%+.6f\"%(outCh, outOffset))"
   ]
  },
  {
   "cell_type": "code",
   "execution_count": null,
   "id": "c46c673b-d93d-48d6-b4e0-9aa4fb080691",
   "metadata": {},
   "outputs": [],
   "source": [
    "# This generates a single tone\n",
    "# Look at the DAC output on scope or spectrum analyzer if you wish.\n",
    "# It also sets the input channel to demodulate this tone back to DC, and it\n",
    "# prepares readout.\n",
    "amplitudes = np.array([0.9])\n",
    "frequencies = np.array([fTone])\n",
    "fis = np.array([1.234])\n",
    "mkids.setMultiTones(frequencies, amplitudes, fis, fMixer, verbose=True)"
   ]
  },
  {
   "cell_type": "code",
   "execution_count": null,
   "id": "6360bf03-59c4-41eb-a239-dccfa0b6f86e",
   "metadata": {},
   "outputs": [],
   "source": [
    "nt = 1\n",
    "xs = mkids.readAllMultiTones(nt=nt)\n"
   ]
  },
  {
   "cell_type": "code",
   "execution_count": null,
   "id": "17bdc4ac-0162-4aea-829e-60fc27c720de",
   "metadata": {},
   "outputs": [],
   "source": [
    "iValues = np.real(xs[inCh])\n",
    "qValues = np.imag(xs[inCh])\n",
    "plt.plot(iValues, label=\"I\")\n",
    "plt.plot(qValues, label=\"Q\")\n",
    "plt.xlabel(\"Sample Number\")\n",
    "plt.ylabel(\"Value (ADUs)\")\n",
    "plt.legend()\n",
    "plt.title(\"fToneRequested=%.6f  fToneQuantized=%.6f\"%(fTone, mkids.multiFreqs[0]))"
   ]
  },
  {
   "cell_type": "code",
   "execution_count": null,
   "id": "e6fc0d6b-f9ce-4446-8d11-70337b63e2cc",
   "metadata": {},
   "outputs": [],
   "source": [
    "# Choose a tone frequency\n",
    "fTone = fMixer + mkids.fsOut/np.pi - 10.234\n",
    "inCh,inOffset = mkids.inFreq2chOffset(fTone)\n",
    "outCh,outOffset = mkids.outFreq2chOffset(fTone)\n",
    "print(\"fTone = %.6f MHz\"%fTone)\n",
    "print(\"  inCh=%4d    inOffset=%+.6f\"%(inCh, inOffset))\n",
    "print(\" outCh=%4d   outOffset=%+.6f\"%(outCh, outOffset))"
   ]
  },
  {
   "cell_type": "code",
   "execution_count": null,
   "id": "5bb0f5f3-8745-4a59-a9f3-acd29512e25e",
   "metadata": {},
   "outputs": [],
   "source": [
    "amplitudes = np.array([0.9])\n",
    "frequencies = np.array([fTone])\n",
    "fis = np.array([1.234])\n",
    "mkids.setMultiTones(frequencies, amplitudes, fis, fMixer, verbose=False)\n",
    "mkids.setStreamLength(20000)\n",
    "xs = mkids.readAllMultiTones(nt=nt)\n",
    "inCh = list(xs.keys())[0]\n",
    "print(\"inCh =\",inCh)\n",
    "iValues = np.real(xs[inCh])\n",
    "qValues = np.imag(xs[inCh])\n",
    "plt.plot(iValues, label=\"I\")\n",
    "plt.plot(qValues, label=\"Q\")\n",
    "plt.xlabel(\"Sample Number\")\n",
    "plt.ylabel(\"Value (ADUs)\")\n",
    "plt.legend()\n",
    "plt.title(\"fToneRequested=%.6f  fToneQuantized=%.6f\"%(fTone, mkids.multiFreqs[0]))"
   ]
  },
  {
   "cell_type": "code",
   "execution_count": null,
   "id": "f3d8a8bf-7346-474a-beeb-0071947d3d65",
   "metadata": {},
   "outputs": [],
   "source": []
  }
 ],
 "metadata": {
  "kernelspec": {
   "display_name": "Python 3",
   "language": "python",
   "name": "python3"
  },
  "language_info": {
   "codemirror_mode": {
    "name": "ipython",
    "version": 3
   },
   "file_extension": ".py",
   "mimetype": "text/x-python",
   "name": "python",
   "nbconvert_exporter": "python",
   "pygments_lexer": "ipython3",
   "version": "3.8.2"
  }
 },
 "nbformat": 4,
 "nbformat_minor": 5
}
