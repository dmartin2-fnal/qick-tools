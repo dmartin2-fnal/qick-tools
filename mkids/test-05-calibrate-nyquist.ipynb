{
 "cells": [
  {
   "cell_type": "code",
   "execution_count": null,
   "id": "bfd50a57-e62d-4fb4-a77e-c54535e65046",
   "metadata": {},
   "outputs": [],
   "source": [
    "import importlib\n",
    "from mkids import TopSoc\n",
    "import numpy as np\n",
    "import matplotlib.pyplot as plt\n",
    "import Scan\n",
    "import pickle\n",
    "soc = TopSoc()"
   ]
  },
  {
   "cell_type": "code",
   "execution_count": null,
   "id": "ea6e4da1-44d3-4f5c-9dcf-b41c5dc9e962",
   "metadata": {},
   "outputs": [],
   "source": [
    "fNyIn = soc.fsIn/2\n",
    "print(\"fNyIn =\",fNyIn)"
   ]
  },
  {
   "cell_type": "code",
   "execution_count": null,
   "id": "b55b50c4-94e0-4522-acee-e2b88b0f2c41",
   "metadata": {},
   "outputs": [],
   "source": [
    "# Define the area to calibrate, based on an (arbitrary) mixer setting\n",
    "fMixer = 0.75*soc.fsIn\n",
    "print(\"fMixer =\",fMixer)\n",
    "soc.set_mixer(fMixer)\n",
    "f0 = fMixer + 85.4\n",
    "f1 = fMixer + 95.6\n",
    "fTone = 0.5*(f0+f1)"
   ]
  },
  {
   "cell_type": "code",
   "execution_count": null,
   "id": "18d80102-bc49-4f1d-adb9-bec74105fb7d",
   "metadata": {},
   "outputs": [],
   "source": [
    "# Measure the nominal delay near fTone\n",
    "importlib.reload(Scan)\n",
    "scan = Scan.Scan(soc)\n",
    "outCh = scan.soc.outFreq2ch(fTone)\n",
    "print(\"measure nominal dealy for fTone=%f  outCh=%d\"%(fTone, outCh))\n",
    "nominalDelay = scan.measureNominalDelay(outCh, decimation=2, doProgress=True, doPlot=True)"
   ]
  },
  {
   "cell_type": "code",
   "execution_count": null,
   "id": "64b5674c-95e7-4fcf-8199-2dd30d6877aa",
   "metadata": {},
   "outputs": [],
   "source": [
    "# Make a calibration with nt transfers at nf frequencies, with the nominalDelay correction applied\n",
    "nt,nf = 1,201\n",
    "print(\"f0 =\",f0)\n",
    "print(\"f1 =\",f1)\n",
    "calibration = scan.makeCalibration(fMixer, f0, f1, nf=nf, nt=nt, doProgress=True,\n",
    "                            nominalDelay=nominalDelay, verbose=True)\n",
    "fscan = calibration['fscan']\n",
    "print(\"delayApplied =\",fscan['delayApplied'])\n",
    "# For convenience, arrange these points as a single spectrum\n",
    "spectrum = Scan.fscanToSpectrum(fscan)"
   ]
  },
  {
   "cell_type": "code",
   "execution_count": null,
   "id": "18e16c3d-36c1-461e-99c0-b8d9623c6091",
   "metadata": {},
   "outputs": [],
   "source": [
    "fList = scan.makeFList(fMixer, f0, f1,verbose=True)"
   ]
  },
  {
   "cell_type": "code",
   "execution_count": null,
   "id": "995b11be-f88d-4282-b8ac-74e37c57f70b",
   "metadata": {},
   "outputs": [],
   "source": [
    "def iqPlot(fStart, fEnd):\n",
    "    inds = (spectrum[0] > fStart ) & (spectrum[0] < fEnd)\n",
    "    sx = spectrum[1]*np.exp(1j*spectrum[2])\n",
    "    si = np.real(sx)\n",
    "    sq = np.imag(sx)\n",
    "    plt.plot(spectrum[0][inds],si[inds], ',', label=\"I\")\n",
    "    plt.plot(spectrum[0][inds],sq[inds], ',', label=\"Q\")\n",
    "    for f in fList:\n",
    "        plt.axvline(f,color='r', alpha=0.2)\n",
    "    plt.xlim((fStart,fEnd))\n",
    "    plt.legend()\n",
    "    plt.xlabel(\"frequency (MHz)\")\n",
    "    plt.ylabel(\"values [ADUs]\")\n",
    "fStart = 3164\n",
    "fEnd = 3166\n",
    "iqPlot(fStart, fEnd)"
   ]
  },
  {
   "cell_type": "code",
   "execution_count": null,
   "id": "c39aab86-5d2d-4037-bab0-2ee1ac1d669e",
   "metadata": {},
   "outputs": [],
   "source": [
    "def apPlot(fStart, fEnd):\n",
    "    inds = (spectrum[0] > fStart ) & (spectrum[0] < fEnd)\n",
    "    amp = spectrum[1]\n",
    "    pha = spectrum[2]\n",
    "    fig,ax = plt.subplots(2,1,sharex=True)\n",
    "    \n",
    "    ax[0].plot(spectrum[0][inds],amp[inds], ',')\n",
    "    plt.plot(spectrum[0][inds],pha[inds], ',')\n",
    "    for f in fList:\n",
    "        ax[0].axvline(f,color='r', alpha=0.2)\n",
    "        ax[1].axvline(f,color='r', alpha=0.2)\n",
    "    ax[1].set_xlabel(\"frequency (MHz)\")\n",
    "    ax[0].set_ylabel(\"amplitude [ADUs]\")\n",
    "    ax[1].set_ylabel(\"phase [rad]\")\n",
    "    plt.xlim((fStart,fEnd))\n",
    "apPlot(fStart,fEnd)"
   ]
  },
  {
   "cell_type": "code",
   "execution_count": null,
   "id": "47185888-4002-45c8-8785-08ba6152f3fb",
   "metadata": {},
   "outputs": [],
   "source": [
    "fTones = np.array([3165.11])\n",
    "amps = 0.9*np.ones(len(fTones))/len(fTones)\n",
    "\n",
    "np.random.seed(1234991)\n",
    "fis = np.random.uniform(0, 2*np.pi, size=len(fTones))\n",
    "#print(\"warning in ipynb set fis all to zero\")\n",
    "#fis = np.zeros(len(fTones))\n",
    "bandwidth = 0.5 # MHz\n",
    "nf = 50\n",
    "decimation = 2\n",
    "nt = 1\n",
    "doProgress = True\n",
    "importlib.reload(Scan)\n",
    "scan = Scan.Scan(soc)\n",
    "\n",
    "fScanA = scan.fscan(fTones, amps, fis, bandwidth, nf, decimation,nt, doProgress=doProgress)\n",
    "scan.applyDelay(fScanA, nominalDelay)"
   ]
  },
  {
   "cell_type": "code",
   "execution_count": null,
   "id": "dcb80518-e002-4aa3-92ea-26639e637243",
   "metadata": {},
   "outputs": [],
   "source": [
    "def apPlotWithScan(fStart, fEnd, calibration, scan):\n",
    "    cSpectrum = Scan.fscanToSpectrum(calibration['fscan'])\n",
    "    cInds = (cSpectrum[0] > fStart ) & (cSpectrum[0] < fEnd)\n",
    "    cAmp = cSpectrum[1]\n",
    "    cPha = cSpectrum[2]\n",
    "\n",
    "    sSpectrum = Scan.fscanToSpectrum(scan)\n",
    "    sInds = (sSpectrum[0] > fStart ) & (sSpectrum[0] < fEnd)\n",
    "    sAmp = sSpectrum[1]\n",
    "    sPha = sSpectrum[2]\n",
    "\n",
    "    \n",
    "    fig,ax = plt.subplots(2,1,sharex=True)\n",
    "    \n",
    "    ax[0].plot(cSpectrum[0][cInds],cAmp[cInds], ',', label=\"calibration\")\n",
    "    ax[1].plot(cSpectrum[0][cInds],cPha[cInds], ',', label=\"calibration\")\n",
    "    ax[0].plot(sSpectrum[0][sInds],sAmp[sInds], ',', label=\"scan\")\n",
    "    ax[1].plot(sSpectrum[0][sInds],sPha[sInds], ',', label=\"scan\")\n",
    "    for f in fList:\n",
    "        ax[0].axvline(f,color='r', alpha=0.2)\n",
    "        ax[1].axvline(f,color='r', alpha=0.2)\n",
    "    ax[1].set_xlabel(\"frequency (MHz)\")\n",
    "    ax[0].set_ylabel(\"amplitude [ADUs]\")\n",
    "    ax[1].set_ylabel(\"phase [rad]\")\n",
    "    \n",
    "    #freqs,amps,fis = Scan.fscanToSpectrum(fscan)\n",
    "    \n",
    "    plt.xlim((fStart,fEnd))\n",
    "apPlotWithScan(fStart,fEnd,calibration, fScanA)"
   ]
  },
  {
   "cell_type": "code",
   "execution_count": null,
   "id": "2fd98e2f-f5f7-4d1c-abb0-e509e4539b67",
   "metadata": {},
   "outputs": [],
   "source": [
    "print(fScanA.keys())\n",
    "print(calibration.keys())"
   ]
  }
 ],
 "metadata": {
  "kernelspec": {
   "display_name": "Python 3",
   "language": "python",
   "name": "python3"
  },
  "language_info": {
   "codemirror_mode": {
    "name": "ipython",
    "version": 3
   },
   "file_extension": ".py",
   "mimetype": "text/x-python",
   "name": "python",
   "nbconvert_exporter": "python",
   "pygments_lexer": "ipython3",
   "version": "3.8.2"
  }
 },
 "nbformat": 4,
 "nbformat_minor": 5
}
