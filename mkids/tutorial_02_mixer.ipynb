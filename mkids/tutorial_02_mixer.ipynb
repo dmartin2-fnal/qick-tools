{
 "cells": [
  {
   "cell_type": "markdown",
   "id": "ab900314-9f68-433d-b514-af6d8c095e1f",
   "metadata": {},
   "source": [
    "Show how to change and recall the mixer frequency."
   ]
  },
  {
   "cell_type": "code",
   "execution_count": 11,
   "id": "7dc87aae-7b3c-455d-983a-3ddc316e019e",
   "metadata": {},
   "outputs": [],
   "source": [
    "import importlib\n",
    "import Mkids\n",
    "\n",
    "from MkidsSoc import *\n",
    "mkidsSoc = MkidsSoc(force_init_clks=False)"
   ]
  },
  {
   "cell_type": "code",
   "execution_count": 12,
   "id": "05f46cd4-63c4-4c14-97f6-4fe0fd5445ed",
   "metadata": {},
   "outputs": [],
   "source": [
    "\n",
    "importlib.reload(Mkids)\n",
    "mkids = Mkids.Mkids(mkidsSoc)\n"
   ]
  },
  {
   "cell_type": "code",
   "execution_count": 16,
   "id": "6b3ecfd1-20bf-4a54-b580-e52e23e407f3",
   "metadata": {},
   "outputs": [
    {
     "data": {
      "text/plain": [
       "0.25"
      ]
     },
     "execution_count": 16,
     "metadata": {},
     "output_type": "execute_result"
    }
   ],
   "source": [
    "mkids.dfMixer"
   ]
  },
  {
   "cell_type": "code",
   "execution_count": 17,
   "id": "b637368c-7c35-4943-8b58-b31700642eeb",
   "metadata": {},
   "outputs": [],
   "source": [
    "mkids.setFMixer(123.4)"
   ]
  },
  {
   "cell_type": "code",
   "execution_count": 18,
   "id": "47ea4313-3a28-4711-ad5f-0faee5d219c6",
   "metadata": {},
   "outputs": [
    {
     "data": {
      "text/plain": [
       "123.25"
      ]
     },
     "execution_count": 18,
     "metadata": {},
     "output_type": "execute_result"
    }
   ],
   "source": [
    "mkids.fMixerQuantized"
   ]
  },
  {
   "cell_type": "code",
   "execution_count": 19,
   "id": "7cdaa59b-be66-435f-bebe-7169d6c68cb1",
   "metadata": {},
   "outputs": [
    {
     "data": {
      "text/plain": [
       "123.4"
      ]
     },
     "execution_count": 19,
     "metadata": {},
     "output_type": "execute_result"
    }
   ],
   "source": [
    "mkids.fMixerRequested"
   ]
  }
 ],
 "metadata": {
  "kernelspec": {
   "display_name": "Python 3",
   "language": "python",
   "name": "python3"
  },
  "language_info": {
   "codemirror_mode": {
    "name": "ipython",
    "version": 3
   },
   "file_extension": ".py",
   "mimetype": "text/x-python",
   "name": "python",
   "nbconvert_exporter": "python",
   "pygments_lexer": "ipython3",
   "version": "3.8.2"
  }
 },
 "nbformat": 4,
 "nbformat_minor": 5
}
