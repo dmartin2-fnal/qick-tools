{
 "cells": [
  {
   "cell_type": "markdown",
   "id": "ab900314-9f68-433d-b514-af6d8c095e1f",
   "metadata": {},
   "source": [
    "Show how to change and recall the mixer frequency.  In the first four Nyquist zones, calculate the aliased frequency from a tone frequency."
   ]
  },
  {
   "cell_type": "code",
   "execution_count": 32,
   "id": "7dc87aae-7b3c-455d-983a-3ddc316e019e",
   "metadata": {},
   "outputs": [],
   "source": [
    "from mkids import TopSoc\n",
    "import numpy as np\n",
    "import pandas as pd\n",
    "from IPython.display import display"
   ]
  },
  {
   "cell_type": "code",
   "execution_count": 33,
   "id": "05f46cd4-63c4-4c14-97f6-4fe0fd5445ed",
   "metadata": {},
   "outputs": [],
   "source": [
    "soc = TopSoc()"
   ]
  },
  {
   "cell_type": "code",
   "execution_count": 34,
   "id": "bfa68143-54bd-4336-af2b-d6bbf0c766b5",
   "metadata": {},
   "outputs": [
    {
     "name": "stdout",
     "output_type": "stream",
     "text": [
      "fNyquist = 1228.8\n"
     ]
    }
   ],
   "source": [
    "fNyquist = soc.fsIn/2\n",
    "print(\"fNyquist =\",fNyquist)"
   ]
  },
  {
   "cell_type": "code",
   "execution_count": 46,
   "id": "6b3ecfd1-20bf-4a54-b580-e52e23e407f3",
   "metadata": {},
   "outputs": [
    {
     "name": "stdout",
     "output_type": "stream",
     "text": [
      "     zone fMixerRequested    fMixerActual     fTone  fAliased\n",
      "        1      567.890000      567.889966   480.067   480.067\n",
      "        2     1796.690000     1796.689966  1721.167   736.433\n",
      "        3     3025.490000     3025.489966  2962.267   504.667\n",
      "        4     4254.290000     4254.289966  4203.367   711.833\n"
     ]
    }
   ],
   "source": [
    "line = \"%9s %15s %15s %9s %9s\"%(\"zone\",\"fMixerRequested\",\"fMixerActual\", \"fTone\",\"fAliased\")\n",
    "print(line)\n",
    "for nZone in [1,2,3,4]:\n",
    "    fMixer = 567.89 + (nZone-1)*fNyquist\n",
    "    fMixerSet = soc.set_mixer(fMixer)\n",
    "    assert(fMixerSet == soc.get_mixer()) # confirm that get_mixer returns what set_mixer reports\n",
    "    fTone = fMixer - 100.123 + 12.3*nZone # set a tone somewhere in the Nyquist zone\n",
    "    fTones = np.array([fTone])\n",
    "    fAliased = soc.fAliasedFromFTone(fTones)[0]\n",
    "    nZoneTest = soc.nZoneFromFTone(fTones)[0]\n",
    "    assert(nZone == nZoneTest) # confirm that we stayed inside the Nyquist zone\n",
    "    line = \"%9d %15.6f %15.6f %9.3f %9.3f\"%(nZone, fMixer, fMixerSet, fTone, fAliased)\n",
    "    print(line)\n"
   ]
  }
 ],
 "metadata": {
  "kernelspec": {
   "display_name": "Python 3",
   "language": "python",
   "name": "python3"
  },
  "language_info": {
   "codemirror_mode": {
    "name": "ipython",
    "version": 3
   },
   "file_extension": ".py",
   "mimetype": "text/x-python",
   "name": "python",
   "nbconvert_exporter": "python",
   "pygments_lexer": "ipython3",
   "version": "3.8.2"
  }
 },
 "nbformat": 4,
 "nbformat_minor": 5
}
