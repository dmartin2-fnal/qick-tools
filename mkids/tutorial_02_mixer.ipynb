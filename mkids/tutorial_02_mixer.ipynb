{
 "cells": [
  {
   "cell_type": "markdown",
   "id": "ab900314-9f68-433d-b514-af6d8c095e1f",
   "metadata": {},
   "source": [
    "Show how to change and recall the mixer frequency."
   ]
  },
  {
   "cell_type": "code",
   "execution_count": 1,
   "id": "7dc87aae-7b3c-455d-983a-3ddc316e019e",
   "metadata": {},
   "outputs": [
    {
     "data": {
      "application/javascript": [
       "\n",
       "try {\n",
       "require(['notebook/js/codecell'], function(codecell) {\n",
       "  codecell.CodeCell.options_default.highlight_modes[\n",
       "      'magic_text/x-csrc'] = {'reg':[/^%%microblaze/]};\n",
       "  Jupyter.notebook.events.one('kernel_ready.Kernel', function(){\n",
       "      Jupyter.notebook.get_cells().map(function(cell){\n",
       "          if (cell.cell_type == 'code'){ cell.auto_highlight(); } }) ;\n",
       "  });\n",
       "});\n",
       "} catch (e) {};\n"
      ]
     },
     "metadata": {},
     "output_type": "display_data"
    },
    {
     "data": {
      "application/javascript": [
       "\n",
       "try {\n",
       "require(['notebook/js/codecell'], function(codecell) {\n",
       "  codecell.CodeCell.options_default.highlight_modes[\n",
       "      'magic_text/x-csrc'] = {'reg':[/^%%pybind11/]};\n",
       "  Jupyter.notebook.events.one('kernel_ready.Kernel', function(){\n",
       "      Jupyter.notebook.get_cells().map(function(cell){\n",
       "          if (cell.cell_type == 'code'){ cell.auto_highlight(); } }) ;\n",
       "  });\n",
       "});\n",
       "} catch (e) {};\n"
      ]
     },
     "metadata": {},
     "output_type": "display_data"
    }
   ],
   "source": [
    "from mkids import TopSoc\n",
    "import numpy as np\n",
    "import pandas as pd\n",
    "from IPython.display import display"
   ]
  },
  {
   "cell_type": "code",
   "execution_count": 2,
   "id": "05f46cd4-63c4-4c14-97f6-4fe0fd5445ed",
   "metadata": {},
   "outputs": [],
   "source": [
    "soc = TopSoc()"
   ]
  },
  {
   "cell_type": "code",
   "execution_count": 3,
   "id": "bfa68143-54bd-4336-af2b-d6bbf0c766b5",
   "metadata": {},
   "outputs": [
    {
     "name": "stdout",
     "output_type": "stream",
     "text": [
      "fNyquist = 1228.8\n"
     ]
    }
   ],
   "source": [
    "fNyquist = soc.fsIn/2\n",
    "print(\"fNyquist =\",fNyquist)"
   ]
  },
  {
   "cell_type": "code",
   "execution_count": 4,
   "id": "6b3ecfd1-20bf-4a54-b580-e52e23e407f3",
   "metadata": {},
   "outputs": [
    {
     "data": {
      "text/html": [
       "<div>\n",
       "<style scoped>\n",
       "    .dataframe tbody tr th:only-of-type {\n",
       "        vertical-align: middle;\n",
       "    }\n",
       "\n",
       "    .dataframe tbody tr th {\n",
       "        vertical-align: top;\n",
       "    }\n",
       "\n",
       "    .dataframe thead th {\n",
       "        text-align: right;\n",
       "    }\n",
       "</style>\n",
       "<table border=\"1\" class=\"dataframe\">\n",
       "  <thead>\n",
       "    <tr style=\"text-align: right;\">\n",
       "      <th></th>\n",
       "      <th>nZone</th>\n",
       "      <th>fMixer</th>\n",
       "      <th>fMixerSet</th>\n",
       "      <th>fTone</th>\n",
       "      <th>fAliasedNP</th>\n",
       "      <th>nZoneTestNP</th>\n",
       "      <th>fAliasedS</th>\n",
       "      <th>nZoneTestS</th>\n",
       "    </tr>\n",
       "  </thead>\n",
       "  <tbody>\n",
       "    <tr>\n",
       "      <th>0</th>\n",
       "      <td>1.0</td>\n",
       "      <td>500.0</td>\n",
       "      <td>500.000024</td>\n",
       "      <td>600.123</td>\n",
       "      <td>600.123</td>\n",
       "      <td>1.0</td>\n",
       "      <td>600.123</td>\n",
       "      <td>1.0</td>\n",
       "    </tr>\n",
       "    <tr>\n",
       "      <th>1</th>\n",
       "      <td>2.0</td>\n",
       "      <td>1728.8</td>\n",
       "      <td>1728.800024</td>\n",
       "      <td>1828.923</td>\n",
       "      <td>628.677</td>\n",
       "      <td>2.0</td>\n",
       "      <td>628.677</td>\n",
       "      <td>2.0</td>\n",
       "    </tr>\n",
       "    <tr>\n",
       "      <th>2</th>\n",
       "      <td>3.0</td>\n",
       "      <td>2957.6</td>\n",
       "      <td>2957.600024</td>\n",
       "      <td>3057.723</td>\n",
       "      <td>600.123</td>\n",
       "      <td>3.0</td>\n",
       "      <td>600.123</td>\n",
       "      <td>3.0</td>\n",
       "    </tr>\n",
       "    <tr>\n",
       "      <th>3</th>\n",
       "      <td>4.0</td>\n",
       "      <td>4186.4</td>\n",
       "      <td>4186.400024</td>\n",
       "      <td>4286.523</td>\n",
       "      <td>628.677</td>\n",
       "      <td>4.0</td>\n",
       "      <td>628.677</td>\n",
       "      <td>4.0</td>\n",
       "    </tr>\n",
       "  </tbody>\n",
       "</table>\n",
       "</div>"
      ],
      "text/plain": [
       "   nZone  fMixer    fMixerSet     fTone  fAliasedNP  nZoneTestNP  fAliasedS  \\\n",
       "0    1.0   500.0   500.000024   600.123     600.123          1.0    600.123   \n",
       "1    2.0  1728.8  1728.800024  1828.923     628.677          2.0    628.677   \n",
       "2    3.0  2957.6  2957.600024  3057.723     600.123          3.0    600.123   \n",
       "3    4.0  4186.4  4186.400024  4286.523     628.677          4.0    628.677   \n",
       "\n",
       "   nZoneTestS  \n",
       "0         1.0  \n",
       "1         2.0  \n",
       "2         3.0  \n",
       "3         4.0  "
      ]
     },
     "execution_count": 4,
     "metadata": {},
     "output_type": "execute_result"
    }
   ],
   "source": [
    "df = pd.DataFrame(columns=['nZone','fMixer','fMixerSet','fTone','fAliasedNP',\"nZoneTestNP\",'fAliasedS',\"nZoneTestS\"])\n",
    "for nZone in [1,2,3,4]:\n",
    "    fMixer = 500 + (nZone-1)*fNyquist\n",
    "    fMixerSet = soc.set_mixer(fMixer)\n",
    "    fTone = fMixer + 100.123\n",
    "    fTones = np.array([fTone])\n",
    "    fAliasedNP = soc.fAliasedFromFTone(fTones)[0]\n",
    "    nZoneTestNP = soc.nZoneFromFTone(fTones)[0]\n",
    "    fAliasedS = soc.fAliasedFromFTone(fTone)\n",
    "    nZoneTestS = soc.nZoneFromFTone(fTone)\n",
    "    df = df.append({\"nZone\":nZone, \n",
    "                    \"fMixer\":fMixer,\n",
    "                    \"fMixerSet\":fMixerSet,\n",
    "                    \"fTone\":fTone,\n",
    "                    \"fAliasedNP\":fAliasedNP,\n",
    "                    \"nZoneTestNP\":nZoneTestNP,\n",
    "                    \"fAliasedS\":fAliasedNP,\n",
    "                    \"nZoneTestS\":nZoneTestNP,\n",
    "                    \n",
    "                   },\n",
    "                   ignore_index=True)\n",
    "df"
   ]
  },
  {
   "cell_type": "code",
   "execution_count": 5,
   "id": "b637368c-7c35-4943-8b58-b31700642eeb",
   "metadata": {},
   "outputs": [
    {
     "data": {
      "text/plain": [
       "4186.4000244140625"
      ]
     },
     "execution_count": 5,
     "metadata": {},
     "output_type": "execute_result"
    }
   ],
   "source": [
    "soc.get_mixer()"
   ]
  },
  {
   "cell_type": "code",
   "execution_count": null,
   "id": "d9104f45-487e-462f-95a5-5fc8c6b4935c",
   "metadata": {},
   "outputs": [],
   "source": []
  }
 ],
 "metadata": {
  "kernelspec": {
   "display_name": "Python 3",
   "language": "python",
   "name": "python3"
  },
  "language_info": {
   "codemirror_mode": {
    "name": "ipython",
    "version": 3
   },
   "file_extension": ".py",
   "mimetype": "text/x-python",
   "name": "python",
   "nbconvert_exporter": "python",
   "pygments_lexer": "ipython3",
   "version": "3.8.2"
  }
 },
 "nbformat": 4,
 "nbformat_minor": 5
}
