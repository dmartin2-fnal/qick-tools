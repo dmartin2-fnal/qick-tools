{
 "cells": [
  {
   "cell_type": "code",
   "execution_count": 1,
   "id": "d96190a1",
   "metadata": {},
   "outputs": [
    {
     "data": {
      "text/plain": [
       "4"
      ]
     },
     "execution_count": 1,
     "metadata": {},
     "output_type": "execute_result"
    }
   ],
   "source": [
    "2+2"
   ]
  },
  {
   "cell_type": "code",
   "execution_count": 2,
   "id": "be8965e8-90ba-4ee2-b53f-fe67004f2fe6",
   "metadata": {},
   "outputs": [
    {
     "data": {
      "application/javascript": [
       "\n",
       "try {\n",
       "require(['notebook/js/codecell'], function(codecell) {\n",
       "  codecell.CodeCell.options_default.highlight_modes[\n",
       "      'magic_text/x-csrc'] = {'reg':[/^%%microblaze/]};\n",
       "  Jupyter.notebook.events.one('kernel_ready.Kernel', function(){\n",
       "      Jupyter.notebook.get_cells().map(function(cell){\n",
       "          if (cell.cell_type == 'code'){ cell.auto_highlight(); } }) ;\n",
       "  });\n",
       "});\n",
       "} catch (e) {};\n"
      ]
     },
     "metadata": {},
     "output_type": "display_data"
    },
    {
     "data": {
      "application/javascript": [
       "\n",
       "try {\n",
       "require(['notebook/js/codecell'], function(codecell) {\n",
       "  codecell.CodeCell.options_default.highlight_modes[\n",
       "      'magic_text/x-csrc'] = {'reg':[/^%%pybind11/]};\n",
       "  Jupyter.notebook.events.one('kernel_ready.Kernel', function(){\n",
       "      Jupyter.notebook.get_cells().map(function(cell){\n",
       "          if (cell.cell_type == 'code'){ cell.auto_highlight(); } }) ;\n",
       "  });\n",
       "});\n",
       "} catch (e) {};\n"
      ]
     },
     "metadata": {},
     "output_type": "display_data"
    }
   ],
   "source": [
    "import importlib\n",
    "from mkids import TopSoc\n",
    "import numpy as np\n",
    "import matplotlib.pyplot as plt\n",
    "import Scan\n",
    "from tqdm.notebook import trange\n",
    "soc = TopSoc()"
   ]
  },
  {
   "cell_type": "code",
   "execution_count": 40,
   "id": "368e492f-e188-4017-874b-b7d604b25e79",
   "metadata": {},
   "outputs": [],
   "source": [
    "importlib.reload(Scan)\n",
    "scan = Scan.Scan(soc)"
   ]
  },
  {
   "cell_type": "code",
   "execution_count": 74,
   "id": "47416783-92aa-4322-b528-0e8809ba8bae",
   "metadata": {},
   "outputs": [
    {
     "data": {
      "text/plain": [
       "4500.0"
      ]
     },
     "execution_count": 74,
     "metadata": {},
     "output_type": "execute_result"
    }
   ],
   "source": [
    "#fMixer = soc.fsOut/2\n",
    "fMixer=4500\n",
    "soc.set_mixer(fMixer)"
   ]
  },
  {
   "cell_type": "code",
   "execution_count": 75,
   "id": "16c48805-7e5a-4cc8-8235-498e9d0813a6",
   "metadata": {},
   "outputs": [],
   "source": [
    "# One frequency per output bin, offset a little bit from the middle\n",
    "outChs = np.arange(soc.nOutCh)\n",
    "freqs = np.sort(soc.outCh2FreqCenter(outChs))\n",
    "inChs, inOffsets = soc.inFreq2chOffset(freqs)\n",
    "#for i in range(soc.nOutCh):\n",
    "#    print(\"freq=%8.3f  outCh=%3d  inCh=%4d   inOffset=%+5.3f\"%(freqs[i],outChs[i], inChs[i], inOffsets[i]))\n",
    "    #print(i, outChs[i], freqs[i])"
   ]
  },
  {
   "cell_type": "code",
   "execution_count": 76,
   "id": "62502c72-e321-4b35-ab27-fbceccd79e0f",
   "metadata": {},
   "outputs": [
    {
     "data": {
      "application/vnd.jupyter.widget-view+json": {
       "model_id": "960259c8c25c46b6929a5e85aaa0dc9b",
       "version_major": 2,
       "version_minor": 0
      },
      "text/plain": [
       "  0%|          | 0/512 [00:00<?, ?it/s]"
      ]
     },
     "metadata": {},
     "output_type": "display_data"
    }
   ],
   "source": [
    "nFreqs = len(freqs)\n",
    "amps = np.array([0.9])\n",
    "fis = np.array([0])\n",
    "allxs = np.zeros(nFreqs, dtype=complex)\n",
    "for i in trange(nFreqs):\n",
    "    fTone = freqs[i]\n",
    "    scan.setTones(np.array([fTone]), amps, fis)\n",
    "    scan.prepRead(decimation=2)\n",
    "    xs = scan.readAndUnpack(nsamp=10000, iBegin=1000, average=True)\n",
    "    allxs[i] = xs[0]"
   ]
  },
  {
   "cell_type": "code",
   "execution_count": 77,
   "id": "79134a9b-83a9-4bcc-9d54-d4765cc75e2e",
   "metadata": {},
   "outputs": [
    {
     "name": "stdout",
     "output_type": "stream",
     "text": [
      "3885.6 5112.0\n"
     ]
    },
    {
     "data": {
      "image/png": "[encoded data removed]",
      "text/plain": [
       "<Figure size 432x288 with 1 Axes>"
      ]
     },
     "metadata": {
      "needs_background": "light"
     },
     "output_type": "display_data"
    }
   ],
   "source": [
    "plt.plot(freqs, 10*np.log10(np.abs(allxs)))\n",
    "#plt.plot(freqs, np.abs(allxs))\n",
    "plt.xlabel(\"frequency (MHz)\")\n",
    "plt.ylabel(\"amplitude measured dB\")\n",
    "plt.title(\"board=%s fMixer=%.1f\"%(soc.board, soc.get_mixer()))\n",
    "plt.savefig(\"temp.png\")\n",
    "print(freqs.min(),freqs.max())"
   ]
  },
  {
   "cell_type": "code",
   "execution_count": 78,
   "id": "fddb8796-f4c5-4d8e-aac8-90879ceb349a",
   "metadata": {},
   "outputs": [
    {
     "data": {
      "text/plain": [
       "{'20': {'fs': 4915.2, 'f_fabric': 307.2}}"
      ]
     },
     "execution_count": 78,
     "metadata": {},
     "output_type": "execute_result"
    }
   ],
   "source": [
    "soc.dacs"
   ]
  },
  {
   "cell_type": "code",
   "execution_count": 9,
   "id": "894cbbbb-2c1e-46ab-924e-110ec634f634",
   "metadata": {},
   "outputs": [
    {
     "data": {
      "text/plain": [
       "[<matplotlib.lines.Line2D at 0xffff5ee7b9a0>]"
      ]
     },
     "execution_count": 9,
     "metadata": {},
     "output_type": "execute_result"
    },
    {
     "data": {
      "image/png": "[encoded data removed]",
      "text/plain": [
       "<Figure size 432x288 with 1 Axes>"
      ]
     },
     "metadata": {
      "needs_background": "light"
     },
     "output_type": "display_data"
    }
   ],
   "source": [
    "plt.plot(freqs)"
   ]
  },
  {
   "cell_type": "code",
   "execution_count": 37,
   "id": "63c2c8e7-b413-45a6-b394-d3dbdd162b78",
   "metadata": {},
   "outputs": [],
   "source": [
    "deltaF = 180\n",
    "freqs = np.array([soc.fsIn/2 + deltaF])\n",
    "#inChs, inOffsets = soc.inFreq2chOffset(freqs)\n",
    "#print(\"freqs =\",freqs)\n",
    "#print(inChs, inOffsets)"
   ]
  },
  {
   "cell_type": "code",
   "execution_count": 38,
   "id": "90f41b21-5e28-4800-8394-2bc46e9c7292",
   "metadata": {},
   "outputs": [
    {
     "name": "stdout",
     "output_type": "stream",
     "text": [
      "[1408.8]\n",
      "[0.9]\n",
      "[0]\n",
      "[362] [-9.75886039e-14]\n"
     ]
    }
   ],
   "source": [
    "print(freqs)\n",
    "print(amps)\n",
    "print(fis)\n",
    "scan.setTones(freqs, amps, fis)\n",
    "scan.prepRead(decimation=2)\n",
    "xs = scan.readAndUnpack(nsamp=10000, iBegin=1000, average=False)\n",
    "print(scan.inChs, scan.inOffsets)"
   ]
  },
  {
   "cell_type": "code",
   "execution_count": 39,
   "id": "a4518b50-0d03-47b3-8e0f-f25d126b0d20",
   "metadata": {},
   "outputs": [
    {
     "data": {
      "text/plain": [
       "[<matplotlib.lines.Line2D at 0xffff5eb415b0>]"
      ]
     },
     "execution_count": 39,
     "metadata": {},
     "output_type": "execute_result"
    },
    {
     "data": {
      "image/png": "[encoded data removed]",
      "text/plain": [
       "<Figure size 432x288 with 1 Axes>"
      ]
     },
     "metadata": {
      "needs_background": "light"
     },
     "output_type": "display_data"
    }
   ],
   "source": [
    "plt.plot(np.real(xs[0][0]))\n",
    "plt.plot(np.imag(xs[0][0]))\n"
   ]
  },
  {
   "cell_type": "code",
   "execution_count": null,
   "id": "85a04290-77e5-494e-ab7a-747b6723559a",
   "metadata": {},
   "outputs": [],
   "source": []
  },
  {
   "cell_type": "code",
   "execution_count": null,
   "id": "8540dc68-9416-4b49-977f-55c6555bf636",
   "metadata": {},
   "outputs": [],
   "source": []
  }
 ],
 "metadata": {
  "kernelspec": {
   "display_name": "Python 3",
   "language": "python",
   "name": "python3"
  },
  "language_info": {
   "codemirror_mode": {
    "name": "ipython",
    "version": 3
   },
   "file_extension": ".py",
   "mimetype": "text/x-python",
   "name": "python",
   "nbconvert_exporter": "python",
   "pygments_lexer": "ipython3",
   "version": "3.8.2"
  }
 },
 "nbformat": 4,
 "nbformat_minor": 5
}
