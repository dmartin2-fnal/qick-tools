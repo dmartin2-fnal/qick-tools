{
 "cells": [
  {
   "cell_type": "code",
   "execution_count": null,
   "id": "be8965e8-90ba-4ee2-b53f-fe67004f2fe6",
   "metadata": {},
   "outputs": [],
   "source": [
    "import importlib\n",
    "from mkids import TopSoc\n",
    "import numpy as np\n",
    "import matplotlib.pyplot as plt\n",
    "import Scan\n",
    "from tqdm.notebook import trange\n",
    "soc = TopSoc()"
   ]
  },
  {
   "cell_type": "code",
   "execution_count": null,
   "id": "368e492f-e188-4017-874b-b7d604b25e79",
   "metadata": {},
   "outputs": [],
   "source": [
    "importlib.reload(Scan)\n",
    "scan = Scan.Scan(soc)"
   ]
  },
  {
   "cell_type": "code",
   "execution_count": null,
   "id": "47416783-92aa-4322-b528-0e8809ba8bae",
   "metadata": {},
   "outputs": [],
   "source": [
    "fMixer = soc.fsOut/2\n",
    "soc.set_mixer(fMixer)"
   ]
  },
  {
   "cell_type": "code",
   "execution_count": null,
   "id": "16c48805-7e5a-4cc8-8235-498e9d0813a6",
   "metadata": {},
   "outputs": [],
   "source": [
    "# One frequency per output bin, offset a little bit from the middle\n",
    "outChs = np.arange(soc.nOutCh)\n",
    "freqs = np.sort(soc.outCh2FreqCenter(outChs)+0.123)\n",
    "inChs, inOffsets = soc.inFreq2chOffset(freqs)\n",
    "for i in range(soc.nOutCh):\n",
    "    print(\"freq=%8.3f  outCh=%3d  inCh=%4d   inOffset=%+5.3f\"%(freqs[i],outChs[i], inChs[i], inOffsets[i]))\n",
    "    #print(i, outChs[i], freqs[i])"
   ]
  },
  {
   "cell_type": "code",
   "execution_count": null,
   "id": "62502c72-e321-4b35-ab27-fbceccd79e0f",
   "metadata": {},
   "outputs": [],
   "source": [
    "nFreqs = len(freqs)\n",
    "amps = np.array([0.9])\n",
    "fis = np.array([0])\n",
    "allxs = np.zeros(nFreqs, dtype=complex)\n",
    "for i in trange(nFreqs):\n",
    "    fTone = freqs[i]\n",
    "    scan.setTones(np.array([fTone]), amps, fis)\n",
    "    scan.prepRead(decimation=2)\n",
    "    xs = scan.readAndUnpack(nsamp=10000, iBegin=1000, average=True)\n",
    "    allxs[i] = xs[0]"
   ]
  },
  {
   "cell_type": "code",
   "execution_count": null,
   "id": "79134a9b-83a9-4bcc-9d54-d4765cc75e2e",
   "metadata": {},
   "outputs": [],
   "source": [
    "plt.plot(freqs, np.abs(allxs))\n",
    "plt.xlabel(\"frequency (MHz)\")\n",
    "plt.ylabel(\"amplitude measured (ADUS)\")\n",
    "plt.title(\"board=%s fMixer=%.1f\"%(soc.board, soc.get_mixer()))"
   ]
  },
  {
   "cell_type": "code",
   "execution_count": null,
   "id": "63c2c8e7-b413-45a6-b394-d3dbdd162b78",
   "metadata": {},
   "outputs": [],
   "source": []
  }
 ],
 "metadata": {
  "kernelspec": {
   "display_name": "Python 3",
   "language": "python",
   "name": "python3"
  },
  "language_info": {
   "codemirror_mode": {
    "name": "ipython",
    "version": 3
   },
   "file_extension": ".py",
   "mimetype": "text/x-python",
   "name": "python",
   "nbconvert_exporter": "python",
   "pygments_lexer": "ipython3",
   "version": "3.8.2"
  }
 },
 "nbformat": 4,
 "nbformat_minor": 5
}
