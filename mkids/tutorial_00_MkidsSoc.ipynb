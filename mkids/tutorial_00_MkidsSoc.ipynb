{
 "cells": [
  {
   "cell_type": "markdown",
   "id": "c150d54f-87f4-45a6-9c4f-db654e354013",
   "metadata": {},
   "source": [
    "The \"sytem on chip\" firmware depends on hardware.  This class determines the board flavor and loads the corresponding firmware.  \n",
    "\n"
   ]
  },
  {
   "cell_type": "code",
   "execution_count": null,
   "id": "119e4c6c-a80b-476e-8b36-35ed55d054a2",
   "metadata": {},
   "outputs": [],
   "source": [
    "from MkidsSoc import *"
   ]
  },
  {
   "cell_type": "code",
   "execution_count": null,
   "id": "e44a14c5-227b-4b41-ba90-094db654a281",
   "metadata": {},
   "outputs": [],
   "source": [
    "mkids = MkidsSoc(force_init_clks=False)\n",
    "print(\"Success:  firmware loaded for\",mkids.board)"
   ]
  },
  {
   "cell_type": "code",
   "execution_count": null,
   "id": "f43fbac5-a0f9-4c4e-9118-f90a328ec224",
   "metadata": {},
   "outputs": [],
   "source": []
  }
 ],
 "metadata": {
  "kernelspec": {
   "display_name": "Python 3",
   "language": "python",
   "name": "python3"
  },
  "language_info": {
   "codemirror_mode": {
    "name": "ipython",
    "version": 3
   },
   "file_extension": ".py",
   "mimetype": "text/x-python",
   "name": "python",
   "nbconvert_exporter": "python",
   "pygments_lexer": "ipython3",
   "version": "3.8.2"
  }
 },
 "nbformat": 4,
 "nbformat_minor": 5
}
