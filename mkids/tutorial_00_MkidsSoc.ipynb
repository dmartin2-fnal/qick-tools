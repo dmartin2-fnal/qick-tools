{
 "cells": [
  {
   "cell_type": "markdown",
   "id": "1e322b29-1361-4bf6-ab24-318ad3bb2238",
   "metadata": {},
   "source": [
    "Demonstrate the base functionality of the firmware.  With a loop-back cable installed from the DAC output to the ADC input, this produces a tone at the output, reads it back, and demodulates back to DC.\n",
    "\n",
    "The TopSoc class chooses the firmware based on the board, ZCU111 or ZCU216.\n",
    "\n",
    "For the ZCU111, the loopback cable is from DAC229_T1_CH2 to ADC224_T0_CH0, (single ended)\n",
    "\n",
    "For the ZCU216, the loopback cables are from  226 CH 0 and 230 CH0.  The P and N are separate, so you need two physical cables.  ADC Vin channels P 0_226 and N 01_226 connect to a tile, LMFB DAC 02. Connect the LMFB DAC 02 tile to the LMFB DAC 01 tile on the left side of the board.  You need two cables running from that LMFB DAC 01 tile to channels 0_230 and 2_230 in the DAC Vout connector. \n"
   ]
  },
  {
   "cell_type": "code",
   "execution_count": 1,
   "id": "53bb27ab-06d8-4162-9e26-2e9ddfe98964",
   "metadata": {},
   "outputs": [
    {
     "data": {
      "application/javascript": [
       "\n",
       "try {\n",
       "require(['notebook/js/codecell'], function(codecell) {\n",
       "  codecell.CodeCell.options_default.highlight_modes[\n",
       "      'magic_text/x-csrc'] = {'reg':[/^%%microblaze/]};\n",
       "  Jupyter.notebook.events.one('kernel_ready.Kernel', function(){\n",
       "      Jupyter.notebook.get_cells().map(function(cell){\n",
       "          if (cell.cell_type == 'code'){ cell.auto_highlight(); } }) ;\n",
       "  });\n",
       "});\n",
       "} catch (e) {};\n"
      ]
     },
     "metadata": {},
     "output_type": "display_data"
    },
    {
     "data": {
      "application/javascript": [
       "\n",
       "try {\n",
       "require(['notebook/js/codecell'], function(codecell) {\n",
       "  codecell.CodeCell.options_default.highlight_modes[\n",
       "      'magic_text/x-csrc'] = {'reg':[/^%%pybind11/]};\n",
       "  Jupyter.notebook.events.one('kernel_ready.Kernel', function(){\n",
       "      Jupyter.notebook.get_cells().map(function(cell){\n",
       "          if (cell.cell_type == 'code'){ cell.auto_highlight(); } }) ;\n",
       "  });\n",
       "});\n",
       "} catch (e) {};\n"
      ]
     },
     "metadata": {},
     "output_type": "display_data"
    }
   ],
   "source": [
    "from mkids import TopSoc\n",
    "from scipy.signal import welch\n",
    "from numpy.fft import fftshift\n",
    "import numpy as np\n",
    "import matplotlib.pyplot as plt"
   ]
  },
  {
   "cell_type": "code",
   "execution_count": 2,
   "id": "34d0a552-2aad-4c25-b464-6b6f85eb022c",
   "metadata": {},
   "outputs": [
    {
     "name": "stdout",
     "output_type": "stream",
     "text": [
      "resetting clocks: 245.76 491.52\n"
     ]
    }
   ],
   "source": [
    "# Load bitstream with custom overlay\n",
    "soc = TopSoc(force_init_clks=True)"
   ]
  },
  {
   "cell_type": "code",
   "execution_count": 3,
   "id": "deb8d310-31da-4d59-8900-f8c4980a61cb",
   "metadata": {},
   "outputs": [],
   "source": [
    "freqs = np.arange(0, 2*soc.fsIn)\n",
    "freqsAliased = np.zeros(len(freqs))\n",
    "for i,freq in enumerate(freqs):\n",
    "    freqsAliased[i]  = soc.fAliasedFromFToneScalar(freq)"
   ]
  },
  {
   "cell_type": "code",
   "execution_count": 4,
   "id": "690a3d32-d66e-4037-8632-827148b7d849",
   "metadata": {},
   "outputs": [
    {
     "data": {
      "text/plain": [
       "Text(0, 0.5, 'aliased frequency')"
      ]
     },
     "execution_count": 4,
     "metadata": {},
     "output_type": "execute_result"
    },
    {
     "data": {
      "image/png": "[encoded data removed]",
      "text/plain": [
       "<Figure size 432x288 with 1 Axes>"
      ]
     },
     "metadata": {
      "needs_background": "light"
     },
     "output_type": "display_data"
    }
   ],
   "source": [
    "plt.plot(freqs, freqsAliased)\n",
    "plt.xlabel(\"actual frequency\")\n",
    "plt.ylabel(\"aliased frequency\")"
   ]
  },
  {
   "cell_type": "code",
   "execution_count": 5,
   "id": "43a675a8-70b4-4890-8f46-1fffb2ff6b86",
   "metadata": {},
   "outputs": [
    {
     "name": "stdout",
     "output_type": "stream",
     "text": [
      "foutRequested, foutQuantized = 1352.2559999999999 1352.256005859375\n"
     ]
    }
   ],
   "source": [
    "fMixer = soc.fsIn/2\n",
    "soc.set_mixer(fMixer) # MHz\n",
    "foutRequested = soc.fsIn/2 + 123.456\n",
    "soc.dds_out.alloff()\n",
    "foutQuantized = soc.DF*np.round(foutRequested/soc.DF)\n",
    "print(\"foutRequested, foutQuantized =\",foutRequested, foutQuantized)"
   ]
  },
  {
   "cell_type": "code",
   "execution_count": 6,
   "id": "6006cf60-5b33-4ff2-b595-ea3f6f726f4c",
   "metadata": {},
   "outputs": [
    {
     "name": "stdout",
     "output_type": "stream",
     "text": [
      "output channel = 51\n",
      "output DDS freq = 1.056005859374962\n"
     ]
    }
   ],
   "source": [
    "# Create an output tone\n",
    "pfb_ch, dds_freq, _, _ = soc.pfb_out.freq2ch(foutQuantized, soc.get_mixer())\n",
    "print(\"output channel =\",pfb_ch)\n",
    "print(\"output DDS freq =\",dds_freq)\n",
    "soc.dds_out.ddscfg(ch=pfb_ch, f=dds_freq, g=0.9, fi=0.0)\n",
    "soc.pfb_out.qout(0)"
   ]
  },
  {
   "cell_type": "code",
   "execution_count": 7,
   "id": "96364fbc-3ae4-4077-8c46-f9896aa68288",
   "metadata": {},
   "outputs": [
    {
     "name": "stdout",
     "output_type": "stream",
     "text": [
      "foutQuantized = 1352.256005859375\n",
      "fInAliased = 1105.343994140625\n",
      "K = [409] dds_freq = [0.14399414]\n",
      "stream, stream_idx [1] [0]\n",
      "inCh = 409 offset = 0.14399414062494997\n",
      "num_tran, tran_idx 1 [0]\n",
      "ntranByTone, streamByTone [51] [1]\n"
     ]
    }
   ],
   "source": [
    "# Set up the input dds and the streamer to read this tone\n",
    "fInAliased = soc.fAliasedFromFToneScalar(foutQuantized)\n",
    "print(\"foutQuantized =\",foutQuantized)\n",
    "print(\"fInAliased =\",fInAliased)\n",
    "decimation = 2\n",
    "pfbInQout = 8\n",
    "K, dds_freq, pdb_freq, ch = soc.pfb_in.freq2ch(np.array([fInAliased]))\n",
    "print(\"K =\",K, \"dds_freq =\",dds_freq)\n",
    "stream, stream_idx = soc.chsel.ch2idx(K)\n",
    "print(\"stream, stream_idx\",stream,stream_idx)\n",
    "inCh, offset = soc.inFreq2chOffset(fInAliased)\n",
    "print(\"inCh =\",inCh, \"offset =\",offset)\n",
    "ntran, addr, bits = soc.chsel.ch2tran(inCh)\n",
    "num_tran, tran_idx = soc.chsel.set(K)\n",
    "print(\"num_tran, tran_idx\",num_tran,tran_idx)\n",
    "ntranByTone, streamByTone = soc.inFreq2NtranStream(np.array([fInAliased]))\n",
    "print(\"ntranByTone, streamByTone\",ntranByTone, streamByTone)\n",
    "\n",
    "soc.pfb_in.qout(pfbInQout)\n",
    "soc.ddscic.decimation(decimation)\n",
    "soc.ddscic.dds_outsel(outsel=\"product\")\n",
    "soc.ddscic.set_ddsfreq(ch_id=inCh, f=offset)\n"
   ]
  },
  {
   "cell_type": "code",
   "execution_count": 8,
   "id": "751380d0-a4a0-4fa9-96fb-5dd465927e46",
   "metadata": {},
   "outputs": [],
   "source": [
    "nt = 1\n",
    "nsamp = 10000\n",
    "packets = soc.stream.transfer(nt=nt, nsamp=nsamp)\n",
    " "
   ]
  },
  {
   "cell_type": "code",
   "execution_count": 9,
   "id": "955f83d6-823e-4b71-94f9-a2c494c14f2e",
   "metadata": {},
   "outputs": [
    {
     "name": "stdout",
     "output_type": "stream",
     "text": [
      "     packets.shape = (1, 10000, 17)\n",
      "      ntrans.shape = (1, 10000)\n",
      "         xis.shape = (1, 10000, 8)\n",
      "         xqs.shape = (1, 10000, 8)\n",
      "          xs.shape = (1, 10000, 8)\n"
     ]
    }
   ],
   "source": [
    "                             \n",
    "print(\"     packets.shape =\",packets.shape)\n",
    "ntrans = packets[:,:,16]\n",
    "print(\"      ntrans.shape =\",ntrans.shape)\n",
    "xis = packets[:,:,0:16:2]\n",
    "print(\"         xis.shape =\",xis.shape)\n",
    "xqs = packets[:,:,1:17:2]\n",
    "print(\"         xqs.shape =\",xqs.shape)\n",
    "xs = xis + 1j*xqs\n",
    "print(\"          xs.shape =\",xs.shape)"
   ]
  },
  {
   "cell_type": "code",
   "execution_count": 10,
   "id": "09990c38-ffbb-4cb0-bcc1-6fb749e76fb4",
   "metadata": {},
   "outputs": [
    {
     "name": "stdout",
     "output_type": "stream",
     "text": [
      "temp.shape = (9868,)\n"
     ]
    }
   ],
   "source": [
    "it = 0\n",
    "iTone = 0\n",
    "inds = ntrans[it] ==  ntranByTone[iTone]\n",
    "temp = xs[it, inds, streamByTone[iTone]]\n",
    "print(\"temp.shape =\",temp.shape)"
   ]
  },
  {
   "cell_type": "code",
   "execution_count": 11,
   "id": "a8c98c61-c9e3-46b1-b6df-e89d7a35fc87",
   "metadata": {},
   "outputs": [
    {
     "name": "stdout",
     "output_type": "stream",
     "text": [
      "6854.249508376695\n"
     ]
    },
    {
     "data": {
      "image/png": "[encoded data removed]",
      "text/plain": [
       "<Figure size 432x288 with 1 Axes>"
      ]
     },
     "metadata": {
      "needs_background": "light"
     },
     "output_type": "display_data"
    }
   ],
   "source": [
    "plt.plot(np.real(temp), label=\"I\")\n",
    "plt.plot(np.imag(temp), label=\"Q\")\n",
    "amplitude = np.abs(temp).mean()\n",
    "print(amplitude)"
   ]
  },
  {
   "cell_type": "code",
   "execution_count": null,
   "id": "a99c5ecd-0e33-4dc3-994b-acda518105bb",
   "metadata": {},
   "outputs": [],
   "source": []
  }
 ],
 "metadata": {
  "kernelspec": {
   "display_name": "Python 3",
   "language": "python",
   "name": "python3"
  },
  "language_info": {
   "codemirror_mode": {
    "name": "ipython",
    "version": 3
   },
   "file_extension": ".py",
   "mimetype": "text/x-python",
   "name": "python",
   "nbconvert_exporter": "python",
   "pygments_lexer": "ipython3",
   "version": "3.8.2"
  }
 },
 "nbformat": 4,
 "nbformat_minor": 5
}
