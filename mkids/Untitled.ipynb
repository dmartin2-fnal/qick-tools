{
 "cells": [
  {
   "cell_type": "code",
   "execution_count": null,
   "id": "ca4c7a28-1682-41e2-9549-959dab3b7485",
   "metadata": {},
   "outputs": [],
   "source": [
    "import importlib\n",
    "from mkids import TopSoc\n",
    "import numpy as np\n",
    "import matplotlib.pyplot as plt\n",
    "from tqdm.notebook import trange\n",
    "import Scan\n",
    "soc = TopSoc()"
   ]
  },
  {
   "cell_type": "code",
   "execution_count": null,
   "id": "f1e3abe0-15a1-4a24-b80e-d8c0c7c8be7e",
   "metadata": {},
   "outputs": [],
   "source": [
    "fMixer = soc.fsIn/2/2\n",
    "soc.set_mixer(fMixer)"
   ]
  },
  {
   "cell_type": "code",
   "execution_count": null,
   "id": "24ae262f-7448-4364-8b11-f99246877d3a",
   "metadata": {},
   "outputs": [],
   "source": [
    "importlib.reload(Scan)\n",
    "scan = Scan.Scan(soc)\n",
    "outCh = 123\n",
    "nominalDelay = scan.measureNominalDelay(outCh, decimation=2, doPlot=True)\n"
   ]
  },
  {
   "cell_type": "code",
   "execution_count": null,
   "id": "3eae8c50-2c8b-400a-a3fe-4b79c05d94e0",
   "metadata": {},
   "outputs": [],
   "source": [
    "print(nominalDelay)"
   ]
  },
  {
   "cell_type": "code",
   "execution_count": null,
   "id": "024fdc31-81bb-4b93-8404-140c13a229c2",
   "metadata": {},
   "outputs": [],
   "source": [
    "dfs = scan.mndScan['dfs']\n",
    "xs = scan.mndScan['xs']\n",
    "plt.plot(dfs,np.real(xs)/np.abs(xs), '.-')\n",
    "plt.plot(dfs,np.imag(xs)/np.abs(xs), '.-')\n"
   ]
  },
  {
   "cell_type": "code",
   "execution_count": null,
   "id": "471612b3-1b27-4525-83ba-ff2cd219e019",
   "metadata": {},
   "outputs": [],
   "source": [
    "from scipy.optimize import minimize\n",
    "\n",
    "def fun(pars, xs, dfs):\n",
    "    phiFits = pars[0] + pars[1]*dfs\n",
    "    phiData = np.angle(xs)\n",
    "    dPhis = np.angle(np.exp(1j*(phiFits-phiData)))\n",
    "    retval = np.power(dPhis,2).mean()\n",
    "    return retval\n",
    "\n",
    "phi0 = np.angle(xs[len(xs)//2,0])\n",
    "guess = np.array([phi0, 0.0])\n",
    "rv = minimize(fun, guess, args=(xs[:,0],dfs))\n",
    "if rv.success:\n",
    "    phi0 = rv.x[0]\n",
    "    delay = rv.x[1]\n",
    "    dfFits = np.linspace(dfs.min(),dfs.max(),100)\n",
    "    xFits = np.exp(1j*(phi0 + delay*dfFits))\n",
    "    plt.plot(dfs,np.real(xs[:,0])/np.abs(xs[:,0]),'b.', label=\"data I\")\n",
    "    plt.plot(dfFits, np.real(xFits), 'b', alpha=0.4, label=\"fit I\")\n",
    "    plt.plot(dfs,np.imag(xs[:,0])/np.abs(xs[:,0]),'r.', label=\"data Q\")\n",
    "    plt.plot(dfFits, np.imag(xFits), 'r', alpha=0.4, label=\"fit Q\")\n",
    "    plt.legend()\n"
   ]
  },
  {
   "cell_type": "code",
   "execution_count": null,
   "id": "1e49a64d-add5-4f0e-9202-7a5946ed532a",
   "metadata": {},
   "outputs": [],
   "source": [
    "rv.success"
   ]
  },
  {
   "cell_type": "code",
   "execution_count": null,
   "id": "2955713a-41b1-4d48-aa28-373b3924bd56",
   "metadata": {},
   "outputs": [],
   "source": []
  }
 ],
 "metadata": {
  "kernelspec": {
   "display_name": "Python 3",
   "language": "python",
   "name": "python3"
  },
  "language_info": {
   "codemirror_mode": {
    "name": "ipython",
    "version": 3
   },
   "file_extension": ".py",
   "mimetype": "text/x-python",
   "name": "python",
   "nbconvert_exporter": "python",
   "pygments_lexer": "ipython3",
   "version": "3.8.2"
  }
 },
 "nbformat": 4,
 "nbformat_minor": 5
}
