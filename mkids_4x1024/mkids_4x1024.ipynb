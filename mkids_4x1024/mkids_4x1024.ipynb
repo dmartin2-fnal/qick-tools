{
 "cells": [
  {
   "cell_type": "markdown",
   "metadata": {},
   "source": [
    "## notes\n",
    "* weird behavior for input frequency in the ranges [978.6, 988.2] and [2303.4, 2313.0] MHz - data is extremely noisy regardless of actual signal\n",
    "* input can only operate in 1st Nyquist zone (rolls off rapidly above 1.2 GHz) - might be able to change the coarse mixer?\n",
    "* output PFB channels randomly have pi phase shifts (positive or negative amplitude) - should be possible to calibrate"
   ]
  },
  {
   "cell_type": "code",
   "execution_count": 1,
   "metadata": {},
   "outputs": [
    {
     "data": {
      "application/javascript": [
       "\n",
       "try {\n",
       "require(['notebook/js/codecell'], function(codecell) {\n",
       "  codecell.CodeCell.options_default.highlight_modes[\n",
       "      'magic_text/x-csrc'] = {'reg':[/^%%microblaze/]};\n",
       "  Jupyter.notebook.events.one('kernel_ready.Kernel', function(){\n",
       "      Jupyter.notebook.get_cells().map(function(cell){\n",
       "          if (cell.cell_type == 'code'){ cell.auto_highlight(); } }) ;\n",
       "  });\n",
       "});\n",
       "} catch (e) {};\n"
      ]
     },
     "metadata": {},
     "output_type": "display_data"
    },
    {
     "data": {
      "application/javascript": [
       "\n",
       "try {\n",
       "require(['notebook/js/codecell'], function(codecell) {\n",
       "  codecell.CodeCell.options_default.highlight_modes[\n",
       "      'magic_text/x-csrc'] = {'reg':[/^%%pybind11/]};\n",
       "  Jupyter.notebook.events.one('kernel_ready.Kernel', function(){\n",
       "      Jupyter.notebook.get_cells().map(function(cell){\n",
       "          if (cell.cell_type == 'code'){ cell.auto_highlight(); } }) ;\n",
       "  });\n",
       "});\n",
       "} catch (e) {};\n"
      ]
     },
     "metadata": {},
     "output_type": "display_data"
    }
   ],
   "source": [
    "# import sys\n",
    "# sys.path.append('../qick/qick_lib/')\n",
    "\n",
    "from mkids_4x1024 import *\n",
    "\n",
    "import numpy as np\n",
    "\n",
    "import matplotlib.pyplot as plt\n",
    "from numpy.fft import fft, fftshift\n",
    "from scipy.signal import welch\n",
    "from scipy.interpolate import interp1d\n",
    "from tqdm.auto import tqdm\n"
   ]
  },
  {
   "cell_type": "code",
   "execution_count": 2,
   "metadata": {},
   "outputs": [
    {
     "name": "stdout",
     "output_type": "stream",
     "text": [
      "resetting clocks: 245.76 491.52\n"
     ]
    }
   ],
   "source": [
    "# Load bitstream with custom overlay\n",
    "soc = TopSoc('./mkids_4x1024.bit', ignore_version=True, force_init_clks=True)"
   ]
  },
  {
   "cell_type": "code",
   "execution_count": 3,
   "metadata": {},
   "outputs": [],
   "source": [
    "def round_freq(f): # in MHz\n",
    "    df = soc.dds_out.DF_DDS\n",
    "    return np.round(f/df)*df"
   ]
  },
  {
   "cell_type": "code",
   "execution_count": 4,
   "metadata": {},
   "outputs": [],
   "source": [
    "#########################################\n",
    "### Set output frequency with DDS+PFB ###\n",
    "#########################################\n",
    "\n",
    "def set_mixer(fmix): # fmix in MHz\n",
    "    # Set mixer frequency.\n",
    "    soc.pfb_out.set_fmix(fmix)\n",
    "    return soc.pfb_out.get_fmix()\n",
    "\n",
    "def freq2ch_out(freq, fmix):\n",
    "    \"\"\"return ch, dds_freq, center_freq\n",
    "    \"\"\"\n",
    "    if isinstance(freq, list):\n",
    "        freq = np.array(freq)\n",
    "    fc = soc.pfb_out.fc\n",
    "    ch, remainder = np.divmod(freq-fmix+fc/2,fc)\n",
    "    return np.int64(ch)%soc.pfb_out.N, remainder-fc/2, fc*ch\n",
    "\n",
    "def set_outputs(freqs, gains, equalize=True): # freqs in MHz\n",
    "    # try to convert to float; if that fails, assume it's a list of floats\n",
    "    try:\n",
    "        gain_list = [float(gains)]*len(freqs)\n",
    "    except TypeError:\n",
    "        gain_list = gains\n",
    "    assert len(freqs)==len(gain_list)\n",
    "    \n",
    "    if equalize:\n",
    "        forward_freqs, forward_gains = np.load(\"output_gain.npy\")\n",
    "        # normalize to the minimum gain in the working band (which is +/- fb/2)\n",
    "        # we're going to divide the output gain by this function, so we want the function to be always >=1\n",
    "        # (otherwise we might exceed the output range)\n",
    "        mingain = forward_gains[:(len(forward_gains)+1)//2].min()\n",
    "        output_gain = interp1d(forward_freqs, forward_gains/mingain)\n",
    "    \n",
    "    # All channels off.\n",
    "    soc.dds_out.alloff()\n",
    "    pfb_chs, dds_freqs, _ = freq2ch_out(freqs, soc.pfb_out.get_fmix())\n",
    "    \n",
    "    for ch, fdds, gain in zip(pfb_chs, dds_freqs, gain_list):\n",
    "        if equalize:\n",
    "            equalized_gain = gain / output_gain(np.abs(fdds)/(soc.dds_out.FS_DDS))\n",
    "        else:\n",
    "            equalized_gain = gain\n",
    "        soc.dds_out.ddscfg(f=fdds, g=equalized_gain, ch=ch)\n",
    "        \n",
    "    # Set the PFB quantization, which sets the PFB dynamic range.\n",
    "    # 0 gives you max output power, larger values give you finer control\n",
    "    soc.pfb_out.qout(0)\n"
   ]
  },
  {
   "cell_type": "code",
   "execution_count": null,
   "metadata": {},
   "outputs": [],
   "source": [
    "soc.dds_out.alloff()\n"
   ]
  },
  {
   "cell_type": "code",
   "execution_count": null,
   "metadata": {},
   "outputs": [],
   "source": [
    "set_mixer(1000) # MHz\n",
    "fout = 500.3\n",
    "set_outputs([fout], 0.1)"
   ]
  },
  {
   "cell_type": "code",
   "execution_count": null,
   "metadata": {},
   "outputs": [],
   "source": [
    "set_mixer(1000) # MHz\n",
    "fout = 500.3\n",
    "set_outputs([fout], 0.00004) # minimum power"
   ]
  },
  {
   "cell_type": "code",
   "execution_count": 5,
   "metadata": {},
   "outputs": [],
   "source": [
    "set_mixer(1000) # MHz\n",
    "fout = 500.3 # MHz\n",
    "set_outputs([fout], -1.0) # maximum power\n"
   ]
  },
  {
   "cell_type": "code",
   "execution_count": 6,
   "metadata": {},
   "outputs": [
    {
     "data": {
      "image/png": "[encoded data removed]",
      "text/plain": [
       "<Figure size 900x600 with 1 Axes>"
      ]
     },
     "metadata": {
      "needs_background": "light"
     },
     "output_type": "display_data"
    }
   ],
   "source": [
    "def freq2ch_in(freq):\n",
    "    \"\"\"return ch, dds_freq, center_freq\n",
    "    \"\"\"\n",
    "    if isinstance(freq, list):\n",
    "        freq = np.array(freq)\n",
    "    fc = soc.pfb_in.fc\n",
    "    n = soc.pfb_in.N\n",
    "    ch, remainder = np.divmod(freq+fc/2,fc)\n",
    "    return np.int64(ch+n//2)%n, remainder-fc/2, fc*ch\n",
    "\n",
    "def measure_single(freq, decimation=2, downconvert=True): # MHz\n",
    "    ###########################\n",
    "    ### Plot single channel ###\n",
    "    ###########################\n",
    "\n",
    "    # Set the PFB quantization, which sets the PFB dynamic range.\n",
    "    # this sets how many of the least significant bits are truncated, or something like that\n",
    "    # larger values mean a given power will get converted to a smaller number of arbitrary units\n",
    "    # the appropriate value depends on the signal strength\n",
    "    # if you make this too small, your signal may overflow the range and you will see weird stuff:\n",
    "    #     periodic sawtooth-y waveforms in the IQ data, lots of spurious spikes in the frequency spectrum\n",
    "    # if you make this too big, your signal-to-noise ratio suffers (eventually your IQ values are all zero)\n",
    "    # Values >=12 seem to be equivalent to 0\n",
    "    soc.pfb_in.qout(7)\n",
    "    \n",
    "    # Set decimation value.\n",
    "    # This also automatically sets the CIC quantization.\n",
    "    soc.ddscic.decimation(value=decimation)\n",
    "\n",
    "    # Channel's sampling frequency = bandwidth/decimation\n",
    "    fs = soc.pfb_in.get_fb()/soc.ddscic.get_decimate()\n",
    "\n",
    "#     rounded_freq = round_freq(freq)\n",
    "    K, dds_freq, pfb_freq = freq2ch_in(freq)\n",
    "    \n",
    "    # Un-mask channel.\n",
    "    soc.chsel.set_single(K)\n",
    "\n",
    "    if downconvert:\n",
    "        # Use DDS.\n",
    "        soc.ddscic.dds_outsel(outsel=\"product\")\n",
    "        # Set DDS frequency.\n",
    "#         dds_freq = (rounded_freq - pfb_freq)\n",
    "        soc.ddscic.set_ddsfreq(ch_id=K, f=dds_freq)\n",
    "        # need to correct by 1.0 if in \"product\" mode?\n",
    "        offset = 1\n",
    "        fcenter = pfb_freq+dds_freq\n",
    "    else:\n",
    "        # By-pass DDS product.\n",
    "        soc.ddscic.dds_outsel(outsel=\"input\")\n",
    "        # need to correct offset, which depends on channel\n",
    "        offset = 1.0 if K%2==0 else 0.5\n",
    "        fcenter = pfb_freq\n",
    "\n",
    "    # Transfer data.\n",
    "    t_start = time.time()\n",
    "    x_buf = soc.stream.get_data(idx=soc.chsel.ch2idx(K))\n",
    "#     x_buf = soc.stream.get_data(nt=10, nsamp=1000,idx=soc.chsel.ch2idx(K))\n",
    "#     print(time.time()-t_start)\n",
    "    # nsamp * number of PFB channels * decimation / ADC sampling freq\n",
    "    # example: 1e4*1024*250/2457.6e6 = ~1 sec\n",
    "    return fs, fcenter, K, x_buf, offset\n",
    "\n",
    "def plot_spectrum(fs, fcenter, K, x_buf, offset, truncate=200):\n",
    "    # apply offset correction and convert to complex\n",
    "    # TODO: figure out if there's a smarter way to get rid of junk at the start of the buffer\n",
    "    x = (x_buf[truncate:].astype(np.float64)+offset).dot([1, 1j])\n",
    "\n",
    "    plt.figure(1,dpi=150)\n",
    "\n",
    "    F, Y = fftshift(welch(x,\n",
    "                          fs*1000,\n",
    "                          return_onesided=False,\n",
    "                          detrend=False,\n",
    "                          nperseg=512), axes=1)\n",
    "    F += fcenter*1000\n",
    "    plt.plot(F,10*np.log10(Y)) # welch gives you power spectrum\n",
    "\n",
    "    plt.title(\"Spectrum for channel K = %d\" %K);\n",
    "    plt.xlabel(\"F [kHz]\");\n",
    "\n",
    "set_mixer(1000) # MHz\n",
    "fout = 500.3\n",
    "# fout = 982\n",
    "# fout = 1500.3\n",
    "# soc.dds_out.alloff()\n",
    "# np.copyto(soc.stream.buff, 0)\n",
    "set_outputs([fout], 0.1)\n",
    "# fs, fcenter, K, x_buf, offset = measure_single(fout, downconvert=False)\n",
    "fs, fcenter, K, x_buf, offset = measure_single(fout, downconvert=True)\n",
    "plot_spectrum(fs, fcenter, K, x_buf, offset)"
   ]
  },
  {
   "cell_type": "code",
   "execution_count": null,
   "metadata": {},
   "outputs": [],
   "source": [
    "plt.plot(x_buf[0:200])"
   ]
  },
  {
   "cell_type": "code",
   "execution_count": null,
   "metadata": {},
   "outputs": [],
   "source": [
    "plt.plot(x_buf[200:])"
   ]
  },
  {
   "cell_type": "code",
   "execution_count": 7,
   "metadata": {
    "scrolled": true
   },
   "outputs": [
    {
     "data": {
      "application/vnd.jupyter.widget-view+json": {
       "model_id": "2130de188cb64a14a15343ee734135d5",
       "version_major": 2,
       "version_minor": 0
      },
      "text/plain": [
       "  0%|          | 0/201 [00:00<?, ?it/s]"
      ]
     },
     "metadata": {},
     "output_type": "display_data"
    }
   ],
   "source": [
    "# fmix = 0 # MHz\n",
    "fmix = 1000 # MHz\n",
    "fstart = 498\n",
    "fstop = 503\n",
    "truncate = 200\n",
    "\n",
    "input_gain = interp1d(*np.load(\"input_gain.npy\"))\n",
    "\n",
    "set_mixer(fmix)\n",
    "freqs = round_freq(np.linspace(fstart,fstop,201))\n",
    "results = np.zeros((len(freqs),2))\n",
    "for i, fout in enumerate(tqdm(freqs)):\n",
    "    set_outputs([fout], 0.1, equalize=False)\n",
    "    fs, fcenter, K, x_buf, offset = measure_single(fout, decimation=2, downconvert=True)\n",
    "    results[i] = x_buf[truncate:].mean(axis=0)+offset\n",
    "#     results[i] /= input_gain(np.abs((fout - soc.pfb_in.ch2freq(K))/soc.pfb_in.fb))\n",
    "    \n",
    "results_complex = results.dot([1,1j])"
   ]
  },
  {
   "cell_type": "code",
   "execution_count": 8,
   "metadata": {},
   "outputs": [
    {
     "data": {
      "image/png": "[encoded data removed]",
      "text/plain": [
       "<Figure size 432x288 with 2 Axes>"
      ]
     },
     "metadata": {
      "needs_background": "light"
     },
     "output_type": "display_data"
    }
   ],
   "source": [
    "output_spacing = soc.pfb_out.fc\n",
    "input_spacing = soc.pfb_in.fc\n",
    "def edges(start, stop, spacing, offset=0):\n",
    "    offset_phase = (0.5+offset/spacing)%1\n",
    "    return spacing * np.arange(start/spacing + ((offset_phase - start/spacing) % 1), stop/spacing)\n",
    "\n",
    "output_edges = edges(fstart, fstop, output_spacing, fmix%output_spacing)\n",
    "input_edges = edges(fstart, fstop, input_spacing)\n",
    "\n",
    "fig, ax1 = plt.subplots()\n",
    "\n",
    "ax1.plot(freqs, np.abs(results_complex))\n",
    "\n",
    "ax2 = ax1.twinx()  # instantiate a second axes that shares the same x-axis\n",
    "ax2.plot(freqs, np.angle(results_complex),color='red')\n",
    "\n",
    "for f in output_edges:\n",
    "    plt.axvline(f, color='blue')\n",
    "for f in input_edges:\n",
    "    plt.axvline(f, color='green')"
   ]
  },
  {
   "cell_type": "code",
   "execution_count": null,
   "metadata": {},
   "outputs": [],
   "source": [
    "# fmix = 500 # MHz\n",
    "# fstart = 10\n",
    "# fstop = 1000\n",
    "fmix = 1000 # MHz\n",
    "fstart = 500\n",
    "fstop = 1500\n",
    "# fstart = 978\n",
    "# fstop = 989\n",
    "# fstart = 978.59\n",
    "# fstop = 978.61\n",
    "# fstart = 988.19\n",
    "# fstop = 988.21\n",
    "# fmix = 2500 # MHz\n",
    "# fstart = 2000\n",
    "# fstop = 3000\n",
    "# fstart = 2303.39\n",
    "# fstop = 2303.41\n",
    "# fstart = 2312.99\n",
    "# fstop = 2313.01\n",
    "\n",
    "input_gain = interp1d(*np.load(\"input_gain.npy\"))\n",
    "\n",
    "set_mixer(fmix)\n",
    "freqs = round_freq(np.linspace(fstart,fstop,201))\n",
    "results = np.zeros((len(freqs),2))\n",
    "for i, fout in enumerate(tqdm(freqs)):\n",
    "    set_outputs([fout], 0.1)\n",
    "    fs, fcenter, K, x_buf, offset = measure_single(fout, decimation=2, downconvert=True)\n",
    "    results[i] = x_buf[truncate:].mean(axis=0)+offset\n",
    "\n",
    "    pfb_freq = np.round(fout/soc.pfb_in.fc)*soc.pfb_in.fc\n",
    "    results[i] /= input_gain(np.abs((fout - pfb_freq)/soc.pfb_in.fb))\n",
    "    \n",
    "results_complex = results.dot([1,1j])\n",
    "plt.plot(freqs, np.abs(results_complex))"
   ]
  },
  {
   "cell_type": "code",
   "execution_count": null,
   "metadata": {},
   "outputs": [],
   "source": [
    "plt.semilogy(freqs, np.abs(results_complex))"
   ]
  },
  {
   "cell_type": "markdown",
   "metadata": {},
   "source": [
    "## calibrate PFB gains"
   ]
  },
  {
   "cell_type": "code",
   "execution_count": null,
   "metadata": {},
   "outputs": [],
   "source": [
    "# measure the output gain as a function of PFB frequency offset\n",
    "# we can keep the real freq fixed (so the input gain doesn't change), and sweep the mixer freq\n",
    "\n",
    "# real freq\n",
    "fout = 500 # MHz\n",
    "fout = np.round(fout/soc.pfb_out.fc)*soc.pfb_out.fc\n",
    "print(fout)\n",
    "\n",
    "# mixer range\n",
    "fstart = 0\n",
    "fcenter = soc.pfb_out.fb*0.5\n",
    "fstop = soc.pfb_out.fb\n",
    "\n",
    "soc.pfb_out.qout(0)\n",
    "# get K and PFB frequency, which don't change during the sweep\n",
    "set_mixer(fcenter)\n",
    "K = soc.pfb_out.freq2ch(fout)\n",
    "pfb_freq = soc.pfb_out.ch2freq(K) # MHz\n",
    "\n",
    "freqs = round_freq(np.linspace(fstart,fstop,513))[1:] # drop the first point\n",
    "results = np.zeros((len(freqs),2))\n",
    "for i, fmix in enumerate(tqdm(freqs)):\n",
    "    set_mixer(fmix)\n",
    "\n",
    "    soc.dds_out.alloff()\n",
    "    fdds = round_freq(fout - fmix - pfb_freq)*1000*1000 # Hz\n",
    "    soc.dds_out.ddscfg(f=fdds, g=0.1, ch=K)\n",
    "    \n",
    "    _, _, _, x_buf, offset = measure_single(fout, decimation=2, downconvert=True)\n",
    "    results[i] = x_buf[truncate:].mean(axis=0)+offset\n",
    "results_complex = results.dot([1,1j])\n",
    "gains = np.abs(results_complex)\n",
    "normalized_freqs = (freqs-fcenter)/soc.pfb_out.fb"
   ]
  },
  {
   "cell_type": "code",
   "execution_count": null,
   "metadata": {},
   "outputs": [],
   "source": [
    "plt.plot(freqs, gains)\n",
    "for i in [-0.25, 0.25]:\n",
    "    plt.axvline(fcenter + soc.pfb_out.fb*(i), color='blue')"
   ]
  },
  {
   "cell_type": "code",
   "execution_count": null,
   "metadata": {},
   "outputs": [],
   "source": [
    "# normalize and save\n",
    "center = len(gains)//2 - 1\n",
    "forward_gains = gains[center:]\n",
    "backward_gains = gains[center::-1]\n",
    "plt.plot(forward_gains[:-1]-backward_gains) # check symmetry\n",
    "forward_gains[:-1] += backward_gains\n",
    "forward_gains[:-1] *= 0.5\n",
    "# print(forward)\n",
    "forward_freqs = normalized_freqs[center:]\n",
    "forward_gains /= forward_gains[0] # normalize to center frequency\n",
    "np.save(\"output_gain.npy\",np.stack([forward_freqs, forward_gains]))"
   ]
  },
  {
   "cell_type": "code",
   "execution_count": null,
   "metadata": {},
   "outputs": [],
   "source": [
    "plt.semilogy(*np.load(\"output_gain.npy\"))\n",
    "plt.axvline(0.25) # maximum frequency offset in normal use"
   ]
  },
  {
   "cell_type": "code",
   "execution_count": null,
   "metadata": {},
   "outputs": [],
   "source": []
  },
  {
   "cell_type": "code",
   "execution_count": null,
   "metadata": {},
   "outputs": [],
   "source": [
    "# now that the output gain is equalized, we can measure the input gain\n",
    "\n",
    "fmix = 0 # MHz\n",
    "\n",
    "# real freq range\n",
    "fstart = 500 # MHz\n",
    "fstart = np.round(fstart/soc.pfb_in.fc)*soc.pfb_in.fc\n",
    "print(fstart)\n",
    "fcenter = fstart + soc.pfb_in.fb*0.5\n",
    "fstop = fstart + soc.pfb_in.fb\n",
    "\n",
    "soc.pfb_in.qout(7)\n",
    "decimation = 2\n",
    "soc.ddscic.decimation(value=decimation)\n",
    "soc.ddscic.dds_outsel(outsel=\"product\")\n",
    "\n",
    "# Channel number.\n",
    "K = soc.pfb_in.freq2ch(fcenter)\n",
    "# center frequency of PFB channel\n",
    "pfb_freq = soc.pfb_in.ch2freq(K)\n",
    "# Un-mask channel.\n",
    "soc.chsel.set_single(K)\n",
    "# need to correct by 1.0 if in \"product\" mode?\n",
    "offset = 1\n",
    "truncate = 200\n",
    "\n",
    "freqs = round_freq(np.linspace(fstart,fstop,513)[:-1]) # drop the last point\n",
    "results = np.zeros((len(freqs),2))\n",
    "for i, fout in enumerate(tqdm(freqs)):\n",
    "    set_outputs([fout], 0.1)\n",
    "    \n",
    "    # Set DDS frequency.\n",
    "    dds_freq = round_freq(fout - pfb_freq)*1000*1000\n",
    "    soc.ddscic.set_ddsfreq(ch_id=K, f=dds_freq)\n",
    "\n",
    "    # Transfer data.\n",
    "    x_buf = soc.stream.get_data(nt=1,idx=soc.chsel.ch2idx(K))\n",
    "    \n",
    "    results[i] = x_buf[truncate:].mean(axis=0)+offset\n",
    "    \n",
    "results_complex = results.dot([1,1j])\n",
    "gains = np.abs(results_complex)\n",
    "normalized_freqs = (freqs-fcenter)/soc.pfb_in.fb"
   ]
  },
  {
   "cell_type": "code",
   "execution_count": null,
   "metadata": {},
   "outputs": [],
   "source": [
    "plt.plot(freqs, gains)\n",
    "for i in [-0.25, 0.25]:\n",
    "    plt.axvline(fcenter + soc.pfb_in.fb*(i), color='blue')"
   ]
  },
  {
   "cell_type": "code",
   "execution_count": null,
   "metadata": {},
   "outputs": [],
   "source": [
    "# normalize and save\n",
    "center = len(gains)//2\n",
    "forward_gains = gains[center:]\n",
    "backward_gains = gains[center::-1]\n",
    "plt.plot(backward_gains[:-1]-forward_gains) # check symmetry\n",
    "backward_gains[:-1] += forward_gains\n",
    "backward_gains[:-1] *= 0.5\n",
    "backward_freqs = -1*normalized_freqs[center::-1]\n",
    "backward_gains /= backward_gains[0] # normalize to center frequency\n",
    "np.save(\"input_gain.npy\",np.stack([backward_freqs, backward_gains]))"
   ]
  },
  {
   "cell_type": "code",
   "execution_count": null,
   "metadata": {},
   "outputs": [],
   "source": [
    "plt.semilogy(*np.load(\"input_gain.npy\"))\n",
    "plt.axvline(0.25) # maximum frequency offset in normal use"
   ]
  },
  {
   "cell_type": "markdown",
   "metadata": {},
   "source": [
    "## calibrate phase jumps"
   ]
  },
  {
   "cell_type": "code",
   "execution_count": null,
   "metadata": {},
   "outputs": [],
   "source": [
    "def edges(start, stop, spacing, offset=0):\n",
    "    offset_phase = (0.5+offset/spacing)%1\n",
    "    return spacing * np.arange(start/spacing + ((offset_phase - start/spacing) % 1), stop/spacing)\n"
   ]
  },
  {
   "cell_type": "code",
   "execution_count": null,
   "metadata": {},
   "outputs": [],
   "source": [
    "# measure the phase as a function of PFB frequency offset\n",
    "# we must keep the mixer fixed, because the mixer is not phase-coherent\n",
    "\n",
    "# fmix = 0 # MHz\n",
    "fmix = round_freq(1000) # MHz\n",
    "fstart = 498\n",
    "fstop = 503\n",
    "truncate = 200\n",
    "\n",
    "output_spacing = soc.pfb_out.fc\n",
    "input_spacing = soc.pfb_in.fc\n",
    "output_edges = edges(fstart, fstop, output_spacing, fmix%output_spacing)\n",
    "input_edges = edges(fstart, fstop, input_spacing)\n",
    "\n",
    "input_gain = interp1d(*np.load(\"input_gain.npy\"))\n",
    "\n",
    "set_mixer(fmix)\n",
    "freqs = round_freq(np.linspace(fstart,fstop,201))\n",
    "# freqs = round_freq(np.concatenate([[f-eps, f+eps] for f in np.concatenate([output_edges, input_edges])]))\n",
    "# freqs.sort()\n",
    "results = np.zeros((len(freqs),2))\n",
    "for i, fout in enumerate(tqdm(freqs)):\n",
    "    set_outputs([fout], 0.1)\n",
    "    fs, fcenter, K, x_buf, offset = measure_single(fout, decimation=2, downconvert=True)\n",
    "    results[i] = x_buf[truncate:].mean(axis=0)+offset\n",
    "    results[i] /= input_gain(np.abs((fout - soc.pfb_in.ch2freq(K))/soc.pfb_in.fb))\n",
    "    \n",
    "results_complex = results.dot([1,1j])\n",
    "\n",
    "phases = np.angle(results_complex)\n",
    "plt.plot(freqs, phases)\n",
    "# fig, ax1 = plt.subplots()\n",
    "\n",
    "# ax1.plot(freqs, np.abs(results_complex))\n",
    "\n",
    "# ax2 = ax1.twinx()  # instantiate a second axes that shares the same x-axis\n",
    "# ax2.plot(freqs, np.angle(results_complex),color='red')\n",
    "for f in output_edges:\n",
    "    plt.axvline(f, color='blue')\n",
    "for f in input_edges:\n",
    "    plt.axvline(f, color='green')"
   ]
  },
  {
   "cell_type": "code",
   "execution_count": null,
   "metadata": {},
   "outputs": [],
   "source": [
    "eps = 0.001\n",
    "\n",
    "fmix = round_freq(1000) # MHz\n",
    "fstart = 400\n",
    "fstop = 600\n",
    "truncate = 200\n",
    "\n",
    "output_spacing = soc.pfb_out.fc\n",
    "input_spacing = soc.pfb_in.fc\n",
    "output_edges = edges(fstart, fstop, output_spacing, fmix%output_spacing)\n",
    "input_edges = edges(fstart, fstop, input_spacing)\n",
    "\n",
    "set_mixer(fmix)\n",
    "\n",
    "results = np.zeros((len(output_edges), 2))\n",
    "for i, fout in enumerate(tqdm(output_edges)):\n",
    "    for j, delta in enumerate([-eps, eps]):\n",
    "        f = round_freq(fout+delta)\n",
    "        set_outputs([f], 0.1)\n",
    "        _, _, _, x_buf, offset = measure_single(f, decimation=2, downconvert=True)\n",
    "        phase = np.angle((x_buf[truncate:].mean(axis=0)+offset).dot([1,1j]))\n",
    "        results[i,j] = phase\n",
    "# print(results)"
   ]
  },
  {
   "cell_type": "code",
   "execution_count": null,
   "metadata": {},
   "outputs": [],
   "source": [
    "(results[:,1]-results[:,0])%(2*np.pi)"
   ]
  },
  {
   "cell_type": "code",
   "execution_count": null,
   "metadata": {},
   "outputs": [],
   "source": [
    "eps = 0.001\n",
    "\n",
    "fmix = round_freq(1000) # MHz\n",
    "fstart = 400\n",
    "fstop = 600\n",
    "truncate = 200\n",
    "\n",
    "output_spacing = soc.pfb_out.fc\n",
    "input_spacing = soc.pfb_in.fc\n",
    "output_edges = edges(fstart, fstop, output_spacing, fmix%output_spacing)\n",
    "input_edges = edges(fstart, fstop, input_spacing)\n",
    "\n",
    "set_mixer(fmix)\n",
    "\n",
    "results = np.zeros((len(input_edges), 2))\n",
    "for i, fout in enumerate(tqdm(input_edges)):\n",
    "    for j, delta in enumerate([-eps, eps]):\n",
    "        f = round_freq(fout+delta)\n",
    "        set_outputs([f], 0.1)\n",
    "        _, _, _, x_buf, offset = measure_single(f, decimation=2, downconvert=True)\n",
    "        phase = np.angle((x_buf[truncate:].mean(axis=0)+offset).dot([1,1j]))\n",
    "        results[i,j] = phase\n",
    "# print(results)"
   ]
  },
  {
   "cell_type": "code",
   "execution_count": null,
   "metadata": {},
   "outputs": [],
   "source": [
    "(results[:,1]-results[:,0])%(2*np.pi)"
   ]
  },
  {
   "cell_type": "code",
   "execution_count": null,
   "metadata": {},
   "outputs": [],
   "source": [
    "from scipy.optimize import least_squares\n",
    "\n",
    "def wrap_phase(phases):\n",
    "    \"\"\"take an angle and fold it into the range [-pi,pi)\"\"\"\n",
    "    return ((phases+np.pi) % (2*np.pi))-np.pi\n",
    "\n",
    "def phase_residuals(data, prediction):\n",
    "    \"\"\"calculate residual between observed and predicted phases\"\"\"\n",
    "    return wrap_phase(data-prediction)\n",
    "    \n",
    "def phase_model(x, freqs, fmix):\n",
    "    \"\"\"predicted phase shift\"\"\"\n",
    "    offset, slope, output_step, input_step = x\n",
    "    n_output_steps = freq2ch_out(freqs,fmix)[0]\n",
    "    n_input_steps = freq2ch_in(freqs)[0]-soc.pfb_in.N//2\n",
    "    \n",
    "    phases = offset + slope*freqs + output_step*n_output_steps + input_step*n_input_steps\n",
    "    return wrap_phase(phases)\n",
    "\n",
    "def phase_func(x, freqs, phases, fmix):\n",
    "    \"\"\"residuals function to be minimized\"\"\"\n",
    "    return phase_residuals(phases, phase_model(x, freqs, fmix))\n",
    "\n",
    "def initial_guess(freqs, phases, fmix):\n",
    "    dphase = phases[1:]-phases[:-1]\n",
    "    dfreq = freqs[1:]-freqs[:-1]\n",
    "    slopes = dphase/dfreq\n",
    "    output_step = wrap_phase(dphase[-1])\n",
    "    input_step = wrap_phase(dphase[(len(phases-1)//2)-1])\n",
    "    slope = np.median(slopes)\n",
    "    x0 = np.array([0.0, slope, output_step, input_step])\n",
    "    x0[0] = np.median(phase_residuals(phases,phase_model(x0, freqs, fmix)))\n",
    "    return x0"
   ]
  },
  {
   "cell_type": "code",
   "execution_count": null,
   "metadata": {},
   "outputs": [],
   "source": [
    "# measure the phase as a function of PFB frequency offset\n",
    "# we must keep the mixer fixed, because the mixer is not phase-coherent\n",
    "\n",
    "eps = 0.001\n",
    "\n",
    "fmix = 0 # MHz\n",
    "fstart = 500 # MHz\n",
    "# fmix_mod = fmix % soc.pfb_out.fc\n",
    "# fstart = np.round((fstart-fmix_mod)/soc.pfb_out.fc)*soc.pfb_out.fc + fmix_mod\n",
    "fstart = np.round((fstart)/soc.pfb_out.fc)*soc.pfb_out.fc\n",
    "fstop = fstart + 0.5*soc.pfb_out.fc+eps\n",
    "truncate = 200\n",
    "\n",
    "set_mixer(fmix)\n",
    "freqs = round_freq(np.linspace(fstart,fstop,21))\n",
    "results = np.zeros((len(freqs),2))\n",
    "for i, fout in enumerate(tqdm(freqs)):\n",
    "    set_outputs([fout], 0.1)\n",
    "    fs, fcenter, K, x_buf, offset = measure_single(fout, decimation=2, downconvert=True)\n",
    "    results[i] = x_buf[truncate:].mean(axis=0)+offset\n",
    "results_complex = results.dot([1,1j])\n",
    "\n",
    "phases = np.angle(results_complex)\n",
    "plt.plot(freqs, phases)\n",
    "output_edges = edges(fstart, fstop, soc.pfb_out.fc, fmix%soc.pfb_out.fc)\n",
    "input_edges = edges(fstart, fstop, soc.pfb_in.fc)\n",
    "for f in output_edges:\n",
    "    plt.axvline(f, color='blue')\n",
    "for f in input_edges:\n",
    "    plt.axvline(f, color='green')"
   ]
  },
  {
   "cell_type": "code",
   "execution_count": null,
   "metadata": {},
   "outputs": [],
   "source": [
    "def initial_guess(freqs, phases, fmix):\n",
    "    dphase = phases[1:]-phases[:-1]\n",
    "    dfreq = freqs[1:]-freqs[:-1]\n",
    "    slopes = dphase/dfreq\n",
    "    output_step = wrap_phase(dphase[-1])\n",
    "    input_step = wrap_phase(dphase[(len(phases-1)//2)-1])\n",
    "    slope = np.median(slopes)\n",
    "    x0 = np.array([0.0, slope, output_step, input_step])\n",
    "    x0[0] = np.median(phase_residuals(phases,phase_model(x0, freqs, fmix)))\n",
    "    return x0"
   ]
  },
  {
   "cell_type": "code",
   "execution_count": null,
   "metadata": {},
   "outputs": [],
   "source": [
    "x0 = initial_guess(freqs, phases, fmix)\n",
    "\n",
    "print(\"initial estimate: %.2f rad shift, %.3f rad/MHz slope, %.3f rad output step, %.3f rad input step\"% tuple(x0))\n",
    "fit = least_squares(phase_func, x0, args=(freqs, phases, fmix))\n",
    "# print(fit.status)\n",
    "print(\"after minimization: %.2f rad shift, %.3f rad/MHz slope, %.3f rad output step, %.3f rad input step\"% tuple(fit.x))\n",
    "\n",
    "fig, axs = plt.subplots(2)\n",
    "plot = axs[0]\n",
    "plot.set_title(r\"$\\phi$ vs $f$\")\n",
    "plot.set_ylabel(r\"$\\phi$ (rad)\")\n",
    "plot.set_xlabel(r\"$f$ (MHz)\")\n",
    "plot.plot(freqs, phases, marker='.', linestyle=\"None\",color=\"Red\")\n",
    "plot.plot(freqs, phase_model(x0, freqs, fmix))\n",
    "plot.plot(freqs, phase_model(fit.x, freqs, fmix))\n",
    "\n",
    "plot = axs[1]\n",
    "plot.set_ylabel(r\"residual (rad)\")\n",
    "plot.set_xlabel(r\"$f$ (MHz)\")\n",
    "plot.plot(freqs, phase_func(fit.x, freqs, phases, fmix), marker='.', linestyle=\"None\",color=\"Red\")"
   ]
  },
  {
   "cell_type": "code",
   "execution_count": null,
   "metadata": {},
   "outputs": [],
   "source": [
    "fmix = 0 # MHz\n",
    "fstart = 498 # MHz\n",
    "fstop = 510\n",
    "truncate = 200\n",
    "\n",
    "fmix = set_mixer(fmix)\n",
    "freqs = round_freq(np.linspace(fstart,fstop,101))\n",
    "results = np.zeros((len(freqs),2))\n",
    "for i, fout in enumerate(tqdm(freqs)):\n",
    "    set_outputs([fout], 0.1)\n",
    "    fs, fcenter, K, x_buf, offset = measure_single(fout, decimation=2, downconvert=True)\n",
    "    results[i] = x_buf[truncate:].mean(axis=0)+offset\n",
    "results_complex = results.dot([1,1j])\n",
    "\n",
    "phases = np.angle(results_complex)\n",
    "plt.plot(freqs, phases)\n",
    "output_edges = edges(fstart, fstop, soc.pfb_out.fc, fmix%soc.pfb_out.fc)\n",
    "input_edges = edges(fstart, fstop, soc.pfb_in.fc)\n",
    "for f in output_edges:\n",
    "    plt.axvline(f, color='blue')\n",
    "for f in input_edges:\n",
    "    plt.axvline(f, color='green')"
   ]
  },
  {
   "cell_type": "code",
   "execution_count": null,
   "metadata": {},
   "outputs": [],
   "source": [
    "x0 = fit.x\n",
    "print(\"initial estimate: %.2f rad shift, %.3f rad/MHz slope, %.3f rad output step, %.3f rad input step\"% tuple(x0))\n",
    "fit = least_squares(phase_func, x0, args=(freqs, phases, fmix))\n",
    "# print(fit.status)\n",
    "print(\"after minimization: %.2f rad shift, %.3f rad/MHz slope, %.3f rad output step, %.3f rad input step\"% tuple(fit.x))\n",
    "\n",
    "fig, axs = plt.subplots(2)\n",
    "plot = axs[0]\n",
    "plot.set_title(r\"$\\phi$ vs $f$\")\n",
    "plot.set_ylabel(r\"$\\phi$ (rad)\")\n",
    "plot.set_xlabel(r\"$f$ (MHz)\")\n",
    "plot.plot(freqs,phases, marker='.', linestyle=\"None\",color=\"Red\")\n",
    "plot.plot(freqs, phase_model(x0, freqs, fmix))\n",
    "plot.plot(freqs, phase_model(fit.x, freqs, fmix))\n",
    "\n",
    "plot = axs[1]\n",
    "plot.set_ylabel(r\"residual (rad)\")\n",
    "plot.set_xlabel(r\"$f$ (MHz)\")\n",
    "plot.plot(freqs, phase_func(x0, freqs, phases, fmix), marker='.', linestyle=\"None\",color=\"Blue\")\n",
    "plot.plot(freqs, phase_func(fit.x, freqs, phases, fmix), marker='.', linestyle=\"None\",color=\"Red\")"
   ]
  },
  {
   "cell_type": "code",
   "execution_count": null,
   "metadata": {},
   "outputs": [],
   "source": [
    "fmix = 500 # MHz\n",
    "# fmix = 997.6 # MHz\n",
    "fstart = 10 # MHz\n",
    "fstop = 1000\n",
    "truncate = 200\n",
    "\n",
    "fmix = set_mixer(fmix)\n",
    "freqs = round_freq(np.linspace(fstart,fstop,501))\n",
    "results = np.zeros((len(freqs),2))\n",
    "for i, fout in enumerate(tqdm(freqs)):\n",
    "    set_outputs([fout], 0.1)\n",
    "    fs, fcenter, K, x_buf, offset = measure_single(fout, decimation=2, downconvert=True)\n",
    "    results[i] = x_buf[truncate:].mean(axis=0)+offset\n",
    "results_complex = results.dot([1,1j])\n",
    "\n",
    "phases = np.angle(results_complex)\n",
    "fig, axs = plt.subplots(2)\n",
    "plot = axs[0]\n",
    "plot.set_title(r\"$\\phi$ vs $f$\")\n",
    "plot.set_ylabel(r\"$\\phi$ (rad)\")\n",
    "plot.set_xlabel(r\"$f$ (MHz)\")\n",
    "plot.plot(freqs,phases, marker='.', linestyle=\"None\",color=\"Red\")\n",
    "# plot.plot(freqs, phase_model(x0, freqs, fmix))\n",
    "plot.plot(freqs, phase_model(fit.x, freqs, fmix))\n",
    "\n",
    "plot = axs[1]\n",
    "plot.set_ylabel(r\"residual (rad)\")\n",
    "plot.set_xlabel(r\"$f$ (MHz)\")\n",
    "# plot.plot(freqs, phase_func(x0, freqs, phases, fmix), marker='.', linestyle=\"None\",color=\"Blue\")\n",
    "plot.plot(freqs, phase_func(fit.x, freqs, phases, fmix), marker='.', linestyle=\"None\",color=\"Red\")\n",
    "\n"
   ]
  },
  {
   "cell_type": "code",
   "execution_count": null,
   "metadata": {},
   "outputs": [],
   "source": [
    "input_gain = interp1d(*np.load(\"input_gain.npy\"))\n",
    "corrected_complex = results_complex*np.exp(-1j*phase_model(fit.x, freqs, fmix))\n",
    "corrected_complex /= input_gain(np.abs(freq2ch_in(freqs)[1])/soc.pfb_in.fb)\n",
    "\n",
    "plt.plot(freqs, np.real(corrected_complex))\n",
    "plt.plot(freqs, np.imag(corrected_complex))"
   ]
  },
  {
   "cell_type": "code",
   "execution_count": null,
   "metadata": {},
   "outputs": [],
   "source": [
    "def test_edge(i):\n",
    "    print(freqs[i], phases[i], phase_model(fit.x, freqs[i], fmix))\n",
    "    num, denom = freqs[i].as_integer_ratio()\n",
    "#     print(((freqs[i]-fmix)/soc.pfb_out.fc)-0.5)\n",
    "    nstep = np.round(((freqs[i]-fmix)/soc.pfb_out.fc)-0.5)\n",
    "#     print(num - np.round(denom*(nstep*0.5)*soc.pfb_out.fc*denom))\n",
    "#     print(freqs[i] - soc.pfb_out.fc*np.round(((freqs[i]-fmix)/soc.pfb_out.fc)-0.5))\n",
    "#     print(freqs[i] - soc.pfb_out.fc*(np.round(((freqs[i]-fmix)/soc.pfb_out.fc)-0.5)))\n",
    "#     print(soc.pfb_out.freq2ch(freqs[i]))\n",
    "#     print(soc.pfb_in.freq2ch(freqs[i]))\n",
    "    \n",
    "    \n",
    "    \n",
    "    testfreqs = np.array([freqs[i]-0.000001, freqs[i], freqs[i]+0.00001])\n",
    "    print(phase_model(fit.x, testfreqs, fmix))\n",
    "    print(freq2ch_out(testfreqs,fmix)[0])\n",
    "#     print(((testfreqs-fmix)/soc.pfb_out.fc)-0.5)\n",
    "#     print(np.ceil((round_freq(testfreqs-fmix)/soc.pfb_out.fc)-0.5))\n",
    "#     print(np.ceil(testfreqs/soc.pfb_out.fc - fmix/soc.pfb_out.fc - 0.5))\n",
    "    \n",
    "#     print(np.floor(((testfreqs-fmix)/soc.pfb_out.fc)+0.5))\n",
    "test_edge(0)\n",
    "test_edge(20)\n",
    "test_edge(40)\n",
    "test_edge(60)\n",
    "test_edge(80)\n",
    "test_edge(100)"
   ]
  },
  {
   "cell_type": "code",
   "execution_count": null,
   "metadata": {},
   "outputs": [],
   "source": [
    "print(freqs[60])"
   ]
  },
  {
   "cell_type": "code",
   "execution_count": null,
   "metadata": {},
   "outputs": [],
   "source": [
    "eps = 0.001\n",
    "\n",
    "fmix = round_freq(0.5*soc.pfb_out.fc) # MHz\n",
    "fstart = 400\n",
    "fstop = 600\n",
    "truncate = 200\n",
    "\n",
    "output_spacing = soc.pfb_out.fc\n",
    "input_spacing = soc.pfb_in.fc\n",
    "def edges(start, stop, spacing, offset=0):\n",
    "    offset_phase = (0.5+offset/spacing)%1\n",
    "#     return spacing * np.arange(int(start/spacing - offset_phase)+offset_phase, stop/spacing)\n",
    "    return spacing * np.arange(start/spacing + ((offset_phase - start/spacing) % 1), stop/spacing)\n",
    "\n",
    "output_edges = edges(fstart, fstop, output_spacing, fmix%output_spacing)\n",
    "input_edges = edges(fstart, fstop, input_spacing)\n",
    "\n",
    "set_mixer(fmix)\n",
    "\n",
    "results = np.zeros((len(input_edges), 2))\n",
    "for i, fout in enumerate(tqdm(input_edges)):\n",
    "    for j, delta in enumerate([-eps, eps]):\n",
    "        f = round_freq(fout+delta)\n",
    "        set_outputs([f], 0.1)\n",
    "        _, _, _, x_buf, offset = measure_single(f, decimation=2, downconvert=True)\n",
    "        phase = np.angle((x_buf[truncate:].mean(axis=0)+offset).dot([1,1j]))\n",
    "        results[i,j] = phase\n",
    "# print(results)"
   ]
  },
  {
   "cell_type": "code",
   "execution_count": null,
   "metadata": {},
   "outputs": [],
   "source": [
    "soc.pfb_in.fc"
   ]
  },
  {
   "cell_type": "code",
   "execution_count": null,
   "metadata": {},
   "outputs": [],
   "source": []
  },
  {
   "cell_type": "code",
   "execution_count": null,
   "metadata": {},
   "outputs": [],
   "source": [
    "output_edges"
   ]
  },
  {
   "cell_type": "code",
   "execution_count": null,
   "metadata": {},
   "outputs": [],
   "source": [
    "np.arange(2,5.5)"
   ]
  },
  {
   "cell_type": "code",
   "execution_count": null,
   "metadata": {},
   "outputs": [],
   "source": []
  },
  {
   "cell_type": "code",
   "execution_count": null,
   "metadata": {},
   "outputs": [],
   "source": []
  },
  {
   "cell_type": "code",
   "execution_count": null,
   "metadata": {},
   "outputs": [],
   "source": []
  },
  {
   "cell_type": "code",
   "execution_count": null,
   "metadata": {},
   "outputs": [],
   "source": []
  },
  {
   "cell_type": "code",
   "execution_count": null,
   "metadata": {},
   "outputs": [],
   "source": []
  },
  {
   "cell_type": "code",
   "execution_count": null,
   "metadata": {},
   "outputs": [],
   "source": [
    "print(soc.chsel.B) # 32 bits?\n",
    "print(soc.chsel.L) # 8 channels per transaction?\n",
    "print(soc.chsel.NCH) # 1024 channels\n",
    "print(soc.chsel.NT) # NCH/L = 128 transactions per frame\n",
    "print(soc.chsel.NM) # NM=NT/32, 4 memory locations with 32-bit bitmasks"
   ]
  },
  {
   "cell_type": "code",
   "execution_count": null,
   "metadata": {},
   "outputs": [],
   "source": [
    "print(soc.stream.BAXIS) # 512 bits per AXIS transaction\n",
    "print(soc.stream.NS_TR) # BAXIS/16 = 32 16-bit samples per AXIS transaction\n",
    "print(soc.stream.NS) # NS_TR/2 = 16 data samples per AXIS transaction (data only in the lower half)\n",
    "print(soc.stream.NI) # 1 index sample per transaction\n",
    "print(soc.stream.NS_NI) # NS+NI = 17 useful samples per transaction\n",
    "\n",
    "print(soc.stream.nsamp_reg) # configurable\n",
    "\n",
    "# DMA buffer is nsamp*NS_TR*16-bit\n",
    "# note that 16 data samples = 8 IQ pairs"
   ]
  },
  {
   "cell_type": "code",
   "execution_count": null,
   "metadata": {},
   "outputs": [],
   "source": [
    "# DAC+ADC sampling freqs\n",
    "print(soc.dacs)\n",
    "print(soc.adcs)\n",
    "# channel bandwidths and freq steps\n",
    "print(soc.dds_out.FS_DDS) # Hz\n",
    "print(soc.dds_out.DF_DDS) # Hz\n",
    "print(soc.ddscic.FS_DDS) # Hz\n",
    "print(soc.ddscic.DF_DDS) # Hz"
   ]
  },
  {
   "cell_type": "code",
   "execution_count": null,
   "metadata": {},
   "outputs": [],
   "source": [
    "output_gain(0.1)"
   ]
  },
  {
   "cell_type": "code",
   "execution_count": null,
   "metadata": {},
   "outputs": [],
   "source": [
    "import scipy.io\n",
    "# f = scipy.io.loadmat('/home/xilinx/jupyter_notebooks/qick/firmware/ip/axis_pfb_readout_v2/src/matlab/base_h.fda')\n",
    "m = scipy.io.loadmat('/home/xilinx/jupyter_notebooks/qick/firmware/ip/axis_pfb_readout_v2/src/matlab/base_h.mat')['Num'][0]\n",
    "\n",
    "coeffs = np.round(m*2**17).astype(int)\n",
    "freqs, response = scipy.signal.freqz(coeffs)\n",
    "plt.plot(freqs, np.abs(response))\n",
    "plt.xlim(0,1)"
   ]
  },
  {
   "cell_type": "code",
   "execution_count": null,
   "metadata": {},
   "outputs": [],
   "source": [
    "print(coeffs)\n",
    "print(coeffs[::8]) #7\n",
    "print(coeffs[1::8])#5\n",
    "print(coeffs[2::8])#3\n",
    "print(coeffs[3::8])#1\n",
    "print(coeffs[4::8])#6\n",
    "print(coeffs[5::8])#4\n",
    "print(coeffs[6::8])#2\n",
    "print(coeffs[7::8])#0"
   ]
  },
  {
   "cell_type": "code",
   "execution_count": null,
   "metadata": {},
   "outputs": [],
   "source": [
    "coeffs = []\n",
    "coe_path = '/home/xilinx/jupyter_notebooks/qick/firmware/ip/axis_pfb_readout_v2/src/fir/coef/fir_'\n",
    "for i, index in enumerate([7,5,3,1,6,4,2,0]):\n",
    "    with open(coe_path + '%d.coe'%index) as f:\n",
    "        f.readline() # skip radix\n",
    "        line = f.readline()\n",
    "        coeffs.append([int(s) for s in line.split()[2].split(',')])\n",
    "# print(coeffs)\n",
    "coeffs = np.stack(coeffs).T.flatten()"
   ]
  },
  {
   "cell_type": "code",
   "execution_count": null,
   "metadata": {},
   "outputs": [],
   "source": [
    "coe_path = '/home/xilinx/jupyter_notebooks/cmb-fnal-rfsoc/mkids_4x4096_v4/firmware/ip/axis_pfbsynth_4x512_v1/src/fir/coef/fir_'\n",
    "coeffs = []\n",
    "# for i, index in enumerate([7,5,3,1,6,4,2,0]):\n",
    "for i, index in enumerate(range(8)):\n",
    "    with open(coe_path + '%d.coe'%index) as f:\n",
    "        f.readline() # skip radix\n",
    "        line = f.readline()\n",
    "        coeffs.append([int(s) for s in line.split()[2].split(',')])\n",
    "for i in range(8):\n",
    "#     print(coeffs[i][18])\n",
    "    plt.plot(coeffs[0][i::8])\n",
    "    plt.plot(coeffs[1][i::8])\n",
    "\n",
    "# for i in range(8):\n",
    "#     print(coeffs[i][:20])\n",
    "#     print(len(coeffs[i]))\n",
    "    \n",
    "#     plt.plot(coeffs[i][:20])\n",
    "# print(coeffs)\n",
    "# coeffs = np.stack(coeffs).T.flatten()\n",
    "# plt.plot(coeffs[:100])"
   ]
  },
  {
   "cell_type": "code",
   "execution_count": null,
   "metadata": {},
   "outputs": [],
   "source": [
    "m = scipy.io.loadmat('/home/xilinx/jupyter_notebooks/cmb-fnal-rfsoc/mkids_4x4096_v4/firmware/ip/axis_pfb_4x4096_v1/src/matlab/FirDesign-4096/hm.mat')['hm']\n",
    "# print(m)\n",
    "print(m.shape)\n",
    "coeffs = m[0]\n",
    "\n",
    "# coeffs = np.round(coeffs*2**17).astype(int)\n",
    "print(len(coeffs))\n",
    "# print(coeffs[:10])\n",
    "# print(coeffs[-10:])\n",
    "\n",
    "plt.plot(coeffs)\n",
    "# print(np.mean(coeffs))\n",
    "freqs, response = scipy.signal.freqz(coeffs)\n",
    "# plt.semilogy(freqs, np.abs(response))"
   ]
  },
  {
   "cell_type": "code",
   "execution_count": null,
   "metadata": {},
   "outputs": [],
   "source": [
    "m = scipy.io.loadmat('/home/xilinx/jupyter_notebooks/cmb-fnal-rfsoc/mkids_4x4096_v4/firmware/ip/axis_pfb_4x4096_v1/src/matlab/FirDesign-4096/h0.mat')['h0']\n",
    "# print(m)\n",
    "print(m.shape)\n",
    "coeffs = m[0]\n",
    "\n",
    "# coeffs = np.round(coeffs*2**17).astype(int)\n",
    "print(len(coeffs))\n",
    "# print(coeffs[:10])\n",
    "# print(coeffs[-10:])\n",
    "\n",
    "plt.plot(coeffs)\n",
    "# print(np.mean(coeffs))\n",
    "freqs, response = scipy.signal.freqz(coeffs)\n",
    "# plt.semilogy(freqs, np.abs(response))"
   ]
  },
  {
   "cell_type": "code",
   "execution_count": null,
   "metadata": {},
   "outputs": [],
   "source": [
    "m = scipy.io.loadmat('/home/xilinx/jupyter_notebooks/cmb-fnal-rfsoc/mkids_4x4096_v4/firmware/ip/axis_pfb_4x4096_v1/src/matlab/FirDesign-4096/h3.mat')['h3']\n",
    "# print(m)\n",
    "print(m.shape)\n",
    "coeffs = m[0]\n",
    "\n",
    "# coeffs = np.round(coeffs*2**17).astype(int)\n",
    "print(len(coeffs))\n",
    "# print(coeffs[:100])\n",
    "# plt.plot(coeffs)\n",
    "# print(np.mean(coeffs))\n",
    "freqs, response = scipy.signal.freqz(coeffs[100:-100])\n",
    "plt.semilogy(freqs, np.abs(response))\n",
    "# plt.xlim(0,0.1)"
   ]
  },
  {
   "cell_type": "code",
   "execution_count": null,
   "metadata": {},
   "outputs": [],
   "source": [
    "f = scipy.io.loadmat('/home/xilinx/jupyter_notebooks/cmb-fnal-rfsoc/mkids_4x4096_v4/firmware/ip/axis_pfb_4x4096_v1/src/matlab/FirDesign-4096/hm.fda')\n",
    "print(f['s'])"
   ]
  },
  {
   "cell_type": "code",
   "execution_count": null,
   "metadata": {},
   "outputs": [],
   "source": [
    "print(m)"
   ]
  },
  {
   "cell_type": "code",
   "execution_count": null,
   "metadata": {},
   "outputs": [],
   "source": [
    "coeffs = np.round(m['Num'][0]*2**17).astype(int)\n",
    "freqs, response = scipy.signal.freqz(coeffs)\n",
    "plt.plot(freqs, np.abs(response))\n",
    "plt.xlim(0,1)"
   ]
  },
  {
   "cell_type": "code",
   "execution_count": null,
   "metadata": {},
   "outputs": [],
   "source": []
  },
  {
   "cell_type": "code",
   "execution_count": null,
   "metadata": {},
   "outputs": [],
   "source": [
    "# m['Num']\n",
    "\n",
    "plt.plot(m['Num'][0])\n"
   ]
  },
  {
   "cell_type": "code",
   "execution_count": null,
   "metadata": {},
   "outputs": [],
   "source": [
    "plt.plot(np.abs(np.fft.rfft(m['Num'][0])))\n"
   ]
  },
  {
   "cell_type": "code",
   "execution_count": null,
   "metadata": {},
   "outputs": [],
   "source": [
    "from scipy.signal import firwin, remez, kaiser_atten, kaiser_beta\n",
    "\n",
    "# Several flavors of bandpass FIR filters.\n",
    "\n",
    "def bandpass_firwin(ntaps, lowcut, highcut, fs, window='hamming'):\n",
    "    nyq = 0.5 * fs\n",
    "    taps = firwin(ntaps, [lowcut, highcut], nyq=nyq, pass_zero=False,\n",
    "                  window=window, scale=False)\n",
    "    return taps"
   ]
  },
  {
   "cell_type": "code",
   "execution_count": null,
   "metadata": {},
   "outputs": [],
   "source": [
    "plt.plot(freqs[:-1], np.angle(results_complex[1:]) - np.angle(results_complex[:-1]),color='red')\n",
    "for i in range(int(2*498.0/soc.pfb_in.fb), int(2*503.0/soc.pfb_in.fb)):\n",
    "    plt.axvline(soc.pfb_in.fb*(i+0.5)/2, color='green')\n",
    "\n",
    "for i in range(int(498.0/soc.pfb_in.fb), int(503.0/soc.pfb_in.fb)):\n",
    "    plt.axvline(soc.pfb_in.fb*(i+0.5)+fmix % soc.pfb_in.fb, color='blue')\n",
    "# plt.axvline(soc.pfb_in.fb*209.5)\n",
    "# plt.axvline(soc.pfb_in.fb*208.25)\n"
   ]
  },
  {
   "cell_type": "code",
   "execution_count": null,
   "metadata": {},
   "outputs": [],
   "source": [
    "fmix = 1000"
   ]
  },
  {
   "cell_type": "code",
   "execution_count": null,
   "metadata": {},
   "outputs": [],
   "source": [
    "np.angle(results_complex[1:]) - np.angle(results_complex[:-1])"
   ]
  },
  {
   "cell_type": "code",
   "execution_count": null,
   "metadata": {},
   "outputs": [],
   "source": [
    "print(soc.pfb_out.fb)\n",
    "print(soc.pfb_in.fb)"
   ]
  },
  {
   "cell_type": "code",
   "execution_count": null,
   "metadata": {},
   "outputs": [],
   "source": []
  },
  {
   "cell_type": "code",
   "execution_count": null,
   "metadata": {},
   "outputs": [],
   "source": [
    "# plt.plot(x_buf[truncate:,0],x_buf[truncate:,1])\n",
    "plt.plot(freqs,results)\n"
   ]
  },
  {
   "cell_type": "code",
   "execution_count": null,
   "metadata": {},
   "outputs": [],
   "source": [
    "plt.plot(results[:,0],results[:,1])"
   ]
  },
  {
   "cell_type": "code",
   "execution_count": null,
   "metadata": {},
   "outputs": [],
   "source": [
    "fs, fcenter, K, x_buf, offset = measure_single(fout, downconvert=False)\n",
    "x_buf_all = soc.stream.get_all_data(nt=1)\n",
    "\n",
    "first_K = 8*(K//8)\n",
    "truncate = 200\n",
    "plt.figure(1,dpi=150)\n",
    "fcenter -= (K%8)*fs\n",
    "for i in range(8):\n",
    "    offset = 1.0 if i%2==0 else 0.5\n",
    "    x = (x_buf_all[truncate:, 2*i:2*i+2].astype(np.float64)+offset).dot([1, 1j])\n",
    "    \n",
    "    F, Y = fftshift(welch(x,\n",
    "                          fs*1000,\n",
    "                          return_onesided=False,\n",
    "                          detrend=False,\n",
    "                          nperseg=512), axes=1)\n",
    "    F += fcenter*1000\n",
    "    plt.plot(F,10*np.log10(Y)) # welch gives you power spectrum\n",
    "    fcenter += fs\n",
    "\n",
    "plt.title(\"Spectrum for channels K = [%d,%d]\" % (first_K, first_K+7));\n",
    "plt.axvline(fout*1000)\n",
    "plt.xlabel(\"F [kHz]\");"
   ]
  },
  {
   "cell_type": "code",
   "execution_count": null,
   "metadata": {},
   "outputs": [],
   "source": [
    "set_mixer(1000) # MHz\n",
    "fout = 500.3 # MHz\n",
    "set_outputs([fout], 0.1) # maximum power\n",
    "fs, fcenter, K, x_buf, offset = measure_single(fout, downconvert=True)\n",
    "print()\n"
   ]
  },
  {
   "cell_type": "code",
   "execution_count": null,
   "metadata": {},
   "outputs": [],
   "source": [
    "print(x.mean())"
   ]
  },
  {
   "cell_type": "code",
   "execution_count": null,
   "metadata": {},
   "outputs": [],
   "source": [
    "x.shape"
   ]
  },
  {
   "cell_type": "code",
   "execution_count": null,
   "metadata": {},
   "outputs": [],
   "source": [
    "#############################\n",
    "### Channels Side-by-Side ###\n",
    "#############################\n",
    "# Quantization.\n",
    "soc.pfb_in.qout(7)\n",
    "\n",
    "# Set Decimation value.\n",
    "soc.ddscic.decimation(value=2)\n",
    "\n",
    "# By-pass DDS product.\n",
    "soc.ddscic.dds_outsel(outsel=\"input\")\n",
    "\n",
    "# Channel's sampling frequency.\n",
    "fs = soc.pfb_in.get_fb()/soc.ddscic.get_decimate()\n",
    "\n",
    "# Channels to plot.\n",
    "#K = np.arange(soc.pfb_in.N)\n",
    "#K = np.arange(80)\n",
    "K = [403,404,405,406]\n",
    "\n",
    "plt.figure(dpi=150)\n",
    "\n",
    "# Frequency and amplitude vectors.\n",
    "FF = []\n",
    "AA = []\n",
    "for KK in K:\n",
    "    #print(\"Iteration K = %d\" %KK)\n",
    "    fck = KK*soc.pfb_in.get_fc()\n",
    "    \n",
    "    # Un-mask channel.\n",
    "    soc.chsel.set_single(KK)\n",
    "    \n",
    "    # Transfer data.\n",
    "    x_buf = soc.stream.get_data(nt=1,idx=soc.chsel.ch2idx(KK),debug=False)\n",
    "    x = x_buf.dot([1, 1j])\n",
    "    \n",
    "    # Frequency vector.\n",
    "    F = (np.arange(len(x))/len(x)-0.5)*fs\n",
    "    \n",
    "    # Normalization factor.\n",
    "    NF = (2**15)*len(F)\n",
    "\n",
    "    w = np.hanning(len(x))\n",
    "    xw = x*w\n",
    "    YY = fftshift(fft(xw))\n",
    "    YYlog = 20*np.log10(abs(YY)/NF)\n",
    "    AA = np.concatenate((AA,YYlog))\n",
    "    \n",
    "    Fk = F+fck\n",
    "    FF = np.concatenate((FF,Fk))\n",
    "    plt.plot(Fk,YYlog)\n",
    "    "
   ]
  },
  {
   "cell_type": "code",
   "execution_count": null,
   "metadata": {},
   "outputs": [],
   "source": []
  }
 ],
 "metadata": {
  "kernelspec": {
   "display_name": "Python 3",
   "language": "python",
   "name": "python3"
  },
  "language_info": {
   "codemirror_mode": {
    "name": "ipython",
    "version": 3
   },
   "file_extension": ".py",
   "mimetype": "text/x-python",
   "name": "python",
   "nbconvert_exporter": "python",
   "pygments_lexer": "ipython3",
   "version": "3.8.2"
  }
 },
 "nbformat": 4,
 "nbformat_minor": 4
}
